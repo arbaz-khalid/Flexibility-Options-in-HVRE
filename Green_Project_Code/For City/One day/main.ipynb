{
 "cells": [
  {
   "cell_type": "markdown",
   "metadata": {},
   "source": [
    "# Solar Energy Consumption and Production Analysis\n",
    "This notebook analyzes solar energy consumption and production. It calculates various metrics, including PV production, unmet demand, and performance indicators, under different conditions (e.g., number of panels and batteries).\n"
   ]
  },
  {
   "cell_type": "markdown",
   "metadata": {},
   "source": [
    "### Solar + Wind Energy Consumption and Production Analysis for Grenoble City (For one day)"
   ]
  },
  {
   "cell_type": "code",
   "execution_count": null,
   "metadata": {},
   "outputs": [],
   "source": [
    "# --------------------------------\n",
    "# Required Library Installation\n",
    "# --------------------------------\n",
    "\n",
    "import sys\n",
    "import subprocess\n",
    "\n",
    "# List of required Python libraries for the project\n",
    "required_libraries = [\n",
    "    'pandas',            # Data processing and manipulation\n",
    "    'numpy',             # Numerical calculations\n",
    "    'plotly',            # Interactive visualizations\n",
    "    'ipywidgets',        # Interactive widgets for user input\n",
    "    'matplotlib',        # Plotting capabilities \n",
    "]\n",
    "\n",
    "# Function to check and install missing libraries\n",
    "def install_missing_libraries(libraries):\n",
    "    for lib in libraries:\n",
    "        try:\n",
    "            __import__(lib)\n",
    "        except ImportError:\n",
    "            print(f\"Installing missing library: {lib}\")\n",
    "            subprocess.check_call([sys.executable, \"-m\", \"pip\", \"install\", lib])\n",
    "        else:\n",
    "            print(f\"✔ {lib} is already installed.\")\n",
    "\n",
    "# Run the function to install missing libraries\n",
    "install_missing_libraries(required_libraries)\n"
   ]
  },
  {
   "cell_type": "code",
   "execution_count": 1,
   "metadata": {},
   "outputs": [
    {
     "name": "stdout",
     "output_type": "stream",
     "text": [
      "Loading and preprocessing consumption data...\n",
      "Consumption Data (head):\n",
      "Datetime\n",
      "2019-01-01 00:00:00    580000.0\n",
      "2019-01-01 00:15:00    572000.0\n",
      "2019-01-01 00:30:00    563000.0\n",
      "2019-01-01 00:45:00    563000.0\n",
      "2019-01-01 01:00:00    558000.0\n",
      "Name: Consumption_kWh, dtype: float64\n",
      "\n",
      "Loading and preprocessing PV production data...\n",
      "PV Production Data (head):\n",
      "Time_Start\n",
      "2019-01-01 00:00:00    0.0\n",
      "2019-01-01 01:00:00    0.0\n",
      "2019-01-01 02:00:00    0.0\n",
      "2019-01-01 03:00:00    0.0\n",
      "2019-01-01 04:00:00    0.0\n",
      "Name: PV_Production_kWh, dtype: float64\n",
      "\n",
      "Loading and preprocessing Wind production data...\n",
      "Wind Production Data (head):\n",
      "Time_Start\n",
      "2019-01-01 00:00:00     923.138\n",
      "2019-01-01 01:00:00     942.556\n",
      "2019-01-01 02:00:00    1064.198\n",
      "2019-01-01 03:00:00    1328.341\n",
      "2019-01-01 04:00:00    1625.839\n",
      "Name: Wind_Production_kWh, dtype: float64\n",
      "\n",
      "Merging consumption, PV, and wind production data...\n",
      "Merged Data (head):\n",
      "                     Consumption_kWh  PV_Production_kWh  Wind_Production_kWh\n",
      "2019-01-01 00:00:00         580000.0                0.0              923.138\n",
      "2019-01-01 00:15:00         572000.0                0.0                0.000\n",
      "2019-01-01 00:30:00         563000.0                0.0                0.000\n",
      "2019-01-01 00:45:00         563000.0                0.0                0.000\n",
      "2019-01-01 01:00:00         558000.0                0.0              942.556\n"
     ]
    },
    {
     "data": {
      "application/vnd.jupyter.widget-view+json": {
       "model_id": "da1383912ebe417fbc3711dc4dd89ef9",
       "version_major": 2,
       "version_minor": 0
      },
      "text/plain": [
       "VBox(children=(VBox(children=(IntSlider(value=1000, continuous_update=False, description='Number of PV Panels:…"
      ]
     },
     "metadata": {},
     "output_type": "display_data"
    },
    {
     "data": {
      "application/vnd.jupyter.widget-view+json": {
       "model_id": "8f50c6386d4344c0bd7fbaa797e88e8c",
       "version_major": 2,
       "version_minor": 0
      },
      "text/plain": [
       "Output()"
      ]
     },
     "metadata": {},
     "output_type": "display_data"
    },
    {
     "data": {
      "application/vnd.plotly.v1+json": {
       "config": {
        "plotlyServerURL": "https://plot.ly"
       },
       "data": [
        {
         "marker": {
          "color": "orange"
         },
         "name": "Solar PV (kWh)",
         "type": "bar",
         "x": [
          "00:00",
          "01:00",
          "02:00",
          "03:00",
          "04:00",
          "05:00",
          "06:00",
          "07:00",
          "08:00",
          "09:00",
          "10:00",
          "11:00",
          "12:00",
          "13:00",
          "14:00",
          "15:00",
          "16:00",
          "17:00",
          "18:00",
          "19:00",
          "20:00",
          "21:00",
          "22:00",
          "23:00"
         ],
         "y": {
          "bdata": "AAAAAAAAAAAAAAAAAAAAAAAAAAAAAAAAAAAAAAAAAAAAAAAAAAAAAAAAAAAAAAAAAAAAAAAAAAAAAAAAAAAAAAAAAAAAAAAAAAAAAAAAAAAAAAAAAAAAAAAAAAAAAAAAAAAAAAAAAAAAAAAAAAAAAAAAAAAAAAAAAAAAAAAAAAAAAAAAAAAAAAAAAAAAAAAAAAAAAAAAAAAAAAAAAAAAAAAAAAAAAAAAAAAAAAAAAAAAAAAAAAAAAAAAAAAAAAAA",
          "dtype": "f8"
         }
        },
        {
         "marker": {
          "color": "lightblue"
         },
         "name": "Wind (kWh)",
         "type": "bar",
         "x": [
          "00:00",
          "01:00",
          "02:00",
          "03:00",
          "04:00",
          "05:00",
          "06:00",
          "07:00",
          "08:00",
          "09:00",
          "10:00",
          "11:00",
          "12:00",
          "13:00",
          "14:00",
          "15:00",
          "16:00",
          "17:00",
          "18:00",
          "19:00",
          "20:00",
          "21:00",
          "22:00",
          "23:00"
         ],
         "y": {
          "bdata": "AAAAAAAAAAAAAAAAAAAAAAAAAAAAAAAAAAAAAAAAAAAAAAAAAAAAAAAAAAAAAAAAAAAAAAAAAAAAAAAAAAAAAAAAAAAAAAAAAAAAAAAAAAAAAAAAAAAAAAAAAAAAAAAAAAAAAAAAAAAAAAAAAAAAAAAAAAAAAAAAAAAAAAAAAAAAAAAAAAAAAAAAAAAAAAAAAAAAAAAAAAAAAAAAAAAAAAAAAAAAAAAAAAAAAAAAAAAAAAAAAAAAAAAAAAAAAAAA",
          "dtype": "f8"
         }
        },
        {
         "marker": {
          "color": "red"
         },
         "name": "Unmet Demand (kWh)",
         "type": "bar",
         "x": [
          "00:00",
          "01:00",
          "02:00",
          "03:00",
          "04:00",
          "05:00",
          "06:00",
          "07:00",
          "08:00",
          "09:00",
          "10:00",
          "11:00",
          "12:00",
          "13:00",
          "14:00",
          "15:00",
          "16:00",
          "17:00",
          "18:00",
          "19:00",
          "20:00",
          "21:00",
          "22:00",
          "23:00"
         ],
         "y": [
          580000,
          558000,
          539000,
          543000,
          531000,
          526000,
          529000,
          532000,
          525000,
          523000,
          521000,
          543000,
          552000,
          548000,
          549000,
          549000,
          578000,
          575000,
          559000,
          553000,
          546000,
          553000,
          562000,
          544000
         ]
        },
        {
         "marker": {
          "color": "green"
         },
         "name": "Energy Charged to Battery (kWh)",
         "type": "bar",
         "x": [
          "00:00",
          "01:00",
          "02:00",
          "03:00",
          "04:00",
          "05:00",
          "06:00",
          "07:00",
          "08:00",
          "09:00",
          "10:00",
          "11:00",
          "12:00",
          "13:00",
          "14:00",
          "15:00",
          "16:00",
          "17:00",
          "18:00",
          "19:00",
          "20:00",
          "21:00",
          "22:00",
          "23:00"
         ],
         "y": [
          0,
          0,
          0,
          0,
          0,
          0,
          0,
          0,
          0,
          0,
          0,
          0,
          0,
          0,
          0,
          0,
          0,
          0,
          0,
          0,
          0,
          0,
          0,
          0
         ]
        },
        {
         "marker": {
          "color": "purple"
         },
         "name": "Energy Discharged (kWh)",
         "type": "bar",
         "x": [
          "00:00",
          "01:00",
          "02:00",
          "03:00",
          "04:00",
          "05:00",
          "06:00",
          "07:00",
          "08:00",
          "09:00",
          "10:00",
          "11:00",
          "12:00",
          "13:00",
          "14:00",
          "15:00",
          "16:00",
          "17:00",
          "18:00",
          "19:00",
          "20:00",
          "21:00",
          "22:00",
          "23:00"
         ],
         "y": [
          0,
          0,
          0,
          0,
          0,
          0,
          0,
          0,
          0,
          0,
          0,
          0,
          0,
          0,
          0,
          0,
          0,
          0,
          0,
          0,
          0,
          0,
          0,
          0
         ]
        },
        {
         "marker": {
          "color": "cyan"
         },
         "name": "Excess Energy (kWh)",
         "type": "bar",
         "x": [
          "00:00",
          "01:00",
          "02:00",
          "03:00",
          "04:00",
          "05:00",
          "06:00",
          "07:00",
          "08:00",
          "09:00",
          "10:00",
          "11:00",
          "12:00",
          "13:00",
          "14:00",
          "15:00",
          "16:00",
          "17:00",
          "18:00",
          "19:00",
          "20:00",
          "21:00",
          "22:00",
          "23:00"
         ],
         "y": [
          0,
          0,
          0,
          0,
          0,
          0,
          0,
          0,
          0,
          0,
          0,
          0,
          0,
          0,
          0,
          0,
          0,
          0,
          0,
          0,
          0,
          0,
          0,
          0
         ]
        },
        {
         "line": {
          "color": "blue",
          "dash": "dash"
         },
         "mode": "lines+markers",
         "name": "Electricity Demand (kWh)",
         "type": "scatter",
         "x": [
          "00:00",
          "01:00",
          "02:00",
          "03:00",
          "04:00",
          "05:00",
          "06:00",
          "07:00",
          "08:00",
          "09:00",
          "10:00",
          "11:00",
          "12:00",
          "13:00",
          "14:00",
          "15:00",
          "16:00",
          "17:00",
          "18:00",
          "19:00",
          "20:00",
          "21:00",
          "22:00",
          "23:00"
         ],
         "y": {
          "bdata": "AAAAAECzIUEAAAAAYAchQQAAAADwciBBAAAAADCSIEEAAAAAcDQgQQAAAABgDSBBAAAAANAkIEEAAAAAQDwgQQAAAACQBSBBAAAAAODrH0EAAAAAoMwfQQAAAAAwkiBBAAAAAIDYIEEAAAAAQLkgQQAAAAAQwSBBAAAAABDBIEEAAAAAoKMhQQAAAAAwjCFBAAAAADAPIUEAAAAAUOAgQQAAAACgqSBBAAAAAFDgIEEAAAAAoCYhQQAAAAAAmiBB",
          "dtype": "f8"
         }
        }
       ],
       "layout": {
        "barmode": "relative",
        "height": 400,
        "template": {
         "data": {
          "bar": [
           {
            "error_x": {
             "color": "#2a3f5f"
            },
            "error_y": {
             "color": "#2a3f5f"
            },
            "marker": {
             "line": {
              "color": "white",
              "width": 0.5
             },
             "pattern": {
              "fillmode": "overlay",
              "size": 10,
              "solidity": 0.2
             }
            },
            "type": "bar"
           }
          ],
          "barpolar": [
           {
            "marker": {
             "line": {
              "color": "white",
              "width": 0.5
             },
             "pattern": {
              "fillmode": "overlay",
              "size": 10,
              "solidity": 0.2
             }
            },
            "type": "barpolar"
           }
          ],
          "carpet": [
           {
            "aaxis": {
             "endlinecolor": "#2a3f5f",
             "gridcolor": "#C8D4E3",
             "linecolor": "#C8D4E3",
             "minorgridcolor": "#C8D4E3",
             "startlinecolor": "#2a3f5f"
            },
            "baxis": {
             "endlinecolor": "#2a3f5f",
             "gridcolor": "#C8D4E3",
             "linecolor": "#C8D4E3",
             "minorgridcolor": "#C8D4E3",
             "startlinecolor": "#2a3f5f"
            },
            "type": "carpet"
           }
          ],
          "choropleth": [
           {
            "colorbar": {
             "outlinewidth": 0,
             "ticks": ""
            },
            "type": "choropleth"
           }
          ],
          "contour": [
           {
            "colorbar": {
             "outlinewidth": 0,
             "ticks": ""
            },
            "colorscale": [
             [
              0,
              "#0d0887"
             ],
             [
              0.1111111111111111,
              "#46039f"
             ],
             [
              0.2222222222222222,
              "#7201a8"
             ],
             [
              0.3333333333333333,
              "#9c179e"
             ],
             [
              0.4444444444444444,
              "#bd3786"
             ],
             [
              0.5555555555555556,
              "#d8576b"
             ],
             [
              0.6666666666666666,
              "#ed7953"
             ],
             [
              0.7777777777777778,
              "#fb9f3a"
             ],
             [
              0.8888888888888888,
              "#fdca26"
             ],
             [
              1,
              "#f0f921"
             ]
            ],
            "type": "contour"
           }
          ],
          "contourcarpet": [
           {
            "colorbar": {
             "outlinewidth": 0,
             "ticks": ""
            },
            "type": "contourcarpet"
           }
          ],
          "heatmap": [
           {
            "colorbar": {
             "outlinewidth": 0,
             "ticks": ""
            },
            "colorscale": [
             [
              0,
              "#0d0887"
             ],
             [
              0.1111111111111111,
              "#46039f"
             ],
             [
              0.2222222222222222,
              "#7201a8"
             ],
             [
              0.3333333333333333,
              "#9c179e"
             ],
             [
              0.4444444444444444,
              "#bd3786"
             ],
             [
              0.5555555555555556,
              "#d8576b"
             ],
             [
              0.6666666666666666,
              "#ed7953"
             ],
             [
              0.7777777777777778,
              "#fb9f3a"
             ],
             [
              0.8888888888888888,
              "#fdca26"
             ],
             [
              1,
              "#f0f921"
             ]
            ],
            "type": "heatmap"
           }
          ],
          "histogram": [
           {
            "marker": {
             "pattern": {
              "fillmode": "overlay",
              "size": 10,
              "solidity": 0.2
             }
            },
            "type": "histogram"
           }
          ],
          "histogram2d": [
           {
            "colorbar": {
             "outlinewidth": 0,
             "ticks": ""
            },
            "colorscale": [
             [
              0,
              "#0d0887"
             ],
             [
              0.1111111111111111,
              "#46039f"
             ],
             [
              0.2222222222222222,
              "#7201a8"
             ],
             [
              0.3333333333333333,
              "#9c179e"
             ],
             [
              0.4444444444444444,
              "#bd3786"
             ],
             [
              0.5555555555555556,
              "#d8576b"
             ],
             [
              0.6666666666666666,
              "#ed7953"
             ],
             [
              0.7777777777777778,
              "#fb9f3a"
             ],
             [
              0.8888888888888888,
              "#fdca26"
             ],
             [
              1,
              "#f0f921"
             ]
            ],
            "type": "histogram2d"
           }
          ],
          "histogram2dcontour": [
           {
            "colorbar": {
             "outlinewidth": 0,
             "ticks": ""
            },
            "colorscale": [
             [
              0,
              "#0d0887"
             ],
             [
              0.1111111111111111,
              "#46039f"
             ],
             [
              0.2222222222222222,
              "#7201a8"
             ],
             [
              0.3333333333333333,
              "#9c179e"
             ],
             [
              0.4444444444444444,
              "#bd3786"
             ],
             [
              0.5555555555555556,
              "#d8576b"
             ],
             [
              0.6666666666666666,
              "#ed7953"
             ],
             [
              0.7777777777777778,
              "#fb9f3a"
             ],
             [
              0.8888888888888888,
              "#fdca26"
             ],
             [
              1,
              "#f0f921"
             ]
            ],
            "type": "histogram2dcontour"
           }
          ],
          "mesh3d": [
           {
            "colorbar": {
             "outlinewidth": 0,
             "ticks": ""
            },
            "type": "mesh3d"
           }
          ],
          "parcoords": [
           {
            "line": {
             "colorbar": {
              "outlinewidth": 0,
              "ticks": ""
             }
            },
            "type": "parcoords"
           }
          ],
          "pie": [
           {
            "automargin": true,
            "type": "pie"
           }
          ],
          "scatter": [
           {
            "fillpattern": {
             "fillmode": "overlay",
             "size": 10,
             "solidity": 0.2
            },
            "type": "scatter"
           }
          ],
          "scatter3d": [
           {
            "line": {
             "colorbar": {
              "outlinewidth": 0,
              "ticks": ""
             }
            },
            "marker": {
             "colorbar": {
              "outlinewidth": 0,
              "ticks": ""
             }
            },
            "type": "scatter3d"
           }
          ],
          "scattercarpet": [
           {
            "marker": {
             "colorbar": {
              "outlinewidth": 0,
              "ticks": ""
             }
            },
            "type": "scattercarpet"
           }
          ],
          "scattergeo": [
           {
            "marker": {
             "colorbar": {
              "outlinewidth": 0,
              "ticks": ""
             }
            },
            "type": "scattergeo"
           }
          ],
          "scattergl": [
           {
            "marker": {
             "colorbar": {
              "outlinewidth": 0,
              "ticks": ""
             }
            },
            "type": "scattergl"
           }
          ],
          "scattermap": [
           {
            "marker": {
             "colorbar": {
              "outlinewidth": 0,
              "ticks": ""
             }
            },
            "type": "scattermap"
           }
          ],
          "scattermapbox": [
           {
            "marker": {
             "colorbar": {
              "outlinewidth": 0,
              "ticks": ""
             }
            },
            "type": "scattermapbox"
           }
          ],
          "scatterpolar": [
           {
            "marker": {
             "colorbar": {
              "outlinewidth": 0,
              "ticks": ""
             }
            },
            "type": "scatterpolar"
           }
          ],
          "scatterpolargl": [
           {
            "marker": {
             "colorbar": {
              "outlinewidth": 0,
              "ticks": ""
             }
            },
            "type": "scatterpolargl"
           }
          ],
          "scatterternary": [
           {
            "marker": {
             "colorbar": {
              "outlinewidth": 0,
              "ticks": ""
             }
            },
            "type": "scatterternary"
           }
          ],
          "surface": [
           {
            "colorbar": {
             "outlinewidth": 0,
             "ticks": ""
            },
            "colorscale": [
             [
              0,
              "#0d0887"
             ],
             [
              0.1111111111111111,
              "#46039f"
             ],
             [
              0.2222222222222222,
              "#7201a8"
             ],
             [
              0.3333333333333333,
              "#9c179e"
             ],
             [
              0.4444444444444444,
              "#bd3786"
             ],
             [
              0.5555555555555556,
              "#d8576b"
             ],
             [
              0.6666666666666666,
              "#ed7953"
             ],
             [
              0.7777777777777778,
              "#fb9f3a"
             ],
             [
              0.8888888888888888,
              "#fdca26"
             ],
             [
              1,
              "#f0f921"
             ]
            ],
            "type": "surface"
           }
          ],
          "table": [
           {
            "cells": {
             "fill": {
              "color": "#EBF0F8"
             },
             "line": {
              "color": "white"
             }
            },
            "header": {
             "fill": {
              "color": "#C8D4E3"
             },
             "line": {
              "color": "white"
             }
            },
            "type": "table"
           }
          ]
         },
         "layout": {
          "annotationdefaults": {
           "arrowcolor": "#2a3f5f",
           "arrowhead": 0,
           "arrowwidth": 1
          },
          "autotypenumbers": "strict",
          "coloraxis": {
           "colorbar": {
            "outlinewidth": 0,
            "ticks": ""
           }
          },
          "colorscale": {
           "diverging": [
            [
             0,
             "#8e0152"
            ],
            [
             0.1,
             "#c51b7d"
            ],
            [
             0.2,
             "#de77ae"
            ],
            [
             0.3,
             "#f1b6da"
            ],
            [
             0.4,
             "#fde0ef"
            ],
            [
             0.5,
             "#f7f7f7"
            ],
            [
             0.6,
             "#e6f5d0"
            ],
            [
             0.7,
             "#b8e186"
            ],
            [
             0.8,
             "#7fbc41"
            ],
            [
             0.9,
             "#4d9221"
            ],
            [
             1,
             "#276419"
            ]
           ],
           "sequential": [
            [
             0,
             "#0d0887"
            ],
            [
             0.1111111111111111,
             "#46039f"
            ],
            [
             0.2222222222222222,
             "#7201a8"
            ],
            [
             0.3333333333333333,
             "#9c179e"
            ],
            [
             0.4444444444444444,
             "#bd3786"
            ],
            [
             0.5555555555555556,
             "#d8576b"
            ],
            [
             0.6666666666666666,
             "#ed7953"
            ],
            [
             0.7777777777777778,
             "#fb9f3a"
            ],
            [
             0.8888888888888888,
             "#fdca26"
            ],
            [
             1,
             "#f0f921"
            ]
           ],
           "sequentialminus": [
            [
             0,
             "#0d0887"
            ],
            [
             0.1111111111111111,
             "#46039f"
            ],
            [
             0.2222222222222222,
             "#7201a8"
            ],
            [
             0.3333333333333333,
             "#9c179e"
            ],
            [
             0.4444444444444444,
             "#bd3786"
            ],
            [
             0.5555555555555556,
             "#d8576b"
            ],
            [
             0.6666666666666666,
             "#ed7953"
            ],
            [
             0.7777777777777778,
             "#fb9f3a"
            ],
            [
             0.8888888888888888,
             "#fdca26"
            ],
            [
             1,
             "#f0f921"
            ]
           ]
          },
          "colorway": [
           "#636efa",
           "#EF553B",
           "#00cc96",
           "#ab63fa",
           "#FFA15A",
           "#19d3f3",
           "#FF6692",
           "#B6E880",
           "#FF97FF",
           "#FECB52"
          ],
          "font": {
           "color": "#2a3f5f"
          },
          "geo": {
           "bgcolor": "white",
           "lakecolor": "white",
           "landcolor": "white",
           "showlakes": true,
           "showland": true,
           "subunitcolor": "#C8D4E3"
          },
          "hoverlabel": {
           "align": "left"
          },
          "hovermode": "closest",
          "mapbox": {
           "style": "light"
          },
          "paper_bgcolor": "white",
          "plot_bgcolor": "white",
          "polar": {
           "angularaxis": {
            "gridcolor": "#EBF0F8",
            "linecolor": "#EBF0F8",
            "ticks": ""
           },
           "bgcolor": "white",
           "radialaxis": {
            "gridcolor": "#EBF0F8",
            "linecolor": "#EBF0F8",
            "ticks": ""
           }
          },
          "scene": {
           "xaxis": {
            "backgroundcolor": "white",
            "gridcolor": "#DFE8F3",
            "gridwidth": 2,
            "linecolor": "#EBF0F8",
            "showbackground": true,
            "ticks": "",
            "zerolinecolor": "#EBF0F8"
           },
           "yaxis": {
            "backgroundcolor": "white",
            "gridcolor": "#DFE8F3",
            "gridwidth": 2,
            "linecolor": "#EBF0F8",
            "showbackground": true,
            "ticks": "",
            "zerolinecolor": "#EBF0F8"
           },
           "zaxis": {
            "backgroundcolor": "white",
            "gridcolor": "#DFE8F3",
            "gridwidth": 2,
            "linecolor": "#EBF0F8",
            "showbackground": true,
            "ticks": "",
            "zerolinecolor": "#EBF0F8"
           }
          },
          "shapedefaults": {
           "line": {
            "color": "#2a3f5f"
           }
          },
          "ternary": {
           "aaxis": {
            "gridcolor": "#DFE8F3",
            "linecolor": "#A2B1C6",
            "ticks": ""
           },
           "baxis": {
            "gridcolor": "#DFE8F3",
            "linecolor": "#A2B1C6",
            "ticks": ""
           },
           "bgcolor": "white",
           "caxis": {
            "gridcolor": "#DFE8F3",
            "linecolor": "#A2B1C6",
            "ticks": ""
           }
          },
          "title": {
           "x": 0.05
          },
          "xaxis": {
           "automargin": true,
           "gridcolor": "#EBF0F8",
           "linecolor": "#EBF0F8",
           "ticks": "",
           "title": {
            "standoff": 15
           },
           "zerolinecolor": "#EBF0F8",
           "zerolinewidth": 2
          },
          "yaxis": {
           "automargin": true,
           "gridcolor": "#EBF0F8",
           "linecolor": "#EBF0F8",
           "ticks": "",
           "title": {
            "standoff": 15
           },
           "zerolinecolor": "#EBF0F8",
           "zerolinewidth": 2
          }
         }
        },
        "title": {
         "text": "Solar + Wind Production, Battery Usage, and Demand on 2019-01-01"
        },
        "xaxis": {
         "title": {
          "text": "Time of Day"
         }
        },
        "yaxis": {
         "title": {
          "text": "Power (kWh)"
         }
        }
       }
      }
     },
     "metadata": {},
     "output_type": "display_data"
    },
    {
     "data": {
      "application/vnd.jupyter.widget-view+json": {
       "model_id": "e795e74bcd40445dbdef0a4e01d0e12c",
       "version_major": 2,
       "version_minor": 0
      },
      "text/plain": [
       "Output()"
      ]
     },
     "metadata": {},
     "output_type": "display_data"
    }
   ],
   "source": [
    "# main.ipynb\n",
    "# ============================\n",
    "# Solar + Wind Energy Consumption and Production Analysis for Grenoble City\n",
    "# ============================\n",
    "#\n",
    "# Author: Arbaz KHALID & Tshephang Komana\n",
    "# Date: 2024-12-28\n",
    "#\n",
    "# Description:\n",
    "# This notebook performs a comprehensive analysis of solar and wind energy\n",
    "# consumption and production for the entire city of Grenoble for the year 2019.\n",
    "# Users can adjust the number of PV panels, wind turbines, and batteries, as well as\n",
    "# select specific dates to visualize metrics such as unmet demand, excess energy,\n",
    "# and battery SOC evolution.\n",
    "#\n",
    "# --------------------------------\n",
    "# 1. Environment Setup\n",
    "# --------------------------------\n",
    "import os\n",
    "import sys\n",
    "import logging\n",
    "\n",
    "import pandas as pd\n",
    "import numpy as np\n",
    "import plotly.graph_objects as go\n",
    "import ipywidgets as widgets\n",
    "from IPython.display import display, clear_output, HTML\n",
    "\n",
    "# Import the custom analysis script\n",
    "import solar_analysis_script as sas\n",
    "\n",
    "# (Optional) Add custom CSS to prevent label truncation (like in the weekly code)\n",
    "HTML('''\n",
    "<style>\n",
    "    .widget-label {\n",
    "        min-width: 200px !important;\n",
    "        white-space: nowrap !important;\n",
    "        overflow: visible !important;\n",
    "        text-overflow: unset !important;\n",
    "    }\n",
    "</style>\n",
    "''')\n",
    "\n",
    "# --------------------------------\n",
    "# 2. Configuration and File Paths\n",
    "# --------------------------------\n",
    "# Paths to data files\n",
    "CONSUMPTION_FILE = 'Grenoble_city_load_1.csv'\n",
    "PV_FILE = 'One_PV_Panel_Production.csv'\n",
    "WIND_FILE = 'wind_production_for_one_turbine.csv'  \n",
    "\n",
    "# Date ranges for the year 2019\n",
    "CONSUMPTION_START_DATE = '2019-01-01 00:00:00'\n",
    "CONSUMPTION_END_DATE   = '2019-12-31 23:59:59'\n",
    "\n",
    "# Initial values & parameters from the script\n",
    "INITIAL_NUM_PANELS   = sas.INITIAL_NUM_PANELS\n",
    "INITIAL_NUM_BATTERIES = 500       # Adjust as needed\n",
    "INITIAL_NUM_TURBINES = sas.INITIAL_NUM_TURBINES  \n",
    "\n",
    "# --------------------------------\n",
    "# 3. Load and Merge Data\n",
    "# --------------------------------\n",
    "print(\"Loading and preprocessing consumption data...\")\n",
    "try:\n",
    "    city_consumption = sas.load_city_consumption(\n",
    "        consumption_file_path=CONSUMPTION_FILE,\n",
    "        consumption_sep=';',\n",
    "        consumption_date_col='Date',\n",
    "        consumption_time_col='Heures',\n",
    "        consumption_value_col='Consommation(MWh)'\n",
    "    )\n",
    "    print(\"Consumption Data (head):\")\n",
    "    print(city_consumption.head())\n",
    "except Exception as err:\n",
    "    print(f\"Failed to load consumption data: {err}\")\n",
    "    raise\n",
    "\n",
    "print(\"\\nLoading and preprocessing PV production data...\")\n",
    "try:\n",
    "    city_pv_production = sas.load_city_pv_production(\n",
    "        pv_file_path=PV_FILE,\n",
    "        consumption_start_date=CONSUMPTION_START_DATE,\n",
    "        consumption_end_date=CONSUMPTION_END_DATE,\n",
    "        sep=',',\n",
    "        time_start_col='time',\n",
    "        time_end_col='local_time',\n",
    "        electricity_col='electricity'\n",
    "    )\n",
    "    print(\"PV Production Data (head):\")\n",
    "    print(city_pv_production.head())\n",
    "except Exception as err:\n",
    "    print(f\"Failed to load PV production data: {err}\")\n",
    "    raise\n",
    "\n",
    "print(\"\\nLoading and preprocessing Wind production data...\")\n",
    "try:\n",
    "    city_wind_production = sas.load_city_wind_production(\n",
    "        wind_file_path=WIND_FILE,\n",
    "        consumption_start_date=CONSUMPTION_START_DATE,\n",
    "        consumption_end_date=CONSUMPTION_END_DATE,\n",
    "        sep=',',\n",
    "        time_start_col='time',\n",
    "        time_end_col='local_time',\n",
    "        electricity_col='wind_electricity'\n",
    "    )\n",
    "    print(\"Wind Production Data (head):\")\n",
    "    print(city_wind_production.head())\n",
    "except Exception as err:\n",
    "    print(f\"Failed to load wind production data: {err}\")\n",
    "    raise\n",
    "\n",
    "print(\"\\nMerging consumption, PV, and wind production data...\")\n",
    "try:\n",
    "    # Merge all three data sources into one DataFrame\n",
    "    city_merged_data = sas.merge_city_data(\n",
    "        consumption=city_consumption,\n",
    "        pv_production=city_pv_production,\n",
    "        wind_production=city_wind_production,\n",
    "        num_panels=INITIAL_NUM_PANELS,\n",
    "        num_turbines=INITIAL_NUM_TURBINES\n",
    "    )\n",
    "    print(\"Merged Data (head):\")\n",
    "    print(city_merged_data.head())\n",
    "except Exception as err:\n",
    "    print(f\"Failed to merge data: {err}\")\n",
    "    raise\n",
    "\n",
    "# --------------------------------\n",
    "# 4. Create Interactive Widgets with Updated Slider Style\n",
    "# --------------------------------\n",
    "slider_style = {'description_width': '150px'}\n",
    "slider_layout = widgets.Layout(\n",
    "    width='100%',\n",
    "    min_width='400px',\n",
    "    margin='0 0 0 0px'\n",
    ")\n",
    "\n",
    "num_panels_slider = widgets.IntSlider(\n",
    "    value=INITIAL_NUM_PANELS,\n",
    "    min=0,\n",
    "    max=1e7,\n",
    "    step=1e3,\n",
    "    description='Number of PV Panels:',\n",
    "    continuous_update=False,\n",
    "    style=slider_style,\n",
    "    layout=slider_layout\n",
    ")\n",
    "\n",
    "num_turbines_slider = widgets.IntSlider(\n",
    "    value=INITIAL_NUM_TURBINES,\n",
    "    min=0,\n",
    "    max=1000,\n",
    "    step=10,\n",
    "    description='Number of Wind Turbines:',\n",
    "    continuous_update=False,\n",
    "    style=slider_style,\n",
    "    layout=slider_layout\n",
    ")\n",
    "\n",
    "num_batteries_slider = widgets.IntSlider(\n",
    "    value=INITIAL_NUM_BATTERIES,\n",
    "    min=0,\n",
    "    max=1e4,\n",
    "    step=100,\n",
    "    description='Number of Battery Units:',\n",
    "    continuous_update=False,\n",
    "    style=slider_style,\n",
    "    layout=slider_layout\n",
    ")\n",
    "\n",
    "month_dropdown = widgets.Dropdown(\n",
    "    options=[(pd.to_datetime(str(month), format='%m').strftime('%B'), month)\n",
    "             for month in range(1, 13)],\n",
    "    value=1,\n",
    "    description='Month:',\n",
    "    style={'description_width': '100px'},\n",
    "    layout=widgets.Layout(width='400px')\n",
    ")\n",
    "\n",
    "date_dropdown = widgets.Dropdown(\n",
    "    options=[],\n",
    "    value=None,\n",
    "    description='Date:',\n",
    "    style={'description_width': '140px'},\n",
    "    layout=widgets.Layout(width='500px')\n",
    ")\n",
    "\n",
    "message_output = widgets.Output()\n",
    "plot_output = widgets.Output()\n",
    "\n",
    "controls_box = widgets.VBox([\n",
    "    widgets.VBox([\n",
    "        num_panels_slider,\n",
    "        num_turbines_slider,\n",
    "        num_batteries_slider\n",
    "    ], layout=widgets.Layout(\n",
    "        justify_content='space-around',\n",
    "        width='100%',\n",
    "        padding='1px 2px'\n",
    "    )),\n",
    "    widgets.HBox([month_dropdown, date_dropdown],\n",
    "                 layout=widgets.Layout(\n",
    "                     justify_content='space-around',\n",
    "                     width='100%',\n",
    "                     padding='1px 2px'\n",
    "                 ))\n",
    "], layout=widgets.Layout(\n",
    "    width='50%',\n",
    "    padding='10px 0',\n",
    "    border='1px solid #e0e0e0',\n",
    "    margin='0px 0'\n",
    "))\n",
    "\n",
    "display(controls_box, plot_output)\n",
    "\n",
    "# --------------------------------\n",
    "# 5. Update Date Dropdown Dynamically Based on Selected Month\n",
    "# --------------------------------\n",
    "def populate_date_dropdown(change):\n",
    "    \"\"\"\n",
    "    Based on the selected month, populate the date dropdown\n",
    "    with the available dates from the merged dataset.\n",
    "    \"\"\"\n",
    "    selected_month = change['new']\n",
    "    month_filtered = city_merged_data[city_merged_data.index.month == selected_month]\n",
    "    dates_in_month = month_filtered.index.normalize().unique()\n",
    "    date_options = [date.strftime('%Y-%m-%d') for date in dates_in_month]\n",
    "    \n",
    "    with message_output:\n",
    "        message_output.clear_output()\n",
    "        if date_options:\n",
    "            date_dropdown.options = date_options\n",
    "            date_dropdown.value = date_options[0]\n",
    "            print(f\"Available dates in {pd.to_datetime(str(selected_month), format='%m').strftime('%B')}:\")\n",
    "            print(date_options)\n",
    "        else:\n",
    "            date_dropdown.options = []\n",
    "            date_dropdown.value = None\n",
    "            print(f\"No data available for {pd.to_datetime(str(selected_month), format='%m').strftime('%B')}.\")\n",
    "\n",
    "month_dropdown.observe(populate_date_dropdown, names='value')\n",
    "populate_date_dropdown({'new': month_dropdown.value})\n",
    "\n",
    "# --------------------------------\n",
    "# 6. Plot Handler Function\n",
    "# --------------------------------\n",
    "def graph_handler(num_panels, num_turbines, num_batteries, selected_date):\n",
    "    \"\"\"\n",
    "    Handler function to clear outputs, call update_graph, and display the results.\n",
    "    \"\"\"\n",
    "    with plot_output:\n",
    "        plot_output.clear_output()\n",
    "        if not selected_date:\n",
    "            with message_output:\n",
    "                message_output.clear_output()\n",
    "                print(\"[Error] No date selected. Please select a valid date.\")\n",
    "            return\n",
    "        \n",
    "        # Generate the figure and SOC message from the analysis script\n",
    "        fig, soc_message = sas.update_graph(\n",
    "            num_panels=num_panels,\n",
    "            num_turbines=num_turbines,\n",
    "            num_batteries=num_batteries,\n",
    "            selected_date=selected_date,\n",
    "            city_merged_data=city_merged_data,\n",
    "            soc_tracker=sas.soc_tracker,\n",
    "            initial_num_panels=sas.INITIAL_NUM_PANELS,\n",
    "            initial_num_turbines=sas.INITIAL_NUM_TURBINES,\n",
    "            initial_soc=sas.INITIAL_SOC,\n",
    "            battery_capacity_per_unit=sas.BATTERY_CAPACITY_PER_UNIT,\n",
    "            converter_efficiency=sas.CONVERTER_EFFICIENCY\n",
    "        )\n",
    "        \n",
    "        # Display the Plotly figure (if available)\n",
    "        if fig:\n",
    "            fig.show()\n",
    "        else:\n",
    "            print(\"No figure to display.\")\n",
    "    \n",
    "    # Display SOC message in the message output area\n",
    "    with message_output:\n",
    "        message_output.clear_output()\n",
    "        if soc_message:\n",
    "            print(soc_message)\n",
    "\n",
    "# --------------------------------\n",
    "# 7. Connect the Widgets to the Plotting Function\n",
    "# --------------------------------\n",
    "interactive_out = widgets.interactive_output(\n",
    "    graph_handler,\n",
    "    {\n",
    "        'num_panels': num_panels_slider,\n",
    "        'num_turbines': num_turbines_slider,\n",
    "        'num_batteries': num_batteries_slider,\n",
    "        'selected_date': date_dropdown\n",
    "    }\n",
    ")\n",
    "\n",
    "display(interactive_out)\n"
   ]
  },
  {
   "cell_type": "code",
   "execution_count": null,
   "metadata": {},
   "outputs": [],
   "source": []
  }
 ],
 "metadata": {
  "kernelspec": {
   "display_name": "base",
   "language": "python",
   "name": "python3"
  },
  "language_info": {
   "codemirror_mode": {
    "name": "ipython",
    "version": 3
   },
   "file_extension": ".py",
   "mimetype": "text/x-python",
   "name": "python",
   "nbconvert_exporter": "python",
   "pygments_lexer": "ipython3",
   "version": "3.11.5"
  }
 },
 "nbformat": 4,
 "nbformat_minor": 2
}
