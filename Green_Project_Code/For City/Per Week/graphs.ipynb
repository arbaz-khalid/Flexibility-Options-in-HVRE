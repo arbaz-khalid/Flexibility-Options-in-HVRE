{
 "cells": [
  {
   "cell_type": "markdown",
   "metadata": {},
   "source": [
    "# Important Graphs for analysis in the case of City"
   ]
  },
  {
   "cell_type": "code",
   "execution_count": 2,
   "metadata": {},
   "outputs": [
    {
     "name": "stdout",
     "output_type": "stream",
     "text": [
      "Loading and preprocessing consumption data...\n",
      "Consumption Data (head):\n",
      "Datetime\n",
      "2019-01-01 00:00:00    580000\n",
      "2019-01-01 01:00:00    558000\n",
      "2019-01-01 02:00:00    539000\n",
      "2019-01-01 03:00:00    543000\n",
      "2019-01-01 04:00:00    531000\n",
      "Name: Consumption_kWh, dtype: int64\n",
      "\n",
      "Loading and preprocessing PV production data...\n",
      "PV Production Data (head):\n",
      "Time_Start\n",
      "2019-01-01 00:00:00    0.0\n",
      "2019-01-01 01:00:00    0.0\n",
      "2019-01-01 02:00:00    0.0\n",
      "2019-01-01 03:00:00    0.0\n",
      "2019-01-01 04:00:00    0.0\n",
      "Name: PV_Production_kWh, dtype: float64\n",
      "\n",
      "Loading and preprocessing Wind production data...\n",
      "Wind Production Data (head):\n",
      "Time_Start\n",
      "2019-01-01 00:00:00     923.138\n",
      "2019-01-01 01:00:00     942.556\n",
      "2019-01-01 02:00:00    1064.198\n",
      "2019-01-01 03:00:00    1328.341\n",
      "2019-01-01 04:00:00    1625.839\n",
      "Name: Wind_Production_kWh, dtype: float64\n"
     ]
    }
   ],
   "source": [
    "# -------------------------------\n",
    "# Cell 1: Environment Setup\n",
    "# -------------------------------\n",
    "import os\n",
    "import sys\n",
    "import logging\n",
    "import pandas as pd\n",
    "import numpy as np\n",
    "import plotly.graph_objs as go\n",
    "import ipywidgets as widgets\n",
    "from IPython.display import display, clear_output\n",
    "\n",
    "# Import the custom analysis script\n",
    "import solar_analysis_script as sas\n",
    "from solar_analysis_script import update_weekly_graph  # The update function\n",
    "\n",
    "# (Optional) Reload the module to pick up any changes during development\n",
    "import importlib\n",
    "importlib.reload(sas)\n",
    "\n",
    "# -------------------------------\n",
    "# Cell 2: Configuration and File Paths\n",
    "# -------------------------------\n",
    "# File paths for the data files\n",
    "CONSUMPTION_FILE = 'Grenoble_city_load_1.csv'\n",
    "PV_FILE = 'One_PV_Panel_Production.csv'\n",
    "WIND_FILE = 'wind_production_for_one_turbine.csv'\n",
    "\n",
    "# Date range for the year 2019\n",
    "CONSUMPTION_START_DATE = '2019-01-01 00:00:00'\n",
    "CONSUMPTION_END_DATE   = '2019-12-31 23:59:59'\n",
    "\n",
    "# Initial parameter values (from the analysis script)\n",
    "INITIAL_NUM_PANELS   = sas.INITIAL_NUM_PANELS\n",
    "INITIAL_NUM_TURBINES = sas.INITIAL_NUM_TURBINES\n",
    "INITIAL_NUM_BATTERIES = 500  # Adjust if needed\n",
    "battery_capacity     = sas.battery_capacity_per_unit  # kWh per battery\n",
    "\n",
    "# -------------------------------\n",
    "# Cell 3: Load Raw Data\n",
    "# -------------------------------\n",
    "print(\"Loading and preprocessing consumption data...\")\n",
    "try:\n",
    "    # Call the module-level function (which converts from MWh to kWh)\n",
    "    # Note: Although the CSV column is in MWh, the function converts it to kWh.\n",
    "    city_consumption = sas.load_city_consumption(\n",
    "        consumption_file_path=CONSUMPTION_FILE,\n",
    "        consumption_sep=';',\n",
    "        consumption_date_col='Date',\n",
    "        consumption_time_col='Heures',\n",
    "        consumption_value_col='Consommation(MWh)'\n",
    "    )\n",
    "    print(\"Consumption Data (head):\")\n",
    "    print(city_consumption.head())\n",
    "except Exception as err:\n",
    "    print(f\"Failed to load consumption data: {err}\")\n",
    "    raise\n",
    "\n",
    "print(\"\\nLoading and preprocessing PV production data...\")\n",
    "try:\n",
    "    city_pv_production = sas.load_city_pv_production(\n",
    "        pv_file_path=PV_FILE,\n",
    "        consumption_start_date=CONSUMPTION_START_DATE,\n",
    "        consumption_end_date=CONSUMPTION_END_DATE,\n",
    "        sep=',',\n",
    "        time_start_col='time',\n",
    "        time_end_col='local_time',\n",
    "        electricity_col='electricity'\n",
    "    )\n",
    "    print(\"PV Production Data (head):\")\n",
    "    print(city_pv_production.head())\n",
    "except Exception as err:\n",
    "    print(f\"Failed to load PV production data: {err}\")\n",
    "    raise\n",
    "\n",
    "print(\"\\nLoading and preprocessing Wind production data...\")\n",
    "try:\n",
    "    city_wind_production = sas.load_city_wind_production(\n",
    "        wind_file_path=WIND_FILE,\n",
    "        consumption_start_date=CONSUMPTION_START_DATE,\n",
    "        consumption_end_date=CONSUMPTION_END_DATE,\n",
    "        sep=',',\n",
    "        time_start_col='time',\n",
    "        time_end_col='local_time',\n",
    "        electricity_col='wind_electricity'\n",
    "    )\n",
    "    print(\"Wind Production Data (head):\")\n",
    "    print(city_wind_production.head())\n",
    "except Exception as err:\n",
    "    print(f\"Failed to load wind production data: {err}\")\n",
    "    raise"
   ]
  },
  {
   "cell_type": "code",
   "execution_count": 2,
   "metadata": {},
   "outputs": [
    {
     "data": {
      "application/vnd.plotly.v1+json": {
       "config": {
        "plotlyServerURL": "https://plot.ly"
       },
       "data": [
        {
         "customdata": {
          "bdata": "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",
          "dtype": "f8"
         },
         "hovertemplate": "<b>PV Penetration Ratio:</b> %{x:.4f}<br><b>SSR (%):</b> %{y:.2f}<br><b>Number of Panels:</b> %{customdata:,}",
         "line": {
          "color": "green"
         },
         "marker": {
          "size": 8
         },
         "mode": "lines+markers",
         "name": "SSR (%)",
         "type": "scatter",
         "x": [
          0,
          1.1369551254055474,
          2.273910250811095,
          3.410865376216643,
          4.54782050162219,
          5.684775627027738,
          6.821730752433286,
          7.958685877838833,
          9.09564100324438,
          10.232596128649929,
          11.369551254055477,
          12.506506379461024,
          13.643461504866572,
          14.780416630272118,
          15.917371755677665,
          17.054326881083213,
          18.19128200648876,
          19.32823713189431,
          20.465192257299858,
          21.602147382705404,
          22.739102508110953,
          23.8760576335165,
          25.01301275892205,
          26.149967884327598,
          27.286923009733144,
          28.423878135138693,
          29.560833260544236,
          30.697788385949785,
          31.83474351135533,
          32.97169863676088,
          34.108653762166426,
          35.245608887571976,
          36.38256401297752,
          37.519519138383075,
          38.65647426378862,
          39.793429389194166,
          40.930384514599716,
          42.067339640005265,
          43.20429476541081,
          44.34124989081636,
          45.47820501622191,
          46.615160141627456,
          47.752115267033,
          48.88907039243855,
          50.0260255178441,
          51.16298064324964,
          52.299935768655196,
          53.43689089406074,
          54.57384601946629,
          55.71080114487183,
          56.84775627027739,
          57.98471139568293,
          59.12166652108847,
          60.25862164649403,
          61.39557677189957,
          62.53253189730512,
          63.66948702271066,
          64.80644214811622,
          65.94339727352175,
          67.08035239892732,
          68.21730752433285,
          69.3542626497384,
          70.49121777514395,
          71.6281729005495,
          72.76512802595504,
          73.9020831513606,
          75.03903827676615,
          76.1759934021717,
          77.31294852757723,
          78.44990365298278,
          79.58685877838833,
          80.72381390379388,
          81.86076902919943,
          82.99772415460498,
          84.13467928001053,
          85.27163440541607,
          86.40858953082162,
          87.54554465622716,
          88.68249978163271,
          89.81945490703826,
          90.95641003244381,
          92.09336515784936,
          93.23032028325491,
          94.36727540866045,
          95.504230534066,
          96.64118565947156,
          97.7781407848771,
          98.91509591028264,
          100.0520510356882,
          101.18900616109374,
          102.32596128649928,
          103.46291641190483,
          104.59987153731039,
          105.73682666271594,
          106.87378178812148,
          108.01073691352703,
          109.14769203893258,
          110.28464716433811,
          111.42160228974366,
          112.55855741514922,
          113.69551254055477,
          114.83246766596031,
          115.96942279136586,
          117.10637791677141,
          118.24333304217694,
          119.38028816758249,
          120.51724329298806,
          121.6541984183936,
          122.79115354379914,
          123.92810866920469,
          125.06506379461024,
          126.20201892001579,
          127.33897404542132,
          128.47592917082687,
          129.61288429623244,
          130.74983942163797,
          131.8867945470435,
          133.02374967244907,
          134.16070479785463,
          135.29765992326017,
          136.4346150486657,
          137.57157017407127,
          138.7085252994768,
          139.84548042488237,
          140.9824355502879,
          142.11939067569347,
          143.256345801099,
          144.39330092650457,
          145.53025605191007,
          146.66721117731564,
          147.8041663027212,
          148.94112142812673,
          150.0780765535323,
          151.21503167893783,
          152.3519868043434,
          153.4889419297489,
          154.62589705515447,
          155.76285218056003,
          156.89980730596557,
          158.03676243137113,
          159.17371755677667,
          160.31067268218223,
          161.44762780758776,
          162.5845829329933,
          163.72153805839886,
          164.8584931838044,
          165.99544830920996,
          167.1324034346155,
          168.26935856002106,
          169.4063136854266,
          170.54326881083213,
          171.6802239362377,
          172.81717906164323,
          173.9541341870488,
          175.09108931245433,
          176.2280444378599,
          177.36499956326543,
          178.50195468867096,
          179.63890981407653,
          180.77586493948206,
          181.91282006488763,
          183.04977519029316,
          184.18673031569872,
          185.32368544110426,
          186.46064056650982,
          187.59759569191536,
          188.7345508173209,
          189.87150594272646,
          191.008461068132,
          192.14541619353756,
          193.28237131894312,
          194.41932644434866,
          195.5562815697542,
          196.69323669515973,
          197.8301918205653,
          198.96714694597082,
          200.1041020713764,
          201.24105719678195,
          202.3780123221875,
          203.51496744759302,
          204.65192257299856,
          205.78887769840412,
          206.92583282380966,
          208.06278794921522,
          209.19974307462078,
          210.33669820002632,
          211.47365332543188,
          212.6106084508374,
          213.74756357624295,
          214.8845187016485,
          216.02147382705405,
          217.15842895245962,
          218.29538407786515,
          219.43233920327071,
          220.56929432867622,
          221.70624945408179,
          222.84320457948732,
          223.98015970489288,
          225.11711483029845,
          226.25406995570398
         ],
         "y": [
          0,
          12.231326898081353,
          23.825533594709196,
          30.15085450948252,
          33.41633897142952,
          35.59091862209402,
          37.150643474778946,
          38.319881118559174,
          39.25530514595655,
          40.04614641001651,
          40.708248396293634,
          41.282973460669155,
          41.79591446755184,
          42.26194816862946,
          42.67003064934641,
          43.041428274134475,
          43.374532386923384,
          43.66977708527738,
          43.935695015040544,
          44.180255221526075,
          44.40578131198501,
          44.60877561615981,
          44.791132794253464,
          44.96173316614105,
          45.121274193128855,
          45.269130258002384,
          45.4093266739155,
          45.5394207634903,
          45.661666991173824,
          45.7778007435353,
          45.887228679453045,
          45.99118681408185,
          46.089638534944804,
          46.182306165986915,
          46.2704436257088,
          46.35550408149073,
          46.436124042352944,
          46.51501660433011,
          46.59268550541073,
          46.6689259993005,
          46.74335061997387,
          46.81583764972687,
          46.88600738187472,
          46.95346446175736,
          47.01840235851135,
          47.078597306914325,
          47.136025927309504,
          47.19122809620504,
          47.24475802834155,
          47.296715410588725,
          47.3474497394062,
          47.396343943233546,
          47.443623088712805,
          47.48950128421052,
          47.53305212637755,
          47.57555899002026,
          47.61629955459268,
          47.65595429567266,
          47.69409404012802,
          47.730770576599646,
          47.766491886802264,
          47.80069155471913,
          47.833777319401314,
          47.8662919288708,
          47.8980773524111,
          47.929547369416355,
          47.960003305769426,
          47.989881072895955,
          48.019463493209045,
          48.048339094468986,
          48.076370284830084,
          48.10281054799936,
          48.12821171184884,
          48.1529871033819,
          48.17740255498748,
          48.20153771750254,
          48.22536248839964,
          48.24874737556849,
          48.27180158735098,
          48.29426766036903,
          48.31626341753377,
          48.33750778564513,
          48.35791587057838,
          48.3777487267428,
          48.39707437670825,
          48.41634810229308,
          48.43547705184925,
          48.454117747693815,
          48.472516675510725,
          48.49030413693482,
          48.50769003318628,
          48.524655073586295,
          48.54123802045991,
          48.557427805629075,
          48.57323235863115,
          48.588466835668946,
          48.603451212303284,
          48.61828614048052,
          48.63299364670951,
          48.64713261291037,
          48.660991947039925,
          48.67472630420847,
          48.688244433323675,
          48.701381477068594,
          48.71424657701735,
          48.7269508695163,
          48.73951514672258,
          48.751822266432185,
          48.76400543672854,
          48.776075850731196,
          48.78803721579171,
          48.7999750442719,
          48.81179582318027,
          48.82346272464164,
          48.834942890935075,
          48.84608286037045,
          48.856972190852474,
          48.86779867310906,
          48.87851303025407,
          48.88910241043822,
          48.89952681483644,
          48.909704317793775,
          48.91973814765932,
          48.92955280254089,
          48.939308226065265,
          48.94899051514698,
          48.95867280422861,
          48.968293190770176,
          48.977755583229644,
          48.987061483057346,
          48.99636738288506,
          49.00567328271276,
          49.01493054975512,
          49.02415076057866,
          49.03320021810264,
          49.04211661402512,
          49.050947758239786,
          49.059695542116714,
          49.06841738965408,
          49.077022892042436,
          49.085442721268734,
          49.09374075095711,
          49.10195641984272,
          49.109989903195334,
          49.11781950625237,
          49.125593891185034,
          49.13332808125869,
          49.1409411783658,
          49.14841962408572,
          49.155882514463784,
          49.163326262792886,
          49.17055333715117,
          49.17769175403447,
          49.18477003480609,
          49.19179486173395,
          49.198790510279416,
          49.20575061915123,
          49.21257307155859,
          49.21934807812765,
          49.22594046186751,
          49.2324207032529,
          49.23883229950792,
          49.24517543589717,
          49.251489693340275,
          49.257654689739496,
          49.263819686138746,
          49.26989030572342,
          49.275925512724896,
          49.281960719726236,
          49.28795685419631,
          49.293793353097584,
          49.29947620504434,
          49.30512208478316,
          49.31074196571134,
          49.31636184663928,
          49.32198172756757,
          49.32760160849565,
          49.33311705258748,
          49.3384814067358,
          49.34368388065887,
          49.348836519754634,
          49.35398915885045,
          49.35914179794603,
          49.36429443704196,
          49.369447076137696,
          49.37459971523336,
          49.37974761513299,
          49.384848338469475,
          49.389949061806085,
          49.39504978514275,
          49.400107009106584,
          49.40506260312906,
          49.409908962945096,
          49.414711170666486,
          49.4195035057789,
          49.42422408728181,
          49.42888352666563,
          49.433497991063085,
          49.43810551468757,
          49.44265973957157
         ]
        }
       ],
       "layout": {
        "font": {
         "size": 12
        },
        "height": 600,
        "template": {
         "data": {
          "bar": [
           {
            "error_x": {
             "color": "#2a3f5f"
            },
            "error_y": {
             "color": "#2a3f5f"
            },
            "marker": {
             "line": {
              "color": "white",
              "width": 0.5
             },
             "pattern": {
              "fillmode": "overlay",
              "size": 10,
              "solidity": 0.2
             }
            },
            "type": "bar"
           }
          ],
          "barpolar": [
           {
            "marker": {
             "line": {
              "color": "white",
              "width": 0.5
             },
             "pattern": {
              "fillmode": "overlay",
              "size": 10,
              "solidity": 0.2
             }
            },
            "type": "barpolar"
           }
          ],
          "carpet": [
           {
            "aaxis": {
             "endlinecolor": "#2a3f5f",
             "gridcolor": "#C8D4E3",
             "linecolor": "#C8D4E3",
             "minorgridcolor": "#C8D4E3",
             "startlinecolor": "#2a3f5f"
            },
            "baxis": {
             "endlinecolor": "#2a3f5f",
             "gridcolor": "#C8D4E3",
             "linecolor": "#C8D4E3",
             "minorgridcolor": "#C8D4E3",
             "startlinecolor": "#2a3f5f"
            },
            "type": "carpet"
           }
          ],
          "choropleth": [
           {
            "colorbar": {
             "outlinewidth": 0,
             "ticks": ""
            },
            "type": "choropleth"
           }
          ],
          "contour": [
           {
            "colorbar": {
             "outlinewidth": 0,
             "ticks": ""
            },
            "colorscale": [
             [
              0,
              "#0d0887"
             ],
             [
              0.1111111111111111,
              "#46039f"
             ],
             [
              0.2222222222222222,
              "#7201a8"
             ],
             [
              0.3333333333333333,
              "#9c179e"
             ],
             [
              0.4444444444444444,
              "#bd3786"
             ],
             [
              0.5555555555555556,
              "#d8576b"
             ],
             [
              0.6666666666666666,
              "#ed7953"
             ],
             [
              0.7777777777777778,
              "#fb9f3a"
             ],
             [
              0.8888888888888888,
              "#fdca26"
             ],
             [
              1,
              "#f0f921"
             ]
            ],
            "type": "contour"
           }
          ],
          "contourcarpet": [
           {
            "colorbar": {
             "outlinewidth": 0,
             "ticks": ""
            },
            "type": "contourcarpet"
           }
          ],
          "heatmap": [
           {
            "colorbar": {
             "outlinewidth": 0,
             "ticks": ""
            },
            "colorscale": [
             [
              0,
              "#0d0887"
             ],
             [
              0.1111111111111111,
              "#46039f"
             ],
             [
              0.2222222222222222,
              "#7201a8"
             ],
             [
              0.3333333333333333,
              "#9c179e"
             ],
             [
              0.4444444444444444,
              "#bd3786"
             ],
             [
              0.5555555555555556,
              "#d8576b"
             ],
             [
              0.6666666666666666,
              "#ed7953"
             ],
             [
              0.7777777777777778,
              "#fb9f3a"
             ],
             [
              0.8888888888888888,
              "#fdca26"
             ],
             [
              1,
              "#f0f921"
             ]
            ],
            "type": "heatmap"
           }
          ],
          "histogram": [
           {
            "marker": {
             "pattern": {
              "fillmode": "overlay",
              "size": 10,
              "solidity": 0.2
             }
            },
            "type": "histogram"
           }
          ],
          "histogram2d": [
           {
            "colorbar": {
             "outlinewidth": 0,
             "ticks": ""
            },
            "colorscale": [
             [
              0,
              "#0d0887"
             ],
             [
              0.1111111111111111,
              "#46039f"
             ],
             [
              0.2222222222222222,
              "#7201a8"
             ],
             [
              0.3333333333333333,
              "#9c179e"
             ],
             [
              0.4444444444444444,
              "#bd3786"
             ],
             [
              0.5555555555555556,
              "#d8576b"
             ],
             [
              0.6666666666666666,
              "#ed7953"
             ],
             [
              0.7777777777777778,
              "#fb9f3a"
             ],
             [
              0.8888888888888888,
              "#fdca26"
             ],
             [
              1,
              "#f0f921"
             ]
            ],
            "type": "histogram2d"
           }
          ],
          "histogram2dcontour": [
           {
            "colorbar": {
             "outlinewidth": 0,
             "ticks": ""
            },
            "colorscale": [
             [
              0,
              "#0d0887"
             ],
             [
              0.1111111111111111,
              "#46039f"
             ],
             [
              0.2222222222222222,
              "#7201a8"
             ],
             [
              0.3333333333333333,
              "#9c179e"
             ],
             [
              0.4444444444444444,
              "#bd3786"
             ],
             [
              0.5555555555555556,
              "#d8576b"
             ],
             [
              0.6666666666666666,
              "#ed7953"
             ],
             [
              0.7777777777777778,
              "#fb9f3a"
             ],
             [
              0.8888888888888888,
              "#fdca26"
             ],
             [
              1,
              "#f0f921"
             ]
            ],
            "type": "histogram2dcontour"
           }
          ],
          "mesh3d": [
           {
            "colorbar": {
             "outlinewidth": 0,
             "ticks": ""
            },
            "type": "mesh3d"
           }
          ],
          "parcoords": [
           {
            "line": {
             "colorbar": {
              "outlinewidth": 0,
              "ticks": ""
             }
            },
            "type": "parcoords"
           }
          ],
          "pie": [
           {
            "automargin": true,
            "type": "pie"
           }
          ],
          "scatter": [
           {
            "fillpattern": {
             "fillmode": "overlay",
             "size": 10,
             "solidity": 0.2
            },
            "type": "scatter"
           }
          ],
          "scatter3d": [
           {
            "line": {
             "colorbar": {
              "outlinewidth": 0,
              "ticks": ""
             }
            },
            "marker": {
             "colorbar": {
              "outlinewidth": 0,
              "ticks": ""
             }
            },
            "type": "scatter3d"
           }
          ],
          "scattercarpet": [
           {
            "marker": {
             "colorbar": {
              "outlinewidth": 0,
              "ticks": ""
             }
            },
            "type": "scattercarpet"
           }
          ],
          "scattergeo": [
           {
            "marker": {
             "colorbar": {
              "outlinewidth": 0,
              "ticks": ""
             }
            },
            "type": "scattergeo"
           }
          ],
          "scattergl": [
           {
            "marker": {
             "colorbar": {
              "outlinewidth": 0,
              "ticks": ""
             }
            },
            "type": "scattergl"
           }
          ],
          "scattermap": [
           {
            "marker": {
             "colorbar": {
              "outlinewidth": 0,
              "ticks": ""
             }
            },
            "type": "scattermap"
           }
          ],
          "scattermapbox": [
           {
            "marker": {
             "colorbar": {
              "outlinewidth": 0,
              "ticks": ""
             }
            },
            "type": "scattermapbox"
           }
          ],
          "scatterpolar": [
           {
            "marker": {
             "colorbar": {
              "outlinewidth": 0,
              "ticks": ""
             }
            },
            "type": "scatterpolar"
           }
          ],
          "scatterpolargl": [
           {
            "marker": {
             "colorbar": {
              "outlinewidth": 0,
              "ticks": ""
             }
            },
            "type": "scatterpolargl"
           }
          ],
          "scatterternary": [
           {
            "marker": {
             "colorbar": {
              "outlinewidth": 0,
              "ticks": ""
             }
            },
            "type": "scatterternary"
           }
          ],
          "surface": [
           {
            "colorbar": {
             "outlinewidth": 0,
             "ticks": ""
            },
            "colorscale": [
             [
              0,
              "#0d0887"
             ],
             [
              0.1111111111111111,
              "#46039f"
             ],
             [
              0.2222222222222222,
              "#7201a8"
             ],
             [
              0.3333333333333333,
              "#9c179e"
             ],
             [
              0.4444444444444444,
              "#bd3786"
             ],
             [
              0.5555555555555556,
              "#d8576b"
             ],
             [
              0.6666666666666666,
              "#ed7953"
             ],
             [
              0.7777777777777778,
              "#fb9f3a"
             ],
             [
              0.8888888888888888,
              "#fdca26"
             ],
             [
              1,
              "#f0f921"
             ]
            ],
            "type": "surface"
           }
          ],
          "table": [
           {
            "cells": {
             "fill": {
              "color": "#EBF0F8"
             },
             "line": {
              "color": "white"
             }
            },
            "header": {
             "fill": {
              "color": "#C8D4E3"
             },
             "line": {
              "color": "white"
             }
            },
            "type": "table"
           }
          ]
         },
         "layout": {
          "annotationdefaults": {
           "arrowcolor": "#2a3f5f",
           "arrowhead": 0,
           "arrowwidth": 1
          },
          "autotypenumbers": "strict",
          "coloraxis": {
           "colorbar": {
            "outlinewidth": 0,
            "ticks": ""
           }
          },
          "colorscale": {
           "diverging": [
            [
             0,
             "#8e0152"
            ],
            [
             0.1,
             "#c51b7d"
            ],
            [
             0.2,
             "#de77ae"
            ],
            [
             0.3,
             "#f1b6da"
            ],
            [
             0.4,
             "#fde0ef"
            ],
            [
             0.5,
             "#f7f7f7"
            ],
            [
             0.6,
             "#e6f5d0"
            ],
            [
             0.7,
             "#b8e186"
            ],
            [
             0.8,
             "#7fbc41"
            ],
            [
             0.9,
             "#4d9221"
            ],
            [
             1,
             "#276419"
            ]
           ],
           "sequential": [
            [
             0,
             "#0d0887"
            ],
            [
             0.1111111111111111,
             "#46039f"
            ],
            [
             0.2222222222222222,
             "#7201a8"
            ],
            [
             0.3333333333333333,
             "#9c179e"
            ],
            [
             0.4444444444444444,
             "#bd3786"
            ],
            [
             0.5555555555555556,
             "#d8576b"
            ],
            [
             0.6666666666666666,
             "#ed7953"
            ],
            [
             0.7777777777777778,
             "#fb9f3a"
            ],
            [
             0.8888888888888888,
             "#fdca26"
            ],
            [
             1,
             "#f0f921"
            ]
           ],
           "sequentialminus": [
            [
             0,
             "#0d0887"
            ],
            [
             0.1111111111111111,
             "#46039f"
            ],
            [
             0.2222222222222222,
             "#7201a8"
            ],
            [
             0.3333333333333333,
             "#9c179e"
            ],
            [
             0.4444444444444444,
             "#bd3786"
            ],
            [
             0.5555555555555556,
             "#d8576b"
            ],
            [
             0.6666666666666666,
             "#ed7953"
            ],
            [
             0.7777777777777778,
             "#fb9f3a"
            ],
            [
             0.8888888888888888,
             "#fdca26"
            ],
            [
             1,
             "#f0f921"
            ]
           ]
          },
          "colorway": [
           "#636efa",
           "#EF553B",
           "#00cc96",
           "#ab63fa",
           "#FFA15A",
           "#19d3f3",
           "#FF6692",
           "#B6E880",
           "#FF97FF",
           "#FECB52"
          ],
          "font": {
           "color": "#2a3f5f"
          },
          "geo": {
           "bgcolor": "white",
           "lakecolor": "white",
           "landcolor": "white",
           "showlakes": true,
           "showland": true,
           "subunitcolor": "#C8D4E3"
          },
          "hoverlabel": {
           "align": "left"
          },
          "hovermode": "closest",
          "mapbox": {
           "style": "light"
          },
          "paper_bgcolor": "white",
          "plot_bgcolor": "white",
          "polar": {
           "angularaxis": {
            "gridcolor": "#EBF0F8",
            "linecolor": "#EBF0F8",
            "ticks": ""
           },
           "bgcolor": "white",
           "radialaxis": {
            "gridcolor": "#EBF0F8",
            "linecolor": "#EBF0F8",
            "ticks": ""
           }
          },
          "scene": {
           "xaxis": {
            "backgroundcolor": "white",
            "gridcolor": "#DFE8F3",
            "gridwidth": 2,
            "linecolor": "#EBF0F8",
            "showbackground": true,
            "ticks": "",
            "zerolinecolor": "#EBF0F8"
           },
           "yaxis": {
            "backgroundcolor": "white",
            "gridcolor": "#DFE8F3",
            "gridwidth": 2,
            "linecolor": "#EBF0F8",
            "showbackground": true,
            "ticks": "",
            "zerolinecolor": "#EBF0F8"
           },
           "zaxis": {
            "backgroundcolor": "white",
            "gridcolor": "#DFE8F3",
            "gridwidth": 2,
            "linecolor": "#EBF0F8",
            "showbackground": true,
            "ticks": "",
            "zerolinecolor": "#EBF0F8"
           }
          },
          "shapedefaults": {
           "line": {
            "color": "#2a3f5f"
           }
          },
          "ternary": {
           "aaxis": {
            "gridcolor": "#DFE8F3",
            "linecolor": "#A2B1C6",
            "ticks": ""
           },
           "baxis": {
            "gridcolor": "#DFE8F3",
            "linecolor": "#A2B1C6",
            "ticks": ""
           },
           "bgcolor": "white",
           "caxis": {
            "gridcolor": "#DFE8F3",
            "linecolor": "#A2B1C6",
            "ticks": ""
           }
          },
          "title": {
           "x": 0.05
          },
          "xaxis": {
           "automargin": true,
           "gridcolor": "#EBF0F8",
           "linecolor": "#EBF0F8",
           "ticks": "",
           "title": {
            "standoff": 15
           },
           "zerolinecolor": "#EBF0F8",
           "zerolinewidth": 2
          },
          "yaxis": {
           "automargin": true,
           "gridcolor": "#EBF0F8",
           "linecolor": "#EBF0F8",
           "ticks": "",
           "title": {
            "standoff": 15
           },
           "zerolinecolor": "#EBF0F8",
           "zerolinewidth": 2
          }
         }
        },
        "title": {
         "text": "City-Level Self-Sufficiency Rate (SSR) vs. PV Penetration Ratio"
        },
        "width": 800,
        "xaxis": {
         "title": {
          "text": "PV Penetration Ratio (Installed PV Capacity / Average Demand)"
         }
        },
        "yaxis": {
         "title": {
          "text": "Self-Sufficiency Rate (Total Energy Supplied / Total Energy demand)"
         }
        }
       }
      }
     },
     "metadata": {},
     "output_type": "display_data"
    }
   ],
   "source": [
    "# ---------------------------\n",
    "# City-Level Annual SSR Analysis (PV Penetration Ratio)\n",
    "# ---------------------------\n",
    "# System parameters (ensure these match your case):\n",
    "# Calculate the total PV production from city_pv_production (in kWh)\n",
    "total_pv_power_production = city_pv_production.sum()\n",
    "\n",
    "# Compute average production over the year (using 8760 hours/year)\n",
    "average_pv_power_production = total_pv_power_production / 8760\n",
    "\n",
    "# Calculate the total annual energy demand from city_consumption (in kWh)\n",
    "total_energy_demand = city_consumption.sum()\n",
    "\n",
    "# Compute average demand (kW) over the year (using 8760 hours/year)\n",
    "average_demand = total_energy_demand / 8760\n",
    "\n",
    "# Define the range of number of panels (absolute number) to analyze\n",
    "num_panels_range = np.arange(0, 1e9, 5e6)  \n",
    "\n",
    "# Initialize lists to store SSR values and PV penetration ratio\n",
    "ssr_values = []\n",
    "pv_penetration_ratio = []\n",
    "\n",
    "# Loop over different numbers of panels\n",
    "for num_panels in num_panels_range:\n",
    "    installed_capacity = num_panels * average_pv_power_production\n",
    "    ratio = installed_capacity / average_demand\n",
    "    pv_penetration_ratio.append(ratio)\n",
    "\n",
    "    total_energy_supplied_pv = 0.0\n",
    "    \n",
    "    for timestamp in city_consumption.index:\n",
    "        consumption = city_consumption.loc[timestamp]  # kWh\n",
    "        pv_production = city_pv_production.loc[timestamp] * num_panels * average_pv_power_production\n",
    "        energy_supplied = min(pv_production, consumption)\n",
    "        total_energy_supplied_pv += energy_supplied\n",
    "\n",
    "    ssr = (total_energy_supplied_pv / total_energy_demand) * 100 if total_energy_demand > 0 else 0\n",
    "    ssr_values.append(ssr)\n",
    "\n",
    "# Plot SSR vs. PV Penetration Ratio with hover information\n",
    "fig_ssr = go.Figure()\n",
    "\n",
    "fig_ssr.add_trace(go.Scatter(\n",
    "    x=pv_penetration_ratio,\n",
    "    y=ssr_values,\n",
    "    mode='lines+markers',\n",
    "    name='SSR (%)',\n",
    "    line=dict(color='green'),\n",
    "    marker=dict(size=8),\n",
    "    hovertemplate='<b>PV Penetration Ratio:</b> %{x:.4f}<br>'\n",
    "                  '<b>SSR (%):</b> %{y:.2f}<br>'\n",
    "                  '<b>Number of Panels:</b> %{customdata:,}',\n",
    "    customdata=num_panels_range  # Pass number of panels as custom data for hover tooltips\n",
    "))\n",
    "\n",
    "fig_ssr.update_layout(\n",
    "    title='City-Level Self-Sufficiency Rate (SSR) vs. PV Penetration Ratio',\n",
    "    xaxis_title='PV Penetration Ratio (Installed PV Capacity / Average Demand)',\n",
    "    yaxis_title='Self-Sufficiency Rate (Total Energy Supplied / Total Energy demand)',\n",
    "    template='plotly_white',\n",
    "    width=800,\n",
    "    height=600,\n",
    "    font=dict(size=12)\n",
    ")\n",
    "\n",
    "fig_ssr.show()\n"
   ]
  },
  {
   "cell_type": "code",
   "execution_count": 5,
   "metadata": {},
   "outputs": [
    {
     "data": {
      "application/vnd.plotly.v1+json": {
       "config": {
        "plotlyServerURL": "https://plot.ly"
       },
       "data": [
        {
         "customdata": {
          "bdata": "AAAAAAAAAAAAAAAAAABZQAAAAAAAAGlAAAAAAADAckAAAAAAAAB5QAAAAAAAQH9AAAAAAADAgkAAAAAAAOCFQAAAAAAAAIlAAAAAAAAgjEA=",
          "dtype": "f8"
         },
         "hovertemplate": "<b>Wind Penetration Ratio</b>: %{x:.4f}<br><b>SSR (%):</b> %{y:.2f}<br><b># of Turbines:</b> %{customdata:,}",
         "line": {
          "color": "blue"
         },
         "marker": {
          "size": 8
         },
         "mode": "lines+markers",
         "name": "SSR (%)",
         "type": "scatter",
         "x": [
          0,
          0.5279305497498548,
          1.0558610994997095,
          1.5837916492495645,
          2.111722198999419,
          2.639652748749274,
          3.167583298499129,
          3.695513848248983,
          4.223444397998838,
          4.751374947748693
         ],
         "y": [
          0,
          52.13025216714424,
          74.52190311538935,
          82.62822146012161,
          87.08423219413987,
          89.8361936992477,
          91.70355921275815,
          93.0577643341826,
          94.04733932150268,
          94.78962765364489
         ]
        }
       ],
       "layout": {
        "font": {
         "size": 12
        },
        "height": 600,
        "template": {
         "data": {
          "bar": [
           {
            "error_x": {
             "color": "#2a3f5f"
            },
            "error_y": {
             "color": "#2a3f5f"
            },
            "marker": {
             "line": {
              "color": "white",
              "width": 0.5
             },
             "pattern": {
              "fillmode": "overlay",
              "size": 10,
              "solidity": 0.2
             }
            },
            "type": "bar"
           }
          ],
          "barpolar": [
           {
            "marker": {
             "line": {
              "color": "white",
              "width": 0.5
             },
             "pattern": {
              "fillmode": "overlay",
              "size": 10,
              "solidity": 0.2
             }
            },
            "type": "barpolar"
           }
          ],
          "carpet": [
           {
            "aaxis": {
             "endlinecolor": "#2a3f5f",
             "gridcolor": "#C8D4E3",
             "linecolor": "#C8D4E3",
             "minorgridcolor": "#C8D4E3",
             "startlinecolor": "#2a3f5f"
            },
            "baxis": {
             "endlinecolor": "#2a3f5f",
             "gridcolor": "#C8D4E3",
             "linecolor": "#C8D4E3",
             "minorgridcolor": "#C8D4E3",
             "startlinecolor": "#2a3f5f"
            },
            "type": "carpet"
           }
          ],
          "choropleth": [
           {
            "colorbar": {
             "outlinewidth": 0,
             "ticks": ""
            },
            "type": "choropleth"
           }
          ],
          "contour": [
           {
            "colorbar": {
             "outlinewidth": 0,
             "ticks": ""
            },
            "colorscale": [
             [
              0,
              "#0d0887"
             ],
             [
              0.1111111111111111,
              "#46039f"
             ],
             [
              0.2222222222222222,
              "#7201a8"
             ],
             [
              0.3333333333333333,
              "#9c179e"
             ],
             [
              0.4444444444444444,
              "#bd3786"
             ],
             [
              0.5555555555555556,
              "#d8576b"
             ],
             [
              0.6666666666666666,
              "#ed7953"
             ],
             [
              0.7777777777777778,
              "#fb9f3a"
             ],
             [
              0.8888888888888888,
              "#fdca26"
             ],
             [
              1,
              "#f0f921"
             ]
            ],
            "type": "contour"
           }
          ],
          "contourcarpet": [
           {
            "colorbar": {
             "outlinewidth": 0,
             "ticks": ""
            },
            "type": "contourcarpet"
           }
          ],
          "heatmap": [
           {
            "colorbar": {
             "outlinewidth": 0,
             "ticks": ""
            },
            "colorscale": [
             [
              0,
              "#0d0887"
             ],
             [
              0.1111111111111111,
              "#46039f"
             ],
             [
              0.2222222222222222,
              "#7201a8"
             ],
             [
              0.3333333333333333,
              "#9c179e"
             ],
             [
              0.4444444444444444,
              "#bd3786"
             ],
             [
              0.5555555555555556,
              "#d8576b"
             ],
             [
              0.6666666666666666,
              "#ed7953"
             ],
             [
              0.7777777777777778,
              "#fb9f3a"
             ],
             [
              0.8888888888888888,
              "#fdca26"
             ],
             [
              1,
              "#f0f921"
             ]
            ],
            "type": "heatmap"
           }
          ],
          "histogram": [
           {
            "marker": {
             "pattern": {
              "fillmode": "overlay",
              "size": 10,
              "solidity": 0.2
             }
            },
            "type": "histogram"
           }
          ],
          "histogram2d": [
           {
            "colorbar": {
             "outlinewidth": 0,
             "ticks": ""
            },
            "colorscale": [
             [
              0,
              "#0d0887"
             ],
             [
              0.1111111111111111,
              "#46039f"
             ],
             [
              0.2222222222222222,
              "#7201a8"
             ],
             [
              0.3333333333333333,
              "#9c179e"
             ],
             [
              0.4444444444444444,
              "#bd3786"
             ],
             [
              0.5555555555555556,
              "#d8576b"
             ],
             [
              0.6666666666666666,
              "#ed7953"
             ],
             [
              0.7777777777777778,
              "#fb9f3a"
             ],
             [
              0.8888888888888888,
              "#fdca26"
             ],
             [
              1,
              "#f0f921"
             ]
            ],
            "type": "histogram2d"
           }
          ],
          "histogram2dcontour": [
           {
            "colorbar": {
             "outlinewidth": 0,
             "ticks": ""
            },
            "colorscale": [
             [
              0,
              "#0d0887"
             ],
             [
              0.1111111111111111,
              "#46039f"
             ],
             [
              0.2222222222222222,
              "#7201a8"
             ],
             [
              0.3333333333333333,
              "#9c179e"
             ],
             [
              0.4444444444444444,
              "#bd3786"
             ],
             [
              0.5555555555555556,
              "#d8576b"
             ],
             [
              0.6666666666666666,
              "#ed7953"
             ],
             [
              0.7777777777777778,
              "#fb9f3a"
             ],
             [
              0.8888888888888888,
              "#fdca26"
             ],
             [
              1,
              "#f0f921"
             ]
            ],
            "type": "histogram2dcontour"
           }
          ],
          "mesh3d": [
           {
            "colorbar": {
             "outlinewidth": 0,
             "ticks": ""
            },
            "type": "mesh3d"
           }
          ],
          "parcoords": [
           {
            "line": {
             "colorbar": {
              "outlinewidth": 0,
              "ticks": ""
             }
            },
            "type": "parcoords"
           }
          ],
          "pie": [
           {
            "automargin": true,
            "type": "pie"
           }
          ],
          "scatter": [
           {
            "fillpattern": {
             "fillmode": "overlay",
             "size": 10,
             "solidity": 0.2
            },
            "type": "scatter"
           }
          ],
          "scatter3d": [
           {
            "line": {
             "colorbar": {
              "outlinewidth": 0,
              "ticks": ""
             }
            },
            "marker": {
             "colorbar": {
              "outlinewidth": 0,
              "ticks": ""
             }
            },
            "type": "scatter3d"
           }
          ],
          "scattercarpet": [
           {
            "marker": {
             "colorbar": {
              "outlinewidth": 0,
              "ticks": ""
             }
            },
            "type": "scattercarpet"
           }
          ],
          "scattergeo": [
           {
            "marker": {
             "colorbar": {
              "outlinewidth": 0,
              "ticks": ""
             }
            },
            "type": "scattergeo"
           }
          ],
          "scattergl": [
           {
            "marker": {
             "colorbar": {
              "outlinewidth": 0,
              "ticks": ""
             }
            },
            "type": "scattergl"
           }
          ],
          "scattermap": [
           {
            "marker": {
             "colorbar": {
              "outlinewidth": 0,
              "ticks": ""
             }
            },
            "type": "scattermap"
           }
          ],
          "scattermapbox": [
           {
            "marker": {
             "colorbar": {
              "outlinewidth": 0,
              "ticks": ""
             }
            },
            "type": "scattermapbox"
           }
          ],
          "scatterpolar": [
           {
            "marker": {
             "colorbar": {
              "outlinewidth": 0,
              "ticks": ""
             }
            },
            "type": "scatterpolar"
           }
          ],
          "scatterpolargl": [
           {
            "marker": {
             "colorbar": {
              "outlinewidth": 0,
              "ticks": ""
             }
            },
            "type": "scatterpolargl"
           }
          ],
          "scatterternary": [
           {
            "marker": {
             "colorbar": {
              "outlinewidth": 0,
              "ticks": ""
             }
            },
            "type": "scatterternary"
           }
          ],
          "surface": [
           {
            "colorbar": {
             "outlinewidth": 0,
             "ticks": ""
            },
            "colorscale": [
             [
              0,
              "#0d0887"
             ],
             [
              0.1111111111111111,
              "#46039f"
             ],
             [
              0.2222222222222222,
              "#7201a8"
             ],
             [
              0.3333333333333333,
              "#9c179e"
             ],
             [
              0.4444444444444444,
              "#bd3786"
             ],
             [
              0.5555555555555556,
              "#d8576b"
             ],
             [
              0.6666666666666666,
              "#ed7953"
             ],
             [
              0.7777777777777778,
              "#fb9f3a"
             ],
             [
              0.8888888888888888,
              "#fdca26"
             ],
             [
              1,
              "#f0f921"
             ]
            ],
            "type": "surface"
           }
          ],
          "table": [
           {
            "cells": {
             "fill": {
              "color": "#EBF0F8"
             },
             "line": {
              "color": "white"
             }
            },
            "header": {
             "fill": {
              "color": "#C8D4E3"
             },
             "line": {
              "color": "white"
             }
            },
            "type": "table"
           }
          ]
         },
         "layout": {
          "annotationdefaults": {
           "arrowcolor": "#2a3f5f",
           "arrowhead": 0,
           "arrowwidth": 1
          },
          "autotypenumbers": "strict",
          "coloraxis": {
           "colorbar": {
            "outlinewidth": 0,
            "ticks": ""
           }
          },
          "colorscale": {
           "diverging": [
            [
             0,
             "#8e0152"
            ],
            [
             0.1,
             "#c51b7d"
            ],
            [
             0.2,
             "#de77ae"
            ],
            [
             0.3,
             "#f1b6da"
            ],
            [
             0.4,
             "#fde0ef"
            ],
            [
             0.5,
             "#f7f7f7"
            ],
            [
             0.6,
             "#e6f5d0"
            ],
            [
             0.7,
             "#b8e186"
            ],
            [
             0.8,
             "#7fbc41"
            ],
            [
             0.9,
             "#4d9221"
            ],
            [
             1,
             "#276419"
            ]
           ],
           "sequential": [
            [
             0,
             "#0d0887"
            ],
            [
             0.1111111111111111,
             "#46039f"
            ],
            [
             0.2222222222222222,
             "#7201a8"
            ],
            [
             0.3333333333333333,
             "#9c179e"
            ],
            [
             0.4444444444444444,
             "#bd3786"
            ],
            [
             0.5555555555555556,
             "#d8576b"
            ],
            [
             0.6666666666666666,
             "#ed7953"
            ],
            [
             0.7777777777777778,
             "#fb9f3a"
            ],
            [
             0.8888888888888888,
             "#fdca26"
            ],
            [
             1,
             "#f0f921"
            ]
           ],
           "sequentialminus": [
            [
             0,
             "#0d0887"
            ],
            [
             0.1111111111111111,
             "#46039f"
            ],
            [
             0.2222222222222222,
             "#7201a8"
            ],
            [
             0.3333333333333333,
             "#9c179e"
            ],
            [
             0.4444444444444444,
             "#bd3786"
            ],
            [
             0.5555555555555556,
             "#d8576b"
            ],
            [
             0.6666666666666666,
             "#ed7953"
            ],
            [
             0.7777777777777778,
             "#fb9f3a"
            ],
            [
             0.8888888888888888,
             "#fdca26"
            ],
            [
             1,
             "#f0f921"
            ]
           ]
          },
          "colorway": [
           "#636efa",
           "#EF553B",
           "#00cc96",
           "#ab63fa",
           "#FFA15A",
           "#19d3f3",
           "#FF6692",
           "#B6E880",
           "#FF97FF",
           "#FECB52"
          ],
          "font": {
           "color": "#2a3f5f"
          },
          "geo": {
           "bgcolor": "white",
           "lakecolor": "white",
           "landcolor": "white",
           "showlakes": true,
           "showland": true,
           "subunitcolor": "#C8D4E3"
          },
          "hoverlabel": {
           "align": "left"
          },
          "hovermode": "closest",
          "mapbox": {
           "style": "light"
          },
          "paper_bgcolor": "white",
          "plot_bgcolor": "white",
          "polar": {
           "angularaxis": {
            "gridcolor": "#EBF0F8",
            "linecolor": "#EBF0F8",
            "ticks": ""
           },
           "bgcolor": "white",
           "radialaxis": {
            "gridcolor": "#EBF0F8",
            "linecolor": "#EBF0F8",
            "ticks": ""
           }
          },
          "scene": {
           "xaxis": {
            "backgroundcolor": "white",
            "gridcolor": "#DFE8F3",
            "gridwidth": 2,
            "linecolor": "#EBF0F8",
            "showbackground": true,
            "ticks": "",
            "zerolinecolor": "#EBF0F8"
           },
           "yaxis": {
            "backgroundcolor": "white",
            "gridcolor": "#DFE8F3",
            "gridwidth": 2,
            "linecolor": "#EBF0F8",
            "showbackground": true,
            "ticks": "",
            "zerolinecolor": "#EBF0F8"
           },
           "zaxis": {
            "backgroundcolor": "white",
            "gridcolor": "#DFE8F3",
            "gridwidth": 2,
            "linecolor": "#EBF0F8",
            "showbackground": true,
            "ticks": "",
            "zerolinecolor": "#EBF0F8"
           }
          },
          "shapedefaults": {
           "line": {
            "color": "#2a3f5f"
           }
          },
          "ternary": {
           "aaxis": {
            "gridcolor": "#DFE8F3",
            "linecolor": "#A2B1C6",
            "ticks": ""
           },
           "baxis": {
            "gridcolor": "#DFE8F3",
            "linecolor": "#A2B1C6",
            "ticks": ""
           },
           "bgcolor": "white",
           "caxis": {
            "gridcolor": "#DFE8F3",
            "linecolor": "#A2B1C6",
            "ticks": ""
           }
          },
          "title": {
           "x": 0.05
          },
          "xaxis": {
           "automargin": true,
           "gridcolor": "#EBF0F8",
           "linecolor": "#EBF0F8",
           "ticks": "",
           "title": {
            "standoff": 15
           },
           "zerolinecolor": "#EBF0F8",
           "zerolinewidth": 2
          },
          "yaxis": {
           "automargin": true,
           "gridcolor": "#EBF0F8",
           "linecolor": "#EBF0F8",
           "ticks": "",
           "title": {
            "standoff": 15
           },
           "zerolinecolor": "#EBF0F8",
           "zerolinewidth": 2
          }
         }
        },
        "title": {
         "text": "City-Level SSR vs. Wind Turbine Penetration Ratio"
        },
        "width": 800,
        "xaxis": {
         "title": {
          "text": "Wind Penetration Ratio (Installed Wind Capacity / Average Demand)"
         }
        },
        "yaxis": {
         "title": {
          "text": "Self-Sufficiency Rate (%)"
         }
        }
       }
      }
     },
     "metadata": {},
     "output_type": "display_data"
    }
   ],
   "source": [
    "import numpy as np\n",
    "import plotly.graph_objects as go\n",
    "\n",
    "# ------------------------------------------------\n",
    "# 1) Basic Parameters\n",
    "# ------------------------------------------------\n",
    "# city_consumption : pandas Series with your city’s hourly consumption in kWh\n",
    "# city_wind_production : pandas Series with your wind turbines’ hourly production in kWh \n",
    "#   (or for a single “reference turbine,” in which case we multiply by # of turbines)\n",
    "\n",
    "# -- total annual wind production (kWh) --\n",
    "total_wind_production = city_wind_production.sum()\n",
    "\n",
    "# -- average annual wind production (kWh/h) (assuming 8760 hours/year) --\n",
    "average_wind_production = total_wind_production / 8760\n",
    "\n",
    "# -- total annual demand (kWh) --\n",
    "total_energy_demand = city_consumption.sum()\n",
    "\n",
    "# -- average demand (kW) => total kWh / 8760 hours\n",
    "average_demand = total_energy_demand / 8760\n",
    "\n",
    "# ------------------------------------------------\n",
    "# 2) Range of turbine counts\n",
    "# ------------------------------------------------\n",
    "# Example: from 0 to 1e6 in steps of 1e2  (adjust as you see fit)\n",
    "num_turbines_range = np.arange(0, 1e3, 1e2)\n",
    "\n",
    "# Prepare arrays to store results\n",
    "turbine_penetration_ratios = []\n",
    "ssr_values = []\n",
    "\n",
    "# ------------------------------------------------\n",
    "# 3) Loop Over Number of Turbines\n",
    "# ------------------------------------------------\n",
    "for num_turbines in num_turbines_range:\n",
    "    # (A) Compute installed wind capacity\n",
    "    #     Here we multiply “num_turbines * average_wind_production”\n",
    "    #     to get total kW, since average_wind_production is kWh/h for 1 “reference turbine.”\n",
    "    #     Adjust if your data is in different units.\n",
    "    installed_capacity_kW = num_turbines * average_wind_production  # [kW]\n",
    "    \n",
    "    # (B) Penetration Ratio\n",
    "    if average_demand > 0:\n",
    "        ratio = installed_capacity_kW / average_demand\n",
    "    else:\n",
    "        ratio = 0\n",
    "    turbine_penetration_ratios.append(ratio)\n",
    "    \n",
    "    # (C) Calculate how much wind meets the load hour by hour\n",
    "    total_energy_supplied_by_wind = 0.0\n",
    "    \n",
    "    for timestamp in city_consumption.index:\n",
    "        consumption_kWh = city_consumption.loc[timestamp]\n",
    "        # hourly wind production for the chosen # of turbines\n",
    "        wind_generation_kWh = city_wind_production.loc[timestamp] * num_turbines\n",
    "        \n",
    "        # energy that directly meets the consumption\n",
    "        energy_supplied = min(wind_generation_kWh, consumption_kWh)\n",
    "        total_energy_supplied_by_wind += energy_supplied\n",
    "    \n",
    "    # (D) SSR (in %)\n",
    "    if total_energy_demand > 0:\n",
    "        ssr = (total_energy_supplied_by_wind / total_energy_demand) * 100.0\n",
    "    else:\n",
    "        ssr = 0.0\n",
    "    \n",
    "    ssr_values.append(ssr)\n",
    "\n",
    "# ------------------------------------------------\n",
    "# 4) Plot: SSR vs. Wind Penetration Ratio\n",
    "# ------------------------------------------------\n",
    "fig_wind = go.Figure()\n",
    "\n",
    "fig_wind.add_trace(go.Scatter(\n",
    "    x=turbine_penetration_ratios,\n",
    "    y=ssr_values,\n",
    "    mode='lines+markers',\n",
    "    name='SSR (%)',\n",
    "    line=dict(color='blue'),\n",
    "    marker=dict(size=8),\n",
    "    hovertemplate=(\n",
    "        '<b>Wind Penetration Ratio</b>: %{x:.4f}<br>'\n",
    "        '<b>SSR (%):</b> %{y:.2f}<br>'\n",
    "        '<b># of Turbines:</b> %{customdata:,}'\n",
    "    ),\n",
    "    customdata=num_turbines_range  # So we can display # of turbines in the hover\n",
    "))\n",
    "\n",
    "fig_wind.update_layout(\n",
    "    title='City-Level SSR vs. Wind Turbine Penetration Ratio',\n",
    "    xaxis_title='Wind Penetration Ratio (Installed Wind Capacity / Average Demand)',\n",
    "    yaxis_title='Self-Sufficiency Rate (%)',\n",
    "    template='plotly_white',\n",
    "    width=800,\n",
    "    height=600,\n",
    "    font=dict(size=12)\n",
    ")\n",
    "\n",
    "fig_wind.show()\n"
   ]
  },
  {
   "cell_type": "code",
   "execution_count": 3,
   "metadata": {},
   "outputs": [
    {
     "data": {
      "application/vnd.plotly.v1+json": {
       "config": {
        "plotlyServerURL": "https://plot.ly"
       },
       "data": [
        {
         "colorbar": {
          "title": {
           "text": "SSR (%)"
          }
         },
         "colorscale": [
          [
           0,
           "#440154"
          ],
          [
           0.1111111111111111,
           "#482878"
          ],
          [
           0.2222222222222222,
           "#3e4989"
          ],
          [
           0.3333333333333333,
           "#31688e"
          ],
          [
           0.4444444444444444,
           "#26828e"
          ],
          [
           0.5555555555555556,
           "#1f9e89"
          ],
          [
           0.6666666666666666,
           "#35b779"
          ],
          [
           0.7777777777777778,
           "#6ece58"
          ],
          [
           0.8888888888888888,
           "#b5de2b"
          ],
          [
           1,
           "#fde725"
          ]
         ],
         "type": "surface",
         "x": {
          "bdata": "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",
          "dtype": "f8",
          "shape": "5, 100"
         },
         "y": {
          "bdata": "AAAAAAAAAAAAAAAAAAAAAAAAAAAAAAAAAAAAAAAAAAAAAAAAAAAAAAAAAAAAAAAAAAAAAAAAAAAAAAAAAAAAAAAAAAAAAAAAAAAAAAAAAAAAAAAAAAAAAAAAAAAAAAAAAAAAAAAAAAAAAAAAAAAAAAAAAAAAAAAAAAAAAAAAAAAAAAAAAAAAAAAAAAAAAAAAAAAAAAAAAAAAAAAAAAAAAAAAAAAAAAAAAAAAAAAAAAAAAAAAAAAAAAAAAAAAAAAAAAAAAAAAAAAAAAAAAAAAAAAAAAAAAAAAAAAAAAAAAAAAAAAAAAAAAAAAAAAAAAAAAAAAAAAAAAAAAAAAAAAAAAAAAAAAAAAAAAAAAAAAAAAAAAAAAAAAAAAAAAAAAAAAAAAAAAAAAAAAAAAAAAAAAAAAAAAAAAAAAAAAAAAAAAAAAAAAAAAAAAAAAAAAAAAAAAAAAAAAAAAAAAAAAAAAAAAAAAAAAAAAAAAAAAAAAAAAAAAAAAAAAAAAAAAAAAAAAAAAAAAAAAAAAAAAAAAAAAAAAAAAAAAAAAAAAAAAAAAAAAAAAAAAAAAAAAAAAAAAAAAAAAAAAAAAAAAAAAAAAAAAAAAAAAAAAAAAAAAAAAAAAAAAAAAAAAAAAAAAAAAAAAAAAAAAAAAAAAAAAAAAAAAAAAAAAAAAAAAAAAAAAAAAAAAAAAAAAAAAAAAAAAAAAAAAAAAAAAAAAAAAAAAAAAAAAAAAAAAAAAAAAAAAAAAAAAAAAAAAAAAAAAAAAAAAAAAAAAAAAAAAAAAAAAAAAAAAAAAAAAAAAAAAAAAAAAAAAAAAAAAAAAAAAAAAAAAAAAAAAAAAAAAAAAAAAAAAAAAAAAAAAAAAAAAAAAAAAAAAAAAAAAAAAAAAAAAAAAAAAAAAAAAAAAAAAAAAAAAAAAAAAAAAAAAAAAAAAAAAAAAAAAAAAAAAAAAAAAAAAAAAAAAAAAAAAAAAAAAAAAAAAAAAAAAAAAAAAAAAAAAAAAAAAAAAAAAAAAAAAAAAAAAAAAAAAAAAAAAAAAAAAAAAAAAAAAAAAAAAAAAAAAAAAADXoCX5sAerP9egJfmwB6s/16Al+bAHqz/XoCX5sAerP9egJfmwB6s/16Al+bAHqz/XoCX5sAerP9egJfmwB6s/16Al+bAHqz/XoCX5sAerP9egJfmwB6s/16Al+bAHqz/XoCX5sAerP9egJfmwB6s/16Al+bAHqz/XoCX5sAerP9egJfmwB6s/16Al+bAHqz/XoCX5sAerP9egJfmwB6s/16Al+bAHqz/XoCX5sAerP9egJfmwB6s/16Al+bAHqz/XoCX5sAerP9egJfmwB6s/16Al+bAHqz/XoCX5sAerP9egJfmwB6s/16Al+bAHqz/XoCX5sAerP9egJfmwB6s/16Al+bAHqz/XoCX5sAerP9egJfmwB6s/16Al+bAHqz/XoCX5sAerP9egJfmwB6s/16Al+bAHqz/XoCX5sAerP9egJfmwB6s/16Al+bAHqz/XoCX5sAerP9egJfmwB6s/16Al+bAHqz/XoCX5sAerP9egJfmwB6s/16Al+bAHqz/XoCX5sAerP9egJfmwB6s/16Al+bAHqz/XoCX5sAerP9egJfmwB6s/16Al+bAHqz/XoCX5sAerP9egJfmwB6s/16Al+bAHqz/XoCX5sAerP9egJfmwB6s/16Al+bAHqz/XoCX5sAerP9egJfmwB6s/16Al+bAHqz/XoCX5sAerP9egJfmwB6s/16Al+bAHqz/XoCX5sAerP9egJfmwB6s/16Al+bAHqz/XoCX5sAerP9egJfmwB6s/16Al+bAHqz/XoCX5sAerP9egJfmwB6s/16Al+bAHqz/XoCX5sAerP9egJfmwB6s/16Al+bAHqz/XoCX5sAerP9egJfmwB6s/16Al+bAHqz/XoCX5sAerP9egJfmwB6s/16Al+bAHqz/XoCX5sAerP9egJfmwB6s/16Al+bAHqz/XoCX5sAerP9egJfmwB6s/16Al+bAHqz/XoCX5sAerP9egJfmwB6s/16Al+bAHqz/XoCX5sAerP9egJfmwB6s/16Al+bAHqz/XoCX5sAerP9egJfmwB6s/16Al+bAHqz/XoCX5sAerP9egJfmwB7s/16Al+bAHuz/XoCX5sAe7P9egJfmwB7s/16Al+bAHuz/XoCX5sAe7P9egJfmwB7s/16Al+bAHuz/XoCX5sAe7P9egJfmwB7s/16Al+bAHuz/XoCX5sAe7P9egJfmwB7s/16Al+bAHuz/XoCX5sAe7P9egJfmwB7s/16Al+bAHuz/XoCX5sAe7P9egJfmwB7s/16Al+bAHuz/XoCX5sAe7P9egJfmwB7s/16Al+bAHuz/XoCX5sAe7P9egJfmwB7s/16Al+bAHuz/XoCX5sAe7P9egJfmwB7s/16Al+bAHuz/XoCX5sAe7P9egJfmwB7s/16Al+bAHuz/XoCX5sAe7P9egJfmwB7s/16Al+bAHuz/XoCX5sAe7P9egJfmwB7s/16Al+bAHuz/XoCX5sAe7P9egJfmwB7s/16Al+bAHuz/XoCX5sAe7P9egJfmwB7s/16Al+bAHuz/XoCX5sAe7P9egJfmwB7s/16Al+bAHuz/XoCX5sAe7P9egJfmwB7s/16Al+bAHuz/XoCX5sAe7P9egJfmwB7s/16Al+bAHuz/XoCX5sAe7P9egJfmwB7s/16Al+bAHuz/XoCX5sAe7P9egJfmwB7s/16Al+bAHuz/XoCX5sAe7P9egJfmwB7s/16Al+bAHuz/XoCX5sAe7P9egJfmwB7s/16Al+bAHuz/XoCX5sAe7P9egJfmwB7s/16Al+bAHuz/XoCX5sAe7P9egJfmwB7s/16Al+bAHuz/XoCX5sAe7P9egJfmwB7s/16Al+bAHuz/XoCX5sAe7P9egJfmwB7s/16Al+bAHuz/XoCX5sAe7P9egJfmwB7s/16Al+bAHuz/XoCX5sAe7P9egJfmwB7s/16Al+bAHuz/XoCX5sAe7P9egJfmwB7s/16Al+bAHuz/XoCX5sAe7P9egJfmwB7s/16Al+bAHuz/XoCX5sAe7P9egJfmwB7s/16Al+bAHuz/XoCX5sAe7P9egJfmwB7s/16Al+bAHuz/XoCX5sAe7P9egJfmwB7s/16Al+bAHuz/XoCX5sAe7P9egJfmwB7s/oTjcusRFxD+hONy6xEXEP6E43LrERcQ/oTjcusRFxD+hONy6xEXEP6E43LrERcQ/oTjcusRFxD+hONy6xEXEP6E43LrERcQ/oTjcusRFxD+hONy6xEXEP6E43LrERcQ/oTjcusRFxD+hONy6xEXEP6E43LrERcQ/oTjcusRFxD+hONy6xEXEP6E43LrERcQ/oTjcusRFxD+hONy6xEXEP6E43LrERcQ/oTjcusRFxD+hONy6xEXEP6E43LrERcQ/oTjcusRFxD+hONy6xEXEP6E43LrERcQ/oTjcusRFxD+hONy6xEXEP6E43LrERcQ/oTjcusRFxD+hONy6xEXEP6E43LrERcQ/oTjcusRFxD+hONy6xEXEP6E43LrERcQ/oTjcusRFxD+hONy6xEXEP6E43LrERcQ/oTjcusRFxD+hONy6xEXEP6E43LrERcQ/oTjcusRFxD+hONy6xEXEP6E43LrERcQ/oTjcusRFxD+hONy6xEXEP6E43LrERcQ/oTjcusRFxD+hONy6xEXEP6E43LrERcQ/oTjcusRFxD+hONy6xEXEP6E43LrERcQ/oTjcusRFxD+hONy6xEXEP6E43LrERcQ/oTjcusRFxD+hONy6xEXEP6E43LrERcQ/oTjcusRFxD+hONy6xEXEP6E43LrERcQ/oTjcusRFxD+hONy6xEXEP6E43LrERcQ/oTjcusRFxD+hONy6xEXEP6E43LrERcQ/oTjcusRFxD+hONy6xEXEP6E43LrERcQ/oTjcusRFxD+hONy6xEXEP6E43LrERcQ/oTjcusRFxD+hONy6xEXEP6E43LrERcQ/oTjcusRFxD+hONy6xEXEP6E43LrERcQ/oTjcusRFxD+hONy6xEXEP6E43LrERcQ/oTjcusRFxD+hONy6xEXEP6E43LrERcQ/oTjcusRFxD+hONy6xEXEP6E43LrERcQ/oTjcusRFxD+hONy6xEXEP6E43LrERcQ/oTjcusRFxD+hONy6xEXEP6E43LrERcQ/oTjcusRFxD+hONy6xEXEP6E43LrERcQ/oTjcusRFxD/XoCX5sAfLP9egJfmwB8s/16Al+bAHyz/XoCX5sAfLP9egJfmwB8s/16Al+bAHyz/XoCX5sAfLP9egJfmwB8s/16Al+bAHyz/XoCX5sAfLP9egJfmwB8s/16Al+bAHyz/XoCX5sAfLP9egJfmwB8s/16Al+bAHyz/XoCX5sAfLP9egJfmwB8s/16Al+bAHyz/XoCX5sAfLP9egJfmwB8s/16Al+bAHyz/XoCX5sAfLP9egJfmwB8s/16Al+bAHyz/XoCX5sAfLP9egJfmwB8s/16Al+bAHyz/XoCX5sAfLP9egJfmwB8s/16Al+bAHyz/XoCX5sAfLP9egJfmwB8s/16Al+bAHyz/XoCX5sAfLP9egJfmwB8s/16Al+bAHyz/XoCX5sAfLP9egJfmwB8s/16Al+bAHyz/XoCX5sAfLP9egJfmwB8s/16Al+bAHyz/XoCX5sAfLP9egJfmwB8s/16Al+bAHyz/XoCX5sAfLP9egJfmwB8s/16Al+bAHyz/XoCX5sAfLP9egJfmwB8s/16Al+bAHyz/XoCX5sAfLP9egJfmwB8s/16Al+bAHyz/XoCX5sAfLP9egJfmwB8s/16Al+bAHyz/XoCX5sAfLP9egJfmwB8s/16Al+bAHyz/XoCX5sAfLP9egJfmwB8s/16Al+bAHyz/XoCX5sAfLP9egJfmwB8s/16Al+bAHyz/XoCX5sAfLP9egJfmwB8s/16Al+bAHyz/XoCX5sAfLP9egJfmwB8s/16Al+bAHyz/XoCX5sAfLP9egJfmwB8s/16Al+bAHyz/XoCX5sAfLP9egJfmwB8s/16Al+bAHyz/XoCX5sAfLP9egJfmwB8s/16Al+bAHyz/XoCX5sAfLP9egJfmwB8s/16Al+bAHyz/XoCX5sAfLP9egJfmwB8s/16Al+bAHyz/XoCX5sAfLP9egJfmwB8s/16Al+bAHyz/XoCX5sAfLP9egJfmwB8s/16Al+bAHyz/XoCX5sAfLP9egJfmwB8s/16Al+bAHyz/XoCX5sAfLP9egJfmwB8s/16Al+bAHyz/XoCX5sAfLPw==",
          "dtype": "f8",
          "shape": "5, 100"
         },
         "z": {
          "bdata": "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",
          "dtype": "f8",
          "shape": "5, 100"
         }
        }
       ],
       "layout": {
        "font": {
         "size": 10
        },
        "height": 600,
        "margin": {
         "b": 80,
         "l": 60,
         "r": 60,
         "t": 80
        },
        "scene": {
         "xaxis": {
          "title": {
           "text": "PV Penetration Ratio (Installed PV Capacity / Average Demand)"
          }
         },
         "yaxis": {
          "title": {
           "text": "Wind Penetration Ratio (Installed Wind Capacity / Average Demand)"
          }
         },
         "zaxis": {
          "title": {
           "text": "Self-Sufficiency Rate (SSR) (%)"
          }
         }
        },
        "template": {
         "data": {
          "bar": [
           {
            "error_x": {
             "color": "#2a3f5f"
            },
            "error_y": {
             "color": "#2a3f5f"
            },
            "marker": {
             "line": {
              "color": "white",
              "width": 0.5
             },
             "pattern": {
              "fillmode": "overlay",
              "size": 10,
              "solidity": 0.2
             }
            },
            "type": "bar"
           }
          ],
          "barpolar": [
           {
            "marker": {
             "line": {
              "color": "white",
              "width": 0.5
             },
             "pattern": {
              "fillmode": "overlay",
              "size": 10,
              "solidity": 0.2
             }
            },
            "type": "barpolar"
           }
          ],
          "carpet": [
           {
            "aaxis": {
             "endlinecolor": "#2a3f5f",
             "gridcolor": "#C8D4E3",
             "linecolor": "#C8D4E3",
             "minorgridcolor": "#C8D4E3",
             "startlinecolor": "#2a3f5f"
            },
            "baxis": {
             "endlinecolor": "#2a3f5f",
             "gridcolor": "#C8D4E3",
             "linecolor": "#C8D4E3",
             "minorgridcolor": "#C8D4E3",
             "startlinecolor": "#2a3f5f"
            },
            "type": "carpet"
           }
          ],
          "choropleth": [
           {
            "colorbar": {
             "outlinewidth": 0,
             "ticks": ""
            },
            "type": "choropleth"
           }
          ],
          "contour": [
           {
            "colorbar": {
             "outlinewidth": 0,
             "ticks": ""
            },
            "colorscale": [
             [
              0,
              "#0d0887"
             ],
             [
              0.1111111111111111,
              "#46039f"
             ],
             [
              0.2222222222222222,
              "#7201a8"
             ],
             [
              0.3333333333333333,
              "#9c179e"
             ],
             [
              0.4444444444444444,
              "#bd3786"
             ],
             [
              0.5555555555555556,
              "#d8576b"
             ],
             [
              0.6666666666666666,
              "#ed7953"
             ],
             [
              0.7777777777777778,
              "#fb9f3a"
             ],
             [
              0.8888888888888888,
              "#fdca26"
             ],
             [
              1,
              "#f0f921"
             ]
            ],
            "type": "contour"
           }
          ],
          "contourcarpet": [
           {
            "colorbar": {
             "outlinewidth": 0,
             "ticks": ""
            },
            "type": "contourcarpet"
           }
          ],
          "heatmap": [
           {
            "colorbar": {
             "outlinewidth": 0,
             "ticks": ""
            },
            "colorscale": [
             [
              0,
              "#0d0887"
             ],
             [
              0.1111111111111111,
              "#46039f"
             ],
             [
              0.2222222222222222,
              "#7201a8"
             ],
             [
              0.3333333333333333,
              "#9c179e"
             ],
             [
              0.4444444444444444,
              "#bd3786"
             ],
             [
              0.5555555555555556,
              "#d8576b"
             ],
             [
              0.6666666666666666,
              "#ed7953"
             ],
             [
              0.7777777777777778,
              "#fb9f3a"
             ],
             [
              0.8888888888888888,
              "#fdca26"
             ],
             [
              1,
              "#f0f921"
             ]
            ],
            "type": "heatmap"
           }
          ],
          "histogram": [
           {
            "marker": {
             "pattern": {
              "fillmode": "overlay",
              "size": 10,
              "solidity": 0.2
             }
            },
            "type": "histogram"
           }
          ],
          "histogram2d": [
           {
            "colorbar": {
             "outlinewidth": 0,
             "ticks": ""
            },
            "colorscale": [
             [
              0,
              "#0d0887"
             ],
             [
              0.1111111111111111,
              "#46039f"
             ],
             [
              0.2222222222222222,
              "#7201a8"
             ],
             [
              0.3333333333333333,
              "#9c179e"
             ],
             [
              0.4444444444444444,
              "#bd3786"
             ],
             [
              0.5555555555555556,
              "#d8576b"
             ],
             [
              0.6666666666666666,
              "#ed7953"
             ],
             [
              0.7777777777777778,
              "#fb9f3a"
             ],
             [
              0.8888888888888888,
              "#fdca26"
             ],
             [
              1,
              "#f0f921"
             ]
            ],
            "type": "histogram2d"
           }
          ],
          "histogram2dcontour": [
           {
            "colorbar": {
             "outlinewidth": 0,
             "ticks": ""
            },
            "colorscale": [
             [
              0,
              "#0d0887"
             ],
             [
              0.1111111111111111,
              "#46039f"
             ],
             [
              0.2222222222222222,
              "#7201a8"
             ],
             [
              0.3333333333333333,
              "#9c179e"
             ],
             [
              0.4444444444444444,
              "#bd3786"
             ],
             [
              0.5555555555555556,
              "#d8576b"
             ],
             [
              0.6666666666666666,
              "#ed7953"
             ],
             [
              0.7777777777777778,
              "#fb9f3a"
             ],
             [
              0.8888888888888888,
              "#fdca26"
             ],
             [
              1,
              "#f0f921"
             ]
            ],
            "type": "histogram2dcontour"
           }
          ],
          "mesh3d": [
           {
            "colorbar": {
             "outlinewidth": 0,
             "ticks": ""
            },
            "type": "mesh3d"
           }
          ],
          "parcoords": [
           {
            "line": {
             "colorbar": {
              "outlinewidth": 0,
              "ticks": ""
             }
            },
            "type": "parcoords"
           }
          ],
          "pie": [
           {
            "automargin": true,
            "type": "pie"
           }
          ],
          "scatter": [
           {
            "fillpattern": {
             "fillmode": "overlay",
             "size": 10,
             "solidity": 0.2
            },
            "type": "scatter"
           }
          ],
          "scatter3d": [
           {
            "line": {
             "colorbar": {
              "outlinewidth": 0,
              "ticks": ""
             }
            },
            "marker": {
             "colorbar": {
              "outlinewidth": 0,
              "ticks": ""
             }
            },
            "type": "scatter3d"
           }
          ],
          "scattercarpet": [
           {
            "marker": {
             "colorbar": {
              "outlinewidth": 0,
              "ticks": ""
             }
            },
            "type": "scattercarpet"
           }
          ],
          "scattergeo": [
           {
            "marker": {
             "colorbar": {
              "outlinewidth": 0,
              "ticks": ""
             }
            },
            "type": "scattergeo"
           }
          ],
          "scattergl": [
           {
            "marker": {
             "colorbar": {
              "outlinewidth": 0,
              "ticks": ""
             }
            },
            "type": "scattergl"
           }
          ],
          "scattermap": [
           {
            "marker": {
             "colorbar": {
              "outlinewidth": 0,
              "ticks": ""
             }
            },
            "type": "scattermap"
           }
          ],
          "scattermapbox": [
           {
            "marker": {
             "colorbar": {
              "outlinewidth": 0,
              "ticks": ""
             }
            },
            "type": "scattermapbox"
           }
          ],
          "scatterpolar": [
           {
            "marker": {
             "colorbar": {
              "outlinewidth": 0,
              "ticks": ""
             }
            },
            "type": "scatterpolar"
           }
          ],
          "scatterpolargl": [
           {
            "marker": {
             "colorbar": {
              "outlinewidth": 0,
              "ticks": ""
             }
            },
            "type": "scatterpolargl"
           }
          ],
          "scatterternary": [
           {
            "marker": {
             "colorbar": {
              "outlinewidth": 0,
              "ticks": ""
             }
            },
            "type": "scatterternary"
           }
          ],
          "surface": [
           {
            "colorbar": {
             "outlinewidth": 0,
             "ticks": ""
            },
            "colorscale": [
             [
              0,
              "#0d0887"
             ],
             [
              0.1111111111111111,
              "#46039f"
             ],
             [
              0.2222222222222222,
              "#7201a8"
             ],
             [
              0.3333333333333333,
              "#9c179e"
             ],
             [
              0.4444444444444444,
              "#bd3786"
             ],
             [
              0.5555555555555556,
              "#d8576b"
             ],
             [
              0.6666666666666666,
              "#ed7953"
             ],
             [
              0.7777777777777778,
              "#fb9f3a"
             ],
             [
              0.8888888888888888,
              "#fdca26"
             ],
             [
              1,
              "#f0f921"
             ]
            ],
            "type": "surface"
           }
          ],
          "table": [
           {
            "cells": {
             "fill": {
              "color": "#EBF0F8"
             },
             "line": {
              "color": "white"
             }
            },
            "header": {
             "fill": {
              "color": "#C8D4E3"
             },
             "line": {
              "color": "white"
             }
            },
            "type": "table"
           }
          ]
         },
         "layout": {
          "annotationdefaults": {
           "arrowcolor": "#2a3f5f",
           "arrowhead": 0,
           "arrowwidth": 1
          },
          "autotypenumbers": "strict",
          "coloraxis": {
           "colorbar": {
            "outlinewidth": 0,
            "ticks": ""
           }
          },
          "colorscale": {
           "diverging": [
            [
             0,
             "#8e0152"
            ],
            [
             0.1,
             "#c51b7d"
            ],
            [
             0.2,
             "#de77ae"
            ],
            [
             0.3,
             "#f1b6da"
            ],
            [
             0.4,
             "#fde0ef"
            ],
            [
             0.5,
             "#f7f7f7"
            ],
            [
             0.6,
             "#e6f5d0"
            ],
            [
             0.7,
             "#b8e186"
            ],
            [
             0.8,
             "#7fbc41"
            ],
            [
             0.9,
             "#4d9221"
            ],
            [
             1,
             "#276419"
            ]
           ],
           "sequential": [
            [
             0,
             "#0d0887"
            ],
            [
             0.1111111111111111,
             "#46039f"
            ],
            [
             0.2222222222222222,
             "#7201a8"
            ],
            [
             0.3333333333333333,
             "#9c179e"
            ],
            [
             0.4444444444444444,
             "#bd3786"
            ],
            [
             0.5555555555555556,
             "#d8576b"
            ],
            [
             0.6666666666666666,
             "#ed7953"
            ],
            [
             0.7777777777777778,
             "#fb9f3a"
            ],
            [
             0.8888888888888888,
             "#fdca26"
            ],
            [
             1,
             "#f0f921"
            ]
           ],
           "sequentialminus": [
            [
             0,
             "#0d0887"
            ],
            [
             0.1111111111111111,
             "#46039f"
            ],
            [
             0.2222222222222222,
             "#7201a8"
            ],
            [
             0.3333333333333333,
             "#9c179e"
            ],
            [
             0.4444444444444444,
             "#bd3786"
            ],
            [
             0.5555555555555556,
             "#d8576b"
            ],
            [
             0.6666666666666666,
             "#ed7953"
            ],
            [
             0.7777777777777778,
             "#fb9f3a"
            ],
            [
             0.8888888888888888,
             "#fdca26"
            ],
            [
             1,
             "#f0f921"
            ]
           ]
          },
          "colorway": [
           "#636efa",
           "#EF553B",
           "#00cc96",
           "#ab63fa",
           "#FFA15A",
           "#19d3f3",
           "#FF6692",
           "#B6E880",
           "#FF97FF",
           "#FECB52"
          ],
          "font": {
           "color": "#2a3f5f"
          },
          "geo": {
           "bgcolor": "white",
           "lakecolor": "white",
           "landcolor": "white",
           "showlakes": true,
           "showland": true,
           "subunitcolor": "#C8D4E3"
          },
          "hoverlabel": {
           "align": "left"
          },
          "hovermode": "closest",
          "mapbox": {
           "style": "light"
          },
          "paper_bgcolor": "white",
          "plot_bgcolor": "white",
          "polar": {
           "angularaxis": {
            "gridcolor": "#EBF0F8",
            "linecolor": "#EBF0F8",
            "ticks": ""
           },
           "bgcolor": "white",
           "radialaxis": {
            "gridcolor": "#EBF0F8",
            "linecolor": "#EBF0F8",
            "ticks": ""
           }
          },
          "scene": {
           "xaxis": {
            "backgroundcolor": "white",
            "gridcolor": "#DFE8F3",
            "gridwidth": 2,
            "linecolor": "#EBF0F8",
            "showbackground": true,
            "ticks": "",
            "zerolinecolor": "#EBF0F8"
           },
           "yaxis": {
            "backgroundcolor": "white",
            "gridcolor": "#DFE8F3",
            "gridwidth": 2,
            "linecolor": "#EBF0F8",
            "showbackground": true,
            "ticks": "",
            "zerolinecolor": "#EBF0F8"
           },
           "zaxis": {
            "backgroundcolor": "white",
            "gridcolor": "#DFE8F3",
            "gridwidth": 2,
            "linecolor": "#EBF0F8",
            "showbackground": true,
            "ticks": "",
            "zerolinecolor": "#EBF0F8"
           }
          },
          "shapedefaults": {
           "line": {
            "color": "#2a3f5f"
           }
          },
          "ternary": {
           "aaxis": {
            "gridcolor": "#DFE8F3",
            "linecolor": "#A2B1C6",
            "ticks": ""
           },
           "baxis": {
            "gridcolor": "#DFE8F3",
            "linecolor": "#A2B1C6",
            "ticks": ""
           },
           "bgcolor": "white",
           "caxis": {
            "gridcolor": "#DFE8F3",
            "linecolor": "#A2B1C6",
            "ticks": ""
           }
          },
          "title": {
           "x": 0.05
          },
          "xaxis": {
           "automargin": true,
           "gridcolor": "#EBF0F8",
           "linecolor": "#EBF0F8",
           "ticks": "",
           "title": {
            "standoff": 15
           },
           "zerolinecolor": "#EBF0F8",
           "zerolinewidth": 2
          },
          "yaxis": {
           "automargin": true,
           "gridcolor": "#EBF0F8",
           "linecolor": "#EBF0F8",
           "ticks": "",
           "title": {
            "standoff": 15
           },
           "zerolinecolor": "#EBF0F8",
           "zerolinewidth": 2
          }
         }
        },
        "title": {
         "text": "City-Level Self-Sufficiency Rate (SSR) vs. PV & Wind Penetration Ratios"
        },
        "width": 900
       }
      }
     },
     "metadata": {},
     "output_type": "display_data"
    }
   ],
   "source": [
    "import plotly.graph_objects as go\n",
    "import numpy as np\n",
    "\n",
    "# ---------------------------------------------------------------------------\n",
    "# City-Level Annual Analysis: SSR vs. PV & Wind Penetration Ratios\n",
    "# ---------------------------------------------------------------------------\n",
    "# This analysis uses production data for:\n",
    "#  - One PV panel production (from 'One_PV_Panel_Production.csv')\n",
    "#  - One wind turbine production (from 'wind_production_for_one_turbine.csv')\n",
    "\n",
    "# Calculate the total PV production from city_pv_production (in kWh)\n",
    "total_pv_power_production = city_pv_production.sum()\n",
    "\n",
    "# Compute average production over the year (using 8760 hours/year)\n",
    "average_pv_power_production = total_pv_power_production / 8760\n",
    "\n",
    "# Calculate the total Wind production from city_wind_production (in kWh)\n",
    "total_wind_power_production = city_wind_production.sum()\n",
    "\n",
    "# Compute average production over the year (using 8760 hours/year)\n",
    "average_wind_power_production = total_wind_power_production / 8760\n",
    "\n",
    "# (No battery storage is modeled in this analysis.)\n",
    "#\n",
    "# Calculate the total annual energy demand (kWh) and average demand (kW)\n",
    "total_energy_demand = city_consumption.sum()  # kWh per year\n",
    "average_demand = total_energy_demand / 8760   # kW average demand (8760 hours/year)\n",
    "\n",
    "# Define the range for the number of PV panels and wind turbines (raw counts)\n",
    "raw_panel_range = np.arange(0, 5e8, 5e6)   \n",
    "turbine_range = np.arange(0, 50, 10)           \n",
    "\n",
    "# Create meshgrids for raw PV panel count and wind turbine count\n",
    "panel_grid, turbine_grid = np.meshgrid(raw_panel_range, turbine_range)\n",
    "\n",
    "# Compute the normalized penetration ratios:\n",
    "# PV Penetration Ratio = (num_panels * panel_capacity) / average_demand\n",
    "pv_penetration_grid = (panel_grid * average_pv_power_production) / average_demand\n",
    "# Wind Penetration Ratio = (num_turbines * wind_turbine_capacity) / average_demand\n",
    "wind_penetration_grid = (turbine_grid * average_wind_power_production) / average_demand\n",
    "\n",
    "# Initialize a grid to store the SSR values (in percent)\n",
    "ssr_grid = np.zeros_like(panel_grid, dtype=float)\n",
    "\n",
    "# Loop over each combination of panel and turbine counts\n",
    "for i in range(panel_grid.shape[0]):\n",
    "    for j in range(panel_grid.shape[1]):\n",
    "        num_panels = panel_grid[i, j]\n",
    "        num_turbines = turbine_grid[i, j]\n",
    "        \n",
    "        total_energy_supplied = 0.0  # accumulator in kWh\n",
    "        \n",
    "        # Loop through each hourly timestamp\n",
    "        for timestamp in city_consumption.index:\n",
    "            consumption = city_consumption.loc[timestamp]  # kWh at this hour\n",
    "            \n",
    "            # PV production: scale one-panel production by num_panels and panel_capacity\n",
    "            pv_production = city_pv_production.loc[timestamp] * num_panels * average_pv_power_production\n",
    "            # Wind production: scale one-turbine production by num_turbines and wind_turbine_capacity\n",
    "            wind_production = city_wind_production.loc[timestamp] * num_turbines * average_wind_power_production\n",
    "            \n",
    "            # Total production available (kWh)\n",
    "            total_production = pv_production + wind_production\n",
    "            \n",
    "            # The energy supplied to meet consumption is the minimum of production and consumption\n",
    "            energy_supplied = min(total_production, consumption)\n",
    "            total_energy_supplied += energy_supplied\n",
    "        \n",
    "        # Compute the Self-Sufficiency Rate (SSR) as a percentage of annual demand met\n",
    "        ssr = (total_energy_supplied / total_energy_demand) * 100 if total_energy_demand > 0 else 0\n",
    "        ssr_grid[i, j] = ssr\n",
    "\n",
    "# Create a 3D Surface Plot:\n",
    "#   x-axis: PV Penetration Ratio,\n",
    "#   y-axis: Wind Penetration Ratio,\n",
    "#   z-axis: SSR (%)\n",
    "fig = go.Figure(data=[go.Surface(\n",
    "    x=pv_penetration_grid,\n",
    "    y=wind_penetration_grid,\n",
    "    z=ssr_grid,\n",
    "    colorscale='Viridis',\n",
    "    colorbar=dict(title=\"SSR (%)\")\n",
    ")])\n",
    "\n",
    "fig.update_layout(\n",
    "    title='City-Level Self-Sufficiency Rate (SSR) vs. PV & Wind Penetration Ratios',\n",
    "    scene=dict(\n",
    "        xaxis_title='PV Penetration Ratio (Installed PV Capacity / Average Demand)',\n",
    "        yaxis_title='Wind Penetration Ratio (Installed Wind Capacity / Average Demand)',\n",
    "        zaxis_title='Self-Sufficiency Rate (SSR) (%)'\n",
    "    ),\n",
    "    template='plotly_white',\n",
    "    width=900,\n",
    "    height=600,\n",
    "    margin=dict(l=60, r=60, t=80, b=80),\n",
    "    font=dict(size=10)\n",
    ")\n",
    "\n",
    "fig.show()\n"
   ]
  },
  {
   "cell_type": "code",
   "execution_count": null,
   "metadata": {},
   "outputs": [],
   "source": []
  }
 ],
 "metadata": {
  "kernelspec": {
   "display_name": "base",
   "language": "python",
   "name": "python3"
  },
  "language_info": {
   "codemirror_mode": {
    "name": "ipython",
    "version": 3
   },
   "file_extension": ".py",
   "mimetype": "text/x-python",
   "name": "python",
   "nbconvert_exporter": "python",
   "pygments_lexer": "ipython3",
   "version": "3.11.5"
  }
 },
 "nbformat": 4,
 "nbformat_minor": 2
}
