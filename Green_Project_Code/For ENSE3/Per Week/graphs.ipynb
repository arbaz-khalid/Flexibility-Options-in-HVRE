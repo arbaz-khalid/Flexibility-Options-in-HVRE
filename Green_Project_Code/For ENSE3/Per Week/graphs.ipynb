{
 "cells": [
  {
   "cell_type": "markdown",
   "metadata": {},
   "source": [
    "# Important Graphs for analysis in the case of ENSE3"
   ]
  },
  {
   "cell_type": "code",
   "execution_count": 1,
   "metadata": {},
   "outputs": [
    {
     "name": "stdout",
     "output_type": "stream",
     "text": [
      "✔ pandas is already installed.\n",
      "✔ numpy is already installed.\n",
      "✔ plotly is already installed.\n",
      "✔ ipywidgets is already installed.\n",
      "✔ matplotlib is already installed.\n"
     ]
    }
   ],
   "source": [
    "# --------------------------------\n",
    "# Required Library Installation\n",
    "# --------------------------------\n",
    "\n",
    "import sys\n",
    "import subprocess\n",
    "\n",
    "# List of required Python libraries for the project\n",
    "required_libraries = [\n",
    "    'pandas',            # Data processing and manipulation\n",
    "    'numpy',             # Numerical calculations\n",
    "    'plotly',            # Interactive visualizations\n",
    "    'ipywidgets',        # Interactive widgets for user input\n",
    "    'matplotlib',        # Plotting capabilities \n",
    "]\n",
    "\n",
    "# Function to check and install missing libraries\n",
    "def install_missing_libraries(libraries):\n",
    "    for lib in libraries:\n",
    "        try:\n",
    "            __import__(lib)\n",
    "        except ImportError:\n",
    "            print(f\"Installing missing library: {lib}\")\n",
    "            subprocess.check_call([sys.executable, \"-m\", \"pip\", \"install\", lib])\n",
    "        else:\n",
    "            print(f\"✔ {lib} is already installed.\")\n",
    "\n",
    "# Run the function to install missing libraries\n",
    "install_missing_libraries(required_libraries)\n"
   ]
  },
  {
   "cell_type": "code",
   "execution_count": 2,
   "metadata": {},
   "outputs": [
    {
     "name": "stderr",
     "output_type": "stream",
     "text": [
      "INFO:solar_analysis_script:Loading energy consumption data from file: Ense3buildingconsumption.csv\n",
      "INFO:solar_analysis_script:Energy consumption data successfully loaded and filtered.\n",
      "INFO:solar_analysis_script:Loading PV production data from file: Ense3buildingPV.csv\n",
      "INFO:solar_analysis_script:'Time_End' column dropped from PV production data.\n",
      "INFO:solar_analysis_script:PV production data successfully loaded, converted to kWh, and processed.\n",
      "INFO:solar_analysis_script:Extending PV production data to cover 2023-09-25 00:00:00 to 2024-09-25 00:00:00.\n",
      "INFO:solar_analysis_script:Original PV data duration: 364 days 23:00:00 (8760 hours)\n",
      "INFO:solar_analysis_script:Total duration to cover: 366 days 00:00:00 (8784 hours)\n",
      "INFO:solar_analysis_script:Repeating PV data 2 times to cover the desired period.\n",
      "INFO:solar_analysis_script:PV production data extended from 2023-09-25 00:00:00 to 2024-09-24 23:00:00.\n",
      "INFO:solar_analysis_script:Total PV production records after extension: 8784\n",
      "INFO:solar_analysis_script:'Consumption (kWh)' column dropped from merged data.\n",
      "INFO:solar_analysis_script:'Electricity Demand (kWh)' column added as a duplicate of 'Consumption_kWh'.\n",
      "INFO:solar_analysis_script:Consumption and PV production data successfully merged and cleaned.\n"
     ]
    },
    {
     "name": "stdout",
     "output_type": "stream",
     "text": [
      "Data successfully loaded and merged after cleaning.\n"
     ]
    }
   ],
   "source": [
    "# Cell 2: Importing Modules and Reloading solar_analysis_script\n",
    "import os\n",
    "import sys\n",
    "import plotly.graph_objects as go\n",
    "import pandas as pd\n",
    "import numpy as np\n",
    "import ipywidgets as widgets\n",
    "from IPython.display import display, clear_output\n",
    "import solar_analysis_script as sas\n",
    "import datetime\n",
    "\n",
    "# Reload the updated solar_analysis_script module in case of changes\n",
    "import importlib\n",
    "importlib.reload(sas)\n",
    "\n",
    "# Cell 3: Define File Paths and Parameters\n",
    "\n",
    "# Define file paths\n",
    "consumption_file = 'Ense3buildingconsumption.csv'\n",
    "pv_file = 'Ense3buildingPV.csv'\n",
    "\n",
    "# Define separate date ranges\n",
    "consumption_start_date = '2023-09-25 00:00:00'\n",
    "consumption_end_date = '2024-09-25 00:00:00'\n",
    "\n",
    "# Specify the actual column names in your consumption CSV\n",
    "consumption_time_col = 'Time'\n",
    "consumption_value_col = 'Consumption (kWh)'\n",
    "\n",
    "# Number of solar panels (initial default value; can be adjusted via widget)\n",
    "num_panels = 100  # Example value; adjust as needed\n",
    "\n",
    "# Cell 4: Load and Merge Data\n",
    "\n",
    "# Load and Merge Data\n",
    "\n",
    "try:\n",
    "    merged_data = sas.load_data(\n",
    "        consumption_file, \n",
    "        pv_file, \n",
    "        consumption_start_date, \n",
    "        consumption_end_date,\n",
    "        consumption_sep=';', \n",
    "        consumption_time_col=consumption_time_col, \n",
    "        consumption_value_col=consumption_value_col,\n",
    "        pv_sep=','\n",
    "    )\n",
    "    print(\"Data successfully loaded and merged after cleaning.\")\n",
    "except Exception as e:\n",
    "    print(f\"An error occurred while loading data: {e}\")\n",
    "\n",
    "# Ensure index is a DatetimeIndex\n",
    "merged_data.index = pd.to_datetime(merged_data.index)\n",
    "\n",
    "# Cell 5: Define System Parameters\n",
    "\n",
    "# Define System Parameters\n",
    "battery_capacity_per_unit = 57  # Example: 57 kWh per battery\n",
    "converter_efficiency = 0.9    # 90% converter efficiency\n",
    "initial_soc = 50              # 50% initial state of charge on the first day\n",
    "battery_soc_tracking = {}     # Initialize empty dict to track SOC for each day\n"
   ]
  },
  {
   "cell_type": "code",
   "execution_count": 3,
   "metadata": {},
   "outputs": [
    {
     "data": {
      "application/vnd.plotly.v1+json": {
       "config": {
        "plotlyServerURL": "https://plot.ly"
       },
       "data": [
        {
         "customdata": {
          "bdata": "AAAAAGQAAADIAAAALAEAAJABAAD0AQAAWAIAALwCAAAgAwAAhAMAAOgDAABMBAAAsAQAABQFAAB4BQAA3AUAAEAGAACkBgAACAcAAGwHAADQBwAANAgAAJgIAAD8CAAAYAkAAMQJAAAoCgAAjAoAAPAKAABUCwAAuAsAABwMAACADAAA5AwAAEgNAACsDQAAEA4AAHQOAADYDgAAPA8AAKAPAAAEEAAAaBAAAMwQAAAwEQAAlBEAAPgRAABcEgAAwBIAACQTAACIEwAA7BMAAFAUAAC0FAAAGBUAAHwVAADgFQAARBYAAKgWAAAMFwAAcBcAANQXAAA4GAAAnBgAAAAZAABkGQAAyBkAACwaAACQGgAA9BoAAFgbAAC8GwAAIBwAAIQcAADoHAAATB0AALAdAAAUHgAAeB4AANweAABAHwAApB8AAAggAABsIAAA0CAAADQhAACYIQAA/CEAAGAiAADEIgAAKCMAAIwjAADwIwAAVCQAALgkAAAcJQAAgCUAAOQlAABIJgAArCYAAA==",
          "dtype": "i4"
         },
         "hovertemplate": "<b>PV Penetration Ratio:</b> %{x:.4f}<br><b>SSR (%):</b> %{y:.2f}<br><b>Number of Panels:</b> %{customdata:,}",
         "line": {
          "color": "green"
         },
         "marker": {
          "size": 8
         },
         "mode": "lines+markers",
         "name": "SSR (%)",
         "type": "scatter",
         "x": [
          0,
          0.07713342028145351,
          0.15426684056290701,
          0.23140026084436047,
          0.30853368112581403,
          0.3856671014072675,
          0.46280052168872093,
          0.5399339419701745,
          0.6170673622516281,
          0.6942007825330815,
          0.771334202814535,
          0.8484676230959886,
          0.9256010433774419,
          1.0027344636588955,
          1.079867883940349,
          1.1570013042218026,
          1.2341347245032561,
          1.3112681447847094,
          1.388401565066163,
          1.4655349853476165,
          1.54266840562907,
          1.6198018259105234,
          1.696935246191977,
          1.7740686664734304,
          1.8512020867548837,
          1.9283355070363375,
          2.005468927317791,
          2.0826023475992446,
          2.159735767880698,
          2.236869188162151,
          2.314002608443605,
          2.3911360287250587,
          2.4682694490065122,
          2.5454028692879653,
          2.622536289569419,
          2.6996697098508724,
          2.776803130132326,
          2.85393655041378,
          2.931069970695233,
          3.0082033909766865,
          3.08533681125814,
          3.1624702315395936,
          3.2396036518210467,
          3.3167370721025007,
          3.393870492383954,
          3.4710039126654078,
          3.548137332946861,
          3.6252707532283144,
          3.7024041735097675,
          3.7795375937912215,
          3.856671014072675,
          3.933804434354129,
          4.010937854635582,
          4.088071274917035,
          4.165204695198489,
          4.242338115479942,
          4.319471535761396,
          4.396604956042849,
          4.473738376324302,
          4.550871796605756,
          4.62800521688721,
          4.705138637168664,
          4.782272057450117,
          4.8594054777315705,
          4.9365388980130245,
          5.013672318294478,
          5.090805738575931,
          5.167939158857385,
          5.245072579138838,
          5.322205999420292,
          5.399339419701745,
          5.476472839983198,
          5.553606260264652,
          5.630739680546106,
          5.70787310082756,
          5.785006521109013,
          5.862139941390466,
          5.93927336167192,
          6.016406781953373,
          6.093540202234826,
          6.17067362251628,
          6.247807042797733,
          6.324940463079187,
          6.40207388336064,
          6.479207303642093,
          6.556340723923547,
          6.633474144205001,
          6.710607564486455,
          6.787740984767908,
          6.8648744050493615,
          6.9420078253308155,
          7.019141245612269,
          7.096274665893722,
          7.173408086175176,
          7.250541506456629,
          7.327674926738082,
          7.404808347019535,
          7.48194176730099,
          7.559075187582443,
          7.636208607863897
         ],
         "y": [
          0,
          0.8315863224837086,
          1.6631726449674171,
          2.4938347194661006,
          3.3198035832778796,
          4.138694354574441,
          4.94965218273801,
          5.753280499657758,
          6.546262536501313,
          7.327729769912851,
          8.097254084756228,
          8.853675042435732,
          9.598994830557563,
          10.332036458014757,
          11.051989301937592,
          11.758501808923505,
          12.4544708446234,
          13.137408822835948,
          13.810175987214029,
          14.472578363452234,
          15.122062679723294,
          15.759867003414335,
          16.38864244860072,
          17.00989840001279,
          17.62418772807545,
          18.2298974631145,
          18.82802207261435,
          19.418343892780978,
          20.001052262531285,
          20.577552734338607,
          21.14741479742245,
          21.71033901152513,
          22.26422295558778,
          22.811202516260607,
          23.349623655784114,
          23.8783308607888,
          24.397841661017598,
          24.9087337375074,
          25.410974143272995,
          25.905215488536065,
          26.391720692081677,
          26.87110683520364,
          27.341396206160024,
          27.801532418806673,
          28.2539921954594,
          28.699122678052692,
          29.134098933304227,
          29.5610197803726,
          29.977776113471894,
          30.3824475341388,
          30.77656174413157,
          31.16002610678971,
          31.534089394808117,
          31.894253134981014,
          32.24234586255988,
          32.57889900137584,
          32.90459999300579,
          33.2218655068362,
          33.52681427396257,
          33.82207132376806,
          34.1061808696349,
          34.37944546732782,
          34.6422877378151,
          34.89708995899793,
          35.14240850688974,
          35.380955828058454,
          35.61176523543467,
          35.836750463213306,
          36.05416362937912,
          36.26435513478488,
          36.46939984546313,
          36.668716794607306,
          36.864196730668276,
          37.05639750726936,
          37.24421322078045,
          37.427719486533455,
          37.60792071907119,
          37.78425090139434,
          37.955653958721385,
          38.123285662222266,
          38.28722891862408,
          38.447114851636734,
          38.60328444630362,
          38.75469590662706,
          38.902952548511834,
          39.04894994342084,
          39.193024054096966,
          39.33451378391764,
          39.47373365511005,
          39.610727786320865,
          39.74616848617503,
          39.87936795279428,
          40.01049530351153,
          40.13980632908658,
          40.26668735936401,
          40.39123189314468,
          40.512891881769484,
          40.63240742225441,
          40.74970221291242,
          40.864994919586735
         ]
        }
       ],
       "layout": {
        "font": {
         "size": 12
        },
        "height": 600,
        "template": {
         "data": {
          "bar": [
           {
            "error_x": {
             "color": "#2a3f5f"
            },
            "error_y": {
             "color": "#2a3f5f"
            },
            "marker": {
             "line": {
              "color": "white",
              "width": 0.5
             },
             "pattern": {
              "fillmode": "overlay",
              "size": 10,
              "solidity": 0.2
             }
            },
            "type": "bar"
           }
          ],
          "barpolar": [
           {
            "marker": {
             "line": {
              "color": "white",
              "width": 0.5
             },
             "pattern": {
              "fillmode": "overlay",
              "size": 10,
              "solidity": 0.2
             }
            },
            "type": "barpolar"
           }
          ],
          "carpet": [
           {
            "aaxis": {
             "endlinecolor": "#2a3f5f",
             "gridcolor": "#C8D4E3",
             "linecolor": "#C8D4E3",
             "minorgridcolor": "#C8D4E3",
             "startlinecolor": "#2a3f5f"
            },
            "baxis": {
             "endlinecolor": "#2a3f5f",
             "gridcolor": "#C8D4E3",
             "linecolor": "#C8D4E3",
             "minorgridcolor": "#C8D4E3",
             "startlinecolor": "#2a3f5f"
            },
            "type": "carpet"
           }
          ],
          "choropleth": [
           {
            "colorbar": {
             "outlinewidth": 0,
             "ticks": ""
            },
            "type": "choropleth"
           }
          ],
          "contour": [
           {
            "colorbar": {
             "outlinewidth": 0,
             "ticks": ""
            },
            "colorscale": [
             [
              0,
              "#0d0887"
             ],
             [
              0.1111111111111111,
              "#46039f"
             ],
             [
              0.2222222222222222,
              "#7201a8"
             ],
             [
              0.3333333333333333,
              "#9c179e"
             ],
             [
              0.4444444444444444,
              "#bd3786"
             ],
             [
              0.5555555555555556,
              "#d8576b"
             ],
             [
              0.6666666666666666,
              "#ed7953"
             ],
             [
              0.7777777777777778,
              "#fb9f3a"
             ],
             [
              0.8888888888888888,
              "#fdca26"
             ],
             [
              1,
              "#f0f921"
             ]
            ],
            "type": "contour"
           }
          ],
          "contourcarpet": [
           {
            "colorbar": {
             "outlinewidth": 0,
             "ticks": ""
            },
            "type": "contourcarpet"
           }
          ],
          "heatmap": [
           {
            "colorbar": {
             "outlinewidth": 0,
             "ticks": ""
            },
            "colorscale": [
             [
              0,
              "#0d0887"
             ],
             [
              0.1111111111111111,
              "#46039f"
             ],
             [
              0.2222222222222222,
              "#7201a8"
             ],
             [
              0.3333333333333333,
              "#9c179e"
             ],
             [
              0.4444444444444444,
              "#bd3786"
             ],
             [
              0.5555555555555556,
              "#d8576b"
             ],
             [
              0.6666666666666666,
              "#ed7953"
             ],
             [
              0.7777777777777778,
              "#fb9f3a"
             ],
             [
              0.8888888888888888,
              "#fdca26"
             ],
             [
              1,
              "#f0f921"
             ]
            ],
            "type": "heatmap"
           }
          ],
          "histogram": [
           {
            "marker": {
             "pattern": {
              "fillmode": "overlay",
              "size": 10,
              "solidity": 0.2
             }
            },
            "type": "histogram"
           }
          ],
          "histogram2d": [
           {
            "colorbar": {
             "outlinewidth": 0,
             "ticks": ""
            },
            "colorscale": [
             [
              0,
              "#0d0887"
             ],
             [
              0.1111111111111111,
              "#46039f"
             ],
             [
              0.2222222222222222,
              "#7201a8"
             ],
             [
              0.3333333333333333,
              "#9c179e"
             ],
             [
              0.4444444444444444,
              "#bd3786"
             ],
             [
              0.5555555555555556,
              "#d8576b"
             ],
             [
              0.6666666666666666,
              "#ed7953"
             ],
             [
              0.7777777777777778,
              "#fb9f3a"
             ],
             [
              0.8888888888888888,
              "#fdca26"
             ],
             [
              1,
              "#f0f921"
             ]
            ],
            "type": "histogram2d"
           }
          ],
          "histogram2dcontour": [
           {
            "colorbar": {
             "outlinewidth": 0,
             "ticks": ""
            },
            "colorscale": [
             [
              0,
              "#0d0887"
             ],
             [
              0.1111111111111111,
              "#46039f"
             ],
             [
              0.2222222222222222,
              "#7201a8"
             ],
             [
              0.3333333333333333,
              "#9c179e"
             ],
             [
              0.4444444444444444,
              "#bd3786"
             ],
             [
              0.5555555555555556,
              "#d8576b"
             ],
             [
              0.6666666666666666,
              "#ed7953"
             ],
             [
              0.7777777777777778,
              "#fb9f3a"
             ],
             [
              0.8888888888888888,
              "#fdca26"
             ],
             [
              1,
              "#f0f921"
             ]
            ],
            "type": "histogram2dcontour"
           }
          ],
          "mesh3d": [
           {
            "colorbar": {
             "outlinewidth": 0,
             "ticks": ""
            },
            "type": "mesh3d"
           }
          ],
          "parcoords": [
           {
            "line": {
             "colorbar": {
              "outlinewidth": 0,
              "ticks": ""
             }
            },
            "type": "parcoords"
           }
          ],
          "pie": [
           {
            "automargin": true,
            "type": "pie"
           }
          ],
          "scatter": [
           {
            "fillpattern": {
             "fillmode": "overlay",
             "size": 10,
             "solidity": 0.2
            },
            "type": "scatter"
           }
          ],
          "scatter3d": [
           {
            "line": {
             "colorbar": {
              "outlinewidth": 0,
              "ticks": ""
             }
            },
            "marker": {
             "colorbar": {
              "outlinewidth": 0,
              "ticks": ""
             }
            },
            "type": "scatter3d"
           }
          ],
          "scattercarpet": [
           {
            "marker": {
             "colorbar": {
              "outlinewidth": 0,
              "ticks": ""
             }
            },
            "type": "scattercarpet"
           }
          ],
          "scattergeo": [
           {
            "marker": {
             "colorbar": {
              "outlinewidth": 0,
              "ticks": ""
             }
            },
            "type": "scattergeo"
           }
          ],
          "scattergl": [
           {
            "marker": {
             "colorbar": {
              "outlinewidth": 0,
              "ticks": ""
             }
            },
            "type": "scattergl"
           }
          ],
          "scattermap": [
           {
            "marker": {
             "colorbar": {
              "outlinewidth": 0,
              "ticks": ""
             }
            },
            "type": "scattermap"
           }
          ],
          "scattermapbox": [
           {
            "marker": {
             "colorbar": {
              "outlinewidth": 0,
              "ticks": ""
             }
            },
            "type": "scattermapbox"
           }
          ],
          "scatterpolar": [
           {
            "marker": {
             "colorbar": {
              "outlinewidth": 0,
              "ticks": ""
             }
            },
            "type": "scatterpolar"
           }
          ],
          "scatterpolargl": [
           {
            "marker": {
             "colorbar": {
              "outlinewidth": 0,
              "ticks": ""
             }
            },
            "type": "scatterpolargl"
           }
          ],
          "scatterternary": [
           {
            "marker": {
             "colorbar": {
              "outlinewidth": 0,
              "ticks": ""
             }
            },
            "type": "scatterternary"
           }
          ],
          "surface": [
           {
            "colorbar": {
             "outlinewidth": 0,
             "ticks": ""
            },
            "colorscale": [
             [
              0,
              "#0d0887"
             ],
             [
              0.1111111111111111,
              "#46039f"
             ],
             [
              0.2222222222222222,
              "#7201a8"
             ],
             [
              0.3333333333333333,
              "#9c179e"
             ],
             [
              0.4444444444444444,
              "#bd3786"
             ],
             [
              0.5555555555555556,
              "#d8576b"
             ],
             [
              0.6666666666666666,
              "#ed7953"
             ],
             [
              0.7777777777777778,
              "#fb9f3a"
             ],
             [
              0.8888888888888888,
              "#fdca26"
             ],
             [
              1,
              "#f0f921"
             ]
            ],
            "type": "surface"
           }
          ],
          "table": [
           {
            "cells": {
             "fill": {
              "color": "#EBF0F8"
             },
             "line": {
              "color": "white"
             }
            },
            "header": {
             "fill": {
              "color": "#C8D4E3"
             },
             "line": {
              "color": "white"
             }
            },
            "type": "table"
           }
          ]
         },
         "layout": {
          "annotationdefaults": {
           "arrowcolor": "#2a3f5f",
           "arrowhead": 0,
           "arrowwidth": 1
          },
          "autotypenumbers": "strict",
          "coloraxis": {
           "colorbar": {
            "outlinewidth": 0,
            "ticks": ""
           }
          },
          "colorscale": {
           "diverging": [
            [
             0,
             "#8e0152"
            ],
            [
             0.1,
             "#c51b7d"
            ],
            [
             0.2,
             "#de77ae"
            ],
            [
             0.3,
             "#f1b6da"
            ],
            [
             0.4,
             "#fde0ef"
            ],
            [
             0.5,
             "#f7f7f7"
            ],
            [
             0.6,
             "#e6f5d0"
            ],
            [
             0.7,
             "#b8e186"
            ],
            [
             0.8,
             "#7fbc41"
            ],
            [
             0.9,
             "#4d9221"
            ],
            [
             1,
             "#276419"
            ]
           ],
           "sequential": [
            [
             0,
             "#0d0887"
            ],
            [
             0.1111111111111111,
             "#46039f"
            ],
            [
             0.2222222222222222,
             "#7201a8"
            ],
            [
             0.3333333333333333,
             "#9c179e"
            ],
            [
             0.4444444444444444,
             "#bd3786"
            ],
            [
             0.5555555555555556,
             "#d8576b"
            ],
            [
             0.6666666666666666,
             "#ed7953"
            ],
            [
             0.7777777777777778,
             "#fb9f3a"
            ],
            [
             0.8888888888888888,
             "#fdca26"
            ],
            [
             1,
             "#f0f921"
            ]
           ],
           "sequentialminus": [
            [
             0,
             "#0d0887"
            ],
            [
             0.1111111111111111,
             "#46039f"
            ],
            [
             0.2222222222222222,
             "#7201a8"
            ],
            [
             0.3333333333333333,
             "#9c179e"
            ],
            [
             0.4444444444444444,
             "#bd3786"
            ],
            [
             0.5555555555555556,
             "#d8576b"
            ],
            [
             0.6666666666666666,
             "#ed7953"
            ],
            [
             0.7777777777777778,
             "#fb9f3a"
            ],
            [
             0.8888888888888888,
             "#fdca26"
            ],
            [
             1,
             "#f0f921"
            ]
           ]
          },
          "colorway": [
           "#636efa",
           "#EF553B",
           "#00cc96",
           "#ab63fa",
           "#FFA15A",
           "#19d3f3",
           "#FF6692",
           "#B6E880",
           "#FF97FF",
           "#FECB52"
          ],
          "font": {
           "color": "#2a3f5f"
          },
          "geo": {
           "bgcolor": "white",
           "lakecolor": "white",
           "landcolor": "white",
           "showlakes": true,
           "showland": true,
           "subunitcolor": "#C8D4E3"
          },
          "hoverlabel": {
           "align": "left"
          },
          "hovermode": "closest",
          "mapbox": {
           "style": "light"
          },
          "paper_bgcolor": "white",
          "plot_bgcolor": "white",
          "polar": {
           "angularaxis": {
            "gridcolor": "#EBF0F8",
            "linecolor": "#EBF0F8",
            "ticks": ""
           },
           "bgcolor": "white",
           "radialaxis": {
            "gridcolor": "#EBF0F8",
            "linecolor": "#EBF0F8",
            "ticks": ""
           }
          },
          "scene": {
           "xaxis": {
            "backgroundcolor": "white",
            "gridcolor": "#DFE8F3",
            "gridwidth": 2,
            "linecolor": "#EBF0F8",
            "showbackground": true,
            "ticks": "",
            "zerolinecolor": "#EBF0F8"
           },
           "yaxis": {
            "backgroundcolor": "white",
            "gridcolor": "#DFE8F3",
            "gridwidth": 2,
            "linecolor": "#EBF0F8",
            "showbackground": true,
            "ticks": "",
            "zerolinecolor": "#EBF0F8"
           },
           "zaxis": {
            "backgroundcolor": "white",
            "gridcolor": "#DFE8F3",
            "gridwidth": 2,
            "linecolor": "#EBF0F8",
            "showbackground": true,
            "ticks": "",
            "zerolinecolor": "#EBF0F8"
           }
          },
          "shapedefaults": {
           "line": {
            "color": "#2a3f5f"
           }
          },
          "ternary": {
           "aaxis": {
            "gridcolor": "#DFE8F3",
            "linecolor": "#A2B1C6",
            "ticks": ""
           },
           "baxis": {
            "gridcolor": "#DFE8F3",
            "linecolor": "#A2B1C6",
            "ticks": ""
           },
           "bgcolor": "white",
           "caxis": {
            "gridcolor": "#DFE8F3",
            "linecolor": "#A2B1C6",
            "ticks": ""
           }
          },
          "title": {
           "x": 0.05
          },
          "xaxis": {
           "automargin": true,
           "gridcolor": "#EBF0F8",
           "linecolor": "#EBF0F8",
           "ticks": "",
           "title": {
            "standoff": 15
           },
           "zerolinecolor": "#EBF0F8",
           "zerolinewidth": 2
          },
          "yaxis": {
           "automargin": true,
           "gridcolor": "#EBF0F8",
           "linecolor": "#EBF0F8",
           "ticks": "",
           "title": {
            "standoff": 15
           },
           "zerolinecolor": "#EBF0F8",
           "zerolinewidth": 2
          }
         }
        },
        "title": {
         "text": "Ense3 building - Self-Sufficiency Rate (SSR) vs. PV Penetration Ratio"
        },
        "width": 800,
        "xaxis": {
         "title": {
          "text": "PV Penetration Ratio (Installed PV Capacity / Average Demand)"
         }
        },
        "yaxis": {
         "title": {
          "text": "SSR (Total Energy Supplied by PV / Total Energy Demand)"
         }
        }
       }
      }
     },
     "metadata": {},
     "output_type": "display_data"
    }
   ],
   "source": [
    "import numpy as np\n",
    "import plotly.graph_objects as go\n",
    "\n",
    "# ---------------------------\n",
    "# City-Level Annual SSR Analysis (PV Penetration Ratio)\n",
    "# ---------------------------\n",
    "\n",
    "# 1) Compute total PV production over the year\n",
    "total_pv_power_production = merged_data['PV_Production_kWh'].sum()\n",
    "\n",
    "# 2) Compute average production over the year (e.g., 8760 hours)\n",
    "average_pv_power_production = total_pv_power_production / 8760\n",
    "\n",
    "# 3) Calculate total annual energy demand\n",
    "total_energy_demand = merged_data['Consumption_kWh'].sum()\n",
    "\n",
    "# 4) Compute average demand in kW (again, dividing by 8760)\n",
    "average_demand = total_energy_demand / 8760\n",
    "\n",
    "# 5) Define the range of # of panels\n",
    "num_panels_range = np.arange(0, 10000, 100)\n",
    "\n",
    "# Initialize lists\n",
    "ssr_values = []\n",
    "pv_penetration_ratio = []\n",
    "\n",
    "for num_panels in num_panels_range:\n",
    "    # installed_capacity in kW = (# panels) * (avg PV power from 1 'panel'?)\n",
    "    #  => You may need to define exactly how 1 panel relates to 'PV_Production_kWh' \n",
    "    installed_capacity = num_panels * average_pv_power_production\n",
    "    \n",
    "    ratio = (installed_capacity / average_demand) if average_demand != 0 else 0\n",
    "    pv_penetration_ratio.append(ratio)\n",
    "\n",
    "    total_energy_supplied_pv = 0.0\n",
    "    \n",
    "    # Loop over each hour in merged_data\n",
    "    for timestamp in merged_data.index:\n",
    "        # consumption\n",
    "        consumption = merged_data['Consumption_kWh'].loc[timestamp]\n",
    "        # PV production that hour\n",
    "        # (Double-check the logic: 'merged_data[\"PV_Production_kWh\"]' might already be\n",
    "        #  for 1 \"kW\" or 1 \"panel\"? Adjust accordingly.)\n",
    "        pv_production = merged_data['PV_Production_kWh'].loc[timestamp] * num_panels * average_pv_power_production\n",
    "        \n",
    "        energy_supplied = min(pv_production, consumption)\n",
    "        total_energy_supplied_pv += energy_supplied\n",
    "\n",
    "    if total_energy_demand > 0:\n",
    "        ssr = (total_energy_supplied_pv / total_energy_demand) * 100\n",
    "    else:\n",
    "        ssr = 0\n",
    "    ssr_values.append(ssr)\n",
    "\n",
    "# Now plot\n",
    "fig_ssr = go.Figure()\n",
    "\n",
    "fig_ssr.add_trace(go.Scatter(\n",
    "    x=pv_penetration_ratio,\n",
    "    y=ssr_values,\n",
    "    mode='lines+markers',\n",
    "    name='SSR (%)',\n",
    "    line=dict(color='green'),\n",
    "    marker=dict(size=8),\n",
    "    hovertemplate='<b>PV Penetration Ratio:</b> %{x:.4f}<br>'\n",
    "                  '<b>SSR (%):</b> %{y:.2f}<br>'\n",
    "                  '<b>Number of Panels:</b> %{customdata:,}',\n",
    "    customdata=num_panels_range\n",
    "))\n",
    "\n",
    "fig_ssr.update_layout(\n",
    "    title='Ense3 building - Self-Sufficiency Rate (SSR) vs. PV Penetration Ratio',\n",
    "    xaxis_title='PV Penetration Ratio (Installed PV Capacity / Average Demand)',\n",
    "    yaxis_title='SSR (Total Energy Supplied by PV / Total Energy Demand)',\n",
    "    template='plotly_white',\n",
    "    width=800,\n",
    "    height=600,\n",
    "    font=dict(size=12)\n",
    ")\n",
    "\n",
    "fig_ssr.show()\n"
   ]
  },
  {
   "cell_type": "code",
   "execution_count": null,
   "metadata": {},
   "outputs": [
    {
     "name": "stdout",
     "output_type": "stream",
     "text": [
      "Total energy demand = 1224408.3 kWh\n",
      "Average demand = 139.39 kW\n"
     ]
    },
    {
     "data": {
      "application/vnd.plotly.v1+json": {
       "config": {
        "plotlyServerURL": "https://plot.ly"
       },
       "data": [
        {
         "colorbar": {
          "title": {
           "text": "SSR (%)"
          }
         },
         "colorscale": [
          [
           0,
           "#440154"
          ],
          [
           0.1111111111111111,
           "#482878"
          ],
          [
           0.2222222222222222,
           "#3e4989"
          ],
          [
           0.3333333333333333,
           "#31688e"
          ],
          [
           0.4444444444444444,
           "#26828e"
          ],
          [
           0.5555555555555556,
           "#1f9e89"
          ],
          [
           0.6666666666666666,
           "#35b779"
          ],
          [
           0.7777777777777778,
           "#6ece58"
          ],
          [
           0.8888888888888888,
           "#b5de2b"
          ],
          [
           1,
           "#fde725"
          ]
         ],
         "type": "surface",
         "x": {
          "bdata": "AAAAAAAAAAAAAAAAAADgPwAAAAAAAPA/AAAAAAAA+D8AAAAAAAAAQAAAAAAAAARAAAAAAAAACEAAAAAAAAAMQAAAAAAAABBAAAAAAAAAEkAAAAAAAAAUQAAAAAAAABZAAAAAAAAAGEAAAAAAAAAaQAAAAAAAABxAAAAAAAAAHkAAAAAAAAAgQAAAAAAAAAAAAAAAAAAA4D8AAAAAAADwPwAAAAAAAPg/AAAAAAAAAEAAAAAAAAAEQAAAAAAAAAhAAAAAAAAADEAAAAAAAAAQQAAAAAAAABJAAAAAAAAAFEAAAAAAAAAWQAAAAAAAABhAAAAAAAAAGkAAAAAAAAAcQAAAAAAAAB5AAAAAAAAAIEAAAAAAAAAAAAAAAAAAAOA/AAAAAAAA8D8AAAAAAAD4PwAAAAAAAABAAAAAAAAABEAAAAAAAAAIQAAAAAAAAAxAAAAAAAAAEEAAAAAAAAASQAAAAAAAABRAAAAAAAAAFkAAAAAAAAAYQAAAAAAAABpAAAAAAAAAHEAAAAAAAAAeQAAAAAAAACBAAAAAAAAAAAAAAAAAAADgPwAAAAAAAPA/AAAAAAAA+D8AAAAAAAAAQAAAAAAAAARAAAAAAAAACEAAAAAAAAAMQAAAAAAAABBAAAAAAAAAEkAAAAAAAAAUQAAAAAAAABZAAAAAAAAAGEAAAAAAAAAaQAAAAAAAABxAAAAAAAAAHkAAAAAAAAAgQAAAAAAAAAAAAAAAAAAA4D8AAAAAAADwPwAAAAAAAPg/AAAAAAAAAEAAAAAAAAAEQAAAAAAAAAhAAAAAAAAADEAAAAAAAAAQQAAAAAAAABJAAAAAAAAAFEAAAAAAAAAWQAAAAAAAABhAAAAAAAAAGkAAAAAAAAAcQAAAAAAAAB5AAAAAAAAAIEAAAAAAAAAAAAAAAAAAAOA/AAAAAAAA8D8AAAAAAAD4PwAAAAAAAABAAAAAAAAABEAAAAAAAAAIQAAAAAAAAAxAAAAAAAAAEEAAAAAAAAASQAAAAAAAABRAAAAAAAAAFkAAAAAAAAAYQAAAAAAAABpAAAAAAAAAHEAAAAAAAAAeQAAAAAAAACBA",
          "dtype": "f8",
          "shape": "6, 17"
         },
         "y": {
          "bdata": "AAAAAAAAAAAAAAAAAAAAAAAAAAAAAAAAAAAAAAAAAAAAAAAAAAAAAAAAAAAAAAAAAAAAAAAAAAAAAAAAAAAAAAAAAAAAAAAAAAAAAAAAAAAAAAAAAAAAAAAAAAAAAAAAAAAAAAAAAAAAAAAAAAAAAAAAAAAAAAAAAAAAAAAAAAAAAAAAAAAAAAAAAAAAAABAAAAAAAAAAEAAAAAAAAAAQAAAAAAAAABAAAAAAAAAAEAAAAAAAAAAQAAAAAAAAABAAAAAAAAAAEAAAAAAAAAAQAAAAAAAAABAAAAAAAAAAEAAAAAAAAAAQAAAAAAAAABAAAAAAAAAAEAAAAAAAAAAQAAAAAAAAABAAAAAAAAAAEAAAAAAAAAQQAAAAAAAABBAAAAAAAAAEEAAAAAAAAAQQAAAAAAAABBAAAAAAAAAEEAAAAAAAAAQQAAAAAAAABBAAAAAAAAAEEAAAAAAAAAQQAAAAAAAABBAAAAAAAAAEEAAAAAAAAAQQAAAAAAAABBAAAAAAAAAEEAAAAAAAAAQQAAAAAAAABBAAAAAAAAAGEAAAAAAAAAYQAAAAAAAABhAAAAAAAAAGEAAAAAAAAAYQAAAAAAAABhAAAAAAAAAGEAAAAAAAAAYQAAAAAAAABhAAAAAAAAAGEAAAAAAAAAYQAAAAAAAABhAAAAAAAAAGEAAAAAAAAAYQAAAAAAAABhAAAAAAAAAGEAAAAAAAAAYQAAAAAAAACBAAAAAAAAAIEAAAAAAAAAgQAAAAAAAACBAAAAAAAAAIEAAAAAAAAAgQAAAAAAAACBAAAAAAAAAIEAAAAAAAAAgQAAAAAAAACBAAAAAAAAAIEAAAAAAAAAgQAAAAAAAACBAAAAAAAAAIEAAAAAAAAAgQAAAAAAAACBAAAAAAAAAIEAAAAAAAAAkQAAAAAAAACRAAAAAAAAAJEAAAAAAAAAkQAAAAAAAACRAAAAAAAAAJEAAAAAAAAAkQAAAAAAAACRAAAAAAAAAJEAAAAAAAAAkQAAAAAAAACRAAAAAAAAAJEAAAAAAAAAkQAAAAAAAACRAAAAAAAAAJEAAAAAAAAAkQAAAAAAAACRA",
          "dtype": "f8",
          "shape": "6, 17"
         },
         "z": {
          "bdata": "AAAAAAAAAAAAnbPlvUsVQFGbkLGijyRAVWROU3B1LUBTFVTMX74yQPnxIUIBcTZARi5/IQXNOUD9wGmeTc88QNqF5O/ibT9ALU6rNVvKQEBBmy9aCaZBQI5PKtNgWEJACBTu5BHxQkCFcuedUXRDQAATaDUi6ENAzvrFxHhQREBgHelm6KxEQLlr5YRn+ns/WqwrjIuCFUBPXAS6PGwlQHySbIrQtC9AzMGTfOR5NEBykC0qSJ44QCDaEhpraDxAxNrZI1bfP0AhN1I6HIBBQBR09THb3kJAiS1uywwJREDOgrlzgfBEQBzKpjZvqUVA/L2OC3dCRkA09C7uUsZGQPD2DK0hO0dAczQoixOiR0C3a+WEZ/qLP7XlDCaKiRVA/fj0BrxvJUDE5f77WQAwQI4Cy+/YKzVADjRQ1gDiOUC4I0c7Gxo+QBtURFur/0BAm/pREhbCQkBocRiiz1pEQAhwxzikwUVAHpO/7i/7RkBcM4P2UvZHQK5O3JtTt0hACk3oDiJWSUDiBbfcb+BJQIeySL3OWEpAyhCso837lD8QH+6/iJAVQKqV5VM7cyVAGjR3ohkCMEBFnfavdT81QJfQAEI3aDpAcHOAo58pP0DYKp4mI7ZBQGMtmtkxrUNAB2DcvsF6RUAJDNPBPxpHQJMgv5M5hUhACbXTxWDFSUBhDJqTVNJKQJR73NesoUtALYPmHBVKTEBZnFkIZ9dMQLlr5YRn+ps/a1jPWYeXFUBYMtagunYlQHGC70jZAzBAm+tuVjVBNUC1bT4sd3Y6QISCMgvklT9AjTMbHtksQkBXhz4GWVFEQAdgCVH9SUZA8Z1La+sZSEBPIjkW68NJQCSl1929OEtAJ5v4rTN+TEBqt/cmBZNNQBWjOFFQcE5AiejQKw0iT0BTYw+zgHyhP8aRsPOFnhVABM/G7Tl6JUDI0GfvmAUwQPI55/z0QjVAC7y20jZ4OkAOLq5Mz6Q/QAIiNYDeW0JAbiGmfJO8REAnyNHGmd5GQNnxOdov2khA7mZXZj6sSkASf8WN2VhMQGJN8Zxa2k1A6KZGEpgqT0C/vb5jSCJQQJzw1LUbllBA",
          "dtype": "f8",
          "shape": "6, 17"
         }
        }
       ],
       "layout": {
        "height": 600,
        "scene": {
         "xaxis": {
          "title": {
           "text": "PV Capacity / Average Demand"
          }
         },
         "yaxis": {
          "title": {
           "text": "Battery Storage (hours of average demand)"
          }
         },
         "zaxis": {
          "title": {
           "text": "SSR (%)"
          }
         }
        },
        "template": {
         "data": {
          "bar": [
           {
            "error_x": {
             "color": "#2a3f5f"
            },
            "error_y": {
             "color": "#2a3f5f"
            },
            "marker": {
             "line": {
              "color": "white",
              "width": 0.5
             },
             "pattern": {
              "fillmode": "overlay",
              "size": 10,
              "solidity": 0.2
             }
            },
            "type": "bar"
           }
          ],
          "barpolar": [
           {
            "marker": {
             "line": {
              "color": "white",
              "width": 0.5
             },
             "pattern": {
              "fillmode": "overlay",
              "size": 10,
              "solidity": 0.2
             }
            },
            "type": "barpolar"
           }
          ],
          "carpet": [
           {
            "aaxis": {
             "endlinecolor": "#2a3f5f",
             "gridcolor": "#C8D4E3",
             "linecolor": "#C8D4E3",
             "minorgridcolor": "#C8D4E3",
             "startlinecolor": "#2a3f5f"
            },
            "baxis": {
             "endlinecolor": "#2a3f5f",
             "gridcolor": "#C8D4E3",
             "linecolor": "#C8D4E3",
             "minorgridcolor": "#C8D4E3",
             "startlinecolor": "#2a3f5f"
            },
            "type": "carpet"
           }
          ],
          "choropleth": [
           {
            "colorbar": {
             "outlinewidth": 0,
             "ticks": ""
            },
            "type": "choropleth"
           }
          ],
          "contour": [
           {
            "colorbar": {
             "outlinewidth": 0,
             "ticks": ""
            },
            "colorscale": [
             [
              0,
              "#0d0887"
             ],
             [
              0.1111111111111111,
              "#46039f"
             ],
             [
              0.2222222222222222,
              "#7201a8"
             ],
             [
              0.3333333333333333,
              "#9c179e"
             ],
             [
              0.4444444444444444,
              "#bd3786"
             ],
             [
              0.5555555555555556,
              "#d8576b"
             ],
             [
              0.6666666666666666,
              "#ed7953"
             ],
             [
              0.7777777777777778,
              "#fb9f3a"
             ],
             [
              0.8888888888888888,
              "#fdca26"
             ],
             [
              1,
              "#f0f921"
             ]
            ],
            "type": "contour"
           }
          ],
          "contourcarpet": [
           {
            "colorbar": {
             "outlinewidth": 0,
             "ticks": ""
            },
            "type": "contourcarpet"
           }
          ],
          "heatmap": [
           {
            "colorbar": {
             "outlinewidth": 0,
             "ticks": ""
            },
            "colorscale": [
             [
              0,
              "#0d0887"
             ],
             [
              0.1111111111111111,
              "#46039f"
             ],
             [
              0.2222222222222222,
              "#7201a8"
             ],
             [
              0.3333333333333333,
              "#9c179e"
             ],
             [
              0.4444444444444444,
              "#bd3786"
             ],
             [
              0.5555555555555556,
              "#d8576b"
             ],
             [
              0.6666666666666666,
              "#ed7953"
             ],
             [
              0.7777777777777778,
              "#fb9f3a"
             ],
             [
              0.8888888888888888,
              "#fdca26"
             ],
             [
              1,
              "#f0f921"
             ]
            ],
            "type": "heatmap"
           }
          ],
          "histogram": [
           {
            "marker": {
             "pattern": {
              "fillmode": "overlay",
              "size": 10,
              "solidity": 0.2
             }
            },
            "type": "histogram"
           }
          ],
          "histogram2d": [
           {
            "colorbar": {
             "outlinewidth": 0,
             "ticks": ""
            },
            "colorscale": [
             [
              0,
              "#0d0887"
             ],
             [
              0.1111111111111111,
              "#46039f"
             ],
             [
              0.2222222222222222,
              "#7201a8"
             ],
             [
              0.3333333333333333,
              "#9c179e"
             ],
             [
              0.4444444444444444,
              "#bd3786"
             ],
             [
              0.5555555555555556,
              "#d8576b"
             ],
             [
              0.6666666666666666,
              "#ed7953"
             ],
             [
              0.7777777777777778,
              "#fb9f3a"
             ],
             [
              0.8888888888888888,
              "#fdca26"
             ],
             [
              1,
              "#f0f921"
             ]
            ],
            "type": "histogram2d"
           }
          ],
          "histogram2dcontour": [
           {
            "colorbar": {
             "outlinewidth": 0,
             "ticks": ""
            },
            "colorscale": [
             [
              0,
              "#0d0887"
             ],
             [
              0.1111111111111111,
              "#46039f"
             ],
             [
              0.2222222222222222,
              "#7201a8"
             ],
             [
              0.3333333333333333,
              "#9c179e"
             ],
             [
              0.4444444444444444,
              "#bd3786"
             ],
             [
              0.5555555555555556,
              "#d8576b"
             ],
             [
              0.6666666666666666,
              "#ed7953"
             ],
             [
              0.7777777777777778,
              "#fb9f3a"
             ],
             [
              0.8888888888888888,
              "#fdca26"
             ],
             [
              1,
              "#f0f921"
             ]
            ],
            "type": "histogram2dcontour"
           }
          ],
          "mesh3d": [
           {
            "colorbar": {
             "outlinewidth": 0,
             "ticks": ""
            },
            "type": "mesh3d"
           }
          ],
          "parcoords": [
           {
            "line": {
             "colorbar": {
              "outlinewidth": 0,
              "ticks": ""
             }
            },
            "type": "parcoords"
           }
          ],
          "pie": [
           {
            "automargin": true,
            "type": "pie"
           }
          ],
          "scatter": [
           {
            "fillpattern": {
             "fillmode": "overlay",
             "size": 10,
             "solidity": 0.2
            },
            "type": "scatter"
           }
          ],
          "scatter3d": [
           {
            "line": {
             "colorbar": {
              "outlinewidth": 0,
              "ticks": ""
             }
            },
            "marker": {
             "colorbar": {
              "outlinewidth": 0,
              "ticks": ""
             }
            },
            "type": "scatter3d"
           }
          ],
          "scattercarpet": [
           {
            "marker": {
             "colorbar": {
              "outlinewidth": 0,
              "ticks": ""
             }
            },
            "type": "scattercarpet"
           }
          ],
          "scattergeo": [
           {
            "marker": {
             "colorbar": {
              "outlinewidth": 0,
              "ticks": ""
             }
            },
            "type": "scattergeo"
           }
          ],
          "scattergl": [
           {
            "marker": {
             "colorbar": {
              "outlinewidth": 0,
              "ticks": ""
             }
            },
            "type": "scattergl"
           }
          ],
          "scattermap": [
           {
            "marker": {
             "colorbar": {
              "outlinewidth": 0,
              "ticks": ""
             }
            },
            "type": "scattermap"
           }
          ],
          "scattermapbox": [
           {
            "marker": {
             "colorbar": {
              "outlinewidth": 0,
              "ticks": ""
             }
            },
            "type": "scattermapbox"
           }
          ],
          "scatterpolar": [
           {
            "marker": {
             "colorbar": {
              "outlinewidth": 0,
              "ticks": ""
             }
            },
            "type": "scatterpolar"
           }
          ],
          "scatterpolargl": [
           {
            "marker": {
             "colorbar": {
              "outlinewidth": 0,
              "ticks": ""
             }
            },
            "type": "scatterpolargl"
           }
          ],
          "scatterternary": [
           {
            "marker": {
             "colorbar": {
              "outlinewidth": 0,
              "ticks": ""
             }
            },
            "type": "scatterternary"
           }
          ],
          "surface": [
           {
            "colorbar": {
             "outlinewidth": 0,
             "ticks": ""
            },
            "colorscale": [
             [
              0,
              "#0d0887"
             ],
             [
              0.1111111111111111,
              "#46039f"
             ],
             [
              0.2222222222222222,
              "#7201a8"
             ],
             [
              0.3333333333333333,
              "#9c179e"
             ],
             [
              0.4444444444444444,
              "#bd3786"
             ],
             [
              0.5555555555555556,
              "#d8576b"
             ],
             [
              0.6666666666666666,
              "#ed7953"
             ],
             [
              0.7777777777777778,
              "#fb9f3a"
             ],
             [
              0.8888888888888888,
              "#fdca26"
             ],
             [
              1,
              "#f0f921"
             ]
            ],
            "type": "surface"
           }
          ],
          "table": [
           {
            "cells": {
             "fill": {
              "color": "#EBF0F8"
             },
             "line": {
              "color": "white"
             }
            },
            "header": {
             "fill": {
              "color": "#C8D4E3"
             },
             "line": {
              "color": "white"
             }
            },
            "type": "table"
           }
          ]
         },
         "layout": {
          "annotationdefaults": {
           "arrowcolor": "#2a3f5f",
           "arrowhead": 0,
           "arrowwidth": 1
          },
          "autotypenumbers": "strict",
          "coloraxis": {
           "colorbar": {
            "outlinewidth": 0,
            "ticks": ""
           }
          },
          "colorscale": {
           "diverging": [
            [
             0,
             "#8e0152"
            ],
            [
             0.1,
             "#c51b7d"
            ],
            [
             0.2,
             "#de77ae"
            ],
            [
             0.3,
             "#f1b6da"
            ],
            [
             0.4,
             "#fde0ef"
            ],
            [
             0.5,
             "#f7f7f7"
            ],
            [
             0.6,
             "#e6f5d0"
            ],
            [
             0.7,
             "#b8e186"
            ],
            [
             0.8,
             "#7fbc41"
            ],
            [
             0.9,
             "#4d9221"
            ],
            [
             1,
             "#276419"
            ]
           ],
           "sequential": [
            [
             0,
             "#0d0887"
            ],
            [
             0.1111111111111111,
             "#46039f"
            ],
            [
             0.2222222222222222,
             "#7201a8"
            ],
            [
             0.3333333333333333,
             "#9c179e"
            ],
            [
             0.4444444444444444,
             "#bd3786"
            ],
            [
             0.5555555555555556,
             "#d8576b"
            ],
            [
             0.6666666666666666,
             "#ed7953"
            ],
            [
             0.7777777777777778,
             "#fb9f3a"
            ],
            [
             0.8888888888888888,
             "#fdca26"
            ],
            [
             1,
             "#f0f921"
            ]
           ],
           "sequentialminus": [
            [
             0,
             "#0d0887"
            ],
            [
             0.1111111111111111,
             "#46039f"
            ],
            [
             0.2222222222222222,
             "#7201a8"
            ],
            [
             0.3333333333333333,
             "#9c179e"
            ],
            [
             0.4444444444444444,
             "#bd3786"
            ],
            [
             0.5555555555555556,
             "#d8576b"
            ],
            [
             0.6666666666666666,
             "#ed7953"
            ],
            [
             0.7777777777777778,
             "#fb9f3a"
            ],
            [
             0.8888888888888888,
             "#fdca26"
            ],
            [
             1,
             "#f0f921"
            ]
           ]
          },
          "colorway": [
           "#636efa",
           "#EF553B",
           "#00cc96",
           "#ab63fa",
           "#FFA15A",
           "#19d3f3",
           "#FF6692",
           "#B6E880",
           "#FF97FF",
           "#FECB52"
          ],
          "font": {
           "color": "#2a3f5f"
          },
          "geo": {
           "bgcolor": "white",
           "lakecolor": "white",
           "landcolor": "white",
           "showlakes": true,
           "showland": true,
           "subunitcolor": "#C8D4E3"
          },
          "hoverlabel": {
           "align": "left"
          },
          "hovermode": "closest",
          "mapbox": {
           "style": "light"
          },
          "paper_bgcolor": "white",
          "plot_bgcolor": "white",
          "polar": {
           "angularaxis": {
            "gridcolor": "#EBF0F8",
            "linecolor": "#EBF0F8",
            "ticks": ""
           },
           "bgcolor": "white",
           "radialaxis": {
            "gridcolor": "#EBF0F8",
            "linecolor": "#EBF0F8",
            "ticks": ""
           }
          },
          "scene": {
           "xaxis": {
            "backgroundcolor": "white",
            "gridcolor": "#DFE8F3",
            "gridwidth": 2,
            "linecolor": "#EBF0F8",
            "showbackground": true,
            "ticks": "",
            "zerolinecolor": "#EBF0F8"
           },
           "yaxis": {
            "backgroundcolor": "white",
            "gridcolor": "#DFE8F3",
            "gridwidth": 2,
            "linecolor": "#EBF0F8",
            "showbackground": true,
            "ticks": "",
            "zerolinecolor": "#EBF0F8"
           },
           "zaxis": {
            "backgroundcolor": "white",
            "gridcolor": "#DFE8F3",
            "gridwidth": 2,
            "linecolor": "#EBF0F8",
            "showbackground": true,
            "ticks": "",
            "zerolinecolor": "#EBF0F8"
           }
          },
          "shapedefaults": {
           "line": {
            "color": "#2a3f5f"
           }
          },
          "ternary": {
           "aaxis": {
            "gridcolor": "#DFE8F3",
            "linecolor": "#A2B1C6",
            "ticks": ""
           },
           "baxis": {
            "gridcolor": "#DFE8F3",
            "linecolor": "#A2B1C6",
            "ticks": ""
           },
           "bgcolor": "white",
           "caxis": {
            "gridcolor": "#DFE8F3",
            "linecolor": "#A2B1C6",
            "ticks": ""
           }
          },
          "title": {
           "x": 0.05
          },
          "xaxis": {
           "automargin": true,
           "gridcolor": "#EBF0F8",
           "linecolor": "#EBF0F8",
           "ticks": "",
           "title": {
            "standoff": 15
           },
           "zerolinecolor": "#EBF0F8",
           "zerolinewidth": 2
          },
          "yaxis": {
           "automargin": true,
           "gridcolor": "#EBF0F8",
           "linecolor": "#EBF0F8",
           "ticks": "",
           "title": {
            "standoff": 15
           },
           "zerolinecolor": "#EBF0F8",
           "zerolinewidth": 2
          }
         }
        },
        "title": {
         "text": "Self-Sufficiency Rate vs. Normalized PV Capacity & Battery Hours"
        },
        "width": 800
       }
      }
     },
     "metadata": {},
     "output_type": "display_data"
    }
   ],
   "source": [
    "import numpy as np\n",
    "import plotly.graph_objects as go\n",
    "\n",
    "# ---------------------------\n",
    "# 1) Basic System/Load Info\n",
    "# ---------------------------\n",
    "battery_capacity_per_unit = 57  # kWh per single 'battery unit' (if relevant)\n",
    "converter_efficiency = 0.9      # 90%\n",
    "initial_soc = 50               # 50% initial State of Charge\n",
    "\n",
    "# Calculate total annual demand (kWh) and average demand (kW)\n",
    "total_energy_demand = merged_data['Consumption_kWh'].sum()  # kWh over the entire dataset\n",
    "num_hours = len(merged_data)  # e.g., 8760 for one year of hourly data\n",
    "average_demand = total_energy_demand / num_hours  # [kW]\n",
    "\n",
    "print(f\"Total energy demand = {total_energy_demand:.1f} kWh\")\n",
    "print(f\"Average demand = {average_demand:.2f} kW\")\n",
    "\n",
    "# ---------------------------\n",
    "# 2) Define Ranges in Normalized Terms\n",
    "# ---------------------------\n",
    "# For example, let normalized PV capacity vary from 0.0 to 8.0\n",
    "# => means up to 3 × average demand\n",
    "norm_pv_range = np.arange(0.0, 8.1, 0.5)\n",
    "\n",
    "# For battery, define hours of storage from 0 to 10\n",
    "battery_hours_range = np.arange(0.0, 10.1, 2.0)\n",
    "\n",
    "# Create 2D meshgrids for these two ranges\n",
    "norm_pv_grid, battery_hours_grid = np.meshgrid(norm_pv_range, battery_hours_range)\n",
    "\n",
    "# Prepare empty 2D array for SSR results\n",
    "ssr_grid = np.zeros_like(norm_pv_grid, dtype=float)\n",
    "\n",
    "# ---------------------------\n",
    "# 3) Calculate SSR for Each Combination\n",
    "# ---------------------------\n",
    "for i in range(norm_pv_grid.shape[0]):\n",
    "    for j in range(norm_pv_grid.shape[1]):\n",
    "        \n",
    "        # Extract the current normalized PV ratio & battery hours\n",
    "        norm_pv = norm_pv_grid[i, j]        # dimensionless\n",
    "        battery_hours = battery_hours_grid[i, j]  # hours\n",
    "\n",
    "        # Convert normalized ratio -> installed PV power (kW)\n",
    "        installed_pv_kW = norm_pv * average_demand\n",
    "\n",
    "        # Convert hours -> battery capacity in kWh\n",
    "        battery_capacity = battery_hours * average_demand\n",
    "\n",
    "        # Track total energy that meets consumption from PV & battery\n",
    "        total_energy_supplied_pv_to_demand = 0.0\n",
    "        total_energy_discharged = 0.0\n",
    "\n",
    "        # Initialize battery state-of-charge (SOC) in [%]\n",
    "        soc = initial_soc\n",
    "\n",
    "        # Go hour-by-hour (or time-step by time-step) in merged_data\n",
    "        for _, row in merged_data.iterrows():\n",
    "            consumption = row['Consumption_kWh']  # kWh demanded in this hour\n",
    "            # If 'PV_Production_kWh' is generation from a 1 kW reference system,\n",
    "            # then the actual generation = (production_1kW * installed_pv_kW).\n",
    "            pv_production = row['PV_Production_kWh'] * installed_pv_kW\n",
    "            \n",
    "            # 1) Direct supply\n",
    "            direct_supply = min(pv_production, consumption)\n",
    "            total_energy_supplied_pv_to_demand += direct_supply\n",
    "\n",
    "            # 2) Battery interactions\n",
    "            excess = pv_production - direct_supply   # leftover PV\n",
    "            deficit = consumption - direct_supply    # unmet demand\n",
    "\n",
    "            # Charge battery if we have excess PV\n",
    "            if excess > 0 and battery_capacity > 0 and soc < 100:\n",
    "                charge_potential = min(excess * converter_efficiency,\n",
    "                                       (100 - soc)/100.0 * battery_capacity)\n",
    "                soc += (charge_potential / battery_capacity) * 100.0\n",
    "            \n",
    "            # Discharge battery if we still have a deficit\n",
    "            elif deficit > 0 and battery_capacity > 0 and soc > 20:\n",
    "                discharge_potential = min(deficit,\n",
    "                                          (soc - 20)/100.0 * battery_capacity * converter_efficiency)\n",
    "                total_energy_discharged += discharge_potential\n",
    "                soc -= (discharge_potential / battery_capacity) * 100.0\n",
    "\n",
    "        # Compute SSR = fraction of total demand supplied by PV+Battery\n",
    "        if total_energy_demand > 0:\n",
    "            ssr = ((total_energy_supplied_pv_to_demand + total_energy_discharged)\n",
    "                   / total_energy_demand) * 100.0\n",
    "        else:\n",
    "            ssr = 0.0\n",
    "        \n",
    "        # Store in the grid\n",
    "        ssr_grid[i, j] = ssr\n",
    "\n",
    "# ---------------------------\n",
    "# 4) Plot a 3D Surface\n",
    "# ---------------------------\n",
    "fig = go.Figure(data=[\n",
    "    go.Surface(\n",
    "        x=norm_pv_grid,              # x-axis: normalized PV capacity\n",
    "        y=battery_hours_grid,        # y-axis: battery hours\n",
    "        z=ssr_grid,                  # z-axis: SSR (%)\n",
    "        colorscale='Viridis',\n",
    "        colorbar=dict(title='SSR (%)')\n",
    "    )\n",
    "])\n",
    "\n",
    "fig.update_layout(\n",
    "    title='Self-Sufficiency Rate vs. Normalized PV Capacity & Battery Hours',\n",
    "    scene=dict(\n",
    "        xaxis_title='PV Capacity / Average Demand',\n",
    "        yaxis_title='Battery Utilize Capacity / ',\n",
    "        zaxis_title='SSR (%)'\n",
    "    ),\n",
    "    template='plotly_white',\n",
    "    width=800,\n",
    "    height=600\n",
    ")\n",
    "\n",
    "fig.show()\n"
   ]
  },
  {
   "cell_type": "code",
   "execution_count": 14,
   "metadata": {},
   "outputs": [
    {
     "data": {
      "application/vnd.plotly.v1+json": {
       "config": {
        "plotlyServerURL": "https://plot.ly"
       },
       "data": [
        {
         "line": {
          "color": "blue"
         },
         "marker": {
          "size": 8
         },
         "mode": "lines+markers",
         "name": "ROI (%)",
         "type": "scatter",
         "x": {
          "bdata": "AAAAAGQAAADIAAAALAEAAJABAAD0AQAAWAIAALwCAAAgAwAAhAMAAOgDAABMBAAAsAQAABQFAAB4BQAA3AUAAA==",
          "dtype": "i4"
         },
         "y": [
          -5,
          -2.071240376943003,
          -0.2783806129753889,
          0.7859611171259889,
          1.4282547811951058,
          1.7552888388888916,
          1.8228572836468753,
          1.6790830221111719,
          1.4333627541747638,
          1.155918706714581,
          0.8866073857800763,
          0.6127614555762105,
          0.3673110621234742,
          0.13583596697067027,
          -0.0631791912906216,
          -0.29389360765411704
         ]
        }
       ],
       "layout": {
        "height": 600,
        "template": {
         "data": {
          "bar": [
           {
            "error_x": {
             "color": "#2a3f5f"
            },
            "error_y": {
             "color": "#2a3f5f"
            },
            "marker": {
             "line": {
              "color": "white",
              "width": 0.5
             },
             "pattern": {
              "fillmode": "overlay",
              "size": 10,
              "solidity": 0.2
             }
            },
            "type": "bar"
           }
          ],
          "barpolar": [
           {
            "marker": {
             "line": {
              "color": "white",
              "width": 0.5
             },
             "pattern": {
              "fillmode": "overlay",
              "size": 10,
              "solidity": 0.2
             }
            },
            "type": "barpolar"
           }
          ],
          "carpet": [
           {
            "aaxis": {
             "endlinecolor": "#2a3f5f",
             "gridcolor": "#C8D4E3",
             "linecolor": "#C8D4E3",
             "minorgridcolor": "#C8D4E3",
             "startlinecolor": "#2a3f5f"
            },
            "baxis": {
             "endlinecolor": "#2a3f5f",
             "gridcolor": "#C8D4E3",
             "linecolor": "#C8D4E3",
             "minorgridcolor": "#C8D4E3",
             "startlinecolor": "#2a3f5f"
            },
            "type": "carpet"
           }
          ],
          "choropleth": [
           {
            "colorbar": {
             "outlinewidth": 0,
             "ticks": ""
            },
            "type": "choropleth"
           }
          ],
          "contour": [
           {
            "colorbar": {
             "outlinewidth": 0,
             "ticks": ""
            },
            "colorscale": [
             [
              0,
              "#0d0887"
             ],
             [
              0.1111111111111111,
              "#46039f"
             ],
             [
              0.2222222222222222,
              "#7201a8"
             ],
             [
              0.3333333333333333,
              "#9c179e"
             ],
             [
              0.4444444444444444,
              "#bd3786"
             ],
             [
              0.5555555555555556,
              "#d8576b"
             ],
             [
              0.6666666666666666,
              "#ed7953"
             ],
             [
              0.7777777777777778,
              "#fb9f3a"
             ],
             [
              0.8888888888888888,
              "#fdca26"
             ],
             [
              1,
              "#f0f921"
             ]
            ],
            "type": "contour"
           }
          ],
          "contourcarpet": [
           {
            "colorbar": {
             "outlinewidth": 0,
             "ticks": ""
            },
            "type": "contourcarpet"
           }
          ],
          "heatmap": [
           {
            "colorbar": {
             "outlinewidth": 0,
             "ticks": ""
            },
            "colorscale": [
             [
              0,
              "#0d0887"
             ],
             [
              0.1111111111111111,
              "#46039f"
             ],
             [
              0.2222222222222222,
              "#7201a8"
             ],
             [
              0.3333333333333333,
              "#9c179e"
             ],
             [
              0.4444444444444444,
              "#bd3786"
             ],
             [
              0.5555555555555556,
              "#d8576b"
             ],
             [
              0.6666666666666666,
              "#ed7953"
             ],
             [
              0.7777777777777778,
              "#fb9f3a"
             ],
             [
              0.8888888888888888,
              "#fdca26"
             ],
             [
              1,
              "#f0f921"
             ]
            ],
            "type": "heatmap"
           }
          ],
          "histogram": [
           {
            "marker": {
             "pattern": {
              "fillmode": "overlay",
              "size": 10,
              "solidity": 0.2
             }
            },
            "type": "histogram"
           }
          ],
          "histogram2d": [
           {
            "colorbar": {
             "outlinewidth": 0,
             "ticks": ""
            },
            "colorscale": [
             [
              0,
              "#0d0887"
             ],
             [
              0.1111111111111111,
              "#46039f"
             ],
             [
              0.2222222222222222,
              "#7201a8"
             ],
             [
              0.3333333333333333,
              "#9c179e"
             ],
             [
              0.4444444444444444,
              "#bd3786"
             ],
             [
              0.5555555555555556,
              "#d8576b"
             ],
             [
              0.6666666666666666,
              "#ed7953"
             ],
             [
              0.7777777777777778,
              "#fb9f3a"
             ],
             [
              0.8888888888888888,
              "#fdca26"
             ],
             [
              1,
              "#f0f921"
             ]
            ],
            "type": "histogram2d"
           }
          ],
          "histogram2dcontour": [
           {
            "colorbar": {
             "outlinewidth": 0,
             "ticks": ""
            },
            "colorscale": [
             [
              0,
              "#0d0887"
             ],
             [
              0.1111111111111111,
              "#46039f"
             ],
             [
              0.2222222222222222,
              "#7201a8"
             ],
             [
              0.3333333333333333,
              "#9c179e"
             ],
             [
              0.4444444444444444,
              "#bd3786"
             ],
             [
              0.5555555555555556,
              "#d8576b"
             ],
             [
              0.6666666666666666,
              "#ed7953"
             ],
             [
              0.7777777777777778,
              "#fb9f3a"
             ],
             [
              0.8888888888888888,
              "#fdca26"
             ],
             [
              1,
              "#f0f921"
             ]
            ],
            "type": "histogram2dcontour"
           }
          ],
          "mesh3d": [
           {
            "colorbar": {
             "outlinewidth": 0,
             "ticks": ""
            },
            "type": "mesh3d"
           }
          ],
          "parcoords": [
           {
            "line": {
             "colorbar": {
              "outlinewidth": 0,
              "ticks": ""
             }
            },
            "type": "parcoords"
           }
          ],
          "pie": [
           {
            "automargin": true,
            "type": "pie"
           }
          ],
          "scatter": [
           {
            "fillpattern": {
             "fillmode": "overlay",
             "size": 10,
             "solidity": 0.2
            },
            "type": "scatter"
           }
          ],
          "scatter3d": [
           {
            "line": {
             "colorbar": {
              "outlinewidth": 0,
              "ticks": ""
             }
            },
            "marker": {
             "colorbar": {
              "outlinewidth": 0,
              "ticks": ""
             }
            },
            "type": "scatter3d"
           }
          ],
          "scattercarpet": [
           {
            "marker": {
             "colorbar": {
              "outlinewidth": 0,
              "ticks": ""
             }
            },
            "type": "scattercarpet"
           }
          ],
          "scattergeo": [
           {
            "marker": {
             "colorbar": {
              "outlinewidth": 0,
              "ticks": ""
             }
            },
            "type": "scattergeo"
           }
          ],
          "scattergl": [
           {
            "marker": {
             "colorbar": {
              "outlinewidth": 0,
              "ticks": ""
             }
            },
            "type": "scattergl"
           }
          ],
          "scattermap": [
           {
            "marker": {
             "colorbar": {
              "outlinewidth": 0,
              "ticks": ""
             }
            },
            "type": "scattermap"
           }
          ],
          "scattermapbox": [
           {
            "marker": {
             "colorbar": {
              "outlinewidth": 0,
              "ticks": ""
             }
            },
            "type": "scattermapbox"
           }
          ],
          "scatterpolar": [
           {
            "marker": {
             "colorbar": {
              "outlinewidth": 0,
              "ticks": ""
             }
            },
            "type": "scatterpolar"
           }
          ],
          "scatterpolargl": [
           {
            "marker": {
             "colorbar": {
              "outlinewidth": 0,
              "ticks": ""
             }
            },
            "type": "scatterpolargl"
           }
          ],
          "scatterternary": [
           {
            "marker": {
             "colorbar": {
              "outlinewidth": 0,
              "ticks": ""
             }
            },
            "type": "scatterternary"
           }
          ],
          "surface": [
           {
            "colorbar": {
             "outlinewidth": 0,
             "ticks": ""
            },
            "colorscale": [
             [
              0,
              "#0d0887"
             ],
             [
              0.1111111111111111,
              "#46039f"
             ],
             [
              0.2222222222222222,
              "#7201a8"
             ],
             [
              0.3333333333333333,
              "#9c179e"
             ],
             [
              0.4444444444444444,
              "#bd3786"
             ],
             [
              0.5555555555555556,
              "#d8576b"
             ],
             [
              0.6666666666666666,
              "#ed7953"
             ],
             [
              0.7777777777777778,
              "#fb9f3a"
             ],
             [
              0.8888888888888888,
              "#fdca26"
             ],
             [
              1,
              "#f0f921"
             ]
            ],
            "type": "surface"
           }
          ],
          "table": [
           {
            "cells": {
             "fill": {
              "color": "#EBF0F8"
             },
             "line": {
              "color": "white"
             }
            },
            "header": {
             "fill": {
              "color": "#C8D4E3"
             },
             "line": {
              "color": "white"
             }
            },
            "type": "table"
           }
          ]
         },
         "layout": {
          "annotationdefaults": {
           "arrowcolor": "#2a3f5f",
           "arrowhead": 0,
           "arrowwidth": 1
          },
          "autotypenumbers": "strict",
          "coloraxis": {
           "colorbar": {
            "outlinewidth": 0,
            "ticks": ""
           }
          },
          "colorscale": {
           "diverging": [
            [
             0,
             "#8e0152"
            ],
            [
             0.1,
             "#c51b7d"
            ],
            [
             0.2,
             "#de77ae"
            ],
            [
             0.3,
             "#f1b6da"
            ],
            [
             0.4,
             "#fde0ef"
            ],
            [
             0.5,
             "#f7f7f7"
            ],
            [
             0.6,
             "#e6f5d0"
            ],
            [
             0.7,
             "#b8e186"
            ],
            [
             0.8,
             "#7fbc41"
            ],
            [
             0.9,
             "#4d9221"
            ],
            [
             1,
             "#276419"
            ]
           ],
           "sequential": [
            [
             0,
             "#0d0887"
            ],
            [
             0.1111111111111111,
             "#46039f"
            ],
            [
             0.2222222222222222,
             "#7201a8"
            ],
            [
             0.3333333333333333,
             "#9c179e"
            ],
            [
             0.4444444444444444,
             "#bd3786"
            ],
            [
             0.5555555555555556,
             "#d8576b"
            ],
            [
             0.6666666666666666,
             "#ed7953"
            ],
            [
             0.7777777777777778,
             "#fb9f3a"
            ],
            [
             0.8888888888888888,
             "#fdca26"
            ],
            [
             1,
             "#f0f921"
            ]
           ],
           "sequentialminus": [
            [
             0,
             "#0d0887"
            ],
            [
             0.1111111111111111,
             "#46039f"
            ],
            [
             0.2222222222222222,
             "#7201a8"
            ],
            [
             0.3333333333333333,
             "#9c179e"
            ],
            [
             0.4444444444444444,
             "#bd3786"
            ],
            [
             0.5555555555555556,
             "#d8576b"
            ],
            [
             0.6666666666666666,
             "#ed7953"
            ],
            [
             0.7777777777777778,
             "#fb9f3a"
            ],
            [
             0.8888888888888888,
             "#fdca26"
            ],
            [
             1,
             "#f0f921"
            ]
           ]
          },
          "colorway": [
           "#636efa",
           "#EF553B",
           "#00cc96",
           "#ab63fa",
           "#FFA15A",
           "#19d3f3",
           "#FF6692",
           "#B6E880",
           "#FF97FF",
           "#FECB52"
          ],
          "font": {
           "color": "#2a3f5f"
          },
          "geo": {
           "bgcolor": "white",
           "lakecolor": "white",
           "landcolor": "white",
           "showlakes": true,
           "showland": true,
           "subunitcolor": "#C8D4E3"
          },
          "hoverlabel": {
           "align": "left"
          },
          "hovermode": "closest",
          "mapbox": {
           "style": "light"
          },
          "paper_bgcolor": "white",
          "plot_bgcolor": "white",
          "polar": {
           "angularaxis": {
            "gridcolor": "#EBF0F8",
            "linecolor": "#EBF0F8",
            "ticks": ""
           },
           "bgcolor": "white",
           "radialaxis": {
            "gridcolor": "#EBF0F8",
            "linecolor": "#EBF0F8",
            "ticks": ""
           }
          },
          "scene": {
           "xaxis": {
            "backgroundcolor": "white",
            "gridcolor": "#DFE8F3",
            "gridwidth": 2,
            "linecolor": "#EBF0F8",
            "showbackground": true,
            "ticks": "",
            "zerolinecolor": "#EBF0F8"
           },
           "yaxis": {
            "backgroundcolor": "white",
            "gridcolor": "#DFE8F3",
            "gridwidth": 2,
            "linecolor": "#EBF0F8",
            "showbackground": true,
            "ticks": "",
            "zerolinecolor": "#EBF0F8"
           },
           "zaxis": {
            "backgroundcolor": "white",
            "gridcolor": "#DFE8F3",
            "gridwidth": 2,
            "linecolor": "#EBF0F8",
            "showbackground": true,
            "ticks": "",
            "zerolinecolor": "#EBF0F8"
           }
          },
          "shapedefaults": {
           "line": {
            "color": "#2a3f5f"
           }
          },
          "ternary": {
           "aaxis": {
            "gridcolor": "#DFE8F3",
            "linecolor": "#A2B1C6",
            "ticks": ""
           },
           "baxis": {
            "gridcolor": "#DFE8F3",
            "linecolor": "#A2B1C6",
            "ticks": ""
           },
           "bgcolor": "white",
           "caxis": {
            "gridcolor": "#DFE8F3",
            "linecolor": "#A2B1C6",
            "ticks": ""
           }
          },
          "title": {
           "x": 0.05
          },
          "xaxis": {
           "automargin": true,
           "gridcolor": "#EBF0F8",
           "linecolor": "#EBF0F8",
           "ticks": "",
           "title": {
            "standoff": 15
           },
           "zerolinecolor": "#EBF0F8",
           "zerolinewidth": 2
          },
          "yaxis": {
           "automargin": true,
           "gridcolor": "#EBF0F8",
           "linecolor": "#EBF0F8",
           "ticks": "",
           "title": {
            "standoff": 15
           },
           "zerolinecolor": "#EBF0F8",
           "zerolinewidth": 2
          }
         }
        },
        "title": {
         "text": "Return on Investment (ROI) vs. Number of Panels"
        },
        "width": 800,
        "xaxis": {
         "title": {
          "text": "Number of Panels"
         }
        },
        "yaxis": {
         "title": {
          "text": "ROI (%)"
         }
        }
       }
      }
     },
     "metadata": {},
     "output_type": "display_data"
    }
   ],
   "source": [
    "# Financial Parameters\n",
    "panel_cost = 1220  # € per panel\n",
    "battery_cost = 13000  # € per battery\n",
    "energy_sold_price = 0.1208  # €/kWh\n",
    "energy_purchased_price = 0.2713  # €/kWh\n",
    "om_cost_panels_rate = 0.07  # 7%\n",
    "om_cost_batteries_rate = 0.05  # 5%\n",
    "\n",
    "# System Parameters\n",
    "battery_capacity_per_unit = 57  # kWh per battery\n",
    "converter_efficiency = 0.9  # 90% efficiency\n",
    "initial_soc = 50  # 50% initial battery SOC\n",
    "\n",
    "# Number of Batteries (Fixed for Analysis)\n",
    "num_batteries = 50\n",
    "\n",
    "# Energy Demand\n",
    "total_energy_demand = merged_data['Consumption_kWh'].sum()\n",
    "\n",
    "# Define range of number of panels to analyze\n",
    "panel_range = np.arange(0, 1501, 100)  \n",
    "\n",
    "# Initialize list to store ROI values\n",
    "roi_values = []\n",
    "\n",
    "# Loop through each panel configuration\n",
    "for num_panels in panel_range:\n",
    "    # Calculate annual PV production\n",
    "    annual_pv_production = merged_data['PV_Production_kWh'].sum() * num_panels \n",
    "    \n",
    "    # Initialize annual metrics\n",
    "    annual_energy_supplied_pv_to_demand = 0\n",
    "    annual_energy_discharged = 0\n",
    "    annual_excess_energy = 0\n",
    "    annual_soc = initial_soc  # Reset SOC for the year\n",
    "    \n",
    "    battery_capacity = battery_capacity_per_unit * num_batteries\n",
    "    \n",
    "    for timestamp, row in merged_data.iterrows():\n",
    "        consumption = row['Consumption_kWh']\n",
    "        pv_production = row['PV_Production_kWh'] * num_panels \n",
    "        # Energy supplied to demand\n",
    "        energy_supplied = min(pv_production, consumption)\n",
    "        annual_energy_supplied_pv_to_demand += energy_supplied\n",
    "\n",
    "        # Excess and deficit handling\n",
    "        excess = pv_production - energy_supplied\n",
    "        deficit = consumption - energy_supplied\n",
    "        \n",
    "        if excess > 0 and num_batteries > 0 and annual_soc < 100:\n",
    "            charge = min(excess * converter_efficiency, (100 - annual_soc) / 100 * battery_capacity)\n",
    "            annual_soc += (charge / battery_capacity) * 100\n",
    "            remaining_excess = excess - (charge / converter_efficiency)\n",
    "            annual_excess_energy += max(remaining_excess, 0)\n",
    "        \n",
    "        if deficit > 0 and num_batteries > 0 and annual_soc > 20:\n",
    "            discharge = min(deficit, (annual_soc - 20) / 100 * battery_capacity * converter_efficiency)\n",
    "            annual_energy_discharged += discharge\n",
    "            annual_soc -= (discharge / battery_capacity) * 100\n",
    "\n",
    "    # Calculate Financial Metrics\n",
    "    total_initial_investment = (panel_cost * num_panels) + (battery_cost * num_batteries)\n",
    "    \n",
    "    om_cost_panels = panel_cost * num_panels * om_cost_panels_rate\n",
    "    om_cost_batteries = battery_cost * num_batteries * om_cost_batteries_rate\n",
    "    total_om_cost = om_cost_panels + om_cost_batteries\n",
    "    \n",
    "    total_savings = annual_energy_supplied_pv_to_demand * energy_purchased_price\n",
    "    revenue_surplus = annual_excess_energy * energy_sold_price\n",
    "    \n",
    "    net_savings = (total_savings + revenue_surplus) - total_om_cost\n",
    "    \n",
    "    # Calculate ROI\n",
    "    roi = (net_savings / total_initial_investment) * 100 if total_initial_investment > 0 else 0\n",
    "    roi_values.append(roi)\n",
    "\n",
    "# Plot ROI vs. Number of Panels\n",
    "fig_roi = go.Figure()\n",
    "\n",
    "fig_roi.add_trace(go.Scatter(\n",
    "    x=panel_range,\n",
    "    y=roi_values,\n",
    "    mode='lines+markers',\n",
    "    name='ROI (%)',\n",
    "    line=dict(color='blue'),\n",
    "    marker=dict(size=8)\n",
    "))\n",
    "\n",
    "fig_roi.update_layout(\n",
    "    title='Return on Investment (ROI) vs. Number of Panels',\n",
    "    xaxis_title='Number of Panels',\n",
    "    yaxis_title='ROI (%)',\n",
    "    template='plotly_white',\n",
    "    width=800,\n",
    "    height=600\n",
    ")\n",
    "\n",
    "fig_roi.show()\n"
   ]
  },
  {
   "cell_type": "code",
   "execution_count": 15,
   "metadata": {},
   "outputs": [
    {
     "data": {
      "application/vnd.plotly.v1+json": {
       "config": {
        "plotlyServerURL": "https://plot.ly"
       },
       "data": [
        {
         "colorbar": {
          "title": {
           "text": "ROI (%)"
          }
         },
         "colorscale": [
          [
           0,
           "#440154"
          ],
          [
           0.1111111111111111,
           "#482878"
          ],
          [
           0.2222222222222222,
           "#3e4989"
          ],
          [
           0.3333333333333333,
           "#31688e"
          ],
          [
           0.4444444444444444,
           "#26828e"
          ],
          [
           0.5555555555555556,
           "#1f9e89"
          ],
          [
           0.6666666666666666,
           "#35b779"
          ],
          [
           0.7777777777777778,
           "#6ece58"
          ],
          [
           0.8888888888888888,
           "#b5de2b"
          ],
          [
           1,
           "#fde725"
          ]
         ],
         "type": "surface",
         "x": {
          "bdata": "9AEAAFgCAAC8AgAAIAMAAIQDAADoAwAATAQAALAEAAAUBQAAeAUAANwFAAD0AQAAWAIAALwCAAAgAwAAhAMAAOgDAABMBAAAsAQAABQFAAB4BQAA3AUAAPQBAABYAgAAvAIAACADAACEAwAA6AMAAEwEAACwBAAAFAUAAHgFAADcBQAA9AEAAFgCAAC8AgAAIAMAAIQDAADoAwAATAQAALAEAAAUBQAAeAUAANwFAAD0AQAAWAIAALwCAAAgAwAAhAMAAOgDAABMBAAAsAQAABQFAAB4BQAA3AUAAPQBAABYAgAAvAIAACADAACEAwAA6AMAAEwEAACwBAAAFAUAAHgFAADcBQAA9AEAAFgCAAC8AgAAIAMAAIQDAADoAwAATAQAALAEAAAUBQAAeAUAANwFAAD0AQAAWAIAALwCAAAgAwAAhAMAAOgDAABMBAAAsAQAABQFAAB4BQAA3AUAAPQBAABYAgAAvAIAACADAACEAwAA6AMAAEwEAACwBAAAFAUAAHgFAADcBQAA9AEAAFgCAAC8AgAAIAMAAIQDAADoAwAATAQAALAEAAAUBQAAeAUAANwFAAD0AQAAWAIAALwCAAAgAwAAhAMAAOgDAABMBAAAsAQAABQFAAB4BQAA3AUAAA==",
          "dtype": "i4",
          "shape": "11, 11"
         },
         "y": {
          "bdata": "AAAAAAAAAAAAAAAAAAAAAAAAAAAAAAAAAAAAAAAAAAAAAAAAAAAAAAAAAAAKAAAACgAAAAoAAAAKAAAACgAAAAoAAAAKAAAACgAAAAoAAAAKAAAACgAAABQAAAAUAAAAFAAAABQAAAAUAAAAFAAAABQAAAAUAAAAFAAAABQAAAAUAAAAHgAAAB4AAAAeAAAAHgAAAB4AAAAeAAAAHgAAAB4AAAAeAAAAHgAAAB4AAAAoAAAAKAAAACgAAAAoAAAAKAAAACgAAAAoAAAAKAAAACgAAAAoAAAAKAAAADIAAAAyAAAAMgAAADIAAAAyAAAAMgAAADIAAAAyAAAAMgAAADIAAAAyAAAAPAAAADwAAAA8AAAAPAAAADwAAAA8AAAAPAAAADwAAAA8AAAAPAAAADwAAABGAAAARgAAAEYAAABGAAAARgAAAEYAAABGAAAARgAAAEYAAABGAAAARgAAAFAAAABQAAAAUAAAAFAAAABQAAAAUAAAAFAAAABQAAAAUAAAAFAAAABQAAAAWgAAAFoAAABaAAAAWgAAAFoAAABaAAAAWgAAAFoAAABaAAAAWgAAAFoAAABkAAAAZAAAAGQAAABkAAAAZAAAAGQAAABkAAAAZAAAAGQAAABkAAAAZAAAAA==",
          "dtype": "i4",
          "shape": "11, 11"
         },
         "z": {
          "bdata": "JkGoXjfoIUAm31Mkj4YfQDJ2DSy/BRtAUPd/fHHBFkCNaEFpF/wSQB1UD4+tXQ9AUfQO2jWWCUAb5x+d4YIEQH4rXGXlCwBADKRvHWwW+D+FwoVe5unwP3dwzr0AdBpAc22+VkFrGEAmI1FwP6MVQCndPoV3shJA3qgpv3EGEEAq5sUiTRsLQMKya8bDpwZAcq1Vuc5uAkA6mVVF86n9P3ezSgRT0PY/Ock/Rd/F8D//SwBCZz8TQEasx/8xRhJAgnh0ON+DEED7tPrZfLgMQFRtuCABkAhAh7DMmZzsBEDiC+paaCkBQHs8R4Sr8fs/s/S/52nJ9T94EIlaikXwP6x9jj6V9OU/Ieu4dfEXDEACABT2aV8LQOSIC5wy3whApzhCQ9SxBUAYkAkIJ08CQPivQO/hy/4/Y1XWVm3E+D/mwtoxV0PzP9piZ7DzDe0/POwETLD74j+4BW9AYtTVPwGYSwdzQgRAIhvIms5CBEBvn0H5jo8CQE/IEhVsHABAhA2J35/L+j8NzE19V5X1P2rAgK87l/A/uBcLQ7856D/OHXOl8SPfP98t6wgYrc8/oRyVLAsfcb9T/OC/qRX8P56eKGZsKv0/AMizKIbd+j/2wofIDe/2P6XHIp2kfvI/0ijKcxZf7D+xX37pvZvjP87g0UEGgtc/bTnhrRJjwT/MhWHwgiywv1EvWCInz9K/yMyHVdr58T+Ri6pan8fzP/l7KdbEVfI/5a03RZJl7j9918mg5PvmP8KETCFB0N8/TaMeekB00D9vETXZr0ajP9G2DMzaq8S//zwcp8yG1b+8QKm/p3/hv/VeOIhjMeM//E5/K5TC5z9EBO3ntyTmP8v7nKF0IOE/I+OODGvn1T9BxYuOIBjDP/m1IfjNMa2/f08najauz7+SK50Jgyjbv82H80gckOK/tQwXpre16L9tE3G5fEzEPw7PhmK/jtQ/3yReCac80z8gu0WLl+nGP9OOemLS640/Zy0xDOwLxL+pNEkmbwTVvwai1/Cu69+/KEnAzpgi5b8+Rn7cq4fpv5jr/wI4+O6/9ijpzN/sy79pwp8W7MClv7Qq5buDaqS/jFG/cCZiwb9D2T5DccvRv30uG7EgZNu/m8bBI61w4r8pYhA2bxLnv0yNb1s/1uu/iiSAhfbC779bcwbJSFnyv9G9hsZtZeG/PLEqdYYE17+jvJQr/bXVv0IK3BNKn9q/eQdI7VQI4b+QoUG+LlHlv8jKFjz+m+m/OghKEn+a7b9s0Bx4Be7wv3QS5BFzuvK/M8KpnO7h9L8=",
          "dtype": "f8",
          "shape": "11, 11"
         }
        }
       ],
       "layout": {
        "height": 600,
        "scene": {
         "xaxis": {
          "title": {
           "text": "Number of Panels"
          }
         },
         "yaxis": {
          "title": {
           "text": "Number of Batteries"
          }
         },
         "zaxis": {
          "title": {
           "text": "ROI (%)"
          }
         }
        },
        "template": {
         "data": {
          "bar": [
           {
            "error_x": {
             "color": "#2a3f5f"
            },
            "error_y": {
             "color": "#2a3f5f"
            },
            "marker": {
             "line": {
              "color": "white",
              "width": 0.5
             },
             "pattern": {
              "fillmode": "overlay",
              "size": 10,
              "solidity": 0.2
             }
            },
            "type": "bar"
           }
          ],
          "barpolar": [
           {
            "marker": {
             "line": {
              "color": "white",
              "width": 0.5
             },
             "pattern": {
              "fillmode": "overlay",
              "size": 10,
              "solidity": 0.2
             }
            },
            "type": "barpolar"
           }
          ],
          "carpet": [
           {
            "aaxis": {
             "endlinecolor": "#2a3f5f",
             "gridcolor": "#C8D4E3",
             "linecolor": "#C8D4E3",
             "minorgridcolor": "#C8D4E3",
             "startlinecolor": "#2a3f5f"
            },
            "baxis": {
             "endlinecolor": "#2a3f5f",
             "gridcolor": "#C8D4E3",
             "linecolor": "#C8D4E3",
             "minorgridcolor": "#C8D4E3",
             "startlinecolor": "#2a3f5f"
            },
            "type": "carpet"
           }
          ],
          "choropleth": [
           {
            "colorbar": {
             "outlinewidth": 0,
             "ticks": ""
            },
            "type": "choropleth"
           }
          ],
          "contour": [
           {
            "colorbar": {
             "outlinewidth": 0,
             "ticks": ""
            },
            "colorscale": [
             [
              0,
              "#0d0887"
             ],
             [
              0.1111111111111111,
              "#46039f"
             ],
             [
              0.2222222222222222,
              "#7201a8"
             ],
             [
              0.3333333333333333,
              "#9c179e"
             ],
             [
              0.4444444444444444,
              "#bd3786"
             ],
             [
              0.5555555555555556,
              "#d8576b"
             ],
             [
              0.6666666666666666,
              "#ed7953"
             ],
             [
              0.7777777777777778,
              "#fb9f3a"
             ],
             [
              0.8888888888888888,
              "#fdca26"
             ],
             [
              1,
              "#f0f921"
             ]
            ],
            "type": "contour"
           }
          ],
          "contourcarpet": [
           {
            "colorbar": {
             "outlinewidth": 0,
             "ticks": ""
            },
            "type": "contourcarpet"
           }
          ],
          "heatmap": [
           {
            "colorbar": {
             "outlinewidth": 0,
             "ticks": ""
            },
            "colorscale": [
             [
              0,
              "#0d0887"
             ],
             [
              0.1111111111111111,
              "#46039f"
             ],
             [
              0.2222222222222222,
              "#7201a8"
             ],
             [
              0.3333333333333333,
              "#9c179e"
             ],
             [
              0.4444444444444444,
              "#bd3786"
             ],
             [
              0.5555555555555556,
              "#d8576b"
             ],
             [
              0.6666666666666666,
              "#ed7953"
             ],
             [
              0.7777777777777778,
              "#fb9f3a"
             ],
             [
              0.8888888888888888,
              "#fdca26"
             ],
             [
              1,
              "#f0f921"
             ]
            ],
            "type": "heatmap"
           }
          ],
          "histogram": [
           {
            "marker": {
             "pattern": {
              "fillmode": "overlay",
              "size": 10,
              "solidity": 0.2
             }
            },
            "type": "histogram"
           }
          ],
          "histogram2d": [
           {
            "colorbar": {
             "outlinewidth": 0,
             "ticks": ""
            },
            "colorscale": [
             [
              0,
              "#0d0887"
             ],
             [
              0.1111111111111111,
              "#46039f"
             ],
             [
              0.2222222222222222,
              "#7201a8"
             ],
             [
              0.3333333333333333,
              "#9c179e"
             ],
             [
              0.4444444444444444,
              "#bd3786"
             ],
             [
              0.5555555555555556,
              "#d8576b"
             ],
             [
              0.6666666666666666,
              "#ed7953"
             ],
             [
              0.7777777777777778,
              "#fb9f3a"
             ],
             [
              0.8888888888888888,
              "#fdca26"
             ],
             [
              1,
              "#f0f921"
             ]
            ],
            "type": "histogram2d"
           }
          ],
          "histogram2dcontour": [
           {
            "colorbar": {
             "outlinewidth": 0,
             "ticks": ""
            },
            "colorscale": [
             [
              0,
              "#0d0887"
             ],
             [
              0.1111111111111111,
              "#46039f"
             ],
             [
              0.2222222222222222,
              "#7201a8"
             ],
             [
              0.3333333333333333,
              "#9c179e"
             ],
             [
              0.4444444444444444,
              "#bd3786"
             ],
             [
              0.5555555555555556,
              "#d8576b"
             ],
             [
              0.6666666666666666,
              "#ed7953"
             ],
             [
              0.7777777777777778,
              "#fb9f3a"
             ],
             [
              0.8888888888888888,
              "#fdca26"
             ],
             [
              1,
              "#f0f921"
             ]
            ],
            "type": "histogram2dcontour"
           }
          ],
          "mesh3d": [
           {
            "colorbar": {
             "outlinewidth": 0,
             "ticks": ""
            },
            "type": "mesh3d"
           }
          ],
          "parcoords": [
           {
            "line": {
             "colorbar": {
              "outlinewidth": 0,
              "ticks": ""
             }
            },
            "type": "parcoords"
           }
          ],
          "pie": [
           {
            "automargin": true,
            "type": "pie"
           }
          ],
          "scatter": [
           {
            "fillpattern": {
             "fillmode": "overlay",
             "size": 10,
             "solidity": 0.2
            },
            "type": "scatter"
           }
          ],
          "scatter3d": [
           {
            "line": {
             "colorbar": {
              "outlinewidth": 0,
              "ticks": ""
             }
            },
            "marker": {
             "colorbar": {
              "outlinewidth": 0,
              "ticks": ""
             }
            },
            "type": "scatter3d"
           }
          ],
          "scattercarpet": [
           {
            "marker": {
             "colorbar": {
              "outlinewidth": 0,
              "ticks": ""
             }
            },
            "type": "scattercarpet"
           }
          ],
          "scattergeo": [
           {
            "marker": {
             "colorbar": {
              "outlinewidth": 0,
              "ticks": ""
             }
            },
            "type": "scattergeo"
           }
          ],
          "scattergl": [
           {
            "marker": {
             "colorbar": {
              "outlinewidth": 0,
              "ticks": ""
             }
            },
            "type": "scattergl"
           }
          ],
          "scattermap": [
           {
            "marker": {
             "colorbar": {
              "outlinewidth": 0,
              "ticks": ""
             }
            },
            "type": "scattermap"
           }
          ],
          "scattermapbox": [
           {
            "marker": {
             "colorbar": {
              "outlinewidth": 0,
              "ticks": ""
             }
            },
            "type": "scattermapbox"
           }
          ],
          "scatterpolar": [
           {
            "marker": {
             "colorbar": {
              "outlinewidth": 0,
              "ticks": ""
             }
            },
            "type": "scatterpolar"
           }
          ],
          "scatterpolargl": [
           {
            "marker": {
             "colorbar": {
              "outlinewidth": 0,
              "ticks": ""
             }
            },
            "type": "scatterpolargl"
           }
          ],
          "scatterternary": [
           {
            "marker": {
             "colorbar": {
              "outlinewidth": 0,
              "ticks": ""
             }
            },
            "type": "scatterternary"
           }
          ],
          "surface": [
           {
            "colorbar": {
             "outlinewidth": 0,
             "ticks": ""
            },
            "colorscale": [
             [
              0,
              "#0d0887"
             ],
             [
              0.1111111111111111,
              "#46039f"
             ],
             [
              0.2222222222222222,
              "#7201a8"
             ],
             [
              0.3333333333333333,
              "#9c179e"
             ],
             [
              0.4444444444444444,
              "#bd3786"
             ],
             [
              0.5555555555555556,
              "#d8576b"
             ],
             [
              0.6666666666666666,
              "#ed7953"
             ],
             [
              0.7777777777777778,
              "#fb9f3a"
             ],
             [
              0.8888888888888888,
              "#fdca26"
             ],
             [
              1,
              "#f0f921"
             ]
            ],
            "type": "surface"
           }
          ],
          "table": [
           {
            "cells": {
             "fill": {
              "color": "#EBF0F8"
             },
             "line": {
              "color": "white"
             }
            },
            "header": {
             "fill": {
              "color": "#C8D4E3"
             },
             "line": {
              "color": "white"
             }
            },
            "type": "table"
           }
          ]
         },
         "layout": {
          "annotationdefaults": {
           "arrowcolor": "#2a3f5f",
           "arrowhead": 0,
           "arrowwidth": 1
          },
          "autotypenumbers": "strict",
          "coloraxis": {
           "colorbar": {
            "outlinewidth": 0,
            "ticks": ""
           }
          },
          "colorscale": {
           "diverging": [
            [
             0,
             "#8e0152"
            ],
            [
             0.1,
             "#c51b7d"
            ],
            [
             0.2,
             "#de77ae"
            ],
            [
             0.3,
             "#f1b6da"
            ],
            [
             0.4,
             "#fde0ef"
            ],
            [
             0.5,
             "#f7f7f7"
            ],
            [
             0.6,
             "#e6f5d0"
            ],
            [
             0.7,
             "#b8e186"
            ],
            [
             0.8,
             "#7fbc41"
            ],
            [
             0.9,
             "#4d9221"
            ],
            [
             1,
             "#276419"
            ]
           ],
           "sequential": [
            [
             0,
             "#0d0887"
            ],
            [
             0.1111111111111111,
             "#46039f"
            ],
            [
             0.2222222222222222,
             "#7201a8"
            ],
            [
             0.3333333333333333,
             "#9c179e"
            ],
            [
             0.4444444444444444,
             "#bd3786"
            ],
            [
             0.5555555555555556,
             "#d8576b"
            ],
            [
             0.6666666666666666,
             "#ed7953"
            ],
            [
             0.7777777777777778,
             "#fb9f3a"
            ],
            [
             0.8888888888888888,
             "#fdca26"
            ],
            [
             1,
             "#f0f921"
            ]
           ],
           "sequentialminus": [
            [
             0,
             "#0d0887"
            ],
            [
             0.1111111111111111,
             "#46039f"
            ],
            [
             0.2222222222222222,
             "#7201a8"
            ],
            [
             0.3333333333333333,
             "#9c179e"
            ],
            [
             0.4444444444444444,
             "#bd3786"
            ],
            [
             0.5555555555555556,
             "#d8576b"
            ],
            [
             0.6666666666666666,
             "#ed7953"
            ],
            [
             0.7777777777777778,
             "#fb9f3a"
            ],
            [
             0.8888888888888888,
             "#fdca26"
            ],
            [
             1,
             "#f0f921"
            ]
           ]
          },
          "colorway": [
           "#636efa",
           "#EF553B",
           "#00cc96",
           "#ab63fa",
           "#FFA15A",
           "#19d3f3",
           "#FF6692",
           "#B6E880",
           "#FF97FF",
           "#FECB52"
          ],
          "font": {
           "color": "#2a3f5f"
          },
          "geo": {
           "bgcolor": "white",
           "lakecolor": "white",
           "landcolor": "white",
           "showlakes": true,
           "showland": true,
           "subunitcolor": "#C8D4E3"
          },
          "hoverlabel": {
           "align": "left"
          },
          "hovermode": "closest",
          "mapbox": {
           "style": "light"
          },
          "paper_bgcolor": "white",
          "plot_bgcolor": "white",
          "polar": {
           "angularaxis": {
            "gridcolor": "#EBF0F8",
            "linecolor": "#EBF0F8",
            "ticks": ""
           },
           "bgcolor": "white",
           "radialaxis": {
            "gridcolor": "#EBF0F8",
            "linecolor": "#EBF0F8",
            "ticks": ""
           }
          },
          "scene": {
           "xaxis": {
            "backgroundcolor": "white",
            "gridcolor": "#DFE8F3",
            "gridwidth": 2,
            "linecolor": "#EBF0F8",
            "showbackground": true,
            "ticks": "",
            "zerolinecolor": "#EBF0F8"
           },
           "yaxis": {
            "backgroundcolor": "white",
            "gridcolor": "#DFE8F3",
            "gridwidth": 2,
            "linecolor": "#EBF0F8",
            "showbackground": true,
            "ticks": "",
            "zerolinecolor": "#EBF0F8"
           },
           "zaxis": {
            "backgroundcolor": "white",
            "gridcolor": "#DFE8F3",
            "gridwidth": 2,
            "linecolor": "#EBF0F8",
            "showbackground": true,
            "ticks": "",
            "zerolinecolor": "#EBF0F8"
           }
          },
          "shapedefaults": {
           "line": {
            "color": "#2a3f5f"
           }
          },
          "ternary": {
           "aaxis": {
            "gridcolor": "#DFE8F3",
            "linecolor": "#A2B1C6",
            "ticks": ""
           },
           "baxis": {
            "gridcolor": "#DFE8F3",
            "linecolor": "#A2B1C6",
            "ticks": ""
           },
           "bgcolor": "white",
           "caxis": {
            "gridcolor": "#DFE8F3",
            "linecolor": "#A2B1C6",
            "ticks": ""
           }
          },
          "title": {
           "x": 0.05
          },
          "xaxis": {
           "automargin": true,
           "gridcolor": "#EBF0F8",
           "linecolor": "#EBF0F8",
           "ticks": "",
           "title": {
            "standoff": 15
           },
           "zerolinecolor": "#EBF0F8",
           "zerolinewidth": 2
          },
          "yaxis": {
           "automargin": true,
           "gridcolor": "#EBF0F8",
           "linecolor": "#EBF0F8",
           "ticks": "",
           "title": {
            "standoff": 15
           },
           "zerolinecolor": "#EBF0F8",
           "zerolinewidth": 2
          }
         }
        },
        "title": {
         "text": "ROI vs. Number of Panels and Batteries"
        },
        "width": 800
       }
      }
     },
     "metadata": {},
     "output_type": "display_data"
    }
   ],
   "source": [
    "import plotly.graph_objects as go\n",
    "import numpy as np\n",
    "\n",
    "# Financial Parameters\n",
    "panel_cost = 1220  # € per panel\n",
    "battery_cost = 13000  # € per battery\n",
    "energy_sold_price = 0.1208  # €/kWh\n",
    "energy_purchased_price = 0.2713  # €/kWh\n",
    "om_cost_panels_rate = 0.07  # 7%\n",
    "om_cost_batteries_rate = 0.05  # 5%\n",
    "\n",
    "# System Parameters\n",
    "battery_capacity_per_unit = 57  # kWh per battery\n",
    "converter_efficiency = 0.9  # 90% efficiency\n",
    "initial_soc = 50  # 50% initial battery SOC\n",
    "\n",
    "# Energy Demand\n",
    "total_energy_demand = merged_data['Consumption_kWh'].sum()\n",
    "\n",
    "# Define range of number of panels and batteries to analyze\n",
    "panel_range = np.arange(500, 1501, 100)  # From 500 to 1500 panels in steps of 100\n",
    "battery_range = np.arange(0, 101, 10)  # From 0 to 100 batteries in steps of 10\n",
    "\n",
    "# Create a meshgrid for panels and batteries\n",
    "panel_grid, battery_grid = np.meshgrid(panel_range, battery_range)\n",
    "roi_grid = np.zeros_like(panel_grid, dtype=float)\n",
    "\n",
    "# Loop through each combination of panels and batteries\n",
    "for i in range(panel_grid.shape[0]):\n",
    "    for j in range(panel_grid.shape[1]):\n",
    "        num_panels = panel_grid[i, j]\n",
    "        num_batteries = battery_grid[i, j]\n",
    "        \n",
    "        # Calculate annual PV production\n",
    "        annual_pv_production = merged_data['PV_Production_kWh'].sum() * num_panels \n",
    "        \n",
    "        # Initialize annual metrics\n",
    "        annual_energy_supplied_pv_to_demand = 0\n",
    "        annual_energy_discharged = 0\n",
    "        annual_excess_energy = 0\n",
    "        annual_soc = initial_soc  # Reset SOC for the year\n",
    "        \n",
    "        battery_capacity = battery_capacity_per_unit * num_batteries\n",
    "        \n",
    "        for timestamp, row in merged_data.iterrows():\n",
    "            consumption = row['Consumption_kWh']\n",
    "            pv_production = row['PV_Production_kWh'] * num_panels \n",
    "\n",
    "            # Energy supplied to demand\n",
    "            energy_supplied = min(pv_production, consumption)\n",
    "            annual_energy_supplied_pv_to_demand += energy_supplied\n",
    "\n",
    "            # Excess and deficit handling\n",
    "            excess = pv_production - energy_supplied\n",
    "            deficit = consumption - energy_supplied\n",
    "            \n",
    "            if excess > 0 and num_batteries > 0 and annual_soc < 100:\n",
    "                charge = min(excess * converter_efficiency, (100 - annual_soc) / 100 * battery_capacity)\n",
    "                annual_soc += (charge / battery_capacity) * 100\n",
    "                remaining_excess = excess - (charge / converter_efficiency)\n",
    "                annual_excess_energy += max(remaining_excess, 0)\n",
    "            \n",
    "            if deficit > 0 and num_batteries > 0 and annual_soc > 20:\n",
    "                discharge = min(deficit, (annual_soc - 20) / 100 * battery_capacity * converter_efficiency)\n",
    "                annual_energy_discharged += discharge\n",
    "                annual_soc -= (discharge / battery_capacity) * 100\n",
    "\n",
    "        # Calculate Financial Metrics\n",
    "        total_initial_investment = (panel_cost * num_panels) + (battery_cost * num_batteries)\n",
    "        \n",
    "        om_cost_panels = panel_cost * num_panels * om_cost_panels_rate\n",
    "        om_cost_batteries = battery_cost * num_batteries * om_cost_batteries_rate\n",
    "        total_om_cost = om_cost_panels + om_cost_batteries\n",
    "        \n",
    "        total_savings = annual_energy_supplied_pv_to_demand * energy_purchased_price\n",
    "        revenue_surplus = annual_excess_energy * energy_sold_price\n",
    "        \n",
    "        net_savings = (total_savings + revenue_surplus) - total_om_cost\n",
    "        \n",
    "        # Calculate ROI\n",
    "        roi = (net_savings / total_initial_investment) * 100 if total_initial_investment > 0 else 0\n",
    "        roi_grid[i, j] = roi\n",
    "\n",
    "# Create a 3D Surface Plot\n",
    "fig = go.Figure(data=[go.Surface(\n",
    "    z=roi_grid,\n",
    "    x=panel_grid,\n",
    "    y=battery_grid,\n",
    "    colorscale='Viridis',\n",
    "    colorbar=dict(title=\"ROI (%)\")\n",
    ")])\n",
    "\n",
    "fig.update_layout(\n",
    "    title='ROI vs. Number of Panels and Batteries',\n",
    "    scene=dict(\n",
    "        xaxis_title='Number of Panels',\n",
    "        yaxis_title='Number of Batteries',\n",
    "        zaxis_title='ROI (%)'\n",
    "    ),\n",
    "    template='plotly_white',\n",
    "    width=800,\n",
    "    height=600\n",
    ")\n",
    "\n",
    "fig.show()\n"
   ]
  },
  {
   "cell_type": "code",
   "execution_count": 16,
   "metadata": {},
   "outputs": [
    {
     "name": "stdout",
     "output_type": "stream",
     "text": [
      "✅ **Positive ROI Scenarios:**\n",
      "Number of Panels: 500, Number of Batteries: 0, ROI: 8.95%\n",
      "Number of Panels: 600, Number of Batteries: 0, ROI: 7.88%\n",
      "Number of Panels: 700, Number of Batteries: 0, ROI: 6.76%\n",
      "Number of Panels: 800, Number of Batteries: 0, ROI: 5.69%\n",
      "Number of Panels: 900, Number of Batteries: 0, ROI: 4.75%\n",
      "Number of Panels: 1000, Number of Batteries: 0, ROI: 3.92%\n",
      "Number of Panels: 1100, Number of Batteries: 0, ROI: 3.20%\n",
      "Number of Panels: 1200, Number of Batteries: 0, ROI: 2.56%\n",
      "Number of Panels: 1300, Number of Batteries: 0, ROI: 2.01%\n",
      "Number of Panels: 1400, Number of Batteries: 0, ROI: 1.51%\n",
      "Number of Panels: 1500, Number of Batteries: 0, ROI: 1.06%\n",
      "Number of Panels: 500, Number of Batteries: 10, ROI: 6.61%\n",
      "Number of Panels: 600, Number of Batteries: 10, ROI: 6.10%\n",
      "Number of Panels: 700, Number of Batteries: 10, ROI: 5.41%\n",
      "Number of Panels: 800, Number of Batteries: 10, ROI: 4.67%\n",
      "Number of Panels: 900, Number of Batteries: 10, ROI: 4.01%\n",
      "Number of Panels: 1000, Number of Batteries: 10, ROI: 3.39%\n",
      "Number of Panels: 1100, Number of Batteries: 10, ROI: 2.83%\n",
      "Number of Panels: 1200, Number of Batteries: 10, ROI: 2.30%\n",
      "Number of Panels: 1300, Number of Batteries: 10, ROI: 1.85%\n",
      "Number of Panels: 1400, Number of Batteries: 10, ROI: 1.43%\n",
      "Number of Panels: 1500, Number of Batteries: 10, ROI: 1.05%\n",
      "Number of Panels: 500, Number of Batteries: 20, ROI: 4.81%\n",
      "Number of Panels: 600, Number of Batteries: 20, ROI: 4.57%\n",
      "Number of Panels: 700, Number of Batteries: 20, ROI: 4.13%\n",
      "Number of Panels: 800, Number of Batteries: 20, ROI: 3.59%\n",
      "Number of Panels: 900, Number of Batteries: 20, ROI: 3.07%\n",
      "Number of Panels: 1000, Number of Batteries: 20, ROI: 2.62%\n",
      "Number of Panels: 1100, Number of Batteries: 20, ROI: 2.15%\n",
      "Number of Panels: 1200, Number of Batteries: 20, ROI: 1.75%\n",
      "Number of Panels: 1300, Number of Batteries: 20, ROI: 1.36%\n",
      "Number of Panels: 1400, Number of Batteries: 20, ROI: 1.02%\n",
      "Number of Panels: 1500, Number of Batteries: 20, ROI: 0.69%\n",
      "Number of Panels: 500, Number of Batteries: 30, ROI: 3.51%\n",
      "Number of Panels: 600, Number of Batteries: 30, ROI: 3.42%\n",
      "Number of Panels: 700, Number of Batteries: 30, ROI: 3.11%\n",
      "Number of Panels: 800, Number of Batteries: 30, ROI: 2.71%\n",
      "Number of Panels: 900, Number of Batteries: 30, ROI: 2.29%\n",
      "Number of Panels: 1000, Number of Batteries: 30, ROI: 1.92%\n",
      "Number of Panels: 1100, Number of Batteries: 30, ROI: 1.55%\n",
      "Number of Panels: 1200, Number of Batteries: 30, ROI: 1.20%\n",
      "Number of Panels: 1300, Number of Batteries: 30, ROI: 0.91%\n",
      "Number of Panels: 1400, Number of Batteries: 30, ROI: 0.59%\n",
      "Number of Panels: 1500, Number of Batteries: 30, ROI: 0.34%\n",
      "Number of Panels: 500, Number of Batteries: 40, ROI: 2.53%\n",
      "Number of Panels: 600, Number of Batteries: 40, ROI: 2.53%\n",
      "Number of Panels: 700, Number of Batteries: 40, ROI: 2.32%\n",
      "Number of Panels: 800, Number of Batteries: 40, ROI: 2.01%\n",
      "Number of Panels: 900, Number of Batteries: 40, ROI: 1.67%\n",
      "Number of Panels: 1000, Number of Batteries: 40, ROI: 1.35%\n",
      "Number of Panels: 1100, Number of Batteries: 40, ROI: 1.04%\n",
      "Number of Panels: 1200, Number of Batteries: 40, ROI: 0.76%\n",
      "Number of Panels: 1300, Number of Batteries: 40, ROI: 0.49%\n",
      "Number of Panels: 1400, Number of Batteries: 40, ROI: 0.25%\n",
      "Number of Panels: 500, Number of Batteries: 50, ROI: 1.76%\n",
      "Number of Panels: 600, Number of Batteries: 50, ROI: 1.82%\n",
      "Number of Panels: 700, Number of Batteries: 50, ROI: 1.68%\n",
      "Number of Panels: 800, Number of Batteries: 50, ROI: 1.43%\n",
      "Number of Panels: 900, Number of Batteries: 50, ROI: 1.16%\n",
      "Number of Panels: 1000, Number of Batteries: 50, ROI: 0.89%\n",
      "Number of Panels: 1100, Number of Batteries: 50, ROI: 0.61%\n",
      "Number of Panels: 1200, Number of Batteries: 50, ROI: 0.37%\n",
      "Number of Panels: 1300, Number of Batteries: 50, ROI: 0.14%\n",
      "Number of Panels: 500, Number of Batteries: 60, ROI: 1.12%\n",
      "Number of Panels: 600, Number of Batteries: 60, ROI: 1.24%\n",
      "Number of Panels: 700, Number of Batteries: 60, ROI: 1.15%\n",
      "Number of Panels: 800, Number of Batteries: 60, ROI: 0.95%\n",
      "Number of Panels: 900, Number of Batteries: 60, ROI: 0.72%\n",
      "Number of Panels: 1000, Number of Batteries: 60, ROI: 0.50%\n",
      "Number of Panels: 1100, Number of Batteries: 60, ROI: 0.26%\n",
      "Number of Panels: 1200, Number of Batteries: 60, ROI: 0.04%\n",
      "Number of Panels: 500, Number of Batteries: 70, ROI: 0.60%\n",
      "Number of Panels: 600, Number of Batteries: 70, ROI: 0.74%\n",
      "Number of Panels: 700, Number of Batteries: 70, ROI: 0.69%\n",
      "Number of Panels: 800, Number of Batteries: 70, ROI: 0.54%\n",
      "Number of Panels: 900, Number of Batteries: 70, ROI: 0.34%\n",
      "Number of Panels: 1000, Number of Batteries: 70, ROI: 0.15%\n",
      "Number of Panels: 500, Number of Batteries: 80, ROI: 0.16%\n",
      "Number of Panels: 600, Number of Batteries: 80, ROI: 0.32%\n",
      "Number of Panels: 700, Number of Batteries: 80, ROI: 0.30%\n",
      "Number of Panels: 800, Number of Batteries: 80, ROI: 0.18%\n",
      "Number of Panels: 900, Number of Batteries: 80, ROI: 0.01%\n"
     ]
    },
    {
     "data": {
      "application/vnd.plotly.v1+json": {
       "config": {
        "plotlyServerURL": "https://plot.ly"
       },
       "data": [
        {
         "colorbar": {
          "title": {
           "text": "ROI (%)"
          }
         },
         "colorscale": [
          [
           0,
           "#440154"
          ],
          [
           0.1111111111111111,
           "#482878"
          ],
          [
           0.2222222222222222,
           "#3e4989"
          ],
          [
           0.3333333333333333,
           "#31688e"
          ],
          [
           0.4444444444444444,
           "#26828e"
          ],
          [
           0.5555555555555556,
           "#1f9e89"
          ],
          [
           0.6666666666666666,
           "#35b779"
          ],
          [
           0.7777777777777778,
           "#6ece58"
          ],
          [
           0.8888888888888888,
           "#b5de2b"
          ],
          [
           1,
           "#fde725"
          ]
         ],
         "type": "surface",
         "x": {
          "bdata": "9AEAAFgCAAC8AgAAIAMAAIQDAADoAwAATAQAALAEAAAUBQAAeAUAANwFAAD0AQAAWAIAALwCAAAgAwAAhAMAAOgDAABMBAAAsAQAABQFAAB4BQAA3AUAAPQBAABYAgAAvAIAACADAACEAwAA6AMAAEwEAACwBAAAFAUAAHgFAADcBQAA9AEAAFgCAAC8AgAAIAMAAIQDAADoAwAATAQAALAEAAAUBQAAeAUAANwFAAD0AQAAWAIAALwCAAAgAwAAhAMAAOgDAABMBAAAsAQAABQFAAB4BQAA3AUAAPQBAABYAgAAvAIAACADAACEAwAA6AMAAEwEAACwBAAAFAUAAHgFAADcBQAA9AEAAFgCAAC8AgAAIAMAAIQDAADoAwAATAQAALAEAAAUBQAAeAUAANwFAAD0AQAAWAIAALwCAAAgAwAAhAMAAOgDAABMBAAAsAQAABQFAAB4BQAA3AUAAPQBAABYAgAAvAIAACADAACEAwAA6AMAAEwEAACwBAAAFAUAAHgFAADcBQAA9AEAAFgCAAC8AgAAIAMAAIQDAADoAwAATAQAALAEAAAUBQAAeAUAANwFAAD0AQAAWAIAALwCAAAgAwAAhAMAAOgDAABMBAAAsAQAABQFAAB4BQAA3AUAAA==",
          "dtype": "i4",
          "shape": "11, 11"
         },
         "y": {
          "bdata": "AAAAAAAAAAAAAAAAAAAAAAAAAAAAAAAAAAAAAAAAAAAAAAAAAAAAAAAAAAAKAAAACgAAAAoAAAAKAAAACgAAAAoAAAAKAAAACgAAAAoAAAAKAAAACgAAABQAAAAUAAAAFAAAABQAAAAUAAAAFAAAABQAAAAUAAAAFAAAABQAAAAUAAAAHgAAAB4AAAAeAAAAHgAAAB4AAAAeAAAAHgAAAB4AAAAeAAAAHgAAAB4AAAAoAAAAKAAAACgAAAAoAAAAKAAAACgAAAAoAAAAKAAAACgAAAAoAAAAKAAAADIAAAAyAAAAMgAAADIAAAAyAAAAMgAAADIAAAAyAAAAMgAAADIAAAAyAAAAPAAAADwAAAA8AAAAPAAAADwAAAA8AAAAPAAAADwAAAA8AAAAPAAAADwAAABGAAAARgAAAEYAAABGAAAARgAAAEYAAABGAAAARgAAAEYAAABGAAAARgAAAFAAAABQAAAAUAAAAFAAAABQAAAAUAAAAFAAAABQAAAAUAAAAFAAAABQAAAAWgAAAFoAAABaAAAAWgAAAFoAAABaAAAAWgAAAFoAAABaAAAAWgAAAFoAAABkAAAAZAAAAGQAAABkAAAAZAAAAGQAAABkAAAAZAAAAGQAAABkAAAAZAAAAA==",
          "dtype": "i4",
          "shape": "11, 11"
         },
         "z": {
          "bdata": "JkGoXjfoIUAm31Mkj4YfQDJ2DSy/BRtAUPd/fHHBFkCNaEFpF/wSQB1UD4+tXQ9AUfQO2jWWCUAb5x+d4YIEQH4rXGXlCwBADKRvHWwW+D+FwoVe5unwP3dwzr0AdBpAc22+VkFrGEAmI1FwP6MVQCndPoV3shJA3qgpv3EGEEAq5sUiTRsLQMKya8bDpwZAcq1Vuc5uAkA6mVVF86n9P3ezSgRT0PY/Ock/Rd/F8D//SwBCZz8TQEasx/8xRhJAgnh0ON+DEED7tPrZfLgMQFRtuCABkAhAh7DMmZzsBEDiC+paaCkBQHs8R4Sr8fs/s/S/52nJ9T94EIlaikXwP6x9jj6V9OU/Ieu4dfEXDEACABT2aV8LQOSIC5wy3whApzhCQ9SxBUAYkAkIJ08CQPivQO/hy/4/Y1XWVm3E+D/mwtoxV0PzP9piZ7DzDe0/POwETLD74j+4BW9AYtTVPwGYSwdzQgRAIhvIms5CBEBvn0H5jo8CQE/IEhVsHABAhA2J35/L+j8NzE19V5X1P2rAgK87l/A/uBcLQ7856D/OHXOl8SPfP98t6wgYrc8/oRyVLAsfcb9T/OC/qRX8P56eKGZsKv0/AMizKIbd+j/2wofIDe/2P6XHIp2kfvI/0ijKcxZf7D+xX37pvZvjP87g0UEGgtc/bTnhrRJjwT/MhWHwgiywv1EvWCInz9K/yMyHVdr58T+Ri6pan8fzP/l7KdbEVfI/5a03RZJl7j9918mg5PvmP8KETCFB0N8/TaMeekB00D9vETXZr0ajP9G2DMzaq8S//zwcp8yG1b+8QKm/p3/hv/VeOIhjMeM//E5/K5TC5z9EBO3ntyTmP8v7nKF0IOE/I+OODGvn1T9BxYuOIBjDP/m1IfjNMa2/f08najauz7+SK50Jgyjbv82H80gckOK/tQwXpre16L9tE3G5fEzEPw7PhmK/jtQ/3yReCac80z8gu0WLl+nGP9OOemLS640/Zy0xDOwLxL+pNEkmbwTVvwai1/Cu69+/KEnAzpgi5b8+Rn7cq4fpv5jr/wI4+O6/9ijpzN/sy79pwp8W7MClv7Qq5buDaqS/jFG/cCZiwb9D2T5DccvRv30uG7EgZNu/m8bBI61w4r8pYhA2bxLnv0yNb1s/1uu/iiSAhfbC779bcwbJSFnyv9G9hsZtZeG/PLEqdYYE17+jvJQr/bXVv0IK3BNKn9q/eQdI7VQI4b+QoUG+LlHlv8jKFjz+m+m/OghKEn+a7b9s0Bx4Be7wv3QS5BFzuvK/M8KpnO7h9L8=",
          "dtype": "f8",
          "shape": "11, 11"
         }
        },
        {
         "marker": {
          "color": "red",
          "opacity": 0.8,
          "size": 5,
          "symbol": "circle"
         },
         "mode": "markers",
         "name": "Positive ROI",
         "type": "scatter3d",
         "x": [
          500,
          600,
          700,
          800,
          900,
          1000,
          1100,
          1200,
          1300,
          1400,
          1500,
          500,
          600,
          700,
          800,
          900,
          1000,
          1100,
          1200,
          1300,
          1400,
          1500,
          500,
          600,
          700,
          800,
          900,
          1000,
          1100,
          1200,
          1300,
          1400,
          1500,
          500,
          600,
          700,
          800,
          900,
          1000,
          1100,
          1200,
          1300,
          1400,
          1500,
          500,
          600,
          700,
          800,
          900,
          1000,
          1100,
          1200,
          1300,
          1400,
          500,
          600,
          700,
          800,
          900,
          1000,
          1100,
          1200,
          1300,
          500,
          600,
          700,
          800,
          900,
          1000,
          1100,
          1200,
          500,
          600,
          700,
          800,
          900,
          1000,
          500,
          600,
          700,
          800,
          900
         ],
         "y": [
          0,
          0,
          0,
          0,
          0,
          0,
          0,
          0,
          0,
          0,
          0,
          10,
          10,
          10,
          10,
          10,
          10,
          10,
          10,
          10,
          10,
          10,
          20,
          20,
          20,
          20,
          20,
          20,
          20,
          20,
          20,
          20,
          20,
          30,
          30,
          30,
          30,
          30,
          30,
          30,
          30,
          30,
          30,
          30,
          40,
          40,
          40,
          40,
          40,
          40,
          40,
          40,
          40,
          40,
          50,
          50,
          50,
          50,
          50,
          50,
          50,
          50,
          50,
          60,
          60,
          60,
          60,
          60,
          60,
          60,
          60,
          70,
          70,
          70,
          70,
          70,
          70,
          80,
          80,
          80,
          80,
          80
         ],
         "z": [
          8.953547437704923,
          7.881405418032761,
          6.755612076112401,
          5.688909478483609,
          4.746183056466305,
          3.920741193442622,
          3.1983449016393384,
          2.563906886612029,
          2.0058086317780512,
          1.505474200234178,
          1.0571044628415234,
          6.613284078335815,
          6.10474143540647,
          5.4094216870806004,
          4.674284059488209,
          4.006293284337714,
          3.388330718674088,
          2.831916380082789,
          2.304105232169314,
          1.85399176677454,
          1.425860420956466,
          1.048308630470798,
          4.811917334812278,
          4.568550106584615,
          4.12878120623475,
          3.590081885302991,
          3.070314651134746,
          2.6155330672828003,
          2.1452185728717135,
          1.7465014617080488,
          1.361673264763607,
          1.0169776474513395,
          0.6861063215073293,
          3.5116910168702735,
          3.4215888237813497,
          3.1089832488079185,
          2.7118306402763497,
          2.2886486652296405,
          1.924776014881898,
          1.5479558364944175,
          1.2039405772631482,
          0.9079531140697228,
          0.5932237133741931,
          0.34108787815429364,
          2.5324459619469057,
          2.532620629531622,
          2.3200969193603025,
          2.0138780256611777,
          1.6747130138254258,
          1.348960389583911,
          1.0369221549590528,
          0.7570492085876515,
          0.4865688434333294,
          0.24746990619165296,
          1.7552888388888916,
          1.8228572836468753,
          1.6790830221111719,
          1.4333627541747638,
          1.155918706714581,
          0.8866073857800763,
          0.6127614555762105,
          0.3673110621234742,
          0.13583596697067027,
          1.123499235251801,
          1.2362359563491945,
          1.145939671106815,
          0.949898848715233,
          0.7182486668013862,
          0.49708584071965956,
          0.2570954506468766,
          0.03764867330986276,
          0.5997789059210549,
          0.742502293544447,
          0.6919822244455038,
          0.5352118641384264,
          0.34224964357740556,
          0.14917380295040952,
          0.15858420424242628,
          0.3212126218961523,
          0.3005769340021071,
          0.17900366115960598,
          0.014609950666744897
         ]
        }
       ],
       "layout": {
        "height": 600,
        "scene": {
         "xaxis": {
          "title": {
           "text": "Number of Panels"
          }
         },
         "yaxis": {
          "title": {
           "text": "Number of Batteries"
          }
         },
         "zaxis": {
          "title": {
           "text": "ROI (%)"
          }
         }
        },
        "template": {
         "data": {
          "bar": [
           {
            "error_x": {
             "color": "#2a3f5f"
            },
            "error_y": {
             "color": "#2a3f5f"
            },
            "marker": {
             "line": {
              "color": "white",
              "width": 0.5
             },
             "pattern": {
              "fillmode": "overlay",
              "size": 10,
              "solidity": 0.2
             }
            },
            "type": "bar"
           }
          ],
          "barpolar": [
           {
            "marker": {
             "line": {
              "color": "white",
              "width": 0.5
             },
             "pattern": {
              "fillmode": "overlay",
              "size": 10,
              "solidity": 0.2
             }
            },
            "type": "barpolar"
           }
          ],
          "carpet": [
           {
            "aaxis": {
             "endlinecolor": "#2a3f5f",
             "gridcolor": "#C8D4E3",
             "linecolor": "#C8D4E3",
             "minorgridcolor": "#C8D4E3",
             "startlinecolor": "#2a3f5f"
            },
            "baxis": {
             "endlinecolor": "#2a3f5f",
             "gridcolor": "#C8D4E3",
             "linecolor": "#C8D4E3",
             "minorgridcolor": "#C8D4E3",
             "startlinecolor": "#2a3f5f"
            },
            "type": "carpet"
           }
          ],
          "choropleth": [
           {
            "colorbar": {
             "outlinewidth": 0,
             "ticks": ""
            },
            "type": "choropleth"
           }
          ],
          "contour": [
           {
            "colorbar": {
             "outlinewidth": 0,
             "ticks": ""
            },
            "colorscale": [
             [
              0,
              "#0d0887"
             ],
             [
              0.1111111111111111,
              "#46039f"
             ],
             [
              0.2222222222222222,
              "#7201a8"
             ],
             [
              0.3333333333333333,
              "#9c179e"
             ],
             [
              0.4444444444444444,
              "#bd3786"
             ],
             [
              0.5555555555555556,
              "#d8576b"
             ],
             [
              0.6666666666666666,
              "#ed7953"
             ],
             [
              0.7777777777777778,
              "#fb9f3a"
             ],
             [
              0.8888888888888888,
              "#fdca26"
             ],
             [
              1,
              "#f0f921"
             ]
            ],
            "type": "contour"
           }
          ],
          "contourcarpet": [
           {
            "colorbar": {
             "outlinewidth": 0,
             "ticks": ""
            },
            "type": "contourcarpet"
           }
          ],
          "heatmap": [
           {
            "colorbar": {
             "outlinewidth": 0,
             "ticks": ""
            },
            "colorscale": [
             [
              0,
              "#0d0887"
             ],
             [
              0.1111111111111111,
              "#46039f"
             ],
             [
              0.2222222222222222,
              "#7201a8"
             ],
             [
              0.3333333333333333,
              "#9c179e"
             ],
             [
              0.4444444444444444,
              "#bd3786"
             ],
             [
              0.5555555555555556,
              "#d8576b"
             ],
             [
              0.6666666666666666,
              "#ed7953"
             ],
             [
              0.7777777777777778,
              "#fb9f3a"
             ],
             [
              0.8888888888888888,
              "#fdca26"
             ],
             [
              1,
              "#f0f921"
             ]
            ],
            "type": "heatmap"
           }
          ],
          "histogram": [
           {
            "marker": {
             "pattern": {
              "fillmode": "overlay",
              "size": 10,
              "solidity": 0.2
             }
            },
            "type": "histogram"
           }
          ],
          "histogram2d": [
           {
            "colorbar": {
             "outlinewidth": 0,
             "ticks": ""
            },
            "colorscale": [
             [
              0,
              "#0d0887"
             ],
             [
              0.1111111111111111,
              "#46039f"
             ],
             [
              0.2222222222222222,
              "#7201a8"
             ],
             [
              0.3333333333333333,
              "#9c179e"
             ],
             [
              0.4444444444444444,
              "#bd3786"
             ],
             [
              0.5555555555555556,
              "#d8576b"
             ],
             [
              0.6666666666666666,
              "#ed7953"
             ],
             [
              0.7777777777777778,
              "#fb9f3a"
             ],
             [
              0.8888888888888888,
              "#fdca26"
             ],
             [
              1,
              "#f0f921"
             ]
            ],
            "type": "histogram2d"
           }
          ],
          "histogram2dcontour": [
           {
            "colorbar": {
             "outlinewidth": 0,
             "ticks": ""
            },
            "colorscale": [
             [
              0,
              "#0d0887"
             ],
             [
              0.1111111111111111,
              "#46039f"
             ],
             [
              0.2222222222222222,
              "#7201a8"
             ],
             [
              0.3333333333333333,
              "#9c179e"
             ],
             [
              0.4444444444444444,
              "#bd3786"
             ],
             [
              0.5555555555555556,
              "#d8576b"
             ],
             [
              0.6666666666666666,
              "#ed7953"
             ],
             [
              0.7777777777777778,
              "#fb9f3a"
             ],
             [
              0.8888888888888888,
              "#fdca26"
             ],
             [
              1,
              "#f0f921"
             ]
            ],
            "type": "histogram2dcontour"
           }
          ],
          "mesh3d": [
           {
            "colorbar": {
             "outlinewidth": 0,
             "ticks": ""
            },
            "type": "mesh3d"
           }
          ],
          "parcoords": [
           {
            "line": {
             "colorbar": {
              "outlinewidth": 0,
              "ticks": ""
             }
            },
            "type": "parcoords"
           }
          ],
          "pie": [
           {
            "automargin": true,
            "type": "pie"
           }
          ],
          "scatter": [
           {
            "fillpattern": {
             "fillmode": "overlay",
             "size": 10,
             "solidity": 0.2
            },
            "type": "scatter"
           }
          ],
          "scatter3d": [
           {
            "line": {
             "colorbar": {
              "outlinewidth": 0,
              "ticks": ""
             }
            },
            "marker": {
             "colorbar": {
              "outlinewidth": 0,
              "ticks": ""
             }
            },
            "type": "scatter3d"
           }
          ],
          "scattercarpet": [
           {
            "marker": {
             "colorbar": {
              "outlinewidth": 0,
              "ticks": ""
             }
            },
            "type": "scattercarpet"
           }
          ],
          "scattergeo": [
           {
            "marker": {
             "colorbar": {
              "outlinewidth": 0,
              "ticks": ""
             }
            },
            "type": "scattergeo"
           }
          ],
          "scattergl": [
           {
            "marker": {
             "colorbar": {
              "outlinewidth": 0,
              "ticks": ""
             }
            },
            "type": "scattergl"
           }
          ],
          "scattermap": [
           {
            "marker": {
             "colorbar": {
              "outlinewidth": 0,
              "ticks": ""
             }
            },
            "type": "scattermap"
           }
          ],
          "scattermapbox": [
           {
            "marker": {
             "colorbar": {
              "outlinewidth": 0,
              "ticks": ""
             }
            },
            "type": "scattermapbox"
           }
          ],
          "scatterpolar": [
           {
            "marker": {
             "colorbar": {
              "outlinewidth": 0,
              "ticks": ""
             }
            },
            "type": "scatterpolar"
           }
          ],
          "scatterpolargl": [
           {
            "marker": {
             "colorbar": {
              "outlinewidth": 0,
              "ticks": ""
             }
            },
            "type": "scatterpolargl"
           }
          ],
          "scatterternary": [
           {
            "marker": {
             "colorbar": {
              "outlinewidth": 0,
              "ticks": ""
             }
            },
            "type": "scatterternary"
           }
          ],
          "surface": [
           {
            "colorbar": {
             "outlinewidth": 0,
             "ticks": ""
            },
            "colorscale": [
             [
              0,
              "#0d0887"
             ],
             [
              0.1111111111111111,
              "#46039f"
             ],
             [
              0.2222222222222222,
              "#7201a8"
             ],
             [
              0.3333333333333333,
              "#9c179e"
             ],
             [
              0.4444444444444444,
              "#bd3786"
             ],
             [
              0.5555555555555556,
              "#d8576b"
             ],
             [
              0.6666666666666666,
              "#ed7953"
             ],
             [
              0.7777777777777778,
              "#fb9f3a"
             ],
             [
              0.8888888888888888,
              "#fdca26"
             ],
             [
              1,
              "#f0f921"
             ]
            ],
            "type": "surface"
           }
          ],
          "table": [
           {
            "cells": {
             "fill": {
              "color": "#EBF0F8"
             },
             "line": {
              "color": "white"
             }
            },
            "header": {
             "fill": {
              "color": "#C8D4E3"
             },
             "line": {
              "color": "white"
             }
            },
            "type": "table"
           }
          ]
         },
         "layout": {
          "annotationdefaults": {
           "arrowcolor": "#2a3f5f",
           "arrowhead": 0,
           "arrowwidth": 1
          },
          "autotypenumbers": "strict",
          "coloraxis": {
           "colorbar": {
            "outlinewidth": 0,
            "ticks": ""
           }
          },
          "colorscale": {
           "diverging": [
            [
             0,
             "#8e0152"
            ],
            [
             0.1,
             "#c51b7d"
            ],
            [
             0.2,
             "#de77ae"
            ],
            [
             0.3,
             "#f1b6da"
            ],
            [
             0.4,
             "#fde0ef"
            ],
            [
             0.5,
             "#f7f7f7"
            ],
            [
             0.6,
             "#e6f5d0"
            ],
            [
             0.7,
             "#b8e186"
            ],
            [
             0.8,
             "#7fbc41"
            ],
            [
             0.9,
             "#4d9221"
            ],
            [
             1,
             "#276419"
            ]
           ],
           "sequential": [
            [
             0,
             "#0d0887"
            ],
            [
             0.1111111111111111,
             "#46039f"
            ],
            [
             0.2222222222222222,
             "#7201a8"
            ],
            [
             0.3333333333333333,
             "#9c179e"
            ],
            [
             0.4444444444444444,
             "#bd3786"
            ],
            [
             0.5555555555555556,
             "#d8576b"
            ],
            [
             0.6666666666666666,
             "#ed7953"
            ],
            [
             0.7777777777777778,
             "#fb9f3a"
            ],
            [
             0.8888888888888888,
             "#fdca26"
            ],
            [
             1,
             "#f0f921"
            ]
           ],
           "sequentialminus": [
            [
             0,
             "#0d0887"
            ],
            [
             0.1111111111111111,
             "#46039f"
            ],
            [
             0.2222222222222222,
             "#7201a8"
            ],
            [
             0.3333333333333333,
             "#9c179e"
            ],
            [
             0.4444444444444444,
             "#bd3786"
            ],
            [
             0.5555555555555556,
             "#d8576b"
            ],
            [
             0.6666666666666666,
             "#ed7953"
            ],
            [
             0.7777777777777778,
             "#fb9f3a"
            ],
            [
             0.8888888888888888,
             "#fdca26"
            ],
            [
             1,
             "#f0f921"
            ]
           ]
          },
          "colorway": [
           "#636efa",
           "#EF553B",
           "#00cc96",
           "#ab63fa",
           "#FFA15A",
           "#19d3f3",
           "#FF6692",
           "#B6E880",
           "#FF97FF",
           "#FECB52"
          ],
          "font": {
           "color": "#2a3f5f"
          },
          "geo": {
           "bgcolor": "white",
           "lakecolor": "white",
           "landcolor": "white",
           "showlakes": true,
           "showland": true,
           "subunitcolor": "#C8D4E3"
          },
          "hoverlabel": {
           "align": "left"
          },
          "hovermode": "closest",
          "mapbox": {
           "style": "light"
          },
          "paper_bgcolor": "white",
          "plot_bgcolor": "white",
          "polar": {
           "angularaxis": {
            "gridcolor": "#EBF0F8",
            "linecolor": "#EBF0F8",
            "ticks": ""
           },
           "bgcolor": "white",
           "radialaxis": {
            "gridcolor": "#EBF0F8",
            "linecolor": "#EBF0F8",
            "ticks": ""
           }
          },
          "scene": {
           "xaxis": {
            "backgroundcolor": "white",
            "gridcolor": "#DFE8F3",
            "gridwidth": 2,
            "linecolor": "#EBF0F8",
            "showbackground": true,
            "ticks": "",
            "zerolinecolor": "#EBF0F8"
           },
           "yaxis": {
            "backgroundcolor": "white",
            "gridcolor": "#DFE8F3",
            "gridwidth": 2,
            "linecolor": "#EBF0F8",
            "showbackground": true,
            "ticks": "",
            "zerolinecolor": "#EBF0F8"
           },
           "zaxis": {
            "backgroundcolor": "white",
            "gridcolor": "#DFE8F3",
            "gridwidth": 2,
            "linecolor": "#EBF0F8",
            "showbackground": true,
            "ticks": "",
            "zerolinecolor": "#EBF0F8"
           }
          },
          "shapedefaults": {
           "line": {
            "color": "#2a3f5f"
           }
          },
          "ternary": {
           "aaxis": {
            "gridcolor": "#DFE8F3",
            "linecolor": "#A2B1C6",
            "ticks": ""
           },
           "baxis": {
            "gridcolor": "#DFE8F3",
            "linecolor": "#A2B1C6",
            "ticks": ""
           },
           "bgcolor": "white",
           "caxis": {
            "gridcolor": "#DFE8F3",
            "linecolor": "#A2B1C6",
            "ticks": ""
           }
          },
          "title": {
           "x": 0.05
          },
          "xaxis": {
           "automargin": true,
           "gridcolor": "#EBF0F8",
           "linecolor": "#EBF0F8",
           "ticks": "",
           "title": {
            "standoff": 15
           },
           "zerolinecolor": "#EBF0F8",
           "zerolinewidth": 2
          },
          "yaxis": {
           "automargin": true,
           "gridcolor": "#EBF0F8",
           "linecolor": "#EBF0F8",
           "ticks": "",
           "title": {
            "standoff": 15
           },
           "zerolinecolor": "#EBF0F8",
           "zerolinewidth": 2
          }
         }
        },
        "title": {
         "text": "ROI vs. Number of Panels and Batteries with Positive ROI Highlighted"
        },
        "width": 800
       }
      }
     },
     "metadata": {},
     "output_type": "display_data"
    }
   ],
   "source": [
    "import plotly.graph_objects as go\n",
    "import numpy as np\n",
    "\n",
    "# Financial Parameters\n",
    "panel_cost = 1220  # € per panel\n",
    "battery_cost = 13000  # € per battery\n",
    "energy_sold_price = 0.1208  # €/kWh\n",
    "energy_purchased_price = 0.2713  # €/kWh\n",
    "om_cost_panels_rate = 0.07  # 7%\n",
    "om_cost_batteries_rate = 0.05  # 5%\n",
    "\n",
    "# System Parameters\n",
    "battery_capacity_per_unit = 57  # kWh per battery\n",
    "converter_efficiency = 0.9  # 90% efficiency\n",
    "initial_soc = 50  # 50% initial battery SOC\n",
    "\n",
    "# Energy Demand\n",
    "total_energy_demand = merged_data['Consumption_kWh'].sum()\n",
    "\n",
    "# Define range of number of panels and batteries to analyze\n",
    "panel_range = np.arange(500, 1501, 100)  # From 500 to 1500 panels in steps of 100\n",
    "battery_range = np.arange(0, 101, 10)  # From 0 to 100 batteries in steps of 10\n",
    "\n",
    "# Create a meshgrid for panels and batteries\n",
    "panel_grid, battery_grid = np.meshgrid(panel_range, battery_range)\n",
    "roi_grid = np.zeros_like(panel_grid, dtype=float)\n",
    "\n",
    "# Store positive ROI scenarios\n",
    "positive_roi_scenarios = []\n",
    "\n",
    "# Loop through each combination of panels and batteries\n",
    "for i in range(panel_grid.shape[0]):\n",
    "    for j in range(panel_grid.shape[1]):\n",
    "        num_panels = panel_grid[i, j]\n",
    "        num_batteries = battery_grid[i, j]\n",
    "        \n",
    "        # Calculate annual PV production\n",
    "        annual_pv_production = merged_data['PV_Production_kWh'].sum() * num_panels \n",
    "        \n",
    "        # Initialize annual metrics\n",
    "        annual_energy_supplied_pv_to_demand = 0\n",
    "        annual_energy_discharged = 0\n",
    "        annual_excess_energy = 0\n",
    "        annual_soc = initial_soc  # Reset SOC for the year\n",
    "        \n",
    "        battery_capacity = battery_capacity_per_unit * num_batteries\n",
    "        \n",
    "        for timestamp, row in merged_data.iterrows():\n",
    "            consumption = row['Consumption_kWh']\n",
    "            pv_production = row['PV_Production_kWh'] * num_panels \n",
    "\n",
    "            # Energy supplied to demand\n",
    "            energy_supplied = min(pv_production, consumption)\n",
    "            annual_energy_supplied_pv_to_demand += energy_supplied\n",
    "\n",
    "            # Excess and deficit handling\n",
    "            excess = pv_production - energy_supplied\n",
    "            deficit = consumption - energy_supplied\n",
    "            \n",
    "            if excess > 0 and num_batteries > 0 and annual_soc < 100:\n",
    "                charge = min(excess * converter_efficiency, (100 - annual_soc) / 100 * battery_capacity)\n",
    "                annual_soc += (charge / battery_capacity) * 100\n",
    "                remaining_excess = excess - (charge / converter_efficiency)\n",
    "                annual_excess_energy += max(remaining_excess, 0)\n",
    "            \n",
    "            if deficit > 0 and num_batteries > 0 and annual_soc > 20:\n",
    "                discharge = min(deficit, (annual_soc - 20) / 100 * battery_capacity * converter_efficiency)\n",
    "                annual_energy_discharged += discharge\n",
    "                annual_soc -= (discharge / battery_capacity) * 100\n",
    "\n",
    "        # Calculate Financial Metrics\n",
    "        total_initial_investment = (panel_cost * num_panels) + (battery_cost * num_batteries)\n",
    "        \n",
    "        om_cost_panels = panel_cost * num_panels * om_cost_panels_rate\n",
    "        om_cost_batteries = battery_cost * num_batteries * om_cost_batteries_rate\n",
    "        total_om_cost = om_cost_panels + om_cost_batteries\n",
    "        \n",
    "        total_savings = annual_energy_supplied_pv_to_demand * energy_purchased_price\n",
    "        revenue_surplus = annual_excess_energy * energy_sold_price\n",
    "        \n",
    "        net_savings = (total_savings + revenue_surplus) - total_om_cost\n",
    "        \n",
    "        # Calculate ROI\n",
    "        roi = (net_savings / total_initial_investment) * 100 if total_initial_investment > 0 else 0\n",
    "        roi_grid[i, j] = roi\n",
    "        \n",
    "        # Store positive ROI scenarios\n",
    "        if roi > 0:\n",
    "            positive_roi_scenarios.append((num_panels, num_batteries, roi))\n",
    "\n",
    "# Print Positive ROI Scenarios\n",
    "print(\"✅ **Positive ROI Scenarios:**\")\n",
    "for scenario in positive_roi_scenarios:\n",
    "    print(f\"Number of Panels: {scenario[0]}, Number of Batteries: {scenario[1]}, ROI: {scenario[2]:.2f}%\")\n",
    "\n",
    "# Create a 3D Surface Plot\n",
    "fig = go.Figure()\n",
    "\n",
    "# Surface plot for ROI\n",
    "fig.add_trace(go.Surface(\n",
    "    z=roi_grid,\n",
    "    x=panel_grid,\n",
    "    y=battery_grid,\n",
    "    colorscale='Viridis',\n",
    "    colorbar=dict(title=\"ROI (%)\")\n",
    "))\n",
    "\n",
    "# Highlight Positive ROI Points\n",
    "if positive_roi_scenarios:\n",
    "    pos_x = [scenario[0] for scenario in positive_roi_scenarios]\n",
    "    pos_y = [scenario[1] for scenario in positive_roi_scenarios]\n",
    "    pos_z = [scenario[2] for scenario in positive_roi_scenarios]\n",
    "    \n",
    "    fig.add_trace(go.Scatter3d(\n",
    "        x=pos_x,\n",
    "        y=pos_y,\n",
    "        z=pos_z,\n",
    "        mode='markers',\n",
    "        marker=dict(\n",
    "            size=5,\n",
    "            color='red',\n",
    "            symbol='circle',\n",
    "            opacity=0.8\n",
    "        ),\n",
    "        name='Positive ROI'\n",
    "    ))\n",
    "\n",
    "# Update Layout\n",
    "fig.update_layout(\n",
    "    title='ROI vs. Number of Panels and Batteries with Positive ROI Highlighted',\n",
    "    scene=dict(\n",
    "        xaxis_title='Number of Panels',\n",
    "        yaxis_title='Number of Batteries',\n",
    "        zaxis_title='ROI (%)'\n",
    "    ),\n",
    "    template='plotly_white',\n",
    "    width=800,\n",
    "    height=600\n",
    ")\n",
    "\n",
    "fig.show()\n"
   ]
  },
  {
   "cell_type": "code",
   "execution_count": 17,
   "metadata": {},
   "outputs": [
    {
     "name": "stdout",
     "output_type": "stream",
     "text": [
      "✅ **Positive ROI Scenarios:**\n",
      "Number of Panels: 500, Number of Batteries: 0, ROI: 8.95%\n",
      "Number of Panels: 600, Number of Batteries: 0, ROI: 7.88%\n",
      "Number of Panels: 700, Number of Batteries: 0, ROI: 6.76%\n",
      "Number of Panels: 800, Number of Batteries: 0, ROI: 5.69%\n",
      "Number of Panels: 900, Number of Batteries: 0, ROI: 4.75%\n",
      "Number of Panels: 1000, Number of Batteries: 0, ROI: 3.92%\n",
      "Number of Panels: 1100, Number of Batteries: 0, ROI: 3.20%\n",
      "Number of Panels: 1200, Number of Batteries: 0, ROI: 2.56%\n",
      "Number of Panels: 1300, Number of Batteries: 0, ROI: 2.01%\n",
      "Number of Panels: 1400, Number of Batteries: 0, ROI: 1.51%\n",
      "Number of Panels: 1500, Number of Batteries: 0, ROI: 1.06%\n",
      "Number of Panels: 500, Number of Batteries: 10, ROI: 6.61%\n",
      "Number of Panels: 600, Number of Batteries: 10, ROI: 6.10%\n",
      "Number of Panels: 700, Number of Batteries: 10, ROI: 5.41%\n",
      "Number of Panels: 800, Number of Batteries: 10, ROI: 4.67%\n",
      "Number of Panels: 900, Number of Batteries: 10, ROI: 4.01%\n",
      "Number of Panels: 1000, Number of Batteries: 10, ROI: 3.39%\n",
      "Number of Panels: 1100, Number of Batteries: 10, ROI: 2.83%\n",
      "Number of Panels: 1200, Number of Batteries: 10, ROI: 2.30%\n",
      "Number of Panels: 1300, Number of Batteries: 10, ROI: 1.85%\n",
      "Number of Panels: 1400, Number of Batteries: 10, ROI: 1.43%\n",
      "Number of Panels: 1500, Number of Batteries: 10, ROI: 1.05%\n",
      "Number of Panels: 500, Number of Batteries: 20, ROI: 4.81%\n",
      "Number of Panels: 600, Number of Batteries: 20, ROI: 4.57%\n",
      "Number of Panels: 700, Number of Batteries: 20, ROI: 4.13%\n",
      "Number of Panels: 800, Number of Batteries: 20, ROI: 3.59%\n",
      "Number of Panels: 900, Number of Batteries: 20, ROI: 3.07%\n",
      "Number of Panels: 1000, Number of Batteries: 20, ROI: 2.62%\n",
      "Number of Panels: 1100, Number of Batteries: 20, ROI: 2.15%\n",
      "Number of Panels: 1200, Number of Batteries: 20, ROI: 1.75%\n",
      "Number of Panels: 1300, Number of Batteries: 20, ROI: 1.36%\n",
      "Number of Panels: 1400, Number of Batteries: 20, ROI: 1.02%\n",
      "Number of Panels: 1500, Number of Batteries: 20, ROI: 0.69%\n",
      "Number of Panels: 500, Number of Batteries: 30, ROI: 3.51%\n",
      "Number of Panels: 600, Number of Batteries: 30, ROI: 3.42%\n",
      "Number of Panels: 700, Number of Batteries: 30, ROI: 3.11%\n",
      "Number of Panels: 800, Number of Batteries: 30, ROI: 2.71%\n",
      "Number of Panels: 900, Number of Batteries: 30, ROI: 2.29%\n",
      "Number of Panels: 1000, Number of Batteries: 30, ROI: 1.92%\n",
      "Number of Panels: 1100, Number of Batteries: 30, ROI: 1.55%\n",
      "Number of Panels: 1200, Number of Batteries: 30, ROI: 1.20%\n",
      "Number of Panels: 1300, Number of Batteries: 30, ROI: 0.91%\n",
      "Number of Panels: 1400, Number of Batteries: 30, ROI: 0.59%\n",
      "Number of Panels: 1500, Number of Batteries: 30, ROI: 0.34%\n",
      "Number of Panels: 500, Number of Batteries: 40, ROI: 2.53%\n",
      "Number of Panels: 600, Number of Batteries: 40, ROI: 2.53%\n",
      "Number of Panels: 700, Number of Batteries: 40, ROI: 2.32%\n",
      "Number of Panels: 800, Number of Batteries: 40, ROI: 2.01%\n",
      "Number of Panels: 900, Number of Batteries: 40, ROI: 1.67%\n",
      "Number of Panels: 1000, Number of Batteries: 40, ROI: 1.35%\n",
      "Number of Panels: 1100, Number of Batteries: 40, ROI: 1.04%\n",
      "Number of Panels: 1200, Number of Batteries: 40, ROI: 0.76%\n",
      "Number of Panels: 1300, Number of Batteries: 40, ROI: 0.49%\n",
      "Number of Panels: 1400, Number of Batteries: 40, ROI: 0.25%\n",
      "Number of Panels: 500, Number of Batteries: 50, ROI: 1.76%\n",
      "Number of Panels: 600, Number of Batteries: 50, ROI: 1.82%\n",
      "Number of Panels: 700, Number of Batteries: 50, ROI: 1.68%\n",
      "Number of Panels: 800, Number of Batteries: 50, ROI: 1.43%\n",
      "Number of Panels: 900, Number of Batteries: 50, ROI: 1.16%\n",
      "Number of Panels: 1000, Number of Batteries: 50, ROI: 0.89%\n",
      "Number of Panels: 1100, Number of Batteries: 50, ROI: 0.61%\n",
      "Number of Panels: 1200, Number of Batteries: 50, ROI: 0.37%\n",
      "Number of Panels: 1300, Number of Batteries: 50, ROI: 0.14%\n",
      "Number of Panels: 500, Number of Batteries: 60, ROI: 1.12%\n",
      "Number of Panels: 600, Number of Batteries: 60, ROI: 1.24%\n",
      "Number of Panels: 700, Number of Batteries: 60, ROI: 1.15%\n",
      "Number of Panels: 800, Number of Batteries: 60, ROI: 0.95%\n",
      "Number of Panels: 900, Number of Batteries: 60, ROI: 0.72%\n",
      "Number of Panels: 1000, Number of Batteries: 60, ROI: 0.50%\n",
      "Number of Panels: 1100, Number of Batteries: 60, ROI: 0.26%\n",
      "Number of Panels: 1200, Number of Batteries: 60, ROI: 0.04%\n",
      "Number of Panels: 500, Number of Batteries: 70, ROI: 0.60%\n",
      "Number of Panels: 600, Number of Batteries: 70, ROI: 0.74%\n",
      "Number of Panels: 700, Number of Batteries: 70, ROI: 0.69%\n",
      "Number of Panels: 800, Number of Batteries: 70, ROI: 0.54%\n",
      "Number of Panels: 900, Number of Batteries: 70, ROI: 0.34%\n",
      "Number of Panels: 1000, Number of Batteries: 70, ROI: 0.15%\n",
      "Number of Panels: 500, Number of Batteries: 80, ROI: 0.16%\n",
      "Number of Panels: 600, Number of Batteries: 80, ROI: 0.32%\n",
      "Number of Panels: 700, Number of Batteries: 80, ROI: 0.30%\n",
      "Number of Panels: 800, Number of Batteries: 80, ROI: 0.18%\n",
      "Number of Panels: 900, Number of Batteries: 80, ROI: 0.01%\n"
     ]
    },
    {
     "data": {
      "application/vnd.plotly.v1+json": {
       "config": {
        "plotlyServerURL": "https://plot.ly"
       },
       "data": [
        {
         "colorbar": {
          "title": {
           "text": "ROI (%)"
          }
         },
         "colorscale": [
          [
           0,
           "#440154"
          ],
          [
           0.1111111111111111,
           "#482878"
          ],
          [
           0.2222222222222222,
           "#3e4989"
          ],
          [
           0.3333333333333333,
           "#31688e"
          ],
          [
           0.4444444444444444,
           "#26828e"
          ],
          [
           0.5555555555555556,
           "#1f9e89"
          ],
          [
           0.6666666666666666,
           "#35b779"
          ],
          [
           0.7777777777777778,
           "#6ece58"
          ],
          [
           0.8888888888888888,
           "#b5de2b"
          ],
          [
           1,
           "#fde725"
          ]
         ],
         "hoverinfo": "text",
         "text": [
          [
           "Number of Panels: 500<br>Number of Batteries: 0<br>ROI: 8.95%",
           "Number of Panels: 600<br>Number of Batteries: 0<br>ROI: 7.88%",
           "Number of Panels: 700<br>Number of Batteries: 0<br>ROI: 6.76%",
           "Number of Panels: 800<br>Number of Batteries: 0<br>ROI: 5.69%",
           "Number of Panels: 900<br>Number of Batteries: 0<br>ROI: 4.75%",
           "Number of Panels: 1000<br>Number of Batteries: 0<br>ROI: 3.92%",
           "Number of Panels: 1100<br>Number of Batteries: 0<br>ROI: 3.20%",
           "Number of Panels: 1200<br>Number of Batteries: 0<br>ROI: 2.56%",
           "Number of Panels: 1300<br>Number of Batteries: 0<br>ROI: 2.01%",
           "Number of Panels: 1400<br>Number of Batteries: 0<br>ROI: 1.51%",
           "Number of Panels: 1500<br>Number of Batteries: 0<br>ROI: 1.06%"
          ],
          [
           "Number of Panels: 500<br>Number of Batteries: 10<br>ROI: 6.61%",
           "Number of Panels: 600<br>Number of Batteries: 10<br>ROI: 6.10%",
           "Number of Panels: 700<br>Number of Batteries: 10<br>ROI: 5.41%",
           "Number of Panels: 800<br>Number of Batteries: 10<br>ROI: 4.67%",
           "Number of Panels: 900<br>Number of Batteries: 10<br>ROI: 4.01%",
           "Number of Panels: 1000<br>Number of Batteries: 10<br>ROI: 3.39%",
           "Number of Panels: 1100<br>Number of Batteries: 10<br>ROI: 2.83%",
           "Number of Panels: 1200<br>Number of Batteries: 10<br>ROI: 2.30%",
           "Number of Panels: 1300<br>Number of Batteries: 10<br>ROI: 1.85%",
           "Number of Panels: 1400<br>Number of Batteries: 10<br>ROI: 1.43%",
           "Number of Panels: 1500<br>Number of Batteries: 10<br>ROI: 1.05%"
          ],
          [
           "Number of Panels: 500<br>Number of Batteries: 20<br>ROI: 4.81%",
           "Number of Panels: 600<br>Number of Batteries: 20<br>ROI: 4.57%",
           "Number of Panels: 700<br>Number of Batteries: 20<br>ROI: 4.13%",
           "Number of Panels: 800<br>Number of Batteries: 20<br>ROI: 3.59%",
           "Number of Panels: 900<br>Number of Batteries: 20<br>ROI: 3.07%",
           "Number of Panels: 1000<br>Number of Batteries: 20<br>ROI: 2.62%",
           "Number of Panels: 1100<br>Number of Batteries: 20<br>ROI: 2.15%",
           "Number of Panels: 1200<br>Number of Batteries: 20<br>ROI: 1.75%",
           "Number of Panels: 1300<br>Number of Batteries: 20<br>ROI: 1.36%",
           "Number of Panels: 1400<br>Number of Batteries: 20<br>ROI: 1.02%",
           "Number of Panels: 1500<br>Number of Batteries: 20<br>ROI: 0.69%"
          ],
          [
           "Number of Panels: 500<br>Number of Batteries: 30<br>ROI: 3.51%",
           "Number of Panels: 600<br>Number of Batteries: 30<br>ROI: 3.42%",
           "Number of Panels: 700<br>Number of Batteries: 30<br>ROI: 3.11%",
           "Number of Panels: 800<br>Number of Batteries: 30<br>ROI: 2.71%",
           "Number of Panels: 900<br>Number of Batteries: 30<br>ROI: 2.29%",
           "Number of Panels: 1000<br>Number of Batteries: 30<br>ROI: 1.92%",
           "Number of Panels: 1100<br>Number of Batteries: 30<br>ROI: 1.55%",
           "Number of Panels: 1200<br>Number of Batteries: 30<br>ROI: 1.20%",
           "Number of Panels: 1300<br>Number of Batteries: 30<br>ROI: 0.91%",
           "Number of Panels: 1400<br>Number of Batteries: 30<br>ROI: 0.59%",
           "Number of Panels: 1500<br>Number of Batteries: 30<br>ROI: 0.34%"
          ],
          [
           "Number of Panels: 500<br>Number of Batteries: 40<br>ROI: 2.53%",
           "Number of Panels: 600<br>Number of Batteries: 40<br>ROI: 2.53%",
           "Number of Panels: 700<br>Number of Batteries: 40<br>ROI: 2.32%",
           "Number of Panels: 800<br>Number of Batteries: 40<br>ROI: 2.01%",
           "Number of Panels: 900<br>Number of Batteries: 40<br>ROI: 1.67%",
           "Number of Panels: 1000<br>Number of Batteries: 40<br>ROI: 1.35%",
           "Number of Panels: 1100<br>Number of Batteries: 40<br>ROI: 1.04%",
           "Number of Panels: 1200<br>Number of Batteries: 40<br>ROI: 0.76%",
           "Number of Panels: 1300<br>Number of Batteries: 40<br>ROI: 0.49%",
           "Number of Panels: 1400<br>Number of Batteries: 40<br>ROI: 0.25%",
           "Number of Panels: 1500<br>Number of Batteries: 40<br>ROI: -0.00%"
          ],
          [
           "Number of Panels: 500<br>Number of Batteries: 50<br>ROI: 1.76%",
           "Number of Panels: 600<br>Number of Batteries: 50<br>ROI: 1.82%",
           "Number of Panels: 700<br>Number of Batteries: 50<br>ROI: 1.68%",
           "Number of Panels: 800<br>Number of Batteries: 50<br>ROI: 1.43%",
           "Number of Panels: 900<br>Number of Batteries: 50<br>ROI: 1.16%",
           "Number of Panels: 1000<br>Number of Batteries: 50<br>ROI: 0.89%",
           "Number of Panels: 1100<br>Number of Batteries: 50<br>ROI: 0.61%",
           "Number of Panels: 1200<br>Number of Batteries: 50<br>ROI: 0.37%",
           "Number of Panels: 1300<br>Number of Batteries: 50<br>ROI: 0.14%",
           "Number of Panels: 1400<br>Number of Batteries: 50<br>ROI: -0.06%",
           "Number of Panels: 1500<br>Number of Batteries: 50<br>ROI: -0.29%"
          ],
          [
           "Number of Panels: 500<br>Number of Batteries: 60<br>ROI: 1.12%",
           "Number of Panels: 600<br>Number of Batteries: 60<br>ROI: 1.24%",
           "Number of Panels: 700<br>Number of Batteries: 60<br>ROI: 1.15%",
           "Number of Panels: 800<br>Number of Batteries: 60<br>ROI: 0.95%",
           "Number of Panels: 900<br>Number of Batteries: 60<br>ROI: 0.72%",
           "Number of Panels: 1000<br>Number of Batteries: 60<br>ROI: 0.50%",
           "Number of Panels: 1100<br>Number of Batteries: 60<br>ROI: 0.26%",
           "Number of Panels: 1200<br>Number of Batteries: 60<br>ROI: 0.04%",
           "Number of Panels: 1300<br>Number of Batteries: 60<br>ROI: -0.16%",
           "Number of Panels: 1400<br>Number of Batteries: 60<br>ROI: -0.34%",
           "Number of Panels: 1500<br>Number of Batteries: 60<br>ROI: -0.55%"
          ],
          [
           "Number of Panels: 500<br>Number of Batteries: 70<br>ROI: 0.60%",
           "Number of Panels: 600<br>Number of Batteries: 70<br>ROI: 0.74%",
           "Number of Panels: 700<br>Number of Batteries: 70<br>ROI: 0.69%",
           "Number of Panels: 800<br>Number of Batteries: 70<br>ROI: 0.54%",
           "Number of Panels: 900<br>Number of Batteries: 70<br>ROI: 0.34%",
           "Number of Panels: 1000<br>Number of Batteries: 70<br>ROI: 0.15%",
           "Number of Panels: 1100<br>Number of Batteries: 70<br>ROI: -0.06%",
           "Number of Panels: 1200<br>Number of Batteries: 70<br>ROI: -0.25%",
           "Number of Panels: 1300<br>Number of Batteries: 70<br>ROI: -0.42%",
           "Number of Panels: 1400<br>Number of Batteries: 70<br>ROI: -0.58%",
           "Number of Panels: 1500<br>Number of Batteries: 70<br>ROI: -0.77%"
          ],
          [
           "Number of Panels: 500<br>Number of Batteries: 80<br>ROI: 0.16%",
           "Number of Panels: 600<br>Number of Batteries: 80<br>ROI: 0.32%",
           "Number of Panels: 700<br>Number of Batteries: 80<br>ROI: 0.30%",
           "Number of Panels: 800<br>Number of Batteries: 80<br>ROI: 0.18%",
           "Number of Panels: 900<br>Number of Batteries: 80<br>ROI: 0.01%",
           "Number of Panels: 1000<br>Number of Batteries: 80<br>ROI: -0.16%",
           "Number of Panels: 1100<br>Number of Batteries: 80<br>ROI: -0.33%",
           "Number of Panels: 1200<br>Number of Batteries: 80<br>ROI: -0.50%",
           "Number of Panels: 1300<br>Number of Batteries: 80<br>ROI: -0.66%",
           "Number of Panels: 1400<br>Number of Batteries: 80<br>ROI: -0.80%",
           "Number of Panels: 1500<br>Number of Batteries: 80<br>ROI: -0.97%"
          ],
          [
           "Number of Panels: 500<br>Number of Batteries: 90<br>ROI: -0.22%",
           "Number of Panels: 600<br>Number of Batteries: 90<br>ROI: -0.04%",
           "Number of Panels: 700<br>Number of Batteries: 90<br>ROI: -0.04%",
           "Number of Panels: 800<br>Number of Batteries: 90<br>ROI: -0.14%",
           "Number of Panels: 900<br>Number of Batteries: 90<br>ROI: -0.28%",
           "Number of Panels: 1000<br>Number of Batteries: 90<br>ROI: -0.43%",
           "Number of Panels: 1100<br>Number of Batteries: 90<br>ROI: -0.58%",
           "Number of Panels: 1200<br>Number of Batteries: 90<br>ROI: -0.72%",
           "Number of Panels: 1300<br>Number of Batteries: 90<br>ROI: -0.87%",
           "Number of Panels: 1400<br>Number of Batteries: 90<br>ROI: -0.99%",
           "Number of Panels: 1500<br>Number of Batteries: 90<br>ROI: -1.15%"
          ],
          [
           "Number of Panels: 500<br>Number of Batteries: 100<br>ROI: -0.54%",
           "Number of Panels: 600<br>Number of Batteries: 100<br>ROI: -0.36%",
           "Number of Panels: 700<br>Number of Batteries: 100<br>ROI: -0.34%",
           "Number of Panels: 800<br>Number of Batteries: 100<br>ROI: -0.42%",
           "Number of Panels: 900<br>Number of Batteries: 100<br>ROI: -0.53%",
           "Number of Panels: 1000<br>Number of Batteries: 100<br>ROI: -0.67%",
           "Number of Panels: 1100<br>Number of Batteries: 100<br>ROI: -0.80%",
           "Number of Panels: 1200<br>Number of Batteries: 100<br>ROI: -0.93%",
           "Number of Panels: 1300<br>Number of Batteries: 100<br>ROI: -1.06%",
           "Number of Panels: 1400<br>Number of Batteries: 100<br>ROI: -1.17%",
           "Number of Panels: 1500<br>Number of Batteries: 100<br>ROI: -1.31%"
          ]
         ],
         "type": "surface",
         "x": {
          "bdata": "9AEAAFgCAAC8AgAAIAMAAIQDAADoAwAATAQAALAEAAAUBQAAeAUAANwFAAD0AQAAWAIAALwCAAAgAwAAhAMAAOgDAABMBAAAsAQAABQFAAB4BQAA3AUAAPQBAABYAgAAvAIAACADAACEAwAA6AMAAEwEAACwBAAAFAUAAHgFAADcBQAA9AEAAFgCAAC8AgAAIAMAAIQDAADoAwAATAQAALAEAAAUBQAAeAUAANwFAAD0AQAAWAIAALwCAAAgAwAAhAMAAOgDAABMBAAAsAQAABQFAAB4BQAA3AUAAPQBAABYAgAAvAIAACADAACEAwAA6AMAAEwEAACwBAAAFAUAAHgFAADcBQAA9AEAAFgCAAC8AgAAIAMAAIQDAADoAwAATAQAALAEAAAUBQAAeAUAANwFAAD0AQAAWAIAALwCAAAgAwAAhAMAAOgDAABMBAAAsAQAABQFAAB4BQAA3AUAAPQBAABYAgAAvAIAACADAACEAwAA6AMAAEwEAACwBAAAFAUAAHgFAADcBQAA9AEAAFgCAAC8AgAAIAMAAIQDAADoAwAATAQAALAEAAAUBQAAeAUAANwFAAD0AQAAWAIAALwCAAAgAwAAhAMAAOgDAABMBAAAsAQAABQFAAB4BQAA3AUAAA==",
          "dtype": "i4",
          "shape": "11, 11"
         },
         "y": {
          "bdata": "AAAAAAAAAAAAAAAAAAAAAAAAAAAAAAAAAAAAAAAAAAAAAAAAAAAAAAAAAAAKAAAACgAAAAoAAAAKAAAACgAAAAoAAAAKAAAACgAAAAoAAAAKAAAACgAAABQAAAAUAAAAFAAAABQAAAAUAAAAFAAAABQAAAAUAAAAFAAAABQAAAAUAAAAHgAAAB4AAAAeAAAAHgAAAB4AAAAeAAAAHgAAAB4AAAAeAAAAHgAAAB4AAAAoAAAAKAAAACgAAAAoAAAAKAAAACgAAAAoAAAAKAAAACgAAAAoAAAAKAAAADIAAAAyAAAAMgAAADIAAAAyAAAAMgAAADIAAAAyAAAAMgAAADIAAAAyAAAAPAAAADwAAAA8AAAAPAAAADwAAAA8AAAAPAAAADwAAAA8AAAAPAAAADwAAABGAAAARgAAAEYAAABGAAAARgAAAEYAAABGAAAARgAAAEYAAABGAAAARgAAAFAAAABQAAAAUAAAAFAAAABQAAAAUAAAAFAAAABQAAAAUAAAAFAAAABQAAAAWgAAAFoAAABaAAAAWgAAAFoAAABaAAAAWgAAAFoAAABaAAAAWgAAAFoAAABkAAAAZAAAAGQAAABkAAAAZAAAAGQAAABkAAAAZAAAAGQAAABkAAAAZAAAAA==",
          "dtype": "i4",
          "shape": "11, 11"
         },
         "z": {
          "bdata": "JkGoXjfoIUAm31Mkj4YfQDJ2DSy/BRtAUPd/fHHBFkCNaEFpF/wSQB1UD4+tXQ9AUfQO2jWWCUAb5x+d4YIEQH4rXGXlCwBADKRvHWwW+D+FwoVe5unwP3dwzr0AdBpAc22+VkFrGEAmI1FwP6MVQCndPoV3shJA3qgpv3EGEEAq5sUiTRsLQMKya8bDpwZAcq1Vuc5uAkA6mVVF86n9P3ezSgRT0PY/Ock/Rd/F8D//SwBCZz8TQEasx/8xRhJAgnh0ON+DEED7tPrZfLgMQFRtuCABkAhAh7DMmZzsBEDiC+paaCkBQHs8R4Sr8fs/s/S/52nJ9T94EIlaikXwP6x9jj6V9OU/Ieu4dfEXDEACABT2aV8LQOSIC5wy3whApzhCQ9SxBUAYkAkIJ08CQPivQO/hy/4/Y1XWVm3E+D/mwtoxV0PzP9piZ7DzDe0/POwETLD74j+4BW9AYtTVPwGYSwdzQgRAIhvIms5CBEBvn0H5jo8CQE/IEhVsHABAhA2J35/L+j8NzE19V5X1P2rAgK87l/A/uBcLQ7856D/OHXOl8SPfP98t6wgYrc8/oRyVLAsfcb9T/OC/qRX8P56eKGZsKv0/AMizKIbd+j/2wofIDe/2P6XHIp2kfvI/0ijKcxZf7D+xX37pvZvjP87g0UEGgtc/bTnhrRJjwT/MhWHwgiywv1EvWCInz9K/yMyHVdr58T+Ri6pan8fzP/l7KdbEVfI/5a03RZJl7j9918mg5PvmP8KETCFB0N8/TaMeekB00D9vETXZr0ajP9G2DMzaq8S//zwcp8yG1b+8QKm/p3/hv/VeOIhjMeM//E5/K5TC5z9EBO3ntyTmP8v7nKF0IOE/I+OODGvn1T9BxYuOIBjDP/m1IfjNMa2/f08najauz7+SK50Jgyjbv82H80gckOK/tQwXpre16L9tE3G5fEzEPw7PhmK/jtQ/3yReCac80z8gu0WLl+nGP9OOemLS640/Zy0xDOwLxL+pNEkmbwTVvwai1/Cu69+/KEnAzpgi5b8+Rn7cq4fpv5jr/wI4+O6/9ijpzN/sy79pwp8W7MClv7Qq5buDaqS/jFG/cCZiwb9D2T5DccvRv30uG7EgZNu/m8bBI61w4r8pYhA2bxLnv0yNb1s/1uu/iiSAhfbC779bcwbJSFnyv9G9hsZtZeG/PLEqdYYE17+jvJQr/bXVv0IK3BNKn9q/eQdI7VQI4b+QoUG+LlHlv8jKFjz+m+m/OghKEn+a7b9s0Bx4Be7wv3QS5BFzuvK/M8KpnO7h9L8=",
          "dtype": "f8",
          "shape": "11, 11"
         }
        },
        {
         "marker": {
          "color": "red",
          "opacity": 0.8,
          "size": 5,
          "symbol": "circle"
         },
         "mode": "markers+text",
         "type": "scatter3d",
         "x": [
          500,
          600,
          700,
          800,
          900,
          1000,
          1100,
          1200,
          1300,
          1400,
          1500,
          500,
          600,
          700,
          800,
          900,
          1000,
          1100,
          1200,
          1300,
          1400,
          1500,
          500,
          600,
          700,
          800,
          900,
          1000,
          1100,
          1200,
          1300,
          1400,
          1500,
          500,
          600,
          700,
          800,
          900,
          1000,
          1100,
          1200,
          1300,
          1400,
          1500,
          500,
          600,
          700,
          800,
          900,
          1000,
          1100,
          1200,
          1300,
          1400,
          500,
          600,
          700,
          800,
          900,
          1000,
          1100,
          1200,
          1300,
          500,
          600,
          700,
          800,
          900,
          1000,
          1100,
          1200,
          500,
          600,
          700,
          800,
          900,
          1000,
          500,
          600,
          700,
          800,
          900
         ],
         "y": [
          0,
          0,
          0,
          0,
          0,
          0,
          0,
          0,
          0,
          0,
          0,
          10,
          10,
          10,
          10,
          10,
          10,
          10,
          10,
          10,
          10,
          10,
          20,
          20,
          20,
          20,
          20,
          20,
          20,
          20,
          20,
          20,
          20,
          30,
          30,
          30,
          30,
          30,
          30,
          30,
          30,
          30,
          30,
          30,
          40,
          40,
          40,
          40,
          40,
          40,
          40,
          40,
          40,
          40,
          50,
          50,
          50,
          50,
          50,
          50,
          50,
          50,
          50,
          60,
          60,
          60,
          60,
          60,
          60,
          60,
          60,
          70,
          70,
          70,
          70,
          70,
          70,
          80,
          80,
          80,
          80,
          80
         ],
         "z": [
          8.953547437704923,
          7.881405418032761,
          6.755612076112401,
          5.688909478483609,
          4.746183056466305,
          3.920741193442622,
          3.1983449016393384,
          2.563906886612029,
          2.0058086317780512,
          1.505474200234178,
          1.0571044628415234,
          6.613284078335815,
          6.10474143540647,
          5.4094216870806004,
          4.674284059488209,
          4.006293284337714,
          3.388330718674088,
          2.831916380082789,
          2.304105232169314,
          1.85399176677454,
          1.425860420956466,
          1.048308630470798,
          4.811917334812278,
          4.568550106584615,
          4.12878120623475,
          3.590081885302991,
          3.070314651134746,
          2.6155330672828003,
          2.1452185728717135,
          1.7465014617080488,
          1.361673264763607,
          1.0169776474513395,
          0.6861063215073293,
          3.5116910168702735,
          3.4215888237813497,
          3.1089832488079185,
          2.7118306402763497,
          2.2886486652296405,
          1.924776014881898,
          1.5479558364944175,
          1.2039405772631482,
          0.9079531140697228,
          0.5932237133741931,
          0.34108787815429364,
          2.5324459619469057,
          2.532620629531622,
          2.3200969193603025,
          2.0138780256611777,
          1.6747130138254258,
          1.348960389583911,
          1.0369221549590528,
          0.7570492085876515,
          0.4865688434333294,
          0.24746990619165296,
          1.7552888388888916,
          1.8228572836468753,
          1.6790830221111719,
          1.4333627541747638,
          1.155918706714581,
          0.8866073857800763,
          0.6127614555762105,
          0.3673110621234742,
          0.13583596697067027,
          1.123499235251801,
          1.2362359563491945,
          1.145939671106815,
          0.949898848715233,
          0.7182486668013862,
          0.49708584071965956,
          0.2570954506468766,
          0.03764867330986276,
          0.5997789059210549,
          0.742502293544447,
          0.6919822244455038,
          0.5352118641384264,
          0.34224964357740556,
          0.14917380295040952,
          0.15858420424242628,
          0.3212126218961523,
          0.3005769340021071,
          0.17900366115960598,
          0.014609950666744897
         ]
        }
       ],
       "layout": {
        "height": 600,
        "scene": {
         "xaxis": {
          "title": {
           "text": "Number of Panels"
          }
         },
         "yaxis": {
          "title": {
           "text": "Number of Batteries"
          }
         },
         "zaxis": {
          "title": {
           "text": "ROI (%)"
          }
         }
        },
        "template": {
         "data": {
          "bar": [
           {
            "error_x": {
             "color": "#2a3f5f"
            },
            "error_y": {
             "color": "#2a3f5f"
            },
            "marker": {
             "line": {
              "color": "white",
              "width": 0.5
             },
             "pattern": {
              "fillmode": "overlay",
              "size": 10,
              "solidity": 0.2
             }
            },
            "type": "bar"
           }
          ],
          "barpolar": [
           {
            "marker": {
             "line": {
              "color": "white",
              "width": 0.5
             },
             "pattern": {
              "fillmode": "overlay",
              "size": 10,
              "solidity": 0.2
             }
            },
            "type": "barpolar"
           }
          ],
          "carpet": [
           {
            "aaxis": {
             "endlinecolor": "#2a3f5f",
             "gridcolor": "#C8D4E3",
             "linecolor": "#C8D4E3",
             "minorgridcolor": "#C8D4E3",
             "startlinecolor": "#2a3f5f"
            },
            "baxis": {
             "endlinecolor": "#2a3f5f",
             "gridcolor": "#C8D4E3",
             "linecolor": "#C8D4E3",
             "minorgridcolor": "#C8D4E3",
             "startlinecolor": "#2a3f5f"
            },
            "type": "carpet"
           }
          ],
          "choropleth": [
           {
            "colorbar": {
             "outlinewidth": 0,
             "ticks": ""
            },
            "type": "choropleth"
           }
          ],
          "contour": [
           {
            "colorbar": {
             "outlinewidth": 0,
             "ticks": ""
            },
            "colorscale": [
             [
              0,
              "#0d0887"
             ],
             [
              0.1111111111111111,
              "#46039f"
             ],
             [
              0.2222222222222222,
              "#7201a8"
             ],
             [
              0.3333333333333333,
              "#9c179e"
             ],
             [
              0.4444444444444444,
              "#bd3786"
             ],
             [
              0.5555555555555556,
              "#d8576b"
             ],
             [
              0.6666666666666666,
              "#ed7953"
             ],
             [
              0.7777777777777778,
              "#fb9f3a"
             ],
             [
              0.8888888888888888,
              "#fdca26"
             ],
             [
              1,
              "#f0f921"
             ]
            ],
            "type": "contour"
           }
          ],
          "contourcarpet": [
           {
            "colorbar": {
             "outlinewidth": 0,
             "ticks": ""
            },
            "type": "contourcarpet"
           }
          ],
          "heatmap": [
           {
            "colorbar": {
             "outlinewidth": 0,
             "ticks": ""
            },
            "colorscale": [
             [
              0,
              "#0d0887"
             ],
             [
              0.1111111111111111,
              "#46039f"
             ],
             [
              0.2222222222222222,
              "#7201a8"
             ],
             [
              0.3333333333333333,
              "#9c179e"
             ],
             [
              0.4444444444444444,
              "#bd3786"
             ],
             [
              0.5555555555555556,
              "#d8576b"
             ],
             [
              0.6666666666666666,
              "#ed7953"
             ],
             [
              0.7777777777777778,
              "#fb9f3a"
             ],
             [
              0.8888888888888888,
              "#fdca26"
             ],
             [
              1,
              "#f0f921"
             ]
            ],
            "type": "heatmap"
           }
          ],
          "histogram": [
           {
            "marker": {
             "pattern": {
              "fillmode": "overlay",
              "size": 10,
              "solidity": 0.2
             }
            },
            "type": "histogram"
           }
          ],
          "histogram2d": [
           {
            "colorbar": {
             "outlinewidth": 0,
             "ticks": ""
            },
            "colorscale": [
             [
              0,
              "#0d0887"
             ],
             [
              0.1111111111111111,
              "#46039f"
             ],
             [
              0.2222222222222222,
              "#7201a8"
             ],
             [
              0.3333333333333333,
              "#9c179e"
             ],
             [
              0.4444444444444444,
              "#bd3786"
             ],
             [
              0.5555555555555556,
              "#d8576b"
             ],
             [
              0.6666666666666666,
              "#ed7953"
             ],
             [
              0.7777777777777778,
              "#fb9f3a"
             ],
             [
              0.8888888888888888,
              "#fdca26"
             ],
             [
              1,
              "#f0f921"
             ]
            ],
            "type": "histogram2d"
           }
          ],
          "histogram2dcontour": [
           {
            "colorbar": {
             "outlinewidth": 0,
             "ticks": ""
            },
            "colorscale": [
             [
              0,
              "#0d0887"
             ],
             [
              0.1111111111111111,
              "#46039f"
             ],
             [
              0.2222222222222222,
              "#7201a8"
             ],
             [
              0.3333333333333333,
              "#9c179e"
             ],
             [
              0.4444444444444444,
              "#bd3786"
             ],
             [
              0.5555555555555556,
              "#d8576b"
             ],
             [
              0.6666666666666666,
              "#ed7953"
             ],
             [
              0.7777777777777778,
              "#fb9f3a"
             ],
             [
              0.8888888888888888,
              "#fdca26"
             ],
             [
              1,
              "#f0f921"
             ]
            ],
            "type": "histogram2dcontour"
           }
          ],
          "mesh3d": [
           {
            "colorbar": {
             "outlinewidth": 0,
             "ticks": ""
            },
            "type": "mesh3d"
           }
          ],
          "parcoords": [
           {
            "line": {
             "colorbar": {
              "outlinewidth": 0,
              "ticks": ""
             }
            },
            "type": "parcoords"
           }
          ],
          "pie": [
           {
            "automargin": true,
            "type": "pie"
           }
          ],
          "scatter": [
           {
            "fillpattern": {
             "fillmode": "overlay",
             "size": 10,
             "solidity": 0.2
            },
            "type": "scatter"
           }
          ],
          "scatter3d": [
           {
            "line": {
             "colorbar": {
              "outlinewidth": 0,
              "ticks": ""
             }
            },
            "marker": {
             "colorbar": {
              "outlinewidth": 0,
              "ticks": ""
             }
            },
            "type": "scatter3d"
           }
          ],
          "scattercarpet": [
           {
            "marker": {
             "colorbar": {
              "outlinewidth": 0,
              "ticks": ""
             }
            },
            "type": "scattercarpet"
           }
          ],
          "scattergeo": [
           {
            "marker": {
             "colorbar": {
              "outlinewidth": 0,
              "ticks": ""
             }
            },
            "type": "scattergeo"
           }
          ],
          "scattergl": [
           {
            "marker": {
             "colorbar": {
              "outlinewidth": 0,
              "ticks": ""
             }
            },
            "type": "scattergl"
           }
          ],
          "scattermap": [
           {
            "marker": {
             "colorbar": {
              "outlinewidth": 0,
              "ticks": ""
             }
            },
            "type": "scattermap"
           }
          ],
          "scattermapbox": [
           {
            "marker": {
             "colorbar": {
              "outlinewidth": 0,
              "ticks": ""
             }
            },
            "type": "scattermapbox"
           }
          ],
          "scatterpolar": [
           {
            "marker": {
             "colorbar": {
              "outlinewidth": 0,
              "ticks": ""
             }
            },
            "type": "scatterpolar"
           }
          ],
          "scatterpolargl": [
           {
            "marker": {
             "colorbar": {
              "outlinewidth": 0,
              "ticks": ""
             }
            },
            "type": "scatterpolargl"
           }
          ],
          "scatterternary": [
           {
            "marker": {
             "colorbar": {
              "outlinewidth": 0,
              "ticks": ""
             }
            },
            "type": "scatterternary"
           }
          ],
          "surface": [
           {
            "colorbar": {
             "outlinewidth": 0,
             "ticks": ""
            },
            "colorscale": [
             [
              0,
              "#0d0887"
             ],
             [
              0.1111111111111111,
              "#46039f"
             ],
             [
              0.2222222222222222,
              "#7201a8"
             ],
             [
              0.3333333333333333,
              "#9c179e"
             ],
             [
              0.4444444444444444,
              "#bd3786"
             ],
             [
              0.5555555555555556,
              "#d8576b"
             ],
             [
              0.6666666666666666,
              "#ed7953"
             ],
             [
              0.7777777777777778,
              "#fb9f3a"
             ],
             [
              0.8888888888888888,
              "#fdca26"
             ],
             [
              1,
              "#f0f921"
             ]
            ],
            "type": "surface"
           }
          ],
          "table": [
           {
            "cells": {
             "fill": {
              "color": "#EBF0F8"
             },
             "line": {
              "color": "white"
             }
            },
            "header": {
             "fill": {
              "color": "#C8D4E3"
             },
             "line": {
              "color": "white"
             }
            },
            "type": "table"
           }
          ]
         },
         "layout": {
          "annotationdefaults": {
           "arrowcolor": "#2a3f5f",
           "arrowhead": 0,
           "arrowwidth": 1
          },
          "autotypenumbers": "strict",
          "coloraxis": {
           "colorbar": {
            "outlinewidth": 0,
            "ticks": ""
           }
          },
          "colorscale": {
           "diverging": [
            [
             0,
             "#8e0152"
            ],
            [
             0.1,
             "#c51b7d"
            ],
            [
             0.2,
             "#de77ae"
            ],
            [
             0.3,
             "#f1b6da"
            ],
            [
             0.4,
             "#fde0ef"
            ],
            [
             0.5,
             "#f7f7f7"
            ],
            [
             0.6,
             "#e6f5d0"
            ],
            [
             0.7,
             "#b8e186"
            ],
            [
             0.8,
             "#7fbc41"
            ],
            [
             0.9,
             "#4d9221"
            ],
            [
             1,
             "#276419"
            ]
           ],
           "sequential": [
            [
             0,
             "#0d0887"
            ],
            [
             0.1111111111111111,
             "#46039f"
            ],
            [
             0.2222222222222222,
             "#7201a8"
            ],
            [
             0.3333333333333333,
             "#9c179e"
            ],
            [
             0.4444444444444444,
             "#bd3786"
            ],
            [
             0.5555555555555556,
             "#d8576b"
            ],
            [
             0.6666666666666666,
             "#ed7953"
            ],
            [
             0.7777777777777778,
             "#fb9f3a"
            ],
            [
             0.8888888888888888,
             "#fdca26"
            ],
            [
             1,
             "#f0f921"
            ]
           ],
           "sequentialminus": [
            [
             0,
             "#0d0887"
            ],
            [
             0.1111111111111111,
             "#46039f"
            ],
            [
             0.2222222222222222,
             "#7201a8"
            ],
            [
             0.3333333333333333,
             "#9c179e"
            ],
            [
             0.4444444444444444,
             "#bd3786"
            ],
            [
             0.5555555555555556,
             "#d8576b"
            ],
            [
             0.6666666666666666,
             "#ed7953"
            ],
            [
             0.7777777777777778,
             "#fb9f3a"
            ],
            [
             0.8888888888888888,
             "#fdca26"
            ],
            [
             1,
             "#f0f921"
            ]
           ]
          },
          "colorway": [
           "#636efa",
           "#EF553B",
           "#00cc96",
           "#ab63fa",
           "#FFA15A",
           "#19d3f3",
           "#FF6692",
           "#B6E880",
           "#FF97FF",
           "#FECB52"
          ],
          "font": {
           "color": "#2a3f5f"
          },
          "geo": {
           "bgcolor": "white",
           "lakecolor": "white",
           "landcolor": "white",
           "showlakes": true,
           "showland": true,
           "subunitcolor": "#C8D4E3"
          },
          "hoverlabel": {
           "align": "left"
          },
          "hovermode": "closest",
          "mapbox": {
           "style": "light"
          },
          "paper_bgcolor": "white",
          "plot_bgcolor": "white",
          "polar": {
           "angularaxis": {
            "gridcolor": "#EBF0F8",
            "linecolor": "#EBF0F8",
            "ticks": ""
           },
           "bgcolor": "white",
           "radialaxis": {
            "gridcolor": "#EBF0F8",
            "linecolor": "#EBF0F8",
            "ticks": ""
           }
          },
          "scene": {
           "xaxis": {
            "backgroundcolor": "white",
            "gridcolor": "#DFE8F3",
            "gridwidth": 2,
            "linecolor": "#EBF0F8",
            "showbackground": true,
            "ticks": "",
            "zerolinecolor": "#EBF0F8"
           },
           "yaxis": {
            "backgroundcolor": "white",
            "gridcolor": "#DFE8F3",
            "gridwidth": 2,
            "linecolor": "#EBF0F8",
            "showbackground": true,
            "ticks": "",
            "zerolinecolor": "#EBF0F8"
           },
           "zaxis": {
            "backgroundcolor": "white",
            "gridcolor": "#DFE8F3",
            "gridwidth": 2,
            "linecolor": "#EBF0F8",
            "showbackground": true,
            "ticks": "",
            "zerolinecolor": "#EBF0F8"
           }
          },
          "shapedefaults": {
           "line": {
            "color": "#2a3f5f"
           }
          },
          "ternary": {
           "aaxis": {
            "gridcolor": "#DFE8F3",
            "linecolor": "#A2B1C6",
            "ticks": ""
           },
           "baxis": {
            "gridcolor": "#DFE8F3",
            "linecolor": "#A2B1C6",
            "ticks": ""
           },
           "bgcolor": "white",
           "caxis": {
            "gridcolor": "#DFE8F3",
            "linecolor": "#A2B1C6",
            "ticks": ""
           }
          },
          "title": {
           "x": 0.05
          },
          "xaxis": {
           "automargin": true,
           "gridcolor": "#EBF0F8",
           "linecolor": "#EBF0F8",
           "ticks": "",
           "title": {
            "standoff": 15
           },
           "zerolinecolor": "#EBF0F8",
           "zerolinewidth": 2
          },
          "yaxis": {
           "automargin": true,
           "gridcolor": "#EBF0F8",
           "linecolor": "#EBF0F8",
           "ticks": "",
           "title": {
            "standoff": 15
           },
           "zerolinecolor": "#EBF0F8",
           "zerolinewidth": 2
          }
         }
        },
        "title": {
         "text": "ROI vs. Number of Panels and Batteries with Positive ROI Highlighted"
        },
        "width": 800
       }
      }
     },
     "metadata": {},
     "output_type": "display_data"
    }
   ],
   "source": [
    "import plotly.graph_objects as go\n",
    "import numpy as np\n",
    "\n",
    "# Financial Parameters\n",
    "panel_cost = 1220  # € per panel\n",
    "battery_cost = 13000  # € per battery\n",
    "energy_sold_price = 0.1208  # €/kWh\n",
    "energy_purchased_price = 0.2713  # €/kWh\n",
    "om_cost_panels_rate = 0.07  # 7%\n",
    "om_cost_batteries_rate = 0.05  # 5%\n",
    "\n",
    "# System Parameters\n",
    "battery_capacity_per_unit = 57  # kWh per battery\n",
    "converter_efficiency = 0.9  # 90% efficiency\n",
    "initial_soc = 50  # 50% initial battery SOC\n",
    "\n",
    "# Energy Demand\n",
    "total_energy_demand = merged_data['Consumption_kWh'].sum()\n",
    "\n",
    "# Define range of panels and batteries\n",
    "panel_range = np.arange(500, 1501, 100)  # From 500 to 1500 panels in steps of 100\n",
    "battery_range = np.arange(0, 101, 10)  # From 0 to 100 batteries in steps of 10\n",
    "\n",
    "# Create meshgrid for analysis\n",
    "panel_grid, battery_grid = np.meshgrid(panel_range, battery_range)\n",
    "roi_grid = np.zeros_like(panel_grid, dtype=float)\n",
    "\n",
    "# Hover text grid\n",
    "hover_texts = np.empty(panel_grid.shape, dtype=object)\n",
    "\n",
    "# Store positive ROI scenarios\n",
    "positive_roi_scenarios = []\n",
    "\n",
    "# Loop through combinations\n",
    "for i in range(panel_grid.shape[0]):\n",
    "    for j in range(panel_grid.shape[1]):\n",
    "        num_panels = panel_grid[i, j]\n",
    "        num_batteries = battery_grid[i, j]\n",
    "        \n",
    "        battery_capacity = battery_capacity_per_unit * num_batteries\n",
    "        total_pv_production = merged_data['PV_Production_kWh'].sum() * num_panels \n",
    "        \n",
    "        # Initialize SOC and metrics\n",
    "        soc = initial_soc\n",
    "        total_energy_supplied_pv_to_demand = 0\n",
    "        total_energy_discharged = 0\n",
    "        annual_excess_energy = 0\n",
    "        \n",
    "        for timestamp, row in merged_data.iterrows():\n",
    "            consumption = row['Consumption_kWh']\n",
    "            pv_production = row['PV_Production_kWh'] * num_panels \n",
    "            \n",
    "            # Energy supplied\n",
    "            energy_supplied_pv = min(pv_production, consumption)\n",
    "            total_energy_supplied_pv_to_demand += energy_supplied_pv\n",
    "            \n",
    "            excess = pv_production - energy_supplied_pv\n",
    "            deficit = consumption - energy_supplied_pv\n",
    "            \n",
    "            # Charge Battery\n",
    "            if excess > 0 and num_batteries > 0 and soc < 100:\n",
    "                charge = min(excess * converter_efficiency, (100 - soc) / 100 * battery_capacity)\n",
    "                soc += (charge / battery_capacity) * 100\n",
    "                annual_excess_energy += excess - charge / converter_efficiency\n",
    "            \n",
    "            # Discharge Battery\n",
    "            if deficit > 0 and num_batteries > 0 and soc > 20:\n",
    "                discharge = min(deficit, (soc - 20) / 100 * battery_capacity * converter_efficiency)\n",
    "                total_energy_discharged += discharge\n",
    "                soc -= (discharge / battery_capacity) * 100\n",
    "        \n",
    "        # Financial Metrics\n",
    "        total_initial_investment = (panel_cost * num_panels) + (battery_cost * num_batteries)\n",
    "        om_cost_panels = panel_cost * num_panels * om_cost_panels_rate\n",
    "        om_cost_batteries = battery_cost * num_batteries * om_cost_batteries_rate\n",
    "        total_om_cost = om_cost_panels + om_cost_batteries\n",
    "        \n",
    "        total_savings = total_energy_supplied_pv_to_demand * energy_purchased_price\n",
    "        revenue_surplus = annual_excess_energy * energy_sold_price\n",
    "        net_savings = (total_savings + revenue_surplus) - total_om_cost\n",
    "        \n",
    "        # Calculate ROI\n",
    "        roi = (net_savings / total_initial_investment) * 100 if total_initial_investment > 0 else 0\n",
    "        roi_grid[i, j] = roi\n",
    "        \n",
    "        # Store positive ROI scenarios\n",
    "        if roi > 0:\n",
    "            positive_roi_scenarios.append((num_panels, num_batteries, roi))\n",
    "        \n",
    "        # Add custom hover text\n",
    "        hover_texts[i, j] = (\n",
    "            f\"Number of Panels: {num_panels}<br>\"\n",
    "            f\"Number of Batteries: {num_batteries}<br>\"\n",
    "            f\"ROI: {roi:.2f}%\"\n",
    "        )\n",
    "\n",
    "# Print Positive ROI Scenarios\n",
    "print(\"✅ **Positive ROI Scenarios:**\")\n",
    "for scenario in positive_roi_scenarios:\n",
    "    print(f\"Number of Panels: {scenario[0]}, Number of Batteries: {scenario[1]}, ROI: {scenario[2]:.2f}%\")\n",
    "\n",
    "# Create a 3D Surface Plot\n",
    "fig = go.Figure()\n",
    "\n",
    "# Surface plot for ROI\n",
    "fig.add_trace(go.Surface(\n",
    "    z=roi_grid,\n",
    "    x=panel_grid,\n",
    "    y=battery_grid,\n",
    "    colorscale='Viridis',\n",
    "    colorbar=dict(title=\"ROI (%)\"),\n",
    "    hoverinfo='text',\n",
    "    text=hover_texts\n",
    "))\n",
    "\n",
    "# Highlight Positive ROI Points\n",
    "if positive_roi_scenarios:\n",
    "    pos_x = [scenario[0] for scenario in positive_roi_scenarios]\n",
    "    pos_y = [scenario[1] for scenario in positive_roi_scenarios]\n",
    "    pos_z = [scenario[2] for scenario in positive_roi_scenarios]\n",
    "    \n",
    "    fig.add_trace(go.Scatter3d(\n",
    "        x=pos_x,\n",
    "        y=pos_y,\n",
    "        z=pos_z,\n",
    "        mode='markers+text',\n",
    "        marker=dict(\n",
    "            size=5,\n",
    "            color='red',\n",
    "            symbol='circle',\n",
    "            opacity=0.8\n",
    "        ),\n",
    "        #text=hover_texts,\n",
    "        #textposition='top center',\n",
    "        #name='Positive ROI'\n",
    "    ))\n",
    "\n",
    "# Update Layout\n",
    "fig.update_layout(\n",
    "    title='ROI vs. Number of Panels and Batteries with Positive ROI Highlighted',\n",
    "    scene=dict(\n",
    "        xaxis_title='Number of Panels',\n",
    "        yaxis_title='Number of Batteries',\n",
    "        zaxis_title='ROI (%)'\n",
    "    ),\n",
    "    template='plotly_white',\n",
    "    width=800,\n",
    "    height=600\n",
    ")\n",
    "\n",
    "fig.show()\n"
   ]
  },
  {
   "cell_type": "code",
   "execution_count": 19,
   "metadata": {},
   "outputs": [
    {
     "name": "stdout",
     "output_type": "stream",
     "text": [
      "✅ **Optimal Scenario (Maximum SSR with Positive ROI):**\n",
      "Number of Panels: 1400\n",
      "Number of Batteries: 40\n",
      "SSR: 80.67%\n",
      "ROI: 0.25%\n"
     ]
    },
    {
     "data": {
      "application/vnd.plotly.v1+json": {
       "config": {
        "plotlyServerURL": "https://plot.ly"
       },
       "data": [
        {
         "colorbar": {
          "title": {
           "text": "SSR (%)"
          }
         },
         "colorscale": [
          [
           0,
           "#440154"
          ],
          [
           0.1111111111111111,
           "#482878"
          ],
          [
           0.2222222222222222,
           "#3e4989"
          ],
          [
           0.3333333333333333,
           "#31688e"
          ],
          [
           0.4444444444444444,
           "#26828e"
          ],
          [
           0.5555555555555556,
           "#1f9e89"
          ],
          [
           0.6666666666666666,
           "#35b779"
          ],
          [
           0.7777777777777778,
           "#6ece58"
          ],
          [
           0.8888888888888888,
           "#b5de2b"
          ],
          [
           1,
           "#fde725"
          ]
         ],
         "hoverinfo": "text",
         "surfacecolor": {
          "bdata": "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",
          "dtype": "f8",
          "shape": "11, 26"
         },
         "text": [
          [
           "Number of Panels: 500<br>Number of Batteries: 0<br>SSR: 29.30%<br>ROI: 8.95%",
           "Number of Panels: 600<br>Number of Batteries: 0<br>SSR: 32.79%<br>ROI: 7.88%",
           "Number of Panels: 700<br>Number of Batteries: 0<br>SSR: 35.36%<br>ROI: 6.76%",
           "Number of Panels: 800<br>Number of Batteries: 0<br>SSR: 37.28%<br>ROI: 5.69%",
           "Number of Panels: 900<br>Number of Batteries: 0<br>SSR: 38.83%<br>ROI: 4.75%",
           "Number of Panels: 1000<br>Number of Batteries: 0<br>SSR: 40.11%<br>ROI: 3.92%",
           "Number of Panels: 1100<br>Number of Batteries: 0<br>SSR: 41.20%<br>ROI: 3.20%",
           "Number of Panels: 1200<br>Number of Batteries: 0<br>SSR: 42.15%<br>ROI: 2.56%",
           "Number of Panels: 1300<br>Number of Batteries: 0<br>SSR: 43.00%<br>ROI: 2.01%",
           "Number of Panels: 1400<br>Number of Batteries: 0<br>SSR: 43.73%<br>ROI: 1.51%",
           "Number of Panels: 1500<br>Number of Batteries: 0<br>SSR: 44.39%<br>ROI: 1.06%",
           "Number of Panels: 1600<br>Number of Batteries: 0<br>SSR: 44.98%<br>ROI: 0.65%",
           "Number of Panels: 1700<br>Number of Batteries: 0<br>SSR: 45.52%<br>ROI: 0.29%",
           "Number of Panels: 1800<br>Number of Batteries: 0<br>SSR: 46.01%<br>ROI: -0.04%",
           "Number of Panels: 1900<br>Number of Batteries: 0<br>SSR: 46.45%<br>ROI: -0.34%",
           "Number of Panels: 2000<br>Number of Batteries: 0<br>SSR: 46.86%<br>ROI: -0.62%",
           "Number of Panels: 2100<br>Number of Batteries: 0<br>SSR: 47.24%<br>ROI: -0.87%",
           "Number of Panels: 2200<br>Number of Batteries: 0<br>SSR: 47.59%<br>ROI: -1.11%",
           "Number of Panels: 2300<br>Number of Batteries: 0<br>SSR: 47.91%<br>ROI: -1.33%",
           "Number of Panels: 2400<br>Number of Batteries: 0<br>SSR: 48.20%<br>ROI: -1.53%",
           "Number of Panels: 2500<br>Number of Batteries: 0<br>SSR: 48.48%<br>ROI: -1.72%",
           "Number of Panels: 2600<br>Number of Batteries: 0<br>SSR: 48.73%<br>ROI: -1.90%",
           "Number of Panels: 2700<br>Number of Batteries: 0<br>SSR: 48.97%<br>ROI: -2.06%",
           "Number of Panels: 2800<br>Number of Batteries: 0<br>SSR: 49.20%<br>ROI: -2.22%",
           "Number of Panels: 2900<br>Number of Batteries: 0<br>SSR: 49.41%<br>ROI: -2.36%",
           "Number of Panels: 3000<br>Number of Batteries: 0<br>SSR: 49.62%<br>ROI: -2.50%"
          ],
          [
           "Number of Panels: 500<br>Number of Batteries: 10<br>SSR: 34.72%<br>ROI: 6.61%",
           "Number of Panels: 600<br>Number of Batteries: 10<br>SSR: 39.61%<br>ROI: 6.10%",
           "Number of Panels: 700<br>Number of Batteries: 10<br>SSR: 43.76%<br>ROI: 5.41%",
           "Number of Panels: 800<br>Number of Batteries: 10<br>SSR: 47.13%<br>ROI: 4.67%",
           "Number of Panels: 900<br>Number of Batteries: 10<br>SSR: 49.52%<br>ROI: 4.01%",
           "Number of Panels: 1000<br>Number of Batteries: 10<br>SSR: 51.29%<br>ROI: 3.39%",
           "Number of Panels: 1100<br>Number of Batteries: 10<br>SSR: 52.73%<br>ROI: 2.83%",
           "Number of Panels: 1200<br>Number of Batteries: 10<br>SSR: 53.96%<br>ROI: 2.30%",
           "Number of Panels: 1300<br>Number of Batteries: 10<br>SSR: 55.00%<br>ROI: 1.85%",
           "Number of Panels: 1400<br>Number of Batteries: 10<br>SSR: 55.88%<br>ROI: 1.43%",
           "Number of Panels: 1500<br>Number of Batteries: 10<br>SSR: 56.68%<br>ROI: 1.05%",
           "Number of Panels: 1600<br>Number of Batteries: 10<br>SSR: 57.38%<br>ROI: 0.70%",
           "Number of Panels: 1700<br>Number of Batteries: 10<br>SSR: 58.00%<br>ROI: 0.38%",
           "Number of Panels: 1800<br>Number of Batteries: 10<br>SSR: 58.57%<br>ROI: 0.07%",
           "Number of Panels: 1900<br>Number of Batteries: 10<br>SSR: 59.10%<br>ROI: -0.22%",
           "Number of Panels: 2000<br>Number of Batteries: 10<br>SSR: 59.58%<br>ROI: -0.48%",
           "Number of Panels: 2100<br>Number of Batteries: 10<br>SSR: 60.03%<br>ROI: -0.71%",
           "Number of Panels: 2200<br>Number of Batteries: 10<br>SSR: 60.44%<br>ROI: -0.91%",
           "Number of Panels: 2300<br>Number of Batteries: 10<br>SSR: 60.81%<br>ROI: -1.09%",
           "Number of Panels: 2400<br>Number of Batteries: 10<br>SSR: 61.16%<br>ROI: -1.28%",
           "Number of Panels: 2500<br>Number of Batteries: 10<br>SSR: 61.48%<br>ROI: -1.46%",
           "Number of Panels: 2600<br>Number of Batteries: 10<br>SSR: 61.77%<br>ROI: -1.62%",
           "Number of Panels: 2700<br>Number of Batteries: 10<br>SSR: 62.04%<br>ROI: -1.78%",
           "Number of Panels: 2800<br>Number of Batteries: 10<br>SSR: 62.30%<br>ROI: -1.93%",
           "Number of Panels: 2900<br>Number of Batteries: 10<br>SSR: 62.54%<br>ROI: -2.08%",
           "Number of Panels: 3000<br>Number of Batteries: 10<br>SSR: 62.78%<br>ROI: -2.21%"
          ],
          [
           "Number of Panels: 500<br>Number of Batteries: 20<br>SSR: 37.19%<br>ROI: 4.81%",
           "Number of Panels: 600<br>Number of Batteries: 20<br>SSR: 43.18%<br>ROI: 4.57%",
           "Number of Panels: 700<br>Number of Batteries: 20<br>SSR: 48.51%<br>ROI: 4.13%",
           "Number of Panels: 800<br>Number of Batteries: 20<br>SSR: 53.20%<br>ROI: 3.59%",
           "Number of Panels: 900<br>Number of Batteries: 20<br>SSR: 57.05%<br>ROI: 3.07%",
           "Number of Panels: 1000<br>Number of Batteries: 20<br>SSR: 60.13%<br>ROI: 2.62%",
           "Number of Panels: 1100<br>Number of Batteries: 20<br>SSR: 62.36%<br>ROI: 2.15%",
           "Number of Panels: 1200<br>Number of Batteries: 20<br>SSR: 64.08%<br>ROI: 1.75%",
           "Number of Panels: 1300<br>Number of Batteries: 20<br>SSR: 65.51%<br>ROI: 1.36%",
           "Number of Panels: 1400<br>Number of Batteries: 20<br>SSR: 66.75%<br>ROI: 1.02%",
           "Number of Panels: 1500<br>Number of Batteries: 20<br>SSR: 67.84%<br>ROI: 0.69%",
           "Number of Panels: 1600<br>Number of Batteries: 20<br>SSR: 68.80%<br>ROI: 0.42%",
           "Number of Panels: 1700<br>Number of Batteries: 20<br>SSR: 69.59%<br>ROI: 0.09%",
           "Number of Panels: 1800<br>Number of Batteries: 20<br>SSR: 70.29%<br>ROI: -0.16%",
           "Number of Panels: 1900<br>Number of Batteries: 20<br>SSR: 70.92%<br>ROI: -0.41%",
           "Number of Panels: 2000<br>Number of Batteries: 20<br>SSR: 71.52%<br>ROI: -0.62%",
           "Number of Panels: 2100<br>Number of Batteries: 20<br>SSR: 72.07%<br>ROI: -0.81%",
           "Number of Panels: 2200<br>Number of Batteries: 20<br>SSR: 72.58%<br>ROI: -0.99%",
           "Number of Panels: 2300<br>Number of Batteries: 20<br>SSR: 73.03%<br>ROI: -1.20%",
           "Number of Panels: 2400<br>Number of Batteries: 20<br>SSR: 73.45%<br>ROI: -1.37%",
           "Number of Panels: 2500<br>Number of Batteries: 20<br>SSR: 73.83%<br>ROI: -1.54%",
           "Number of Panels: 2600<br>Number of Batteries: 20<br>SSR: 74.19%<br>ROI: -1.69%",
           "Number of Panels: 2700<br>Number of Batteries: 20<br>SSR: 74.52%<br>ROI: -1.85%",
           "Number of Panels: 2800<br>Number of Batteries: 20<br>SSR: 74.84%<br>ROI: -1.97%",
           "Number of Panels: 2900<br>Number of Batteries: 20<br>SSR: 75.14%<br>ROI: -2.13%",
           "Number of Panels: 3000<br>Number of Batteries: 20<br>SSR: 75.42%<br>ROI: -2.26%"
          ],
          [
           "Number of Panels: 500<br>Number of Batteries: 30<br>SSR: 37.67%<br>ROI: 3.51%",
           "Number of Panels: 600<br>Number of Batteries: 30<br>SSR: 44.75%<br>ROI: 3.42%",
           "Number of Panels: 700<br>Number of Batteries: 30<br>SSR: 50.97%<br>ROI: 3.11%",
           "Number of Panels: 800<br>Number of Batteries: 30<br>SSR: 56.55%<br>ROI: 2.71%",
           "Number of Panels: 900<br>Number of Batteries: 30<br>SSR: 61.51%<br>ROI: 2.29%",
           "Number of Panels: 1000<br>Number of Batteries: 30<br>SSR: 65.86%<br>ROI: 1.92%",
           "Number of Panels: 1100<br>Number of Batteries: 30<br>SSR: 69.43%<br>ROI: 1.55%",
           "Number of Panels: 1200<br>Number of Batteries: 30<br>SSR: 72.17%<br>ROI: 1.20%",
           "Number of Panels: 1300<br>Number of Batteries: 30<br>SSR: 74.17%<br>ROI: 0.91%",
           "Number of Panels: 1400<br>Number of Batteries: 30<br>SSR: 75.79%<br>ROI: 0.59%",
           "Number of Panels: 1500<br>Number of Batteries: 30<br>SSR: 77.14%<br>ROI: 0.34%",
           "Number of Panels: 1600<br>Number of Batteries: 30<br>SSR: 78.33%<br>ROI: 0.06%",
           "Number of Panels: 1700<br>Number of Batteries: 30<br>SSR: 79.41%<br>ROI: -0.18%",
           "Number of Panels: 1800<br>Number of Batteries: 30<br>SSR: 80.40%<br>ROI: -0.39%",
           "Number of Panels: 1900<br>Number of Batteries: 30<br>SSR: 81.25%<br>ROI: -0.59%",
           "Number of Panels: 2000<br>Number of Batteries: 30<br>SSR: 81.95%<br>ROI: -0.80%",
           "Number of Panels: 2100<br>Number of Batteries: 30<br>SSR: 82.59%<br>ROI: -0.99%",
           "Number of Panels: 2200<br>Number of Batteries: 30<br>SSR: 83.13%<br>ROI: -1.18%",
           "Number of Panels: 2300<br>Number of Batteries: 30<br>SSR: 83.62%<br>ROI: -1.37%",
           "Number of Panels: 2400<br>Number of Batteries: 30<br>SSR: 84.08%<br>ROI: -1.53%",
           "Number of Panels: 2500<br>Number of Batteries: 30<br>SSR: 84.52%<br>ROI: -1.67%",
           "Number of Panels: 2600<br>Number of Batteries: 30<br>SSR: 84.93%<br>ROI: -1.81%",
           "Number of Panels: 2700<br>Number of Batteries: 30<br>SSR: 85.30%<br>ROI: -1.93%",
           "Number of Panels: 2800<br>Number of Batteries: 30<br>SSR: 85.64%<br>ROI: -2.03%",
           "Number of Panels: 2900<br>Number of Batteries: 30<br>SSR: 85.95%<br>ROI: -2.12%",
           "Number of Panels: 3000<br>Number of Batteries: 30<br>SSR: 86.24%<br>ROI: -2.24%"
          ],
          [
           "Number of Panels: 500<br>Number of Batteries: 40<br>SSR: 37.70%<br>ROI: 2.53%",
           "Number of Panels: 600<br>Number of Batteries: 40<br>SSR: 44.96%<br>ROI: 2.53%",
           "Number of Panels: 700<br>Number of Batteries: 40<br>SSR: 51.79%<br>ROI: 2.32%",
           "Number of Panels: 800<br>Number of Batteries: 40<br>SSR: 57.82%<br>ROI: 2.01%",
           "Number of Panels: 900<br>Number of Batteries: 40<br>SSR: 63.23%<br>ROI: 1.67%",
           "Number of Panels: 1000<br>Number of Batteries: 40<br>SSR: 68.14%<br>ROI: 1.35%",
           "Number of Panels: 1100<br>Number of Batteries: 40<br>SSR: 72.36%<br>ROI: 1.04%",
           "Number of Panels: 1200<br>Number of Batteries: 40<br>SSR: 75.81%<br>ROI: 0.76%",
           "Number of Panels: 1300<br>Number of Batteries: 40<br>SSR: 78.67%<br>ROI: 0.49%",
           "Number of Panels: 1400<br>Number of Batteries: 40<br>SSR: 80.67%<br>ROI: 0.25%",
           "Number of Panels: 1500<br>Number of Batteries: 40<br>SSR: 82.12%<br>ROI: -0.00%",
           "Number of Panels: 1600<br>Number of Batteries: 40<br>SSR: 83.38%<br>ROI: -0.21%",
           "Number of Panels: 1700<br>Number of Batteries: 40<br>SSR: 84.55%<br>ROI: -0.46%",
           "Number of Panels: 1800<br>Number of Batteries: 40<br>SSR: 85.61%<br>ROI: -0.66%",
           "Number of Panels: 1900<br>Number of Batteries: 40<br>SSR: 86.54%<br>ROI: -0.82%",
           "Number of Panels: 2000<br>Number of Batteries: 40<br>SSR: 87.38%<br>ROI: -0.99%",
           "Number of Panels: 2100<br>Number of Batteries: 40<br>SSR: 88.13%<br>ROI: -1.19%",
           "Number of Panels: 2200<br>Number of Batteries: 40<br>SSR: 88.75%<br>ROI: -1.35%",
           "Number of Panels: 2300<br>Number of Batteries: 40<br>SSR: 89.25%<br>ROI: -1.50%",
           "Number of Panels: 2400<br>Number of Batteries: 40<br>SSR: 89.69%<br>ROI: -1.63%",
           "Number of Panels: 2500<br>Number of Batteries: 40<br>SSR: 90.08%<br>ROI: -1.79%",
           "Number of Panels: 2600<br>Number of Batteries: 40<br>SSR: 90.45%<br>ROI: -1.92%",
           "Number of Panels: 2700<br>Number of Batteries: 40<br>SSR: 90.80%<br>ROI: -2.05%",
           "Number of Panels: 2800<br>Number of Batteries: 40<br>SSR: 91.10%<br>ROI: -2.18%",
           "Number of Panels: 2900<br>Number of Batteries: 40<br>SSR: 91.39%<br>ROI: -2.27%",
           "Number of Panels: 3000<br>Number of Batteries: 40<br>SSR: 91.66%<br>ROI: -2.36%"
          ],
          [
           "Number of Panels: 500<br>Number of Batteries: 50<br>SSR: 37.71%<br>ROI: 1.76%",
           "Number of Panels: 600<br>Number of Batteries: 50<br>SSR: 45.00%<br>ROI: 1.82%",
           "Number of Panels: 700<br>Number of Batteries: 50<br>SSR: 52.03%<br>ROI: 1.68%",
           "Number of Panels: 800<br>Number of Batteries: 50<br>SSR: 58.54%<br>ROI: 1.43%",
           "Number of Panels: 900<br>Number of Batteries: 50<br>SSR: 64.28%<br>ROI: 1.16%",
           "Number of Panels: 1000<br>Number of Batteries: 50<br>SSR: 69.37%<br>ROI: 0.89%",
           "Number of Panels: 1100<br>Number of Batteries: 50<br>SSR: 73.81%<br>ROI: 0.61%",
           "Number of Panels: 1200<br>Number of Batteries: 50<br>SSR: 77.50%<br>ROI: 0.37%",
           "Number of Panels: 1300<br>Number of Batteries: 50<br>SSR: 80.43%<br>ROI: 0.14%",
           "Number of Panels: 1400<br>Number of Batteries: 50<br>SSR: 82.58%<br>ROI: -0.06%",
           "Number of Panels: 1500<br>Number of Batteries: 50<br>SSR: 84.34%<br>ROI: -0.29%",
           "Number of Panels: 1600<br>Number of Batteries: 50<br>SSR: 85.74%<br>ROI: -0.49%",
           "Number of Panels: 1700<br>Number of Batteries: 50<br>SSR: 86.94%<br>ROI: -0.69%",
           "Number of Panels: 1800<br>Number of Batteries: 50<br>SSR: 88.00%<br>ROI: -0.88%",
           "Number of Panels: 1900<br>Number of Batteries: 50<br>SSR: 88.99%<br>ROI: -1.02%",
           "Number of Panels: 2000<br>Number of Batteries: 50<br>SSR: 89.85%<br>ROI: -1.17%",
           "Number of Panels: 2100<br>Number of Batteries: 50<br>SSR: 90.56%<br>ROI: -1.34%",
           "Number of Panels: 2200<br>Number of Batteries: 50<br>SSR: 91.18%<br>ROI: -1.53%",
           "Number of Panels: 2300<br>Number of Batteries: 50<br>SSR: 91.73%<br>ROI: -1.66%",
           "Number of Panels: 2400<br>Number of Batteries: 50<br>SSR: 92.25%<br>ROI: -1.76%",
           "Number of Panels: 2500<br>Number of Batteries: 50<br>SSR: 92.70%<br>ROI: -1.91%",
           "Number of Panels: 2600<br>Number of Batteries: 50<br>SSR: 93.08%<br>ROI: -2.04%",
           "Number of Panels: 2700<br>Number of Batteries: 50<br>SSR: 93.41%<br>ROI: -2.15%",
           "Number of Panels: 2800<br>Number of Batteries: 50<br>SSR: 93.68%<br>ROI: -2.28%",
           "Number of Panels: 2900<br>Number of Batteries: 50<br>SSR: 93.95%<br>ROI: -2.37%",
           "Number of Panels: 3000<br>Number of Batteries: 50<br>SSR: 94.20%<br>ROI: -2.45%"
          ],
          [
           "Number of Panels: 500<br>Number of Batteries: 60<br>SSR: 37.72%<br>ROI: 1.12%",
           "Number of Panels: 600<br>Number of Batteries: 60<br>SSR: 45.02%<br>ROI: 1.24%",
           "Number of Panels: 700<br>Number of Batteries: 60<br>SSR: 52.12%<br>ROI: 1.15%",
           "Number of Panels: 800<br>Number of Batteries: 60<br>SSR: 58.89%<br>ROI: 0.95%",
           "Number of Panels: 900<br>Number of Batteries: 60<br>SSR: 65.03%<br>ROI: 0.72%",
           "Number of Panels: 1000<br>Number of Batteries: 60<br>SSR: 70.31%<br>ROI: 0.50%",
           "Number of Panels: 1100<br>Number of Batteries: 60<br>SSR: 74.89%<br>ROI: 0.26%",
           "Number of Panels: 1200<br>Number of Batteries: 60<br>SSR: 78.65%<br>ROI: 0.04%",
           "Number of Panels: 1300<br>Number of Batteries: 60<br>SSR: 81.66%<br>ROI: -0.16%",
           "Number of Panels: 1400<br>Number of Batteries: 60<br>SSR: 83.89%<br>ROI: -0.34%",
           "Number of Panels: 1500<br>Number of Batteries: 60<br>SSR: 85.67%<br>ROI: -0.55%",
           "Number of Panels: 1600<br>Number of Batteries: 60<br>SSR: 87.13%<br>ROI: -0.71%",
           "Number of Panels: 1700<br>Number of Batteries: 60<br>SSR: 88.38%<br>ROI: -0.90%",
           "Number of Panels: 1800<br>Number of Batteries: 60<br>SSR: 89.44%<br>ROI: -1.06%",
           "Number of Panels: 1900<br>Number of Batteries: 60<br>SSR: 90.34%<br>ROI: -1.19%",
           "Number of Panels: 2000<br>Number of Batteries: 60<br>SSR: 91.12%<br>ROI: -1.32%",
           "Number of Panels: 2100<br>Number of Batteries: 60<br>SSR: 91.80%<br>ROI: -1.50%",
           "Number of Panels: 2200<br>Number of Batteries: 60<br>SSR: 92.43%<br>ROI: -1.67%",
           "Number of Panels: 2300<br>Number of Batteries: 60<br>SSR: 93.01%<br>ROI: -1.79%",
           "Number of Panels: 2400<br>Number of Batteries: 60<br>SSR: 93.52%<br>ROI: -1.87%",
           "Number of Panels: 2500<br>Number of Batteries: 60<br>SSR: 93.99%<br>ROI: -2.02%",
           "Number of Panels: 2600<br>Number of Batteries: 60<br>SSR: 94.39%<br>ROI: -2.16%",
           "Number of Panels: 2700<br>Number of Batteries: 60<br>SSR: 94.70%<br>ROI: -2.27%",
           "Number of Panels: 2800<br>Number of Batteries: 60<br>SSR: 94.97%<br>ROI: -2.37%",
           "Number of Panels: 2900<br>Number of Batteries: 60<br>SSR: 95.20%<br>ROI: -2.45%",
           "Number of Panels: 3000<br>Number of Batteries: 60<br>SSR: 95.40%<br>ROI: -2.52%"
          ],
          [
           "Number of Panels: 500<br>Number of Batteries: 70<br>SSR: 37.74%<br>ROI: 0.60%",
           "Number of Panels: 600<br>Number of Batteries: 70<br>SSR: 45.03%<br>ROI: 0.74%",
           "Number of Panels: 700<br>Number of Batteries: 70<br>SSR: 52.21%<br>ROI: 0.69%",
           "Number of Panels: 800<br>Number of Batteries: 70<br>SSR: 59.05%<br>ROI: 0.54%",
           "Number of Panels: 900<br>Number of Batteries: 70<br>SSR: 65.43%<br>ROI: 0.34%",
           "Number of Panels: 1000<br>Number of Batteries: 70<br>SSR: 71.06%<br>ROI: 0.15%",
           "Number of Panels: 1100<br>Number of Batteries: 70<br>SSR: 75.70%<br>ROI: -0.06%",
           "Number of Panels: 1200<br>Number of Batteries: 70<br>SSR: 79.56%<br>ROI: -0.25%",
           "Number of Panels: 1300<br>Number of Batteries: 70<br>SSR: 82.57%<br>ROI: -0.42%",
           "Number of Panels: 1400<br>Number of Batteries: 70<br>SSR: 84.89%<br>ROI: -0.58%",
           "Number of Panels: 1500<br>Number of Batteries: 70<br>SSR: 86.62%<br>ROI: -0.77%",
           "Number of Panels: 1600<br>Number of Batteries: 70<br>SSR: 88.07%<br>ROI: -0.92%",
           "Number of Panels: 1700<br>Number of Batteries: 70<br>SSR: 89.34%<br>ROI: -1.09%",
           "Number of Panels: 1800<br>Number of Batteries: 70<br>SSR: 90.40%<br>ROI: -1.24%",
           "Number of Panels: 1900<br>Number of Batteries: 70<br>SSR: 91.23%<br>ROI: -1.36%",
           "Number of Panels: 2000<br>Number of Batteries: 70<br>SSR: 91.96%<br>ROI: -1.47%",
           "Number of Panels: 2100<br>Number of Batteries: 70<br>SSR: 92.63%<br>ROI: -1.64%",
           "Number of Panels: 2200<br>Number of Batteries: 70<br>SSR: 93.29%<br>ROI: -1.79%",
           "Number of Panels: 2300<br>Number of Batteries: 70<br>SSR: 93.88%<br>ROI: -1.91%",
           "Number of Panels: 2400<br>Number of Batteries: 70<br>SSR: 94.38%<br>ROI: -2.00%",
           "Number of Panels: 2500<br>Number of Batteries: 70<br>SSR: 94.82%<br>ROI: -2.11%",
           "Number of Panels: 2600<br>Number of Batteries: 70<br>SSR: 95.22%<br>ROI: -2.24%",
           "Number of Panels: 2700<br>Number of Batteries: 70<br>SSR: 95.51%<br>ROI: -2.35%",
           "Number of Panels: 2800<br>Number of Batteries: 70<br>SSR: 95.74%<br>ROI: -2.46%",
           "Number of Panels: 2900<br>Number of Batteries: 70<br>SSR: 95.96%<br>ROI: -2.53%",
           "Number of Panels: 3000<br>Number of Batteries: 70<br>SSR: 96.13%<br>ROI: -2.60%"
          ],
          [
           "Number of Panels: 500<br>Number of Batteries: 80<br>SSR: 37.75%<br>ROI: 0.16%",
           "Number of Panels: 600<br>Number of Batteries: 80<br>SSR: 45.04%<br>ROI: 0.32%",
           "Number of Panels: 700<br>Number of Batteries: 80<br>SSR: 52.24%<br>ROI: 0.30%",
           "Number of Panels: 800<br>Number of Batteries: 80<br>SSR: 59.13%<br>ROI: 0.18%",
           "Number of Panels: 900<br>Number of Batteries: 80<br>SSR: 65.70%<br>ROI: 0.01%",
           "Number of Panels: 1000<br>Number of Batteries: 80<br>SSR: 71.59%<br>ROI: -0.16%",
           "Number of Panels: 1100<br>Number of Batteries: 80<br>SSR: 76.41%<br>ROI: -0.33%",
           "Number of Panels: 1200<br>Number of Batteries: 80<br>SSR: 80.26%<br>ROI: -0.50%",
           "Number of Panels: 1300<br>Number of Batteries: 80<br>SSR: 83.26%<br>ROI: -0.66%",
           "Number of Panels: 1400<br>Number of Batteries: 80<br>SSR: 85.51%<br>ROI: -0.80%",
           "Number of Panels: 1500<br>Number of Batteries: 80<br>SSR: 87.28%<br>ROI: -0.97%",
           "Number of Panels: 1600<br>Number of Batteries: 80<br>SSR: 88.74%<br>ROI: -1.10%",
           "Number of Panels: 1700<br>Number of Batteries: 80<br>SSR: 90.04%<br>ROI: -1.26%",
           "Number of Panels: 1800<br>Number of Batteries: 80<br>SSR: 91.06%<br>ROI: -1.40%",
           "Number of Panels: 1900<br>Number of Batteries: 80<br>SSR: 91.87%<br>ROI: -1.50%",
           "Number of Panels: 2000<br>Number of Batteries: 80<br>SSR: 92.61%<br>ROI: -1.62%",
           "Number of Panels: 2100<br>Number of Batteries: 80<br>SSR: 93.28%<br>ROI: -1.76%",
           "Number of Panels: 2200<br>Number of Batteries: 80<br>SSR: 93.90%<br>ROI: -1.91%",
           "Number of Panels: 2300<br>Number of Batteries: 80<br>SSR: 94.47%<br>ROI: -2.01%",
           "Number of Panels: 2400<br>Number of Batteries: 80<br>SSR: 94.95%<br>ROI: -2.10%",
           "Number of Panels: 2500<br>Number of Batteries: 80<br>SSR: 95.39%<br>ROI: -2.21%",
           "Number of Panels: 2600<br>Number of Batteries: 80<br>SSR: 95.76%<br>ROI: -2.33%",
           "Number of Panels: 2700<br>Number of Batteries: 80<br>SSR: 96.08%<br>ROI: -2.44%",
           "Number of Panels: 2800<br>Number of Batteries: 80<br>SSR: 96.32%<br>ROI: -2.53%",
           "Number of Panels: 2900<br>Number of Batteries: 80<br>SSR: 96.53%<br>ROI: -2.60%",
           "Number of Panels: 3000<br>Number of Batteries: 80<br>SSR: 96.73%<br>ROI: -2.67%"
          ],
          [
           "Number of Panels: 500<br>Number of Batteries: 90<br>SSR: 37.77%<br>ROI: -0.22%",
           "Number of Panels: 600<br>Number of Batteries: 90<br>SSR: 45.06%<br>ROI: -0.04%",
           "Number of Panels: 700<br>Number of Batteries: 90<br>SSR: 52.26%<br>ROI: -0.04%",
           "Number of Panels: 800<br>Number of Batteries: 90<br>SSR: 59.22%<br>ROI: -0.14%",
           "Number of Panels: 900<br>Number of Batteries: 90<br>SSR: 65.85%<br>ROI: -0.28%",
           "Number of Panels: 1000<br>Number of Batteries: 90<br>SSR: 72.00%<br>ROI: -0.43%",
           "Number of Panels: 1100<br>Number of Batteries: 90<br>SSR: 76.93%<br>ROI: -0.58%",
           "Number of Panels: 1200<br>Number of Batteries: 90<br>SSR: 80.86%<br>ROI: -0.72%",
           "Number of Panels: 1300<br>Number of Batteries: 90<br>SSR: 83.72%<br>ROI: -0.87%",
           "Number of Panels: 1400<br>Number of Batteries: 90<br>SSR: 85.96%<br>ROI: -0.99%",
           "Number of Panels: 1500<br>Number of Batteries: 90<br>SSR: 87.83%<br>ROI: -1.15%",
           "Number of Panels: 1600<br>Number of Batteries: 90<br>SSR: 89.27%<br>ROI: -1.27%",
           "Number of Panels: 1700<br>Number of Batteries: 90<br>SSR: 90.51%<br>ROI: -1.42%",
           "Number of Panels: 1800<br>Number of Batteries: 90<br>SSR: 91.53%<br>ROI: -1.55%",
           "Number of Panels: 1900<br>Number of Batteries: 90<br>SSR: 92.35%<br>ROI: -1.64%",
           "Number of Panels: 2000<br>Number of Batteries: 90<br>SSR: 93.07%<br>ROI: -1.75%",
           "Number of Panels: 2100<br>Number of Batteries: 90<br>SSR: 93.75%<br>ROI: -1.88%",
           "Number of Panels: 2200<br>Number of Batteries: 90<br>SSR: 94.39%<br>ROI: -2.02%",
           "Number of Panels: 2300<br>Number of Batteries: 90<br>SSR: 94.95%<br>ROI: -2.12%",
           "Number of Panels: 2400<br>Number of Batteries: 90<br>SSR: 95.39%<br>ROI: -2.19%",
           "Number of Panels: 2500<br>Number of Batteries: 90<br>SSR: 95.80%<br>ROI: -2.30%",
           "Number of Panels: 2600<br>Number of Batteries: 90<br>SSR: 96.17%<br>ROI: -2.41%",
           "Number of Panels: 2700<br>Number of Batteries: 90<br>SSR: 96.51%<br>ROI: -2.51%",
           "Number of Panels: 2800<br>Number of Batteries: 90<br>SSR: 96.80%<br>ROI: -2.61%",
           "Number of Panels: 2900<br>Number of Batteries: 90<br>SSR: 97.03%<br>ROI: -2.67%",
           "Number of Panels: 3000<br>Number of Batteries: 90<br>SSR: 97.24%<br>ROI: -2.73%"
          ],
          [
           "Number of Panels: 500<br>Number of Batteries: 100<br>SSR: 37.78%<br>ROI: -0.54%",
           "Number of Panels: 600<br>Number of Batteries: 100<br>SSR: 45.07%<br>ROI: -0.36%",
           "Number of Panels: 700<br>Number of Batteries: 100<br>SSR: 52.27%<br>ROI: -0.34%",
           "Number of Panels: 800<br>Number of Batteries: 100<br>SSR: 59.31%<br>ROI: -0.42%",
           "Number of Panels: 900<br>Number of Batteries: 100<br>SSR: 65.98%<br>ROI: -0.53%",
           "Number of Panels: 1000<br>Number of Batteries: 100<br>SSR: 72.29%<br>ROI: -0.67%",
           "Number of Panels: 1100<br>Number of Batteries: 100<br>SSR: 77.35%<br>ROI: -0.80%",
           "Number of Panels: 1200<br>Number of Batteries: 100<br>SSR: 81.24%<br>ROI: -0.93%",
           "Number of Panels: 1300<br>Number of Batteries: 100<br>SSR: 84.09%<br>ROI: -1.06%",
           "Number of Panels: 1400<br>Number of Batteries: 100<br>SSR: 86.34%<br>ROI: -1.17%",
           "Number of Panels: 1500<br>Number of Batteries: 100<br>SSR: 88.22%<br>ROI: -1.31%",
           "Number of Panels: 1600<br>Number of Batteries: 100<br>SSR: 89.71%<br>ROI: -1.43%",
           "Number of Panels: 1700<br>Number of Batteries: 100<br>SSR: 90.87%<br>ROI: -1.56%",
           "Number of Panels: 1800<br>Number of Batteries: 100<br>SSR: 91.89%<br>ROI: -1.68%",
           "Number of Panels: 1900<br>Number of Batteries: 100<br>SSR: 92.74%<br>ROI: -1.76%",
           "Number of Panels: 2000<br>Number of Batteries: 100<br>SSR: 93.45%<br>ROI: -1.86%",
           "Number of Panels: 2100<br>Number of Batteries: 100<br>SSR: 94.14%<br>ROI: -1.99%",
           "Number of Panels: 2200<br>Number of Batteries: 100<br>SSR: 94.80%<br>ROI: -2.11%",
           "Number of Panels: 2300<br>Number of Batteries: 100<br>SSR: 95.37%<br>ROI: -2.22%",
           "Number of Panels: 2400<br>Number of Batteries: 100<br>SSR: 95.80%<br>ROI: -2.28%",
           "Number of Panels: 2500<br>Number of Batteries: 100<br>SSR: 96.21%<br>ROI: -2.38%",
           "Number of Panels: 2600<br>Number of Batteries: 100<br>SSR: 96.58%<br>ROI: -2.49%",
           "Number of Panels: 2700<br>Number of Batteries: 100<br>SSR: 96.92%<br>ROI: -2.58%",
           "Number of Panels: 2800<br>Number of Batteries: 100<br>SSR: 97.20%<br>ROI: -2.67%",
           "Number of Panels: 2900<br>Number of Batteries: 100<br>SSR: 97.46%<br>ROI: -2.74%",
           "Number of Panels: 3000<br>Number of Batteries: 100<br>SSR: 97.67%<br>ROI: -2.80%"
          ]
         ],
         "type": "surface",
         "x": {
          "bdata": "9AEAAFgCAAC8AgAAIAMAAIQDAADoAwAATAQAALAEAAAUBQAAeAUAANwFAABABgAApAYAAAgHAABsBwAA0AcAADQIAACYCAAA/AgAAGAJAADECQAAKAoAAIwKAADwCgAAVAsAALgLAAD0AQAAWAIAALwCAAAgAwAAhAMAAOgDAABMBAAAsAQAABQFAAB4BQAA3AUAAEAGAACkBgAACAcAAGwHAADQBwAANAgAAJgIAAD8CAAAYAkAAMQJAAAoCgAAjAoAAPAKAABUCwAAuAsAAPQBAABYAgAAvAIAACADAACEAwAA6AMAAEwEAACwBAAAFAUAAHgFAADcBQAAQAYAAKQGAAAIBwAAbAcAANAHAAA0CAAAmAgAAPwIAABgCQAAxAkAACgKAACMCgAA8AoAAFQLAAC4CwAA9AEAAFgCAAC8AgAAIAMAAIQDAADoAwAATAQAALAEAAAUBQAAeAUAANwFAABABgAApAYAAAgHAABsBwAA0AcAADQIAACYCAAA/AgAAGAJAADECQAAKAoAAIwKAADwCgAAVAsAALgLAAD0AQAAWAIAALwCAAAgAwAAhAMAAOgDAABMBAAAsAQAABQFAAB4BQAA3AUAAEAGAACkBgAACAcAAGwHAADQBwAANAgAAJgIAAD8CAAAYAkAAMQJAAAoCgAAjAoAAPAKAABUCwAAuAsAAPQBAABYAgAAvAIAACADAACEAwAA6AMAAEwEAACwBAAAFAUAAHgFAADcBQAAQAYAAKQGAAAIBwAAbAcAANAHAAA0CAAAmAgAAPwIAABgCQAAxAkAACgKAACMCgAA8AoAAFQLAAC4CwAA9AEAAFgCAAC8AgAAIAMAAIQDAADoAwAATAQAALAEAAAUBQAAeAUAANwFAABABgAApAYAAAgHAABsBwAA0AcAADQIAACYCAAA/AgAAGAJAADECQAAKAoAAIwKAADwCgAAVAsAALgLAAD0AQAAWAIAALwCAAAgAwAAhAMAAOgDAABMBAAAsAQAABQFAAB4BQAA3AUAAEAGAACkBgAACAcAAGwHAADQBwAANAgAAJgIAAD8CAAAYAkAAMQJAAAoCgAAjAoAAPAKAABUCwAAuAsAAPQBAABYAgAAvAIAACADAACEAwAA6AMAAEwEAACwBAAAFAUAAHgFAADcBQAAQAYAAKQGAAAIBwAAbAcAANAHAAA0CAAAmAgAAPwIAABgCQAAxAkAACgKAACMCgAA8AoAAFQLAAC4CwAA9AEAAFgCAAC8AgAAIAMAAIQDAADoAwAATAQAALAEAAAUBQAAeAUAANwFAABABgAApAYAAAgHAABsBwAA0AcAADQIAACYCAAA/AgAAGAJAADECQAAKAoAAIwKAADwCgAAVAsAALgLAAD0AQAAWAIAALwCAAAgAwAAhAMAAOgDAABMBAAAsAQAABQFAAB4BQAA3AUAAEAGAACkBgAACAcAAGwHAADQBwAANAgAAJgIAAD8CAAAYAkAAMQJAAAoCgAAjAoAAPAKAABUCwAAuAsAAA==",
          "dtype": "i4",
          "shape": "11, 26"
         },
         "y": {
          "bdata": "AAAAAAAAAAAAAAAAAAAAAAAAAAAAAAAAAAAAAAAAAAAAAAAAAAAAAAAAAAAAAAAAAAAAAAAAAAAAAAAAAAAAAAAAAAAAAAAAAAAAAAAAAAAAAAAAAAAAAAAAAAAAAAAAAAAAAAAAAAAKAAAACgAAAAoAAAAKAAAACgAAAAoAAAAKAAAACgAAAAoAAAAKAAAACgAAAAoAAAAKAAAACgAAAAoAAAAKAAAACgAAAAoAAAAKAAAACgAAAAoAAAAKAAAACgAAAAoAAAAKAAAACgAAABQAAAAUAAAAFAAAABQAAAAUAAAAFAAAABQAAAAUAAAAFAAAABQAAAAUAAAAFAAAABQAAAAUAAAAFAAAABQAAAAUAAAAFAAAABQAAAAUAAAAFAAAABQAAAAUAAAAFAAAABQAAAAUAAAAHgAAAB4AAAAeAAAAHgAAAB4AAAAeAAAAHgAAAB4AAAAeAAAAHgAAAB4AAAAeAAAAHgAAAB4AAAAeAAAAHgAAAB4AAAAeAAAAHgAAAB4AAAAeAAAAHgAAAB4AAAAeAAAAHgAAAB4AAAAoAAAAKAAAACgAAAAoAAAAKAAAACgAAAAoAAAAKAAAACgAAAAoAAAAKAAAACgAAAAoAAAAKAAAACgAAAAoAAAAKAAAACgAAAAoAAAAKAAAACgAAAAoAAAAKAAAACgAAAAoAAAAKAAAADIAAAAyAAAAMgAAADIAAAAyAAAAMgAAADIAAAAyAAAAMgAAADIAAAAyAAAAMgAAADIAAAAyAAAAMgAAADIAAAAyAAAAMgAAADIAAAAyAAAAMgAAADIAAAAyAAAAMgAAADIAAAAyAAAAPAAAADwAAAA8AAAAPAAAADwAAAA8AAAAPAAAADwAAAA8AAAAPAAAADwAAAA8AAAAPAAAADwAAAA8AAAAPAAAADwAAAA8AAAAPAAAADwAAAA8AAAAPAAAADwAAAA8AAAAPAAAADwAAABGAAAARgAAAEYAAABGAAAARgAAAEYAAABGAAAARgAAAEYAAABGAAAARgAAAEYAAABGAAAARgAAAEYAAABGAAAARgAAAEYAAABGAAAARgAAAEYAAABGAAAARgAAAEYAAABGAAAARgAAAFAAAABQAAAAUAAAAFAAAABQAAAAUAAAAFAAAABQAAAAUAAAAFAAAABQAAAAUAAAAFAAAABQAAAAUAAAAFAAAABQAAAAUAAAAFAAAABQAAAAUAAAAFAAAABQAAAAUAAAAFAAAABQAAAAWgAAAFoAAABaAAAAWgAAAFoAAABaAAAAWgAAAFoAAABaAAAAWgAAAFoAAABaAAAAWgAAAFoAAABaAAAAWgAAAFoAAABaAAAAWgAAAFoAAABaAAAAWgAAAFoAAABaAAAAWgAAAFoAAABkAAAAZAAAAGQAAABkAAAAZAAAAGQAAABkAAAAZAAAAGQAAABkAAAAZAAAAGQAAABkAAAAZAAAAGQAAABkAAAAZAAAAGQAAABkAAAAZAAAAGQAAABkAAAAZAAAAGQAAABkAAAAZAAAAA==",
          "dtype": "i4",
          "shape": "11, 26"
         },
         "z": {
          "bdata": "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",
          "dtype": "f8",
          "shape": "11, 26"
         }
        },
        {
         "marker": {
          "color": "red",
          "size": 8
         },
         "mode": "markers+text",
         "text": [
          "Optimal Point"
         ],
         "textposition": "top center",
         "type": "scatter3d",
         "x": [
          1400
         ],
         "y": [
          40
         ],
         "z": [
          80.67179450359427
         ]
        }
       ],
       "layout": {
        "height": 600,
        "scene": {
         "xaxis": {
          "title": {
           "text": "Number of Panels"
          }
         },
         "yaxis": {
          "title": {
           "text": "Number of Batteries"
          }
         },
         "zaxis": {
          "title": {
           "text": "SSR (%)"
          }
         }
        },
        "template": {
         "data": {
          "bar": [
           {
            "error_x": {
             "color": "#2a3f5f"
            },
            "error_y": {
             "color": "#2a3f5f"
            },
            "marker": {
             "line": {
              "color": "white",
              "width": 0.5
             },
             "pattern": {
              "fillmode": "overlay",
              "size": 10,
              "solidity": 0.2
             }
            },
            "type": "bar"
           }
          ],
          "barpolar": [
           {
            "marker": {
             "line": {
              "color": "white",
              "width": 0.5
             },
             "pattern": {
              "fillmode": "overlay",
              "size": 10,
              "solidity": 0.2
             }
            },
            "type": "barpolar"
           }
          ],
          "carpet": [
           {
            "aaxis": {
             "endlinecolor": "#2a3f5f",
             "gridcolor": "#C8D4E3",
             "linecolor": "#C8D4E3",
             "minorgridcolor": "#C8D4E3",
             "startlinecolor": "#2a3f5f"
            },
            "baxis": {
             "endlinecolor": "#2a3f5f",
             "gridcolor": "#C8D4E3",
             "linecolor": "#C8D4E3",
             "minorgridcolor": "#C8D4E3",
             "startlinecolor": "#2a3f5f"
            },
            "type": "carpet"
           }
          ],
          "choropleth": [
           {
            "colorbar": {
             "outlinewidth": 0,
             "ticks": ""
            },
            "type": "choropleth"
           }
          ],
          "contour": [
           {
            "colorbar": {
             "outlinewidth": 0,
             "ticks": ""
            },
            "colorscale": [
             [
              0,
              "#0d0887"
             ],
             [
              0.1111111111111111,
              "#46039f"
             ],
             [
              0.2222222222222222,
              "#7201a8"
             ],
             [
              0.3333333333333333,
              "#9c179e"
             ],
             [
              0.4444444444444444,
              "#bd3786"
             ],
             [
              0.5555555555555556,
              "#d8576b"
             ],
             [
              0.6666666666666666,
              "#ed7953"
             ],
             [
              0.7777777777777778,
              "#fb9f3a"
             ],
             [
              0.8888888888888888,
              "#fdca26"
             ],
             [
              1,
              "#f0f921"
             ]
            ],
            "type": "contour"
           }
          ],
          "contourcarpet": [
           {
            "colorbar": {
             "outlinewidth": 0,
             "ticks": ""
            },
            "type": "contourcarpet"
           }
          ],
          "heatmap": [
           {
            "colorbar": {
             "outlinewidth": 0,
             "ticks": ""
            },
            "colorscale": [
             [
              0,
              "#0d0887"
             ],
             [
              0.1111111111111111,
              "#46039f"
             ],
             [
              0.2222222222222222,
              "#7201a8"
             ],
             [
              0.3333333333333333,
              "#9c179e"
             ],
             [
              0.4444444444444444,
              "#bd3786"
             ],
             [
              0.5555555555555556,
              "#d8576b"
             ],
             [
              0.6666666666666666,
              "#ed7953"
             ],
             [
              0.7777777777777778,
              "#fb9f3a"
             ],
             [
              0.8888888888888888,
              "#fdca26"
             ],
             [
              1,
              "#f0f921"
             ]
            ],
            "type": "heatmap"
           }
          ],
          "histogram": [
           {
            "marker": {
             "pattern": {
              "fillmode": "overlay",
              "size": 10,
              "solidity": 0.2
             }
            },
            "type": "histogram"
           }
          ],
          "histogram2d": [
           {
            "colorbar": {
             "outlinewidth": 0,
             "ticks": ""
            },
            "colorscale": [
             [
              0,
              "#0d0887"
             ],
             [
              0.1111111111111111,
              "#46039f"
             ],
             [
              0.2222222222222222,
              "#7201a8"
             ],
             [
              0.3333333333333333,
              "#9c179e"
             ],
             [
              0.4444444444444444,
              "#bd3786"
             ],
             [
              0.5555555555555556,
              "#d8576b"
             ],
             [
              0.6666666666666666,
              "#ed7953"
             ],
             [
              0.7777777777777778,
              "#fb9f3a"
             ],
             [
              0.8888888888888888,
              "#fdca26"
             ],
             [
              1,
              "#f0f921"
             ]
            ],
            "type": "histogram2d"
           }
          ],
          "histogram2dcontour": [
           {
            "colorbar": {
             "outlinewidth": 0,
             "ticks": ""
            },
            "colorscale": [
             [
              0,
              "#0d0887"
             ],
             [
              0.1111111111111111,
              "#46039f"
             ],
             [
              0.2222222222222222,
              "#7201a8"
             ],
             [
              0.3333333333333333,
              "#9c179e"
             ],
             [
              0.4444444444444444,
              "#bd3786"
             ],
             [
              0.5555555555555556,
              "#d8576b"
             ],
             [
              0.6666666666666666,
              "#ed7953"
             ],
             [
              0.7777777777777778,
              "#fb9f3a"
             ],
             [
              0.8888888888888888,
              "#fdca26"
             ],
             [
              1,
              "#f0f921"
             ]
            ],
            "type": "histogram2dcontour"
           }
          ],
          "mesh3d": [
           {
            "colorbar": {
             "outlinewidth": 0,
             "ticks": ""
            },
            "type": "mesh3d"
           }
          ],
          "parcoords": [
           {
            "line": {
             "colorbar": {
              "outlinewidth": 0,
              "ticks": ""
             }
            },
            "type": "parcoords"
           }
          ],
          "pie": [
           {
            "automargin": true,
            "type": "pie"
           }
          ],
          "scatter": [
           {
            "fillpattern": {
             "fillmode": "overlay",
             "size": 10,
             "solidity": 0.2
            },
            "type": "scatter"
           }
          ],
          "scatter3d": [
           {
            "line": {
             "colorbar": {
              "outlinewidth": 0,
              "ticks": ""
             }
            },
            "marker": {
             "colorbar": {
              "outlinewidth": 0,
              "ticks": ""
             }
            },
            "type": "scatter3d"
           }
          ],
          "scattercarpet": [
           {
            "marker": {
             "colorbar": {
              "outlinewidth": 0,
              "ticks": ""
             }
            },
            "type": "scattercarpet"
           }
          ],
          "scattergeo": [
           {
            "marker": {
             "colorbar": {
              "outlinewidth": 0,
              "ticks": ""
             }
            },
            "type": "scattergeo"
           }
          ],
          "scattergl": [
           {
            "marker": {
             "colorbar": {
              "outlinewidth": 0,
              "ticks": ""
             }
            },
            "type": "scattergl"
           }
          ],
          "scattermap": [
           {
            "marker": {
             "colorbar": {
              "outlinewidth": 0,
              "ticks": ""
             }
            },
            "type": "scattermap"
           }
          ],
          "scattermapbox": [
           {
            "marker": {
             "colorbar": {
              "outlinewidth": 0,
              "ticks": ""
             }
            },
            "type": "scattermapbox"
           }
          ],
          "scatterpolar": [
           {
            "marker": {
             "colorbar": {
              "outlinewidth": 0,
              "ticks": ""
             }
            },
            "type": "scatterpolar"
           }
          ],
          "scatterpolargl": [
           {
            "marker": {
             "colorbar": {
              "outlinewidth": 0,
              "ticks": ""
             }
            },
            "type": "scatterpolargl"
           }
          ],
          "scatterternary": [
           {
            "marker": {
             "colorbar": {
              "outlinewidth": 0,
              "ticks": ""
             }
            },
            "type": "scatterternary"
           }
          ],
          "surface": [
           {
            "colorbar": {
             "outlinewidth": 0,
             "ticks": ""
            },
            "colorscale": [
             [
              0,
              "#0d0887"
             ],
             [
              0.1111111111111111,
              "#46039f"
             ],
             [
              0.2222222222222222,
              "#7201a8"
             ],
             [
              0.3333333333333333,
              "#9c179e"
             ],
             [
              0.4444444444444444,
              "#bd3786"
             ],
             [
              0.5555555555555556,
              "#d8576b"
             ],
             [
              0.6666666666666666,
              "#ed7953"
             ],
             [
              0.7777777777777778,
              "#fb9f3a"
             ],
             [
              0.8888888888888888,
              "#fdca26"
             ],
             [
              1,
              "#f0f921"
             ]
            ],
            "type": "surface"
           }
          ],
          "table": [
           {
            "cells": {
             "fill": {
              "color": "#EBF0F8"
             },
             "line": {
              "color": "white"
             }
            },
            "header": {
             "fill": {
              "color": "#C8D4E3"
             },
             "line": {
              "color": "white"
             }
            },
            "type": "table"
           }
          ]
         },
         "layout": {
          "annotationdefaults": {
           "arrowcolor": "#2a3f5f",
           "arrowhead": 0,
           "arrowwidth": 1
          },
          "autotypenumbers": "strict",
          "coloraxis": {
           "colorbar": {
            "outlinewidth": 0,
            "ticks": ""
           }
          },
          "colorscale": {
           "diverging": [
            [
             0,
             "#8e0152"
            ],
            [
             0.1,
             "#c51b7d"
            ],
            [
             0.2,
             "#de77ae"
            ],
            [
             0.3,
             "#f1b6da"
            ],
            [
             0.4,
             "#fde0ef"
            ],
            [
             0.5,
             "#f7f7f7"
            ],
            [
             0.6,
             "#e6f5d0"
            ],
            [
             0.7,
             "#b8e186"
            ],
            [
             0.8,
             "#7fbc41"
            ],
            [
             0.9,
             "#4d9221"
            ],
            [
             1,
             "#276419"
            ]
           ],
           "sequential": [
            [
             0,
             "#0d0887"
            ],
            [
             0.1111111111111111,
             "#46039f"
            ],
            [
             0.2222222222222222,
             "#7201a8"
            ],
            [
             0.3333333333333333,
             "#9c179e"
            ],
            [
             0.4444444444444444,
             "#bd3786"
            ],
            [
             0.5555555555555556,
             "#d8576b"
            ],
            [
             0.6666666666666666,
             "#ed7953"
            ],
            [
             0.7777777777777778,
             "#fb9f3a"
            ],
            [
             0.8888888888888888,
             "#fdca26"
            ],
            [
             1,
             "#f0f921"
            ]
           ],
           "sequentialminus": [
            [
             0,
             "#0d0887"
            ],
            [
             0.1111111111111111,
             "#46039f"
            ],
            [
             0.2222222222222222,
             "#7201a8"
            ],
            [
             0.3333333333333333,
             "#9c179e"
            ],
            [
             0.4444444444444444,
             "#bd3786"
            ],
            [
             0.5555555555555556,
             "#d8576b"
            ],
            [
             0.6666666666666666,
             "#ed7953"
            ],
            [
             0.7777777777777778,
             "#fb9f3a"
            ],
            [
             0.8888888888888888,
             "#fdca26"
            ],
            [
             1,
             "#f0f921"
            ]
           ]
          },
          "colorway": [
           "#636efa",
           "#EF553B",
           "#00cc96",
           "#ab63fa",
           "#FFA15A",
           "#19d3f3",
           "#FF6692",
           "#B6E880",
           "#FF97FF",
           "#FECB52"
          ],
          "font": {
           "color": "#2a3f5f"
          },
          "geo": {
           "bgcolor": "white",
           "lakecolor": "white",
           "landcolor": "white",
           "showlakes": true,
           "showland": true,
           "subunitcolor": "#C8D4E3"
          },
          "hoverlabel": {
           "align": "left"
          },
          "hovermode": "closest",
          "mapbox": {
           "style": "light"
          },
          "paper_bgcolor": "white",
          "plot_bgcolor": "white",
          "polar": {
           "angularaxis": {
            "gridcolor": "#EBF0F8",
            "linecolor": "#EBF0F8",
            "ticks": ""
           },
           "bgcolor": "white",
           "radialaxis": {
            "gridcolor": "#EBF0F8",
            "linecolor": "#EBF0F8",
            "ticks": ""
           }
          },
          "scene": {
           "xaxis": {
            "backgroundcolor": "white",
            "gridcolor": "#DFE8F3",
            "gridwidth": 2,
            "linecolor": "#EBF0F8",
            "showbackground": true,
            "ticks": "",
            "zerolinecolor": "#EBF0F8"
           },
           "yaxis": {
            "backgroundcolor": "white",
            "gridcolor": "#DFE8F3",
            "gridwidth": 2,
            "linecolor": "#EBF0F8",
            "showbackground": true,
            "ticks": "",
            "zerolinecolor": "#EBF0F8"
           },
           "zaxis": {
            "backgroundcolor": "white",
            "gridcolor": "#DFE8F3",
            "gridwidth": 2,
            "linecolor": "#EBF0F8",
            "showbackground": true,
            "ticks": "",
            "zerolinecolor": "#EBF0F8"
           }
          },
          "shapedefaults": {
           "line": {
            "color": "#2a3f5f"
           }
          },
          "ternary": {
           "aaxis": {
            "gridcolor": "#DFE8F3",
            "linecolor": "#A2B1C6",
            "ticks": ""
           },
           "baxis": {
            "gridcolor": "#DFE8F3",
            "linecolor": "#A2B1C6",
            "ticks": ""
           },
           "bgcolor": "white",
           "caxis": {
            "gridcolor": "#DFE8F3",
            "linecolor": "#A2B1C6",
            "ticks": ""
           }
          },
          "title": {
           "x": 0.05
          },
          "xaxis": {
           "automargin": true,
           "gridcolor": "#EBF0F8",
           "linecolor": "#EBF0F8",
           "ticks": "",
           "title": {
            "standoff": 15
           },
           "zerolinecolor": "#EBF0F8",
           "zerolinewidth": 2
          },
          "yaxis": {
           "automargin": true,
           "gridcolor": "#EBF0F8",
           "linecolor": "#EBF0F8",
           "ticks": "",
           "title": {
            "standoff": 15
           },
           "zerolinecolor": "#EBF0F8",
           "zerolinewidth": 2
          }
         }
        },
        "title": {
         "text": "Maximum SSR with Positive ROI"
        },
        "width": 800
       }
      }
     },
     "metadata": {},
     "output_type": "display_data"
    }
   ],
   "source": [
    "import plotly.graph_objects as go\n",
    "import numpy as np\n",
    "\n",
    "# Financial Parameters\n",
    "panel_cost = 1220  # € per panel\n",
    "battery_cost = 13000  # € per battery\n",
    "energy_sold_price = 0.1208  # €/kWh\n",
    "energy_purchased_price = 0.2713  # €/kWh\n",
    "om_cost_panels_rate = 0.07  # 7%\n",
    "om_cost_batteries_rate = 0.05  # 5%\n",
    "\n",
    "# System Parameters\n",
    "battery_capacity_per_unit = 57  # kWh per battery\n",
    "converter_efficiency = 0.9  # 90% efficiency\n",
    "initial_soc = 50  # 50% initial battery SOC\n",
    "\n",
    "# Energy Demand\n",
    "total_energy_demand = merged_data['Consumption_kWh'].sum()\n",
    "\n",
    "# Define ranges for panels and batteries\n",
    "battery_range = np.arange(0, 101, 10)  # 0 to 100 batteries in steps of 10\n",
    "panel_range = np.arange(500, 3001, 100)  # 500 to 3000 panels in steps of 100\n",
    "\n",
    "# Create meshgrid for analysis\n",
    "panel_grid, battery_grid = np.meshgrid(panel_range, battery_range)\n",
    "ssr_grid = np.zeros_like(panel_grid, dtype=float)\n",
    "roi_grid = np.zeros_like(panel_grid, dtype=float)\n",
    "\n",
    "# Store optimal scenario\n",
    "optimal_scenario = {'panels': 0, 'batteries': 0, 'ssr': 0, 'roi': 0}\n",
    "\n",
    "# Prepare custom hover text\n",
    "hover_texts = np.empty(panel_grid.shape, dtype=object)\n",
    "\n",
    "# Loop through combinations\n",
    "for i in range(panel_grid.shape[0]):\n",
    "    for j in range(panel_grid.shape[1]):\n",
    "        num_panels = panel_grid[i, j]\n",
    "        num_batteries = battery_grid[i, j]\n",
    "        \n",
    "        battery_capacity = battery_capacity_per_unit * num_batteries\n",
    "        total_pv_production = merged_data['PV_Production_kWh'].sum() * num_panels \n",
    "        \n",
    "        # Initialize SOC and metrics\n",
    "        soc = initial_soc\n",
    "        total_energy_supplied_pv_to_demand = 0\n",
    "        total_energy_discharged = 0\n",
    "        annual_excess_energy = 0\n",
    "        \n",
    "        for timestamp, row in merged_data.iterrows():\n",
    "            consumption = row['Consumption_kWh']\n",
    "            pv_production = row['PV_Production_kWh'] * num_panels \n",
    "            \n",
    "            # Energy supplied\n",
    "            energy_supplied_pv = min(pv_production, consumption)\n",
    "            total_energy_supplied_pv_to_demand += energy_supplied_pv\n",
    "            \n",
    "            excess = pv_production - energy_supplied_pv\n",
    "            deficit = consumption - energy_supplied_pv\n",
    "            \n",
    "            # Charge Battery\n",
    "            if excess > 0 and num_batteries > 0 and soc < 100:\n",
    "                charge = min(excess * converter_efficiency, (100 - soc) / 100 * battery_capacity)\n",
    "                soc += (charge / battery_capacity) * 100\n",
    "                annual_excess_energy += excess - charge / converter_efficiency\n",
    "            \n",
    "            # Discharge Battery\n",
    "            if deficit > 0 and num_batteries > 0 and soc > 20:\n",
    "                discharge = min(deficit, (soc - 20) / 100 * battery_capacity * converter_efficiency)\n",
    "                total_energy_discharged += discharge\n",
    "                soc -= (discharge / battery_capacity) * 100\n",
    "        \n",
    "        # Calculate SSR\n",
    "        ssr = ((total_energy_supplied_pv_to_demand + total_energy_discharged) / total_energy_demand) * 100 if total_energy_demand > 0 else 0\n",
    "        ssr_grid[i, j] = ssr\n",
    "        \n",
    "        # Financial Metrics\n",
    "        total_initial_investment = (panel_cost * num_panels) + (battery_cost * num_batteries)\n",
    "        om_cost_panels = panel_cost * num_panels * om_cost_panels_rate\n",
    "        om_cost_batteries = battery_cost * num_batteries * om_cost_batteries_rate\n",
    "        total_om_cost = om_cost_panels + om_cost_batteries\n",
    "        \n",
    "        total_savings = total_energy_supplied_pv_to_demand * energy_purchased_price\n",
    "        revenue_surplus = annual_excess_energy * energy_sold_price\n",
    "        net_savings = (total_savings + revenue_surplus) - total_om_cost\n",
    "        \n",
    "        roi = (net_savings / total_initial_investment) * 100 if total_initial_investment > 0 else 0\n",
    "        roi_grid[i, j] = roi\n",
    "        \n",
    "        # Store optimal condition\n",
    "        if roi > 0 and ssr > optimal_scenario['ssr']:\n",
    "            optimal_scenario.update({\n",
    "                'panels': num_panels,\n",
    "                'batteries': num_batteries,\n",
    "                'ssr': ssr,\n",
    "                'roi': roi\n",
    "            })\n",
    "\n",
    "        # Prepare hover text\n",
    "        hover_texts[i, j] = (\n",
    "            f\"Number of Panels: {num_panels}<br>\"\n",
    "            f\"Number of Batteries: {num_batteries}<br>\"\n",
    "            f\"SSR: {ssr:.2f}%<br>\"\n",
    "            f\"ROI: {roi:.2f}%\"\n",
    "        )\n",
    "\n",
    "# Print Optimal Scenario\n",
    "print(\"✅ **Optimal Scenario (Maximum SSR with Positive ROI):**\")\n",
    "print(f\"Number of Panels: {optimal_scenario['panels']}\")\n",
    "print(f\"Number of Batteries: {optimal_scenario['batteries']}\")\n",
    "print(f\"SSR: {optimal_scenario['ssr']:.2f}%\")\n",
    "print(f\"ROI: {optimal_scenario['roi']:.2f}%\")\n",
    "\n",
    "# Plot SSR with Custom Hover\n",
    "fig = go.Figure()\n",
    "\n",
    "fig.add_trace(go.Surface(\n",
    "    z=ssr_grid,\n",
    "    x=panel_grid,\n",
    "    y=battery_grid,\n",
    "    surfacecolor=ssr_grid,\n",
    "    colorscale='Viridis',\n",
    "    colorbar=dict(title=\"SSR (%)\"),\n",
    "    hoverinfo='text',\n",
    "    text=hover_texts\n",
    "))\n",
    "\n",
    "# Highlight Optimal Point\n",
    "fig.add_trace(go.Scatter3d(\n",
    "    x=[optimal_scenario['panels']],\n",
    "    y=[optimal_scenario['batteries']],\n",
    "    z=[optimal_scenario['ssr']],\n",
    "    mode='markers+text',\n",
    "    marker=dict(size=8, color='red'),\n",
    "    text=['Optimal Point'],\n",
    "    textposition='top center'\n",
    "))\n",
    "\n",
    "# Update Layout\n",
    "fig.update_layout(\n",
    "    title='Maximum SSR with Positive ROI',\n",
    "    scene=dict(\n",
    "        xaxis_title='Number of Panels',\n",
    "        yaxis_title='Number of Batteries',\n",
    "        zaxis_title='SSR (%)'\n",
    "    ),\n",
    "    template='plotly_white',\n",
    "    width=800,\n",
    "    height=600\n",
    ")\n",
    "\n",
    "fig.show()\n"
   ]
  },
  {
   "cell_type": "code",
   "execution_count": 22,
   "metadata": {},
   "outputs": [
    {
     "name": "stdout",
     "output_type": "stream",
     "text": [
      "Total annual demand = 1224408.3 kWh\n",
      "Average demand = 139.39 kW\n",
      "Optimal Scenario (Max SSR with ROI>0):\n",
      "  Normalized PV = 6.00 (i.e. 600% of average demand)\n",
      "  Battery Hours = 6.0\n",
      "  SSR = 50.18%\n",
      "  ROI = 0.11%\n"
     ]
    },
    {
     "data": {
      "application/vnd.plotly.v1+json": {
       "config": {
        "plotlyServerURL": "https://plot.ly"
       },
       "data": [
        {
         "colorbar": {
          "title": {
           "text": "SSR (%)"
          }
         },
         "colorscale": [
          [
           0,
           "#440154"
          ],
          [
           0.1111111111111111,
           "#482878"
          ],
          [
           0.2222222222222222,
           "#3e4989"
          ],
          [
           0.3333333333333333,
           "#31688e"
          ],
          [
           0.4444444444444444,
           "#26828e"
          ],
          [
           0.5555555555555556,
           "#1f9e89"
          ],
          [
           0.6666666666666666,
           "#35b779"
          ],
          [
           0.7777777777777778,
           "#6ece58"
          ],
          [
           0.8888888888888888,
           "#b5de2b"
          ],
          [
           1,
           "#fde725"
          ]
         ],
         "hoverinfo": "text",
         "surfacecolor": {
          "bdata": "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",
          "dtype": "f8",
          "shape": "11, 21"
         },
         "text": [
          [
           "<b>norm_PV</b>: 0.00<br><b>battery_hours</b>: 0.0<br>PV Panels: 0.0<br>Batteries: 0.0<br>SSR: 0.0%<br>ROI: 0.0%<br>",
           "<b>norm_PV</b>: 0.50<br><b>battery_hours</b>: 0.0<br>PV Panels: 114.3<br>Batteries: 0.0<br>SSR: 5.3%<br>ROI: 5.7%<br>",
           "<b>norm_PV</b>: 1.00<br><b>battery_hours</b>: 0.0<br>PV Panels: 228.5<br>Batteries: 0.0<br>SSR: 10.3%<br>ROI: 5.2%<br>",
           "<b>norm_PV</b>: 1.50<br><b>battery_hours</b>: 0.0<br>PV Panels: 342.8<br>Batteries: 0.0<br>SSR: 14.7%<br>ROI: 4.7%<br>",
           "<b>norm_PV</b>: 2.00<br><b>battery_hours</b>: 0.0<br>PV Panels: 457.0<br>Batteries: 0.0<br>SSR: 18.7%<br>ROI: 4.2%<br>",
           "<b>norm_PV</b>: 2.50<br><b>battery_hours</b>: 0.0<br>PV Panels: 571.3<br>Batteries: 0.0<br>SSR: 22.4%<br>ROI: 3.7%<br>",
           "<b>norm_PV</b>: 3.00<br><b>battery_hours</b>: 0.0<br>PV Panels: 685.5<br>Batteries: 0.0<br>SSR: 25.8%<br>ROI: 3.2%<br>",
           "<b>norm_PV</b>: 3.50<br><b>battery_hours</b>: 0.0<br>PV Panels: 799.8<br>Batteries: 0.0<br>SSR: 28.8%<br>ROI: 2.8%<br>",
           "<b>norm_PV</b>: 4.00<br><b>battery_hours</b>: 0.0<br>PV Panels: 914.0<br>Batteries: 0.0<br>SSR: 31.4%<br>ROI: 2.4%<br>",
           "<b>norm_PV</b>: 4.50<br><b>battery_hours</b>: 0.0<br>PV Panels: 1028.3<br>Batteries: 0.0<br>SSR: 33.6%<br>ROI: 1.9%<br>",
           "<b>norm_PV</b>: 5.00<br><b>battery_hours</b>: 0.0<br>PV Panels: 1142.5<br>Batteries: 0.0<br>SSR: 35.3%<br>ROI: 1.4%<br>",
           "<b>norm_PV</b>: 5.50<br><b>battery_hours</b>: 0.0<br>PV Panels: 1256.8<br>Batteries: 0.0<br>SSR: 36.7%<br>ROI: 0.9%<br>",
           "<b>norm_PV</b>: 6.00<br><b>battery_hours</b>: 0.0<br>PV Panels: 1371.1<br>Batteries: 0.0<br>SSR: 37.9%<br>ROI: 0.5%<br>",
           "<b>norm_PV</b>: 6.50<br><b>battery_hours</b>: 0.0<br>PV Panels: 1485.3<br>Batteries: 0.0<br>SSR: 38.9%<br>ROI: 0.1%<br>",
           "<b>norm_PV</b>: 7.00<br><b>battery_hours</b>: 0.0<br>PV Panels: 1599.6<br>Batteries: 0.0<br>SSR: 39.8%<br>ROI: -0.2%<br>",
           "<b>norm_PV</b>: 7.50<br><b>battery_hours</b>: 0.0<br>PV Panels: 1713.8<br>Batteries: 0.0<br>SSR: 40.6%<br>ROI: -0.5%<br>",
           "<b>norm_PV</b>: 8.00<br><b>battery_hours</b>: 0.0<br>PV Panels: 1828.1<br>Batteries: 0.0<br>SSR: 41.4%<br>ROI: -0.8%<br>",
           "<b>norm_PV</b>: 8.50<br><b>battery_hours</b>: 0.0<br>PV Panels: 1942.3<br>Batteries: 0.0<br>SSR: 42.0%<br>ROI: -1.1%<br>",
           "<b>norm_PV</b>: 9.00<br><b>battery_hours</b>: 0.0<br>PV Panels: 2056.6<br>Batteries: 0.0<br>SSR: 42.6%<br>ROI: -1.4%<br>",
           "<b>norm_PV</b>: 9.50<br><b>battery_hours</b>: 0.0<br>PV Panels: 2170.8<br>Batteries: 0.0<br>SSR: 43.2%<br>ROI: -1.6%<br>",
           "<b>norm_PV</b>: 10.00<br><b>battery_hours</b>: 0.0<br>PV Panels: 2285.1<br>Batteries: 0.0<br>SSR: 43.7%<br>ROI: -1.8%<br>"
          ],
          [
           "<b>norm_PV</b>: 0.00<br><b>battery_hours</b>: 2.0<br>PV Panels: 0.0<br>Batteries: 4.9<br>SSR: 0.0%<br>ROI: -5.0%<br>",
           "<b>norm_PV</b>: 0.50<br><b>battery_hours</b>: 2.0<br>PV Panels: 114.3<br>Batteries: 4.9<br>SSR: 5.4%<br>ROI: 2.3%<br>",
           "<b>norm_PV</b>: 1.00<br><b>battery_hours</b>: 2.0<br>PV Panels: 228.5<br>Batteries: 4.9<br>SSR: 10.7%<br>ROI: 3.3%<br>",
           "<b>norm_PV</b>: 1.50<br><b>battery_hours</b>: 2.0<br>PV Panels: 342.8<br>Batteries: 4.9<br>SSR: 15.7%<br>ROI: 3.4%<br>",
           "<b>norm_PV</b>: 2.00<br><b>battery_hours</b>: 2.0<br>PV Panels: 457.0<br>Batteries: 4.9<br>SSR: 20.3%<br>ROI: 3.3%<br>",
           "<b>norm_PV</b>: 2.50<br><b>battery_hours</b>: 2.0<br>PV Panels: 571.3<br>Batteries: 4.9<br>SSR: 24.4%<br>ROI: 3.0%<br>",
           "<b>norm_PV</b>: 3.00<br><b>battery_hours</b>: 2.0<br>PV Panels: 685.5<br>Batteries: 4.9<br>SSR: 28.1%<br>ROI: 2.8%<br>",
           "<b>norm_PV</b>: 3.50<br><b>battery_hours</b>: 2.0<br>PV Panels: 799.8<br>Batteries: 4.9<br>SSR: 31.6%<br>ROI: 2.4%<br>",
           "<b>norm_PV</b>: 4.00<br><b>battery_hours</b>: 2.0<br>PV Panels: 914.0<br>Batteries: 4.9<br>SSR: 34.6%<br>ROI: 2.1%<br>",
           "<b>norm_PV</b>: 4.50<br><b>battery_hours</b>: 2.0<br>PV Panels: 1028.3<br>Batteries: 4.9<br>SSR: 37.3%<br>ROI: 1.7%<br>",
           "<b>norm_PV</b>: 5.00<br><b>battery_hours</b>: 2.0<br>PV Panels: 1142.5<br>Batteries: 4.9<br>SSR: 39.6%<br>ROI: 1.3%<br>",
           "<b>norm_PV</b>: 5.50<br><b>battery_hours</b>: 2.0<br>PV Panels: 1256.8<br>Batteries: 4.9<br>SSR: 41.4%<br>ROI: 0.9%<br>",
           "<b>norm_PV</b>: 6.00<br><b>battery_hours</b>: 2.0<br>PV Panels: 1371.1<br>Batteries: 4.9<br>SSR: 42.8%<br>ROI: 0.5%<br>",
           "<b>norm_PV</b>: 6.50<br><b>battery_hours</b>: 2.0<br>PV Panels: 1485.3<br>Batteries: 4.9<br>SSR: 44.0%<br>ROI: 0.1%<br>",
           "<b>norm_PV</b>: 7.00<br><b>battery_hours</b>: 2.0<br>PV Panels: 1599.6<br>Batteries: 4.9<br>SSR: 45.0%<br>ROI: -0.2%<br>",
           "<b>norm_PV</b>: 7.50<br><b>battery_hours</b>: 2.0<br>PV Panels: 1713.8<br>Batteries: 4.9<br>SSR: 45.9%<br>ROI: -0.5%<br>",
           "<b>norm_PV</b>: 8.00<br><b>battery_hours</b>: 2.0<br>PV Panels: 1828.1<br>Batteries: 4.9<br>SSR: 46.7%<br>ROI: -0.8%<br>",
           "<b>norm_PV</b>: 8.50<br><b>battery_hours</b>: 2.0<br>PV Panels: 1942.3<br>Batteries: 4.9<br>SSR: 47.4%<br>ROI: -1.0%<br>",
           "<b>norm_PV</b>: 9.00<br><b>battery_hours</b>: 2.0<br>PV Panels: 2056.6<br>Batteries: 4.9<br>SSR: 48.0%<br>ROI: -1.2%<br>",
           "<b>norm_PV</b>: 9.50<br><b>battery_hours</b>: 2.0<br>PV Panels: 2170.8<br>Batteries: 4.9<br>SSR: 48.6%<br>ROI: -1.5%<br>",
           "<b>norm_PV</b>: 10.00<br><b>battery_hours</b>: 2.0<br>PV Panels: 2285.1<br>Batteries: 4.9<br>SSR: 49.2%<br>ROI: -1.7%<br>"
          ],
          [
           "<b>norm_PV</b>: 0.00<br><b>battery_hours</b>: 4.0<br>PV Panels: 0.0<br>Batteries: 9.8<br>SSR: 0.0%<br>ROI: -5.0%<br>",
           "<b>norm_PV</b>: 0.50<br><b>battery_hours</b>: 4.0<br>PV Panels: 114.3<br>Batteries: 9.8<br>SSR: 5.4%<br>ROI: 0.6%<br>",
           "<b>norm_PV</b>: 1.00<br><b>battery_hours</b>: 4.0<br>PV Panels: 228.5<br>Batteries: 9.8<br>SSR: 10.7%<br>ROI: 2.0%<br>",
           "<b>norm_PV</b>: 1.50<br><b>battery_hours</b>: 4.0<br>PV Panels: 342.8<br>Batteries: 9.8<br>SSR: 15.9%<br>ROI: 2.4%<br>",
           "<b>norm_PV</b>: 2.00<br><b>battery_hours</b>: 4.0<br>PV Panels: 457.0<br>Batteries: 9.8<br>SSR: 20.9%<br>ROI: 2.5%<br>",
           "<b>norm_PV</b>: 2.50<br><b>battery_hours</b>: 4.0<br>PV Panels: 571.3<br>Batteries: 9.8<br>SSR: 25.5%<br>ROI: 2.4%<br>",
           "<b>norm_PV</b>: 3.00<br><b>battery_hours</b>: 4.0<br>PV Panels: 685.5<br>Batteries: 9.8<br>SSR: 29.7%<br>ROI: 2.2%<br>",
           "<b>norm_PV</b>: 3.50<br><b>battery_hours</b>: 4.0<br>PV Panels: 799.8<br>Batteries: 9.8<br>SSR: 33.5%<br>ROI: 2.0%<br>",
           "<b>norm_PV</b>: 4.00<br><b>battery_hours</b>: 4.0<br>PV Panels: 914.0<br>Batteries: 9.8<br>SSR: 36.9%<br>ROI: 1.7%<br>",
           "<b>norm_PV</b>: 4.50<br><b>battery_hours</b>: 4.0<br>PV Panels: 1028.3<br>Batteries: 9.8<br>SSR: 40.0%<br>ROI: 1.4%<br>",
           "<b>norm_PV</b>: 5.00<br><b>battery_hours</b>: 4.0<br>PV Panels: 1142.5<br>Batteries: 9.8<br>SSR: 42.7%<br>ROI: 1.0%<br>",
           "<b>norm_PV</b>: 5.50<br><b>battery_hours</b>: 4.0<br>PV Panels: 1256.8<br>Batteries: 9.8<br>SSR: 45.0%<br>ROI: 0.6%<br>",
           "<b>norm_PV</b>: 6.00<br><b>battery_hours</b>: 4.0<br>PV Panels: 1371.1<br>Batteries: 9.8<br>SSR: 46.9%<br>ROI: 0.3%<br>",
           "<b>norm_PV</b>: 6.50<br><b>battery_hours</b>: 4.0<br>PV Panels: 1485.3<br>Batteries: 9.8<br>SSR: 48.4%<br>ROI: -0.0%<br>",
           "<b>norm_PV</b>: 7.00<br><b>battery_hours</b>: 4.0<br>PV Panels: 1599.6<br>Batteries: 9.8<br>SSR: 49.6%<br>ROI: -0.3%<br>",
           "<b>norm_PV</b>: 7.50<br><b>battery_hours</b>: 4.0<br>PV Panels: 1713.8<br>Batteries: 9.8<br>SSR: 50.6%<br>ROI: -0.6%<br>",
           "<b>norm_PV</b>: 8.00<br><b>battery_hours</b>: 4.0<br>PV Panels: 1828.1<br>Batteries: 9.8<br>SSR: 51.6%<br>ROI: -0.9%<br>",
           "<b>norm_PV</b>: 8.50<br><b>battery_hours</b>: 4.0<br>PV Panels: 1942.3<br>Batteries: 9.8<br>SSR: 52.4%<br>ROI: -1.1%<br>",
           "<b>norm_PV</b>: 9.00<br><b>battery_hours</b>: 4.0<br>PV Panels: 2056.6<br>Batteries: 9.8<br>SSR: 53.1%<br>ROI: -1.3%<br>",
           "<b>norm_PV</b>: 9.50<br><b>battery_hours</b>: 4.0<br>PV Panels: 2170.8<br>Batteries: 9.8<br>SSR: 53.8%<br>ROI: -1.5%<br>",
           "<b>norm_PV</b>: 10.00<br><b>battery_hours</b>: 4.0<br>PV Panels: 2285.1<br>Batteries: 9.8<br>SSR: 54.4%<br>ROI: -1.7%<br>"
          ],
          [
           "<b>norm_PV</b>: 0.00<br><b>battery_hours</b>: 6.0<br>PV Panels: 0.0<br>Batteries: 14.7<br>SSR: 0.0%<br>ROI: -5.0%<br>",
           "<b>norm_PV</b>: 0.50<br><b>battery_hours</b>: 6.0<br>PV Panels: 114.3<br>Batteries: 14.7<br>SSR: 5.4%<br>ROI: -0.5%<br>",
           "<b>norm_PV</b>: 1.00<br><b>battery_hours</b>: 6.0<br>PV Panels: 228.5<br>Batteries: 14.7<br>SSR: 10.7%<br>ROI: 1.1%<br>",
           "<b>norm_PV</b>: 1.50<br><b>battery_hours</b>: 6.0<br>PV Panels: 342.8<br>Batteries: 14.7<br>SSR: 15.9%<br>ROI: 1.7%<br>",
           "<b>norm_PV</b>: 2.00<br><b>battery_hours</b>: 6.0<br>PV Panels: 457.0<br>Batteries: 14.7<br>SSR: 21.0%<br>ROI: 1.8%<br>",
           "<b>norm_PV</b>: 2.50<br><b>battery_hours</b>: 6.0<br>PV Panels: 571.3<br>Batteries: 14.7<br>SSR: 26.0%<br>ROI: 1.8%<br>",
           "<b>norm_PV</b>: 3.00<br><b>battery_hours</b>: 6.0<br>PV Panels: 685.5<br>Batteries: 14.7<br>SSR: 30.6%<br>ROI: 1.7%<br>",
           "<b>norm_PV</b>: 3.50<br><b>battery_hours</b>: 6.0<br>PV Panels: 799.8<br>Batteries: 14.7<br>SSR: 34.8%<br>ROI: 1.6%<br>",
           "<b>norm_PV</b>: 4.00<br><b>battery_hours</b>: 6.0<br>PV Panels: 914.0<br>Batteries: 14.7<br>SSR: 38.6%<br>ROI: 1.4%<br>",
           "<b>norm_PV</b>: 4.50<br><b>battery_hours</b>: 6.0<br>PV Panels: 1028.3<br>Batteries: 14.7<br>SSR: 42.0%<br>ROI: 1.1%<br>",
           "<b>norm_PV</b>: 5.00<br><b>battery_hours</b>: 6.0<br>PV Panels: 1142.5<br>Batteries: 14.7<br>SSR: 45.1%<br>ROI: 0.7%<br>",
           "<b>norm_PV</b>: 5.50<br><b>battery_hours</b>: 6.0<br>PV Panels: 1256.8<br>Batteries: 14.7<br>SSR: 47.8%<br>ROI: 0.4%<br>",
           "<b>norm_PV</b>: 6.00<br><b>battery_hours</b>: 6.0<br>PV Panels: 1371.1<br>Batteries: 14.7<br>SSR: 50.2%<br>ROI: 0.1%<br>",
           "<b>norm_PV</b>: 6.50<br><b>battery_hours</b>: 6.0<br>PV Panels: 1485.3<br>Batteries: 14.7<br>SSR: 52.2%<br>ROI: -0.2%<br>",
           "<b>norm_PV</b>: 7.00<br><b>battery_hours</b>: 6.0<br>PV Panels: 1599.6<br>Batteries: 14.7<br>SSR: 53.7%<br>ROI: -0.5%<br>",
           "<b>norm_PV</b>: 7.50<br><b>battery_hours</b>: 6.0<br>PV Panels: 1713.8<br>Batteries: 14.7<br>SSR: 55.0%<br>ROI: -0.7%<br>",
           "<b>norm_PV</b>: 8.00<br><b>battery_hours</b>: 6.0<br>PV Panels: 1828.1<br>Batteries: 14.7<br>SSR: 56.1%<br>ROI: -1.0%<br>",
           "<b>norm_PV</b>: 8.50<br><b>battery_hours</b>: 6.0<br>PV Panels: 1942.3<br>Batteries: 14.7<br>SSR: 57.0%<br>ROI: -1.2%<br>",
           "<b>norm_PV</b>: 9.00<br><b>battery_hours</b>: 6.0<br>PV Panels: 2056.6<br>Batteries: 14.7<br>SSR: 57.9%<br>ROI: -1.4%<br>",
           "<b>norm_PV</b>: 9.50<br><b>battery_hours</b>: 6.0<br>PV Panels: 2170.8<br>Batteries: 14.7<br>SSR: 58.7%<br>ROI: -1.6%<br>",
           "<b>norm_PV</b>: 10.00<br><b>battery_hours</b>: 6.0<br>PV Panels: 2285.1<br>Batteries: 14.7<br>SSR: 59.4%<br>ROI: -1.8%<br>"
          ],
          [
           "<b>norm_PV</b>: 0.00<br><b>battery_hours</b>: 8.0<br>PV Panels: 0.0<br>Batteries: 19.6<br>SSR: 0.0%<br>ROI: -5.0%<br>",
           "<b>norm_PV</b>: 0.50<br><b>battery_hours</b>: 8.0<br>PV Panels: 114.3<br>Batteries: 19.6<br>SSR: 5.4%<br>ROI: -1.2%<br>",
           "<b>norm_PV</b>: 1.00<br><b>battery_hours</b>: 8.0<br>PV Panels: 228.5<br>Batteries: 19.6<br>SSR: 10.7%<br>ROI: 0.4%<br>",
           "<b>norm_PV</b>: 1.50<br><b>battery_hours</b>: 8.0<br>PV Panels: 342.8<br>Batteries: 19.6<br>SSR: 15.9%<br>ROI: 1.0%<br>",
           "<b>norm_PV</b>: 2.00<br><b>battery_hours</b>: 8.0<br>PV Panels: 457.0<br>Batteries: 19.6<br>SSR: 21.0%<br>ROI: 1.3%<br>",
           "<b>norm_PV</b>: 2.50<br><b>battery_hours</b>: 8.0<br>PV Panels: 571.3<br>Batteries: 19.6<br>SSR: 26.1%<br>ROI: 1.4%<br>",
           "<b>norm_PV</b>: 3.00<br><b>battery_hours</b>: 8.0<br>PV Panels: 685.5<br>Batteries: 19.6<br>SSR: 31.0%<br>ROI: 1.3%<br>",
           "<b>norm_PV</b>: 3.50<br><b>battery_hours</b>: 8.0<br>PV Panels: 799.8<br>Batteries: 19.6<br>SSR: 35.6%<br>ROI: 1.2%<br>",
           "<b>norm_PV</b>: 4.00<br><b>battery_hours</b>: 8.0<br>PV Panels: 914.0<br>Batteries: 19.6<br>SSR: 39.7%<br>ROI: 1.0%<br>",
           "<b>norm_PV</b>: 4.50<br><b>battery_hours</b>: 8.0<br>PV Panels: 1028.3<br>Batteries: 19.6<br>SSR: 43.5%<br>ROI: 0.8%<br>",
           "<b>norm_PV</b>: 5.00<br><b>battery_hours</b>: 8.0<br>PV Panels: 1142.5<br>Batteries: 19.6<br>SSR: 46.9%<br>ROI: 0.5%<br>",
           "<b>norm_PV</b>: 5.50<br><b>battery_hours</b>: 8.0<br>PV Panels: 1256.8<br>Batteries: 19.6<br>SSR: 50.1%<br>ROI: 0.2%<br>",
           "<b>norm_PV</b>: 6.00<br><b>battery_hours</b>: 8.0<br>PV Panels: 1371.1<br>Batteries: 19.6<br>SSR: 52.8%<br>ROI: -0.1%<br>",
           "<b>norm_PV</b>: 6.50<br><b>battery_hours</b>: 8.0<br>PV Panels: 1485.3<br>Batteries: 19.6<br>SSR: 55.2%<br>ROI: -0.4%<br>",
           "<b>norm_PV</b>: 7.00<br><b>battery_hours</b>: 8.0<br>PV Panels: 1599.6<br>Batteries: 19.6<br>SSR: 57.2%<br>ROI: -0.6%<br>",
           "<b>norm_PV</b>: 7.50<br><b>battery_hours</b>: 8.0<br>PV Panels: 1713.8<br>Batteries: 19.6<br>SSR: 58.9%<br>ROI: -0.8%<br>",
           "<b>norm_PV</b>: 8.00<br><b>battery_hours</b>: 8.0<br>PV Panels: 1828.1<br>Batteries: 19.6<br>SSR: 60.2%<br>ROI: -1.1%<br>",
           "<b>norm_PV</b>: 8.50<br><b>battery_hours</b>: 8.0<br>PV Panels: 1942.3<br>Batteries: 19.6<br>SSR: 61.3%<br>ROI: -1.3%<br>",
           "<b>norm_PV</b>: 9.00<br><b>battery_hours</b>: 8.0<br>PV Panels: 2056.6<br>Batteries: 19.6<br>SSR: 62.3%<br>ROI: -1.5%<br>",
           "<b>norm_PV</b>: 9.50<br><b>battery_hours</b>: 8.0<br>PV Panels: 2170.8<br>Batteries: 19.6<br>SSR: 63.2%<br>ROI: -1.6%<br>",
           "<b>norm_PV</b>: 10.00<br><b>battery_hours</b>: 8.0<br>PV Panels: 2285.1<br>Batteries: 19.6<br>SSR: 64.0%<br>ROI: -1.8%<br>"
          ],
          [
           "<b>norm_PV</b>: 0.00<br><b>battery_hours</b>: 10.0<br>PV Panels: 0.0<br>Batteries: 24.5<br>SSR: 0.0%<br>ROI: -5.0%<br>",
           "<b>norm_PV</b>: 0.50<br><b>battery_hours</b>: 10.0<br>PV Panels: 114.3<br>Batteries: 24.5<br>SSR: 5.4%<br>ROI: -1.7%<br>",
           "<b>norm_PV</b>: 1.00<br><b>battery_hours</b>: 10.0<br>PV Panels: 228.5<br>Batteries: 24.5<br>SSR: 10.7%<br>ROI: -0.2%<br>",
           "<b>norm_PV</b>: 1.50<br><b>battery_hours</b>: 10.0<br>PV Panels: 342.8<br>Batteries: 24.5<br>SSR: 15.9%<br>ROI: 0.5%<br>",
           "<b>norm_PV</b>: 2.00<br><b>battery_hours</b>: 10.0<br>PV Panels: 457.0<br>Batteries: 24.5<br>SSR: 21.0%<br>ROI: 0.8%<br>",
           "<b>norm_PV</b>: 2.50<br><b>battery_hours</b>: 10.0<br>PV Panels: 571.3<br>Batteries: 24.5<br>SSR: 26.1%<br>ROI: 1.0%<br>",
           "<b>norm_PV</b>: 3.00<br><b>battery_hours</b>: 10.0<br>PV Panels: 685.5<br>Batteries: 24.5<br>SSR: 31.1%<br>ROI: 1.0%<br>",
           "<b>norm_PV</b>: 3.50<br><b>battery_hours</b>: 10.0<br>PV Panels: 799.8<br>Batteries: 24.5<br>SSR: 35.9%<br>ROI: 0.9%<br>",
           "<b>norm_PV</b>: 4.00<br><b>battery_hours</b>: 10.0<br>PV Panels: 914.0<br>Batteries: 24.5<br>SSR: 40.5%<br>ROI: 0.7%<br>",
           "<b>norm_PV</b>: 4.50<br><b>battery_hours</b>: 10.0<br>PV Panels: 1028.3<br>Batteries: 24.5<br>SSR: 44.5%<br>ROI: 0.5%<br>",
           "<b>norm_PV</b>: 5.00<br><b>battery_hours</b>: 10.0<br>PV Panels: 1142.5<br>Batteries: 24.5<br>SSR: 48.3%<br>ROI: 0.3%<br>",
           "<b>norm_PV</b>: 5.50<br><b>battery_hours</b>: 10.0<br>PV Panels: 1256.8<br>Batteries: 24.5<br>SSR: 51.7%<br>ROI: -0.0%<br>",
           "<b>norm_PV</b>: 6.00<br><b>battery_hours</b>: 10.0<br>PV Panels: 1371.1<br>Batteries: 24.5<br>SSR: 54.8%<br>ROI: -0.3%<br>",
           "<b>norm_PV</b>: 6.50<br><b>battery_hours</b>: 10.0<br>PV Panels: 1485.3<br>Batteries: 24.5<br>SSR: 57.6%<br>ROI: -0.5%<br>",
           "<b>norm_PV</b>: 7.00<br><b>battery_hours</b>: 10.0<br>PV Panels: 1599.6<br>Batteries: 24.5<br>SSR: 60.1%<br>ROI: -0.8%<br>",
           "<b>norm_PV</b>: 7.50<br><b>battery_hours</b>: 10.0<br>PV Panels: 1713.8<br>Batteries: 24.5<br>SSR: 62.2%<br>ROI: -1.0%<br>",
           "<b>norm_PV</b>: 8.00<br><b>battery_hours</b>: 10.0<br>PV Panels: 1828.1<br>Batteries: 24.5<br>SSR: 63.9%<br>ROI: -1.2%<br>",
           "<b>norm_PV</b>: 8.50<br><b>battery_hours</b>: 10.0<br>PV Panels: 1942.3<br>Batteries: 24.5<br>SSR: 65.2%<br>ROI: -1.4%<br>",
           "<b>norm_PV</b>: 9.00<br><b>battery_hours</b>: 10.0<br>PV Panels: 2056.6<br>Batteries: 24.5<br>SSR: 66.4%<br>ROI: -1.6%<br>",
           "<b>norm_PV</b>: 9.50<br><b>battery_hours</b>: 10.0<br>PV Panels: 2170.8<br>Batteries: 24.5<br>SSR: 67.4%<br>ROI: -1.7%<br>",
           "<b>norm_PV</b>: 10.00<br><b>battery_hours</b>: 10.0<br>PV Panels: 2285.1<br>Batteries: 24.5<br>SSR: 68.4%<br>ROI: -1.9%<br>"
          ],
          [
           "<b>norm_PV</b>: 0.00<br><b>battery_hours</b>: 12.0<br>PV Panels: 0.0<br>Batteries: 29.3<br>SSR: 0.0%<br>ROI: -5.0%<br>",
           "<b>norm_PV</b>: 0.50<br><b>battery_hours</b>: 12.0<br>PV Panels: 114.3<br>Batteries: 29.3<br>SSR: 5.4%<br>ROI: -2.1%<br>",
           "<b>norm_PV</b>: 1.00<br><b>battery_hours</b>: 12.0<br>PV Panels: 228.5<br>Batteries: 29.3<br>SSR: 10.7%<br>ROI: -0.7%<br>",
           "<b>norm_PV</b>: 1.50<br><b>battery_hours</b>: 12.0<br>PV Panels: 342.8<br>Batteries: 29.3<br>SSR: 15.9%<br>ROI: 0.1%<br>",
           "<b>norm_PV</b>: 2.00<br><b>battery_hours</b>: 12.0<br>PV Panels: 457.0<br>Batteries: 29.3<br>SSR: 21.0%<br>ROI: 0.4%<br>",
           "<b>norm_PV</b>: 2.50<br><b>battery_hours</b>: 12.0<br>PV Panels: 571.3<br>Batteries: 29.3<br>SSR: 26.1%<br>ROI: 0.6%<br>",
           "<b>norm_PV</b>: 3.00<br><b>battery_hours</b>: 12.0<br>PV Panels: 685.5<br>Batteries: 29.3<br>SSR: 31.1%<br>ROI: 0.7%<br>",
           "<b>norm_PV</b>: 3.50<br><b>battery_hours</b>: 12.0<br>PV Panels: 799.8<br>Batteries: 29.3<br>SSR: 36.0%<br>ROI: 0.6%<br>",
           "<b>norm_PV</b>: 4.00<br><b>battery_hours</b>: 12.0<br>PV Panels: 914.0<br>Batteries: 29.3<br>SSR: 40.8%<br>ROI: 0.5%<br>",
           "<b>norm_PV</b>: 4.50<br><b>battery_hours</b>: 12.0<br>PV Panels: 1028.3<br>Batteries: 29.3<br>SSR: 45.2%<br>ROI: 0.3%<br>",
           "<b>norm_PV</b>: 5.00<br><b>battery_hours</b>: 12.0<br>PV Panels: 1142.5<br>Batteries: 29.3<br>SSR: 49.2%<br>ROI: 0.1%<br>",
           "<b>norm_PV</b>: 5.50<br><b>battery_hours</b>: 12.0<br>PV Panels: 1256.8<br>Batteries: 29.3<br>SSR: 52.9%<br>ROI: -0.2%<br>",
           "<b>norm_PV</b>: 6.00<br><b>battery_hours</b>: 12.0<br>PV Panels: 1371.1<br>Batteries: 29.3<br>SSR: 56.4%<br>ROI: -0.4%<br>",
           "<b>norm_PV</b>: 6.50<br><b>battery_hours</b>: 12.0<br>PV Panels: 1485.3<br>Batteries: 29.3<br>SSR: 59.5%<br>ROI: -0.7%<br>",
           "<b>norm_PV</b>: 7.00<br><b>battery_hours</b>: 12.0<br>PV Panels: 1599.6<br>Batteries: 29.3<br>SSR: 62.3%<br>ROI: -0.9%<br>",
           "<b>norm_PV</b>: 7.50<br><b>battery_hours</b>: 12.0<br>PV Panels: 1713.8<br>Batteries: 29.3<br>SSR: 64.8%<br>ROI: -1.1%<br>",
           "<b>norm_PV</b>: 8.00<br><b>battery_hours</b>: 12.0<br>PV Panels: 1828.1<br>Batteries: 29.3<br>SSR: 67.0%<br>ROI: -1.3%<br>",
           "<b>norm_PV</b>: 8.50<br><b>battery_hours</b>: 12.0<br>PV Panels: 1942.3<br>Batteries: 29.3<br>SSR: 68.7%<br>ROI: -1.5%<br>",
           "<b>norm_PV</b>: 9.00<br><b>battery_hours</b>: 12.0<br>PV Panels: 2056.6<br>Batteries: 29.3<br>SSR: 70.1%<br>ROI: -1.6%<br>",
           "<b>norm_PV</b>: 9.50<br><b>battery_hours</b>: 12.0<br>PV Panels: 2170.8<br>Batteries: 29.3<br>SSR: 71.3%<br>ROI: -1.8%<br>",
           "<b>norm_PV</b>: 10.00<br><b>battery_hours</b>: 12.0<br>PV Panels: 2285.1<br>Batteries: 29.3<br>SSR: 72.4%<br>ROI: -2.0%<br>"
          ],
          [
           "<b>norm_PV</b>: 0.00<br><b>battery_hours</b>: 14.0<br>PV Panels: 0.0<br>Batteries: 34.2<br>SSR: 0.0%<br>ROI: -5.0%<br>",
           "<b>norm_PV</b>: 0.50<br><b>battery_hours</b>: 14.0<br>PV Panels: 114.3<br>Batteries: 34.2<br>SSR: 5.4%<br>ROI: -2.5%<br>",
           "<b>norm_PV</b>: 1.00<br><b>battery_hours</b>: 14.0<br>PV Panels: 228.5<br>Batteries: 34.2<br>SSR: 10.7%<br>ROI: -1.1%<br>",
           "<b>norm_PV</b>: 1.50<br><b>battery_hours</b>: 14.0<br>PV Panels: 342.8<br>Batteries: 34.2<br>SSR: 15.9%<br>ROI: -0.3%<br>",
           "<b>norm_PV</b>: 2.00<br><b>battery_hours</b>: 14.0<br>PV Panels: 457.0<br>Batteries: 34.2<br>SSR: 21.0%<br>ROI: 0.1%<br>",
           "<b>norm_PV</b>: 2.50<br><b>battery_hours</b>: 14.0<br>PV Panels: 571.3<br>Batteries: 34.2<br>SSR: 26.1%<br>ROI: 0.3%<br>",
           "<b>norm_PV</b>: 3.00<br><b>battery_hours</b>: 14.0<br>PV Panels: 685.5<br>Batteries: 34.2<br>SSR: 31.1%<br>ROI: 0.4%<br>",
           "<b>norm_PV</b>: 3.50<br><b>battery_hours</b>: 14.0<br>PV Panels: 799.8<br>Batteries: 34.2<br>SSR: 36.0%<br>ROI: 0.4%<br>",
           "<b>norm_PV</b>: 4.00<br><b>battery_hours</b>: 14.0<br>PV Panels: 914.0<br>Batteries: 34.2<br>SSR: 40.8%<br>ROI: 0.3%<br>",
           "<b>norm_PV</b>: 4.50<br><b>battery_hours</b>: 14.0<br>PV Panels: 1028.3<br>Batteries: 34.2<br>SSR: 45.5%<br>ROI: 0.1%<br>",
           "<b>norm_PV</b>: 5.00<br><b>battery_hours</b>: 14.0<br>PV Panels: 1142.5<br>Batteries: 34.2<br>SSR: 49.8%<br>ROI: -0.1%<br>",
           "<b>norm_PV</b>: 5.50<br><b>battery_hours</b>: 14.0<br>PV Panels: 1256.8<br>Batteries: 34.2<br>SSR: 53.7%<br>ROI: -0.4%<br>",
           "<b>norm_PV</b>: 6.00<br><b>battery_hours</b>: 14.0<br>PV Panels: 1371.1<br>Batteries: 34.2<br>SSR: 57.3%<br>ROI: -0.6%<br>",
           "<b>norm_PV</b>: 6.50<br><b>battery_hours</b>: 14.0<br>PV Panels: 1485.3<br>Batteries: 34.2<br>SSR: 60.7%<br>ROI: -0.8%<br>",
           "<b>norm_PV</b>: 7.00<br><b>battery_hours</b>: 14.0<br>PV Panels: 1599.6<br>Batteries: 34.2<br>SSR: 63.8%<br>ROI: -1.0%<br>",
           "<b>norm_PV</b>: 7.50<br><b>battery_hours</b>: 14.0<br>PV Panels: 1713.8<br>Batteries: 34.2<br>SSR: 66.7%<br>ROI: -1.2%<br>",
           "<b>norm_PV</b>: 8.00<br><b>battery_hours</b>: 14.0<br>PV Panels: 1828.1<br>Batteries: 34.2<br>SSR: 69.1%<br>ROI: -1.4%<br>",
           "<b>norm_PV</b>: 8.50<br><b>battery_hours</b>: 14.0<br>PV Panels: 1942.3<br>Batteries: 34.2<br>SSR: 71.3%<br>ROI: -1.6%<br>",
           "<b>norm_PV</b>: 9.00<br><b>battery_hours</b>: 14.0<br>PV Panels: 2056.6<br>Batteries: 34.2<br>SSR: 73.1%<br>ROI: -1.8%<br>",
           "<b>norm_PV</b>: 9.50<br><b>battery_hours</b>: 14.0<br>PV Panels: 2170.8<br>Batteries: 34.2<br>SSR: 74.5%<br>ROI: -1.9%<br>",
           "<b>norm_PV</b>: 10.00<br><b>battery_hours</b>: 14.0<br>PV Panels: 2285.1<br>Batteries: 34.2<br>SSR: 75.7%<br>ROI: -2.0%<br>"
          ],
          [
           "<b>norm_PV</b>: 0.00<br><b>battery_hours</b>: 16.0<br>PV Panels: 0.0<br>Batteries: 39.1<br>SSR: 0.0%<br>ROI: -5.0%<br>",
           "<b>norm_PV</b>: 0.50<br><b>battery_hours</b>: 16.0<br>PV Panels: 114.3<br>Batteries: 39.1<br>SSR: 5.4%<br>ROI: -2.7%<br>",
           "<b>norm_PV</b>: 1.00<br><b>battery_hours</b>: 16.0<br>PV Panels: 228.5<br>Batteries: 39.1<br>SSR: 10.7%<br>ROI: -1.4%<br>",
           "<b>norm_PV</b>: 1.50<br><b>battery_hours</b>: 16.0<br>PV Panels: 342.8<br>Batteries: 39.1<br>SSR: 15.9%<br>ROI: -0.6%<br>",
           "<b>norm_PV</b>: 2.00<br><b>battery_hours</b>: 16.0<br>PV Panels: 457.0<br>Batteries: 39.1<br>SSR: 21.0%<br>ROI: -0.2%<br>",
           "<b>norm_PV</b>: 2.50<br><b>battery_hours</b>: 16.0<br>PV Panels: 571.3<br>Batteries: 39.1<br>SSR: 26.1%<br>ROI: 0.0%<br>",
           "<b>norm_PV</b>: 3.00<br><b>battery_hours</b>: 16.0<br>PV Panels: 685.5<br>Batteries: 39.1<br>SSR: 31.1%<br>ROI: 0.1%<br>",
           "<b>norm_PV</b>: 3.50<br><b>battery_hours</b>: 16.0<br>PV Panels: 799.8<br>Batteries: 39.1<br>SSR: 36.0%<br>ROI: 0.1%<br>",
           "<b>norm_PV</b>: 4.00<br><b>battery_hours</b>: 16.0<br>PV Panels: 914.0<br>Batteries: 39.1<br>SSR: 40.9%<br>ROI: 0.1%<br>",
           "<b>norm_PV</b>: 4.50<br><b>battery_hours</b>: 16.0<br>PV Panels: 1028.3<br>Batteries: 39.1<br>SSR: 45.6%<br>ROI: -0.1%<br>",
           "<b>norm_PV</b>: 5.00<br><b>battery_hours</b>: 16.0<br>PV Panels: 1142.5<br>Batteries: 39.1<br>SSR: 50.1%<br>ROI: -0.3%<br>",
           "<b>norm_PV</b>: 5.50<br><b>battery_hours</b>: 16.0<br>PV Panels: 1256.8<br>Batteries: 39.1<br>SSR: 54.2%<br>ROI: -0.5%<br>",
           "<b>norm_PV</b>: 6.00<br><b>battery_hours</b>: 16.0<br>PV Panels: 1371.1<br>Batteries: 39.1<br>SSR: 57.9%<br>ROI: -0.7%<br>",
           "<b>norm_PV</b>: 6.50<br><b>battery_hours</b>: 16.0<br>PV Panels: 1485.3<br>Batteries: 39.1<br>SSR: 61.4%<br>ROI: -0.9%<br>",
           "<b>norm_PV</b>: 7.00<br><b>battery_hours</b>: 16.0<br>PV Panels: 1599.6<br>Batteries: 39.1<br>SSR: 64.7%<br>ROI: -1.2%<br>",
           "<b>norm_PV</b>: 7.50<br><b>battery_hours</b>: 16.0<br>PV Panels: 1713.8<br>Batteries: 39.1<br>SSR: 67.8%<br>ROI: -1.3%<br>",
           "<b>norm_PV</b>: 8.00<br><b>battery_hours</b>: 16.0<br>PV Panels: 1828.1<br>Batteries: 39.1<br>SSR: 70.5%<br>ROI: -1.5%<br>",
           "<b>norm_PV</b>: 8.50<br><b>battery_hours</b>: 16.0<br>PV Panels: 1942.3<br>Batteries: 39.1<br>SSR: 72.8%<br>ROI: -1.7%<br>",
           "<b>norm_PV</b>: 9.00<br><b>battery_hours</b>: 16.0<br>PV Panels: 2056.6<br>Batteries: 39.1<br>SSR: 74.9%<br>ROI: -1.8%<br>",
           "<b>norm_PV</b>: 9.50<br><b>battery_hours</b>: 16.0<br>PV Panels: 2170.8<br>Batteries: 39.1<br>SSR: 76.7%<br>ROI: -2.0%<br>",
           "<b>norm_PV</b>: 10.00<br><b>battery_hours</b>: 16.0<br>PV Panels: 2285.1<br>Batteries: 39.1<br>SSR: 78.1%<br>ROI: -2.1%<br>"
          ],
          [
           "<b>norm_PV</b>: 0.00<br><b>battery_hours</b>: 18.0<br>PV Panels: 0.0<br>Batteries: 44.0<br>SSR: 0.1%<br>ROI: -5.0%<br>",
           "<b>norm_PV</b>: 0.50<br><b>battery_hours</b>: 18.0<br>PV Panels: 114.3<br>Batteries: 44.0<br>SSR: 5.4%<br>ROI: -2.9%<br>",
           "<b>norm_PV</b>: 1.00<br><b>battery_hours</b>: 18.0<br>PV Panels: 228.5<br>Batteries: 44.0<br>SSR: 10.7%<br>ROI: -1.6%<br>",
           "<b>norm_PV</b>: 1.50<br><b>battery_hours</b>: 18.0<br>PV Panels: 342.8<br>Batteries: 44.0<br>SSR: 15.9%<br>ROI: -0.9%<br>",
           "<b>norm_PV</b>: 2.00<br><b>battery_hours</b>: 18.0<br>PV Panels: 457.0<br>Batteries: 44.0<br>SSR: 21.0%<br>ROI: -0.5%<br>",
           "<b>norm_PV</b>: 2.50<br><b>battery_hours</b>: 18.0<br>PV Panels: 571.3<br>Batteries: 44.0<br>SSR: 26.1%<br>ROI: -0.2%<br>",
           "<b>norm_PV</b>: 3.00<br><b>battery_hours</b>: 18.0<br>PV Panels: 685.5<br>Batteries: 44.0<br>SSR: 31.1%<br>ROI: -0.1%<br>",
           "<b>norm_PV</b>: 3.50<br><b>battery_hours</b>: 18.0<br>PV Panels: 799.8<br>Batteries: 44.0<br>SSR: 36.0%<br>ROI: -0.1%<br>",
           "<b>norm_PV</b>: 4.00<br><b>battery_hours</b>: 18.0<br>PV Panels: 914.0<br>Batteries: 44.0<br>SSR: 40.9%<br>ROI: -0.1%<br>",
           "<b>norm_PV</b>: 4.50<br><b>battery_hours</b>: 18.0<br>PV Panels: 1028.3<br>Batteries: 44.0<br>SSR: 45.6%<br>ROI: -0.3%<br>",
           "<b>norm_PV</b>: 5.00<br><b>battery_hours</b>: 18.0<br>PV Panels: 1142.5<br>Batteries: 44.0<br>SSR: 50.2%<br>ROI: -0.5%<br>",
           "<b>norm_PV</b>: 5.50<br><b>battery_hours</b>: 18.0<br>PV Panels: 1256.8<br>Batteries: 44.0<br>SSR: 54.4%<br>ROI: -0.7%<br>",
           "<b>norm_PV</b>: 6.00<br><b>battery_hours</b>: 18.0<br>PV Panels: 1371.1<br>Batteries: 44.0<br>SSR: 58.3%<br>ROI: -0.9%<br>",
           "<b>norm_PV</b>: 6.50<br><b>battery_hours</b>: 18.0<br>PV Panels: 1485.3<br>Batteries: 44.0<br>SSR: 61.9%<br>ROI: -1.1%<br>",
           "<b>norm_PV</b>: 7.00<br><b>battery_hours</b>: 18.0<br>PV Panels: 1599.6<br>Batteries: 44.0<br>SSR: 65.3%<br>ROI: -1.3%<br>",
           "<b>norm_PV</b>: 7.50<br><b>battery_hours</b>: 18.0<br>PV Panels: 1713.8<br>Batteries: 44.0<br>SSR: 68.5%<br>ROI: -1.4%<br>",
           "<b>norm_PV</b>: 8.00<br><b>battery_hours</b>: 18.0<br>PV Panels: 1828.1<br>Batteries: 44.0<br>SSR: 71.3%<br>ROI: -1.6%<br>",
           "<b>norm_PV</b>: 8.50<br><b>battery_hours</b>: 18.0<br>PV Panels: 1942.3<br>Batteries: 44.0<br>SSR: 73.8%<br>ROI: -1.8%<br>",
           "<b>norm_PV</b>: 9.00<br><b>battery_hours</b>: 18.0<br>PV Panels: 2056.6<br>Batteries: 44.0<br>SSR: 76.0%<br>ROI: -1.9%<br>",
           "<b>norm_PV</b>: 9.50<br><b>battery_hours</b>: 18.0<br>PV Panels: 2170.8<br>Batteries: 44.0<br>SSR: 77.9%<br>ROI: -2.1%<br>",
           "<b>norm_PV</b>: 10.00<br><b>battery_hours</b>: 18.0<br>PV Panels: 2285.1<br>Batteries: 44.0<br>SSR: 79.5%<br>ROI: -2.2%<br>"
          ],
          [
           "<b>norm_PV</b>: 0.00<br><b>battery_hours</b>: 20.0<br>PV Panels: 0.0<br>Batteries: 48.9<br>SSR: 0.1%<br>ROI: -5.0%<br>",
           "<b>norm_PV</b>: 0.50<br><b>battery_hours</b>: 20.0<br>PV Panels: 114.3<br>Batteries: 48.9<br>SSR: 5.4%<br>ROI: -3.1%<br>",
           "<b>norm_PV</b>: 1.00<br><b>battery_hours</b>: 20.0<br>PV Panels: 228.5<br>Batteries: 48.9<br>SSR: 10.7%<br>ROI: -1.9%<br>",
           "<b>norm_PV</b>: 1.50<br><b>battery_hours</b>: 20.0<br>PV Panels: 342.8<br>Batteries: 48.9<br>SSR: 15.9%<br>ROI: -1.2%<br>",
           "<b>norm_PV</b>: 2.00<br><b>battery_hours</b>: 20.0<br>PV Panels: 457.0<br>Batteries: 48.9<br>SSR: 21.0%<br>ROI: -0.7%<br>",
           "<b>norm_PV</b>: 2.50<br><b>battery_hours</b>: 20.0<br>PV Panels: 571.3<br>Batteries: 48.9<br>SSR: 26.1%<br>ROI: -0.5%<br>",
           "<b>norm_PV</b>: 3.00<br><b>battery_hours</b>: 20.0<br>PV Panels: 685.5<br>Batteries: 48.9<br>SSR: 31.1%<br>ROI: -0.3%<br>",
           "<b>norm_PV</b>: 3.50<br><b>battery_hours</b>: 20.0<br>PV Panels: 799.8<br>Batteries: 48.9<br>SSR: 36.0%<br>ROI: -0.3%<br>",
           "<b>norm_PV</b>: 4.00<br><b>battery_hours</b>: 20.0<br>PV Panels: 914.0<br>Batteries: 48.9<br>SSR: 40.9%<br>ROI: -0.3%<br>",
           "<b>norm_PV</b>: 4.50<br><b>battery_hours</b>: 20.0<br>PV Panels: 1028.3<br>Batteries: 48.9<br>SSR: 45.6%<br>ROI: -0.4%<br>",
           "<b>norm_PV</b>: 5.00<br><b>battery_hours</b>: 20.0<br>PV Panels: 1142.5<br>Batteries: 48.9<br>SSR: 50.2%<br>ROI: -0.6%<br>",
           "<b>norm_PV</b>: 5.50<br><b>battery_hours</b>: 20.0<br>PV Panels: 1256.8<br>Batteries: 48.9<br>SSR: 54.6%<br>ROI: -0.8%<br>",
           "<b>norm_PV</b>: 6.00<br><b>battery_hours</b>: 20.0<br>PV Panels: 1371.1<br>Batteries: 48.9<br>SSR: 58.7%<br>ROI: -1.0%<br>",
           "<b>norm_PV</b>: 6.50<br><b>battery_hours</b>: 20.0<br>PV Panels: 1485.3<br>Batteries: 48.9<br>SSR: 62.4%<br>ROI: -1.2%<br>",
           "<b>norm_PV</b>: 7.00<br><b>battery_hours</b>: 20.0<br>PV Panels: 1599.6<br>Batteries: 48.9<br>SSR: 65.8%<br>ROI: -1.4%<br>",
           "<b>norm_PV</b>: 7.50<br><b>battery_hours</b>: 20.0<br>PV Panels: 1713.8<br>Batteries: 48.9<br>SSR: 69.0%<br>ROI: -1.5%<br>",
           "<b>norm_PV</b>: 8.00<br><b>battery_hours</b>: 20.0<br>PV Panels: 1828.1<br>Batteries: 48.9<br>SSR: 72.0%<br>ROI: -1.7%<br>",
           "<b>norm_PV</b>: 8.50<br><b>battery_hours</b>: 20.0<br>PV Panels: 1942.3<br>Batteries: 48.9<br>SSR: 74.5%<br>ROI: -1.9%<br>",
           "<b>norm_PV</b>: 9.00<br><b>battery_hours</b>: 20.0<br>PV Panels: 2056.6<br>Batteries: 48.9<br>SSR: 76.8%<br>ROI: -2.0%<br>",
           "<b>norm_PV</b>: 9.50<br><b>battery_hours</b>: 20.0<br>PV Panels: 2170.8<br>Batteries: 48.9<br>SSR: 78.8%<br>ROI: -2.1%<br>",
           "<b>norm_PV</b>: 10.00<br><b>battery_hours</b>: 20.0<br>PV Panels: 2285.1<br>Batteries: 48.9<br>SSR: 80.4%<br>ROI: -2.3%<br>"
          ]
         ],
         "type": "surface",
         "x": {
          "bdata": "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",
          "dtype": "f8",
          "shape": "11, 21"
         },
         "y": {
          "bdata": "AAAAAAAAAAAAAAAAAAAAAAAAAAAAAAAAAAAAAAAAAAAAAAAAAAAAAAAAAAAAAAAAAAAAAAAAAAAAAAAAAAAAAAAAAAAAAAAAAAAAAAAAAAAAAAAAAAAAAAAAAAAAAAAAAAAAAAAAAAAAAAAAAAAAAAAAAAAAAAAAAAAAAAAAAAAAAAAAAAAAAAAAAAAAAAAAAAAAAAAAAAAAAAAAAAAAAAAAAAAAAAAAAAAAAAAAAEAAAAAAAAAAQAAAAAAAAABAAAAAAAAAAEAAAAAAAAAAQAAAAAAAAABAAAAAAAAAAEAAAAAAAAAAQAAAAAAAAABAAAAAAAAAAEAAAAAAAAAAQAAAAAAAAABAAAAAAAAAAEAAAAAAAAAAQAAAAAAAAABAAAAAAAAAAEAAAAAAAAAAQAAAAAAAAABAAAAAAAAAAEAAAAAAAAAAQAAAAAAAAABAAAAAAAAAEEAAAAAAAAAQQAAAAAAAABBAAAAAAAAAEEAAAAAAAAAQQAAAAAAAABBAAAAAAAAAEEAAAAAAAAAQQAAAAAAAABBAAAAAAAAAEEAAAAAAAAAQQAAAAAAAABBAAAAAAAAAEEAAAAAAAAAQQAAAAAAAABBAAAAAAAAAEEAAAAAAAAAQQAAAAAAAABBAAAAAAAAAEEAAAAAAAAAQQAAAAAAAABBAAAAAAAAAGEAAAAAAAAAYQAAAAAAAABhAAAAAAAAAGEAAAAAAAAAYQAAAAAAAABhAAAAAAAAAGEAAAAAAAAAYQAAAAAAAABhAAAAAAAAAGEAAAAAAAAAYQAAAAAAAABhAAAAAAAAAGEAAAAAAAAAYQAAAAAAAABhAAAAAAAAAGEAAAAAAAAAYQAAAAAAAABhAAAAAAAAAGEAAAAAAAAAYQAAAAAAAABhAAAAAAAAAIEAAAAAAAAAgQAAAAAAAACBAAAAAAAAAIEAAAAAAAAAgQAAAAAAAACBAAAAAAAAAIEAAAAAAAAAgQAAAAAAAACBAAAAAAAAAIEAAAAAAAAAgQAAAAAAAACBAAAAAAAAAIEAAAAAAAAAgQAAAAAAAACBAAAAAAAAAIEAAAAAAAAAgQAAAAAAAACBAAAAAAAAAIEAAAAAAAAAgQAAAAAAAACBAAAAAAAAAJEAAAAAAAAAkQAAAAAAAACRAAAAAAAAAJEAAAAAAAAAkQAAAAAAAACRAAAAAAAAAJEAAAAAAAAAkQAAAAAAAACRAAAAAAAAAJEAAAAAAAAAkQAAAAAAAACRAAAAAAAAAJEAAAAAAAAAkQAAAAAAAACRAAAAAAAAAJEAAAAAAAAAkQAAAAAAAACRAAAAAAAAAJEAAAAAAAAAkQAAAAAAAACRAAAAAAAAAKEAAAAAAAAAoQAAAAAAAAChAAAAAAAAAKEAAAAAAAAAoQAAAAAAAAChAAAAAAAAAKEAAAAAAAAAoQAAAAAAAAChAAAAAAAAAKEAAAAAAAAAoQAAAAAAAAChAAAAAAAAAKEAAAAAAAAAoQAAAAAAAAChAAAAAAAAAKEAAAAAAAAAoQAAAAAAAAChAAAAAAAAAKEAAAAAAAAAoQAAAAAAAAChAAAAAAAAALEAAAAAAAAAsQAAAAAAAACxAAAAAAAAALEAAAAAAAAAsQAAAAAAAACxAAAAAAAAALEAAAAAAAAAsQAAAAAAAACxAAAAAAAAALEAAAAAAAAAsQAAAAAAAACxAAAAAAAAALEAAAAAAAAAsQAAAAAAAACxAAAAAAAAALEAAAAAAAAAsQAAAAAAAACxAAAAAAAAALEAAAAAAAAAsQAAAAAAAACxAAAAAAAAAMEAAAAAAAAAwQAAAAAAAADBAAAAAAAAAMEAAAAAAAAAwQAAAAAAAADBAAAAAAAAAMEAAAAAAAAAwQAAAAAAAADBAAAAAAAAAMEAAAAAAAAAwQAAAAAAAADBAAAAAAAAAMEAAAAAAAAAwQAAAAAAAADBAAAAAAAAAMEAAAAAAAAAwQAAAAAAAADBAAAAAAAAAMEAAAAAAAAAwQAAAAAAAADBAAAAAAAAAMkAAAAAAAAAyQAAAAAAAADJAAAAAAAAAMkAAAAAAAAAyQAAAAAAAADJAAAAAAAAAMkAAAAAAAAAyQAAAAAAAADJAAAAAAAAAMkAAAAAAAAAyQAAAAAAAADJAAAAAAAAAMkAAAAAAAAAyQAAAAAAAADJAAAAAAAAAMkAAAAAAAAAyQAAAAAAAADJAAAAAAAAAMkAAAAAAAAAyQAAAAAAAADJAAAAAAAAANEAAAAAAAAA0QAAAAAAAADRAAAAAAAAANEAAAAAAAAA0QAAAAAAAADRAAAAAAAAANEAAAAAAAAA0QAAAAAAAADRAAAAAAAAANEAAAAAAAAA0QAAAAAAAADRAAAAAAAAANEAAAAAAAAA0QAAAAAAAADRAAAAAAAAANEAAAAAAAAA0QAAAAAAAADRAAAAAAAAANEAAAAAAAAA0QAAAAAAAADRA",
          "dtype": "f8",
          "shape": "11, 21"
         },
         "z": {
          "bdata": "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",
          "dtype": "f8",
          "shape": "11, 21"
         }
        },
        {
         "marker": {
          "color": "red",
          "size": 6
         },
         "mode": "markers+text",
         "text": [
          "Optimal"
         ],
         "textposition": "top center",
         "type": "scatter3d",
         "x": [
          6
         ],
         "y": [
          6
         ],
         "z": [
          50.18013728232176
         ]
        }
       ],
       "layout": {
        "height": 700,
        "scene": {
         "xaxis": {
          "title": {
           "text": "(Installed PV (kW)) / (Average Demand (kW))"
          }
         },
         "yaxis": {
          "title": {
           "text": "Battery Hours (kWh / Average Demand)"
          }
         },
         "zaxis": {
          "title": {
           "text": "SSR (%)"
          }
         }
        },
        "template": {
         "data": {
          "bar": [
           {
            "error_x": {
             "color": "#2a3f5f"
            },
            "error_y": {
             "color": "#2a3f5f"
            },
            "marker": {
             "line": {
              "color": "white",
              "width": 0.5
             },
             "pattern": {
              "fillmode": "overlay",
              "size": 10,
              "solidity": 0.2
             }
            },
            "type": "bar"
           }
          ],
          "barpolar": [
           {
            "marker": {
             "line": {
              "color": "white",
              "width": 0.5
             },
             "pattern": {
              "fillmode": "overlay",
              "size": 10,
              "solidity": 0.2
             }
            },
            "type": "barpolar"
           }
          ],
          "carpet": [
           {
            "aaxis": {
             "endlinecolor": "#2a3f5f",
             "gridcolor": "#C8D4E3",
             "linecolor": "#C8D4E3",
             "minorgridcolor": "#C8D4E3",
             "startlinecolor": "#2a3f5f"
            },
            "baxis": {
             "endlinecolor": "#2a3f5f",
             "gridcolor": "#C8D4E3",
             "linecolor": "#C8D4E3",
             "minorgridcolor": "#C8D4E3",
             "startlinecolor": "#2a3f5f"
            },
            "type": "carpet"
           }
          ],
          "choropleth": [
           {
            "colorbar": {
             "outlinewidth": 0,
             "ticks": ""
            },
            "type": "choropleth"
           }
          ],
          "contour": [
           {
            "colorbar": {
             "outlinewidth": 0,
             "ticks": ""
            },
            "colorscale": [
             [
              0,
              "#0d0887"
             ],
             [
              0.1111111111111111,
              "#46039f"
             ],
             [
              0.2222222222222222,
              "#7201a8"
             ],
             [
              0.3333333333333333,
              "#9c179e"
             ],
             [
              0.4444444444444444,
              "#bd3786"
             ],
             [
              0.5555555555555556,
              "#d8576b"
             ],
             [
              0.6666666666666666,
              "#ed7953"
             ],
             [
              0.7777777777777778,
              "#fb9f3a"
             ],
             [
              0.8888888888888888,
              "#fdca26"
             ],
             [
              1,
              "#f0f921"
             ]
            ],
            "type": "contour"
           }
          ],
          "contourcarpet": [
           {
            "colorbar": {
             "outlinewidth": 0,
             "ticks": ""
            },
            "type": "contourcarpet"
           }
          ],
          "heatmap": [
           {
            "colorbar": {
             "outlinewidth": 0,
             "ticks": ""
            },
            "colorscale": [
             [
              0,
              "#0d0887"
             ],
             [
              0.1111111111111111,
              "#46039f"
             ],
             [
              0.2222222222222222,
              "#7201a8"
             ],
             [
              0.3333333333333333,
              "#9c179e"
             ],
             [
              0.4444444444444444,
              "#bd3786"
             ],
             [
              0.5555555555555556,
              "#d8576b"
             ],
             [
              0.6666666666666666,
              "#ed7953"
             ],
             [
              0.7777777777777778,
              "#fb9f3a"
             ],
             [
              0.8888888888888888,
              "#fdca26"
             ],
             [
              1,
              "#f0f921"
             ]
            ],
            "type": "heatmap"
           }
          ],
          "histogram": [
           {
            "marker": {
             "pattern": {
              "fillmode": "overlay",
              "size": 10,
              "solidity": 0.2
             }
            },
            "type": "histogram"
           }
          ],
          "histogram2d": [
           {
            "colorbar": {
             "outlinewidth": 0,
             "ticks": ""
            },
            "colorscale": [
             [
              0,
              "#0d0887"
             ],
             [
              0.1111111111111111,
              "#46039f"
             ],
             [
              0.2222222222222222,
              "#7201a8"
             ],
             [
              0.3333333333333333,
              "#9c179e"
             ],
             [
              0.4444444444444444,
              "#bd3786"
             ],
             [
              0.5555555555555556,
              "#d8576b"
             ],
             [
              0.6666666666666666,
              "#ed7953"
             ],
             [
              0.7777777777777778,
              "#fb9f3a"
             ],
             [
              0.8888888888888888,
              "#fdca26"
             ],
             [
              1,
              "#f0f921"
             ]
            ],
            "type": "histogram2d"
           }
          ],
          "histogram2dcontour": [
           {
            "colorbar": {
             "outlinewidth": 0,
             "ticks": ""
            },
            "colorscale": [
             [
              0,
              "#0d0887"
             ],
             [
              0.1111111111111111,
              "#46039f"
             ],
             [
              0.2222222222222222,
              "#7201a8"
             ],
             [
              0.3333333333333333,
              "#9c179e"
             ],
             [
              0.4444444444444444,
              "#bd3786"
             ],
             [
              0.5555555555555556,
              "#d8576b"
             ],
             [
              0.6666666666666666,
              "#ed7953"
             ],
             [
              0.7777777777777778,
              "#fb9f3a"
             ],
             [
              0.8888888888888888,
              "#fdca26"
             ],
             [
              1,
              "#f0f921"
             ]
            ],
            "type": "histogram2dcontour"
           }
          ],
          "mesh3d": [
           {
            "colorbar": {
             "outlinewidth": 0,
             "ticks": ""
            },
            "type": "mesh3d"
           }
          ],
          "parcoords": [
           {
            "line": {
             "colorbar": {
              "outlinewidth": 0,
              "ticks": ""
             }
            },
            "type": "parcoords"
           }
          ],
          "pie": [
           {
            "automargin": true,
            "type": "pie"
           }
          ],
          "scatter": [
           {
            "fillpattern": {
             "fillmode": "overlay",
             "size": 10,
             "solidity": 0.2
            },
            "type": "scatter"
           }
          ],
          "scatter3d": [
           {
            "line": {
             "colorbar": {
              "outlinewidth": 0,
              "ticks": ""
             }
            },
            "marker": {
             "colorbar": {
              "outlinewidth": 0,
              "ticks": ""
             }
            },
            "type": "scatter3d"
           }
          ],
          "scattercarpet": [
           {
            "marker": {
             "colorbar": {
              "outlinewidth": 0,
              "ticks": ""
             }
            },
            "type": "scattercarpet"
           }
          ],
          "scattergeo": [
           {
            "marker": {
             "colorbar": {
              "outlinewidth": 0,
              "ticks": ""
             }
            },
            "type": "scattergeo"
           }
          ],
          "scattergl": [
           {
            "marker": {
             "colorbar": {
              "outlinewidth": 0,
              "ticks": ""
             }
            },
            "type": "scattergl"
           }
          ],
          "scattermap": [
           {
            "marker": {
             "colorbar": {
              "outlinewidth": 0,
              "ticks": ""
             }
            },
            "type": "scattermap"
           }
          ],
          "scattermapbox": [
           {
            "marker": {
             "colorbar": {
              "outlinewidth": 0,
              "ticks": ""
             }
            },
            "type": "scattermapbox"
           }
          ],
          "scatterpolar": [
           {
            "marker": {
             "colorbar": {
              "outlinewidth": 0,
              "ticks": ""
             }
            },
            "type": "scatterpolar"
           }
          ],
          "scatterpolargl": [
           {
            "marker": {
             "colorbar": {
              "outlinewidth": 0,
              "ticks": ""
             }
            },
            "type": "scatterpolargl"
           }
          ],
          "scatterternary": [
           {
            "marker": {
             "colorbar": {
              "outlinewidth": 0,
              "ticks": ""
             }
            },
            "type": "scatterternary"
           }
          ],
          "surface": [
           {
            "colorbar": {
             "outlinewidth": 0,
             "ticks": ""
            },
            "colorscale": [
             [
              0,
              "#0d0887"
             ],
             [
              0.1111111111111111,
              "#46039f"
             ],
             [
              0.2222222222222222,
              "#7201a8"
             ],
             [
              0.3333333333333333,
              "#9c179e"
             ],
             [
              0.4444444444444444,
              "#bd3786"
             ],
             [
              0.5555555555555556,
              "#d8576b"
             ],
             [
              0.6666666666666666,
              "#ed7953"
             ],
             [
              0.7777777777777778,
              "#fb9f3a"
             ],
             [
              0.8888888888888888,
              "#fdca26"
             ],
             [
              1,
              "#f0f921"
             ]
            ],
            "type": "surface"
           }
          ],
          "table": [
           {
            "cells": {
             "fill": {
              "color": "#EBF0F8"
             },
             "line": {
              "color": "white"
             }
            },
            "header": {
             "fill": {
              "color": "#C8D4E3"
             },
             "line": {
              "color": "white"
             }
            },
            "type": "table"
           }
          ]
         },
         "layout": {
          "annotationdefaults": {
           "arrowcolor": "#2a3f5f",
           "arrowhead": 0,
           "arrowwidth": 1
          },
          "autotypenumbers": "strict",
          "coloraxis": {
           "colorbar": {
            "outlinewidth": 0,
            "ticks": ""
           }
          },
          "colorscale": {
           "diverging": [
            [
             0,
             "#8e0152"
            ],
            [
             0.1,
             "#c51b7d"
            ],
            [
             0.2,
             "#de77ae"
            ],
            [
             0.3,
             "#f1b6da"
            ],
            [
             0.4,
             "#fde0ef"
            ],
            [
             0.5,
             "#f7f7f7"
            ],
            [
             0.6,
             "#e6f5d0"
            ],
            [
             0.7,
             "#b8e186"
            ],
            [
             0.8,
             "#7fbc41"
            ],
            [
             0.9,
             "#4d9221"
            ],
            [
             1,
             "#276419"
            ]
           ],
           "sequential": [
            [
             0,
             "#0d0887"
            ],
            [
             0.1111111111111111,
             "#46039f"
            ],
            [
             0.2222222222222222,
             "#7201a8"
            ],
            [
             0.3333333333333333,
             "#9c179e"
            ],
            [
             0.4444444444444444,
             "#bd3786"
            ],
            [
             0.5555555555555556,
             "#d8576b"
            ],
            [
             0.6666666666666666,
             "#ed7953"
            ],
            [
             0.7777777777777778,
             "#fb9f3a"
            ],
            [
             0.8888888888888888,
             "#fdca26"
            ],
            [
             1,
             "#f0f921"
            ]
           ],
           "sequentialminus": [
            [
             0,
             "#0d0887"
            ],
            [
             0.1111111111111111,
             "#46039f"
            ],
            [
             0.2222222222222222,
             "#7201a8"
            ],
            [
             0.3333333333333333,
             "#9c179e"
            ],
            [
             0.4444444444444444,
             "#bd3786"
            ],
            [
             0.5555555555555556,
             "#d8576b"
            ],
            [
             0.6666666666666666,
             "#ed7953"
            ],
            [
             0.7777777777777778,
             "#fb9f3a"
            ],
            [
             0.8888888888888888,
             "#fdca26"
            ],
            [
             1,
             "#f0f921"
            ]
           ]
          },
          "colorway": [
           "#636efa",
           "#EF553B",
           "#00cc96",
           "#ab63fa",
           "#FFA15A",
           "#19d3f3",
           "#FF6692",
           "#B6E880",
           "#FF97FF",
           "#FECB52"
          ],
          "font": {
           "color": "#2a3f5f"
          },
          "geo": {
           "bgcolor": "white",
           "lakecolor": "white",
           "landcolor": "white",
           "showlakes": true,
           "showland": true,
           "subunitcolor": "#C8D4E3"
          },
          "hoverlabel": {
           "align": "left"
          },
          "hovermode": "closest",
          "mapbox": {
           "style": "light"
          },
          "paper_bgcolor": "white",
          "plot_bgcolor": "white",
          "polar": {
           "angularaxis": {
            "gridcolor": "#EBF0F8",
            "linecolor": "#EBF0F8",
            "ticks": ""
           },
           "bgcolor": "white",
           "radialaxis": {
            "gridcolor": "#EBF0F8",
            "linecolor": "#EBF0F8",
            "ticks": ""
           }
          },
          "scene": {
           "xaxis": {
            "backgroundcolor": "white",
            "gridcolor": "#DFE8F3",
            "gridwidth": 2,
            "linecolor": "#EBF0F8",
            "showbackground": true,
            "ticks": "",
            "zerolinecolor": "#EBF0F8"
           },
           "yaxis": {
            "backgroundcolor": "white",
            "gridcolor": "#DFE8F3",
            "gridwidth": 2,
            "linecolor": "#EBF0F8",
            "showbackground": true,
            "ticks": "",
            "zerolinecolor": "#EBF0F8"
           },
           "zaxis": {
            "backgroundcolor": "white",
            "gridcolor": "#DFE8F3",
            "gridwidth": 2,
            "linecolor": "#EBF0F8",
            "showbackground": true,
            "ticks": "",
            "zerolinecolor": "#EBF0F8"
           }
          },
          "shapedefaults": {
           "line": {
            "color": "#2a3f5f"
           }
          },
          "ternary": {
           "aaxis": {
            "gridcolor": "#DFE8F3",
            "linecolor": "#A2B1C6",
            "ticks": ""
           },
           "baxis": {
            "gridcolor": "#DFE8F3",
            "linecolor": "#A2B1C6",
            "ticks": ""
           },
           "bgcolor": "white",
           "caxis": {
            "gridcolor": "#DFE8F3",
            "linecolor": "#A2B1C6",
            "ticks": ""
           }
          },
          "title": {
           "x": 0.05
          },
          "xaxis": {
           "automargin": true,
           "gridcolor": "#EBF0F8",
           "linecolor": "#EBF0F8",
           "ticks": "",
           "title": {
            "standoff": 15
           },
           "zerolinecolor": "#EBF0F8",
           "zerolinewidth": 2
          },
          "yaxis": {
           "automargin": true,
           "gridcolor": "#EBF0F8",
           "linecolor": "#EBF0F8",
           "ticks": "",
           "title": {
            "standoff": 15
           },
           "zerolinecolor": "#EBF0F8",
           "zerolinewidth": 2
          }
         }
        },
        "title": {
         "text": "3D Surface: SSR vs. Normalized PV & Battery Hours"
        },
        "width": 900
       }
      }
     },
     "metadata": {},
     "output_type": "display_data"
    }
   ],
   "source": [
    "import plotly.graph_objects as go\n",
    "import numpy as np\n",
    "\n",
    "# --------------------------------------------------\n",
    "# 1) Financial & Technical Parameters\n",
    "# --------------------------------------------------\n",
    "panel_cost = 1220           # € per panel\n",
    "battery_cost = 13000        # € per battery\n",
    "energy_sold_price = 0.1208  # €/kWh\n",
    "energy_purchased_price = 0.2713  # €/kWh\n",
    "om_cost_panels_rate = 0.07  # 7% O&M cost of panel CAPEX\n",
    "om_cost_batteries_rate = 0.05  # 5% O&M cost of battery CAPEX\n",
    "\n",
    "battery_capacity_per_unit = 57  # kWh per \"battery unit\"\n",
    "converter_efficiency = 0.9\n",
    "initial_soc = 50          # %\n",
    "\n",
    "# Panel capacity (kW) per physical panel\n",
    "# For instance, if each panel is 610 W => 0.610 kW:\n",
    "panel_capacity_kW = 0.610\n",
    "\n",
    "# --------------------------------------------------\n",
    "# 2) Load Data and Compute Averages\n",
    "# --------------------------------------------------\n",
    "# merged_data: DataFrame with columns ['Consumption_kWh', 'PV_Production_kWh'] at each time step\n",
    "total_energy_demand = merged_data['Consumption_kWh'].sum()   # kWh\n",
    "num_hours = len(merged_data)  # e.g. 8760 for 1 year of hourly data\n",
    "average_demand = total_energy_demand / num_hours  # kW\n",
    "\n",
    "print(f\"Total annual demand = {total_energy_demand:.1f} kWh\")\n",
    "print(f\"Average demand = {average_demand:.2f} kW\")\n",
    "\n",
    "# --------------------------------------------------\n",
    "# 3) Define Dimensionless Ranges\n",
    "# --------------------------------------------------\n",
    "# Normalized PV ratio from 0.0 to 3.0 in steps of 0.5 => up to 3× average load\n",
    "norm_pv_range = np.arange(0.0, 10.1, 0.5)\n",
    "\n",
    "# Battery hours from 0 to 10 in steps of 2 => up to 10 hours of storage at average load\n",
    "battery_hours_range = np.arange(0.0, 20.1, 2.0)\n",
    "\n",
    "# Create meshgrids (X = norm_pv, Y = battery_hours)\n",
    "norm_pv_grid, battery_hours_grid = np.meshgrid(norm_pv_range, battery_hours_range)\n",
    "\n",
    "# Prepare 2D arrays for SSR and ROI\n",
    "ssr_grid = np.zeros_like(norm_pv_grid, dtype=float)\n",
    "roi_grid = np.zeros_like(norm_pv_grid, dtype=float)\n",
    "\n",
    "# Store an \"optimal scenario\"\n",
    "optimal_scenario = {\n",
    "    'norm_pv': 0,\n",
    "    'battery_hours': 0,\n",
    "    'ssr': 0,\n",
    "    'roi': 0\n",
    "}\n",
    "\n",
    "# For custom hover text\n",
    "hover_texts = np.empty(norm_pv_grid.shape, dtype=object)\n",
    "\n",
    "# --------------------------------------------------\n",
    "# 4) Double Loop Over PV & Battery Hours\n",
    "# --------------------------------------------------\n",
    "for i in range(norm_pv_grid.shape[0]):\n",
    "    for j in range(norm_pv_grid.shape[1]):\n",
    "        \n",
    "        # (A) Extract current dimensionless parameters\n",
    "        norm_pv = norm_pv_grid[i, j]           # ratio\n",
    "        battery_hours = battery_hours_grid[i, j]\n",
    "        \n",
    "        # (B) Convert to actual # of panels and # of batteries\n",
    "        installed_pv_kW = norm_pv * average_demand\n",
    "        num_panels = installed_pv_kW / panel_capacity_kW if panel_capacity_kW > 0 else 0\n",
    "        \n",
    "        battery_capacity_kWh = battery_hours * average_demand\n",
    "        num_batteries = battery_capacity_kWh / battery_capacity_per_unit if battery_capacity_per_unit > 0 else 0\n",
    "        \n",
    "        # (C) Hourly simulation for SSR\n",
    "        soc = initial_soc\n",
    "        total_energy_supplied_pv_to_demand = 0.0\n",
    "        total_energy_discharged = 0.0\n",
    "        annual_excess_energy = 0.0\n",
    "        \n",
    "        for _, row in merged_data.iterrows():\n",
    "            consumption = row['Consumption_kWh']\n",
    "            # If 'PV_Production_kWh' is for a 1 kW reference system:\n",
    "            pv_generation = row['PV_Production_kWh'] * installed_pv_kW\n",
    "            \n",
    "            # 1) Direct supply\n",
    "            direct_supply = min(pv_generation, consumption)\n",
    "            total_energy_supplied_pv_to_demand += direct_supply\n",
    "            \n",
    "            # 2) Battery logic\n",
    "            excess = pv_generation - direct_supply\n",
    "            deficit = consumption - direct_supply\n",
    "            \n",
    "            # Charge if we have excess\n",
    "            if excess > 0 and num_batteries > 0 and soc < 100:\n",
    "                # max we can store in this hour\n",
    "                charge_max = (100 - soc)/100.0 * battery_capacity_kWh\n",
    "                actual_charge = min(excess * converter_efficiency, charge_max)\n",
    "                \n",
    "                soc += (actual_charge / battery_capacity_kWh) * 100.0\n",
    "                # The leftover after charging is \"excess\" that goes to the grid\n",
    "                # That leftover = (excess - actual_charge / converter_efficiency)\n",
    "                annual_excess_energy += max(0.0, excess - (actual_charge / converter_efficiency))\n",
    "            \n",
    "            # Discharge if there's deficit\n",
    "            if deficit > 0 and num_batteries > 0 and soc > 20:\n",
    "                # max we can discharge while respecting SoC floor of 20%\n",
    "                discharge_max = (soc - 20)/100.0 * battery_capacity_kWh * converter_efficiency\n",
    "                actual_discharge = min(deficit, discharge_max)\n",
    "                \n",
    "                total_energy_discharged += actual_discharge\n",
    "                soc -= (actual_discharge / (battery_capacity_kWh * converter_efficiency)) * 100.0\n",
    "        \n",
    "        # (D) Calculate SSR\n",
    "        ssr = 0.0\n",
    "        if total_energy_demand > 0:\n",
    "            ssr = ((total_energy_supplied_pv_to_demand + total_energy_discharged)\n",
    "                   / total_energy_demand) * 100.0\n",
    "        \n",
    "        ssr_grid[i, j] = ssr\n",
    "        \n",
    "        # (E) Financial Calculations\n",
    "        # CAPEX\n",
    "        total_initial_investment = (panel_cost * num_panels) + (battery_cost * num_batteries)\n",
    "        \n",
    "        # O&M cost\n",
    "        om_cost_panels = panel_cost * num_panels * om_cost_panels_rate\n",
    "        om_cost_batteries = battery_cost * num_batteries * om_cost_batteries_rate\n",
    "        total_om_cost = om_cost_panels + om_cost_batteries\n",
    "        \n",
    "        # Savings: any kWh not purchased from the grid => value at energy_purchased_price\n",
    "        # Also, any surplus can be sold => revenue_surplus\n",
    "        total_savings = total_energy_supplied_pv_to_demand * energy_purchased_price\n",
    "        revenue_surplus = annual_excess_energy * energy_sold_price\n",
    "        \n",
    "        net_savings = (total_savings + revenue_surplus) - total_om_cost\n",
    "        \n",
    "        if total_initial_investment > 0:\n",
    "            roi = (net_savings / total_initial_investment) * 100.0\n",
    "        else:\n",
    "            roi = 0.0\n",
    "        \n",
    "        roi_grid[i, j] = roi\n",
    "        \n",
    "        # (F) Update \"Optimal\" scenario (if you want max SSR subject to ROI>0, for example)\n",
    "        # You can customize this criterion—here we pick the highest SSR that still has ROI>0\n",
    "        if roi > 0 and ssr > optimal_scenario['ssr']:\n",
    "            optimal_scenario.update({\n",
    "                'norm_pv': norm_pv,\n",
    "                'battery_hours': battery_hours,\n",
    "                'ssr': ssr,\n",
    "                'roi': roi\n",
    "            })\n",
    "        \n",
    "        # (G) Hover text\n",
    "        hover_texts[i, j] = (\n",
    "            f\"<b>norm_PV</b>: {norm_pv:.2f}<br>\"\n",
    "            f\"<b>battery_hours</b>: {battery_hours:.1f}<br>\"\n",
    "            f\"PV Panels: {num_panels:.1f}<br>\"\n",
    "            f\"Batteries: {num_batteries:.1f}<br>\"\n",
    "            f\"SSR: {ssr:.1f}%<br>\"\n",
    "            f\"ROI: {roi:.1f}%<br>\"\n",
    "        )\n",
    "\n",
    "# --------------------------------------------------\n",
    "# 5) Print the \"Optimal\" Scenario\n",
    "# --------------------------------------------------\n",
    "print(\"Optimal Scenario (Max SSR with ROI>0):\")\n",
    "print(f\"  Normalized PV = {optimal_scenario['norm_pv']:.2f} (i.e. {optimal_scenario['norm_pv']*100:.0f}% of average demand)\")\n",
    "print(f\"  Battery Hours = {optimal_scenario['battery_hours']:.1f}\")\n",
    "print(f\"  SSR = {optimal_scenario['ssr']:.2f}%\")\n",
    "print(f\"  ROI = {optimal_scenario['roi']:.2f}%\")\n",
    "\n",
    "# --------------------------------------------------\n",
    "# 6) Plot 3D Surface (SSR as Z-Axis)\n",
    "# --------------------------------------------------\n",
    "fig = go.Figure()\n",
    "\n",
    "fig.add_trace(go.Surface(\n",
    "    x=norm_pv_grid,              # X-axis: normalized PV\n",
    "    y=battery_hours_grid,        # Y-axis: battery hours\n",
    "    z=ssr_grid,                  # Z-axis: SSR\n",
    "    surfacecolor=ssr_grid,       # for color\n",
    "    colorscale='Viridis',\n",
    "    colorbar=dict(title=\"SSR (%)\"),\n",
    "    hoverinfo='text',\n",
    "    text=hover_texts\n",
    "))\n",
    "\n",
    "# Add a marker for the Optimal Scenario\n",
    "fig.add_trace(go.Scatter3d(\n",
    "    x=[optimal_scenario['norm_pv']],\n",
    "    y=[optimal_scenario['battery_hours']],\n",
    "    z=[optimal_scenario['ssr']],\n",
    "    mode='markers+text',\n",
    "    marker=dict(size=6, color='red'),\n",
    "    text=[\"Optimal\"],\n",
    "    textposition='top center'\n",
    "))\n",
    "\n",
    "fig.update_layout(\n",
    "    title='3D Surface: SSR vs. Normalized PV & Battery Hours',\n",
    "    scene=dict(\n",
    "        xaxis_title='(Installed PV (kW)) / (Average Demand (kW))',\n",
    "        yaxis_title='Battery Hours (kWh / Average Demand)',\n",
    "        zaxis_title='SSR (%)'\n",
    "    ),\n",
    "    template='plotly_white',\n",
    "    width=900,\n",
    "    height=700\n",
    ")\n",
    "\n",
    "fig.show()\n"
   ]
  },
  {
   "cell_type": "code",
   "execution_count": null,
   "metadata": {},
   "outputs": [],
   "source": []
  }
 ],
 "metadata": {
  "kernelspec": {
   "display_name": "base",
   "language": "python",
   "name": "python3"
  },
  "language_info": {
   "codemirror_mode": {
    "name": "ipython",
    "version": 3
   },
   "file_extension": ".py",
   "mimetype": "text/x-python",
   "name": "python",
   "nbconvert_exporter": "python",
   "pygments_lexer": "ipython3",
   "version": "3.11.5"
  }
 },
 "nbformat": 4,
 "nbformat_minor": 2
}
