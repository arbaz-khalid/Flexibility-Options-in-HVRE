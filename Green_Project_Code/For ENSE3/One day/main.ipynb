{
 "cells": [
  {
   "cell_type": "markdown",
   "metadata": {},
   "source": [
    "# Solar Energy Consumption and Production Analysis\n",
    "This notebook analyzes solar energy consumption and production. It calculates various metrics, including PV production, unmet demand, and performance indicators, under different conditions (e.g., number of panels and batteries).\n",
    "\n"
   ]
  },
  {
   "cell_type": "markdown",
   "metadata": {},
   "source": [
    "### Solar Energy Consumption and Production Analysis for ENSE3 Building (For one day)"
   ]
  },
  {
   "cell_type": "code",
   "execution_count": null,
   "metadata": {},
   "outputs": [],
   "source": [
    "# --------------------------------\n",
    "# Required Library Installation\n",
    "# --------------------------------\n",
    "\n",
    "import sys\n",
    "import subprocess\n",
    "\n",
    "# List of required Python libraries for the project\n",
    "required_libraries = [\n",
    "    'pandas',            # Data processing and manipulation\n",
    "    'numpy',             # Numerical calculations\n",
    "    'plotly',            # Interactive visualizations\n",
    "    'ipywidgets',        # Interactive widgets for user input\n",
    "    'matplotlib',        # Plotting capabilities \n",
    "]\n",
    "\n",
    "# Function to check and install missing libraries\n",
    "def install_missing_libraries(libraries):\n",
    "    for lib in libraries:\n",
    "        try:\n",
    "            __import__(lib)\n",
    "        except ImportError:\n",
    "            print(f\"Installing missing library: {lib}\")\n",
    "            subprocess.check_call([sys.executable, \"-m\", \"pip\", \"install\", lib])\n",
    "        else:\n",
    "            print(f\"✔ {lib} is already installed.\")\n",
    "\n",
    "# Run the function to install missing libraries\n",
    "install_missing_libraries(required_libraries)\n"
   ]
  },
  {
   "cell_type": "code",
   "execution_count": 2,
   "metadata": {},
   "outputs": [
    {
     "name": "stderr",
     "output_type": "stream",
     "text": [
      "INFO:solar_analysis_script:Loading energy consumption data from file: Ense3buildingconsumption.csv\n"
     ]
    },
    {
     "name": "stderr",
     "output_type": "stream",
     "text": [
      "INFO:solar_analysis_script:Energy consumption data successfully loaded and filtered.\n",
      "INFO:solar_analysis_script:Loading PV production data from file: Ense3buildingPV.csv\n",
      "INFO:solar_analysis_script:'Time_End' column dropped from PV production data.\n",
      "INFO:solar_analysis_script:PV production data successfully loaded, converted to kWh, and processed.\n",
      "INFO:solar_analysis_script:Extending PV production data to cover 2023-09-25 00:00:00 to 2024-09-25 00:00:00.\n",
      "INFO:solar_analysis_script:Original PV data duration: 364 days 23:00:00 (8760 hours)\n",
      "INFO:solar_analysis_script:Total duration to cover: 366 days 00:00:00 (8784 hours)\n",
      "INFO:solar_analysis_script:Repeating PV data 2 times to cover the desired period.\n",
      "INFO:solar_analysis_script:PV production data extended from 2023-09-25 00:00:00 to 2024-09-24 23:00:00.\n",
      "INFO:solar_analysis_script:Total PV production records after extension: 8784\n",
      "INFO:solar_analysis_script:'Consumption (kWh)' column dropped from merged data.\n",
      "INFO:solar_analysis_script:Consumption and PV production data successfully merged and cleaned.\n"
     ]
    },
    {
     "name": "stdout",
     "output_type": "stream",
     "text": [
      "Data successfully loaded and merged after cleaning.\n"
     ]
    },
    {
     "data": {
      "application/vnd.jupyter.widget-view+json": {
       "model_id": "a3d16c85a599443ba8bc4f024977009c",
       "version_major": 2,
       "version_minor": 0
      },
      "text/plain": [
       "VBox(children=(HBox(children=(IntSlider(value=0, continuous_update=False, description='Num Panels:', max=1500,…"
      ]
     },
     "metadata": {},
     "output_type": "display_data"
    },
    {
     "data": {
      "application/vnd.jupyter.widget-view+json": {
       "model_id": "d3bb9c3f82024409a7381a9ce8ad055a",
       "version_major": 2,
       "version_minor": 0
      },
      "text/plain": [
       "Output()"
      ]
     },
     "metadata": {},
     "output_type": "display_data"
    },
    {
     "data": {
      "application/vnd.plotly.v1+json": {
       "config": {
        "plotlyServerURL": "https://plot.ly"
       },
       "data": [
        {
         "marker": {
          "color": "orange"
         },
         "name": "Solar PV Production (kWh)",
         "type": "bar",
         "x": {
          "bdata": "AAAAAAEAAAACAAAAAwAAAAQAAAAFAAAABgAAAAcAAAAIAAAACQAAAAoAAAALAAAADAAAAA0AAAAOAAAADwAAABAAAAARAAAAEgAAABMAAAAUAAAAFQAAABYAAAAXAAAA",
          "dtype": "i4"
         },
         "y": {
          "bdata": "AAAAAAAAAAAAAAAAAAAAAAAAAAAAAAAAAAAAAAAAAACGONbFbTToP/3UeOkmsTZAa5p3nKJzUEBeukkMAttjQJ2AJsKGP3JAVg4tsp37dUD6oGez6vd3QMKGp1fKcndASzeJQWBBcUDXxW00gJ9pQNxGA3gLpGBAJlMFo5IKW0DtDb4wmapTQKjGSzeJQT5AhjjWxW00+D8AAAAAAAAAAAAAAAAAAAAAAAAAAAAAAAAAAAAAAAAAAAAAAAAAAAAA",
          "dtype": "f8"
         }
        },
        {
         "marker": {
          "color": "red"
         },
         "name": "Unmet Demand (kWh)",
         "type": "bar",
         "x": {
          "bdata": "AAAAAAEAAAACAAAAAwAAAAQAAAAFAAAABgAAAAcAAAAIAAAACQAAAAoAAAALAAAADAAAAA0AAAAOAAAADwAAABAAAAARAAAAEgAAABMAAAAUAAAAFQAAABYAAAAXAAAA",
          "dtype": "i4"
         },
         "y": [
          0,
          0,
          0,
          0,
          0,
          18.488000000000028,
          191.1932,
          128.156,
          0,
          0,
          0,
          0,
          0,
          0,
          0,
          0,
          109.15196,
          213.744,
          203.4872,
          133,
          113,
          108,
          107,
          107
         ]
        },
        {
         "marker": {
          "color": "green"
         },
         "name": "Energy Charged to Battery (kWh)",
         "type": "bar",
         "x": {
          "bdata": "AAAAAAEAAAACAAAAAwAAAAQAAAAFAAAABgAAAAcAAAAIAAAACQAAAAoAAAALAAAADAAAAA0AAAAOAAAADwAAABAAAAARAAAAEgAAABMAAAAUAAAAFQAAABYAAAAXAAAA",
          "dtype": "i4"
         },
         "y": [
          0,
          0,
          0,
          0,
          0,
          0,
          0,
          0,
          -8.073359999999985,
          -74.4534,
          -106.64532000000005,
          -102.75695999999999,
          -9.97739999999996,
          0,
          0,
          0,
          0,
          0,
          0,
          0,
          0,
          0,
          0,
          0
         ]
        },
        {
         "marker": {
          "color": "purple"
         },
         "name": "Energy Discharged from Battery (kWh)",
         "type": "bar",
         "x": {
          "bdata": "AAAAAAEAAAACAAAAAwAAAAQAAAAFAAAABgAAAAcAAAAIAAAACQAAAAoAAAALAAAADAAAAA0AAAAOAAAADwAAABAAAAARAAAAEgAAABMAAAAUAAAAFQAAABYAAAAXAAAA",
          "dtype": "i4"
         },
         "y": [
          103,
          104,
          105,
          105,
          123.2436,
          132.81999999999996,
          0,
          0,
          0,
          0,
          0,
          0,
          0,
          21.015599999999978,
          100.87360000000001,
          120.8348,
          59.18244000000001,
          0,
          0,
          0,
          0,
          0,
          0,
          0
         ]
        },
        {
         "marker": {
          "color": "cyan"
         },
         "name": "Excess Energy (kWh)",
         "type": "bar",
         "x": {
          "bdata": "AAAAAAEAAAACAAAAAwAAAAQAAAAFAAAABgAAAAcAAAAIAAAACQAAAAoAAAALAAAADAAAAA0AAAAOAAAADwAAABAAAAARAAAAEgAAABMAAAAUAAAAFQAAABYAAAAXAAAA",
          "dtype": "i4"
         },
         "y": [
          0,
          0,
          0,
          0,
          0,
          0,
          0,
          0,
          -0.8970399999999987,
          -8.272599999999997,
          -11.84948,
          -11.41744,
          -1.1085999999999956,
          0,
          0,
          0,
          0,
          0,
          0,
          0,
          0,
          0,
          0,
          0
         ]
        },
        {
         "line": {
          "color": "blue",
          "dash": "dash"
         },
         "mode": "lines",
         "name": "Electricity Demand (kWh)",
         "type": "scatter",
         "x": {
          "bdata": "AAAAAAEAAAACAAAAAwAAAAQAAAAFAAAABgAAAAcAAAAIAAAACQAAAAoAAAALAAAADAAAAA0AAAAOAAAADwAAABAAAAARAAAAEgAAABMAAAAUAAAAFQAAABYAAAAXAAAA",
          "dtype": "i4"
         },
         "y": {
          "bdata": "AAAAAADAWUAAAAAAAABaQAAAAAAAQFpAAAAAAABAWkAAAAAAAABfQAAAAAAAwGVAAAAAAAAQcEAAAAAAAPBxQAAAAAAAsHFAAAAAAADQcEAAAAAAAJBwQAAAAAAAUHBAAAAAAACQcEAAAAAAAEBsQAAAAAAAQG1AAAAAAACgbEAAAAAAAOBuQAAAAAAAgG5AAAAAAACgaUAAAAAAAKBgQAAAAAAAQFxAAAAAAAAAW0AAAAAAAMBaQAAAAAAAwFpA",
          "dtype": "f8"
         }
        }
       ],
       "layout": {
        "barmode": "relative",
        "height": 600,
        "template": {
         "data": {
          "bar": [
           {
            "error_x": {
             "color": "#2a3f5f"
            },
            "error_y": {
             "color": "#2a3f5f"
            },
            "marker": {
             "line": {
              "color": "white",
              "width": 0.5
             },
             "pattern": {
              "fillmode": "overlay",
              "size": 10,
              "solidity": 0.2
             }
            },
            "type": "bar"
           }
          ],
          "barpolar": [
           {
            "marker": {
             "line": {
              "color": "white",
              "width": 0.5
             },
             "pattern": {
              "fillmode": "overlay",
              "size": 10,
              "solidity": 0.2
             }
            },
            "type": "barpolar"
           }
          ],
          "carpet": [
           {
            "aaxis": {
             "endlinecolor": "#2a3f5f",
             "gridcolor": "#C8D4E3",
             "linecolor": "#C8D4E3",
             "minorgridcolor": "#C8D4E3",
             "startlinecolor": "#2a3f5f"
            },
            "baxis": {
             "endlinecolor": "#2a3f5f",
             "gridcolor": "#C8D4E3",
             "linecolor": "#C8D4E3",
             "minorgridcolor": "#C8D4E3",
             "startlinecolor": "#2a3f5f"
            },
            "type": "carpet"
           }
          ],
          "choropleth": [
           {
            "colorbar": {
             "outlinewidth": 0,
             "ticks": ""
            },
            "type": "choropleth"
           }
          ],
          "contour": [
           {
            "colorbar": {
             "outlinewidth": 0,
             "ticks": ""
            },
            "colorscale": [
             [
              0,
              "#0d0887"
             ],
             [
              0.1111111111111111,
              "#46039f"
             ],
             [
              0.2222222222222222,
              "#7201a8"
             ],
             [
              0.3333333333333333,
              "#9c179e"
             ],
             [
              0.4444444444444444,
              "#bd3786"
             ],
             [
              0.5555555555555556,
              "#d8576b"
             ],
             [
              0.6666666666666666,
              "#ed7953"
             ],
             [
              0.7777777777777778,
              "#fb9f3a"
             ],
             [
              0.8888888888888888,
              "#fdca26"
             ],
             [
              1,
              "#f0f921"
             ]
            ],
            "type": "contour"
           }
          ],
          "contourcarpet": [
           {
            "colorbar": {
             "outlinewidth": 0,
             "ticks": ""
            },
            "type": "contourcarpet"
           }
          ],
          "heatmap": [
           {
            "colorbar": {
             "outlinewidth": 0,
             "ticks": ""
            },
            "colorscale": [
             [
              0,
              "#0d0887"
             ],
             [
              0.1111111111111111,
              "#46039f"
             ],
             [
              0.2222222222222222,
              "#7201a8"
             ],
             [
              0.3333333333333333,
              "#9c179e"
             ],
             [
              0.4444444444444444,
              "#bd3786"
             ],
             [
              0.5555555555555556,
              "#d8576b"
             ],
             [
              0.6666666666666666,
              "#ed7953"
             ],
             [
              0.7777777777777778,
              "#fb9f3a"
             ],
             [
              0.8888888888888888,
              "#fdca26"
             ],
             [
              1,
              "#f0f921"
             ]
            ],
            "type": "heatmap"
           }
          ],
          "histogram": [
           {
            "marker": {
             "pattern": {
              "fillmode": "overlay",
              "size": 10,
              "solidity": 0.2
             }
            },
            "type": "histogram"
           }
          ],
          "histogram2d": [
           {
            "colorbar": {
             "outlinewidth": 0,
             "ticks": ""
            },
            "colorscale": [
             [
              0,
              "#0d0887"
             ],
             [
              0.1111111111111111,
              "#46039f"
             ],
             [
              0.2222222222222222,
              "#7201a8"
             ],
             [
              0.3333333333333333,
              "#9c179e"
             ],
             [
              0.4444444444444444,
              "#bd3786"
             ],
             [
              0.5555555555555556,
              "#d8576b"
             ],
             [
              0.6666666666666666,
              "#ed7953"
             ],
             [
              0.7777777777777778,
              "#fb9f3a"
             ],
             [
              0.8888888888888888,
              "#fdca26"
             ],
             [
              1,
              "#f0f921"
             ]
            ],
            "type": "histogram2d"
           }
          ],
          "histogram2dcontour": [
           {
            "colorbar": {
             "outlinewidth": 0,
             "ticks": ""
            },
            "colorscale": [
             [
              0,
              "#0d0887"
             ],
             [
              0.1111111111111111,
              "#46039f"
             ],
             [
              0.2222222222222222,
              "#7201a8"
             ],
             [
              0.3333333333333333,
              "#9c179e"
             ],
             [
              0.4444444444444444,
              "#bd3786"
             ],
             [
              0.5555555555555556,
              "#d8576b"
             ],
             [
              0.6666666666666666,
              "#ed7953"
             ],
             [
              0.7777777777777778,
              "#fb9f3a"
             ],
             [
              0.8888888888888888,
              "#fdca26"
             ],
             [
              1,
              "#f0f921"
             ]
            ],
            "type": "histogram2dcontour"
           }
          ],
          "mesh3d": [
           {
            "colorbar": {
             "outlinewidth": 0,
             "ticks": ""
            },
            "type": "mesh3d"
           }
          ],
          "parcoords": [
           {
            "line": {
             "colorbar": {
              "outlinewidth": 0,
              "ticks": ""
             }
            },
            "type": "parcoords"
           }
          ],
          "pie": [
           {
            "automargin": true,
            "type": "pie"
           }
          ],
          "scatter": [
           {
            "fillpattern": {
             "fillmode": "overlay",
             "size": 10,
             "solidity": 0.2
            },
            "type": "scatter"
           }
          ],
          "scatter3d": [
           {
            "line": {
             "colorbar": {
              "outlinewidth": 0,
              "ticks": ""
             }
            },
            "marker": {
             "colorbar": {
              "outlinewidth": 0,
              "ticks": ""
             }
            },
            "type": "scatter3d"
           }
          ],
          "scattercarpet": [
           {
            "marker": {
             "colorbar": {
              "outlinewidth": 0,
              "ticks": ""
             }
            },
            "type": "scattercarpet"
           }
          ],
          "scattergeo": [
           {
            "marker": {
             "colorbar": {
              "outlinewidth": 0,
              "ticks": ""
             }
            },
            "type": "scattergeo"
           }
          ],
          "scattergl": [
           {
            "marker": {
             "colorbar": {
              "outlinewidth": 0,
              "ticks": ""
             }
            },
            "type": "scattergl"
           }
          ],
          "scattermap": [
           {
            "marker": {
             "colorbar": {
              "outlinewidth": 0,
              "ticks": ""
             }
            },
            "type": "scattermap"
           }
          ],
          "scattermapbox": [
           {
            "marker": {
             "colorbar": {
              "outlinewidth": 0,
              "ticks": ""
             }
            },
            "type": "scattermapbox"
           }
          ],
          "scatterpolar": [
           {
            "marker": {
             "colorbar": {
              "outlinewidth": 0,
              "ticks": ""
             }
            },
            "type": "scatterpolar"
           }
          ],
          "scatterpolargl": [
           {
            "marker": {
             "colorbar": {
              "outlinewidth": 0,
              "ticks": ""
             }
            },
            "type": "scatterpolargl"
           }
          ],
          "scatterternary": [
           {
            "marker": {
             "colorbar": {
              "outlinewidth": 0,
              "ticks": ""
             }
            },
            "type": "scatterternary"
           }
          ],
          "surface": [
           {
            "colorbar": {
             "outlinewidth": 0,
             "ticks": ""
            },
            "colorscale": [
             [
              0,
              "#0d0887"
             ],
             [
              0.1111111111111111,
              "#46039f"
             ],
             [
              0.2222222222222222,
              "#7201a8"
             ],
             [
              0.3333333333333333,
              "#9c179e"
             ],
             [
              0.4444444444444444,
              "#bd3786"
             ],
             [
              0.5555555555555556,
              "#d8576b"
             ],
             [
              0.6666666666666666,
              "#ed7953"
             ],
             [
              0.7777777777777778,
              "#fb9f3a"
             ],
             [
              0.8888888888888888,
              "#fdca26"
             ],
             [
              1,
              "#f0f921"
             ]
            ],
            "type": "surface"
           }
          ],
          "table": [
           {
            "cells": {
             "fill": {
              "color": "#EBF0F8"
             },
             "line": {
              "color": "white"
             }
            },
            "header": {
             "fill": {
              "color": "#C8D4E3"
             },
             "line": {
              "color": "white"
             }
            },
            "type": "table"
           }
          ]
         },
         "layout": {
          "annotationdefaults": {
           "arrowcolor": "#2a3f5f",
           "arrowhead": 0,
           "arrowwidth": 1
          },
          "autotypenumbers": "strict",
          "coloraxis": {
           "colorbar": {
            "outlinewidth": 0,
            "ticks": ""
           }
          },
          "colorscale": {
           "diverging": [
            [
             0,
             "#8e0152"
            ],
            [
             0.1,
             "#c51b7d"
            ],
            [
             0.2,
             "#de77ae"
            ],
            [
             0.3,
             "#f1b6da"
            ],
            [
             0.4,
             "#fde0ef"
            ],
            [
             0.5,
             "#f7f7f7"
            ],
            [
             0.6,
             "#e6f5d0"
            ],
            [
             0.7,
             "#b8e186"
            ],
            [
             0.8,
             "#7fbc41"
            ],
            [
             0.9,
             "#4d9221"
            ],
            [
             1,
             "#276419"
            ]
           ],
           "sequential": [
            [
             0,
             "#0d0887"
            ],
            [
             0.1111111111111111,
             "#46039f"
            ],
            [
             0.2222222222222222,
             "#7201a8"
            ],
            [
             0.3333333333333333,
             "#9c179e"
            ],
            [
             0.4444444444444444,
             "#bd3786"
            ],
            [
             0.5555555555555556,
             "#d8576b"
            ],
            [
             0.6666666666666666,
             "#ed7953"
            ],
            [
             0.7777777777777778,
             "#fb9f3a"
            ],
            [
             0.8888888888888888,
             "#fdca26"
            ],
            [
             1,
             "#f0f921"
            ]
           ],
           "sequentialminus": [
            [
             0,
             "#0d0887"
            ],
            [
             0.1111111111111111,
             "#46039f"
            ],
            [
             0.2222222222222222,
             "#7201a8"
            ],
            [
             0.3333333333333333,
             "#9c179e"
            ],
            [
             0.4444444444444444,
             "#bd3786"
            ],
            [
             0.5555555555555556,
             "#d8576b"
            ],
            [
             0.6666666666666666,
             "#ed7953"
            ],
            [
             0.7777777777777778,
             "#fb9f3a"
            ],
            [
             0.8888888888888888,
             "#fdca26"
            ],
            [
             1,
             "#f0f921"
            ]
           ]
          },
          "colorway": [
           "#636efa",
           "#EF553B",
           "#00cc96",
           "#ab63fa",
           "#FFA15A",
           "#19d3f3",
           "#FF6692",
           "#B6E880",
           "#FF97FF",
           "#FECB52"
          ],
          "font": {
           "color": "#2a3f5f"
          },
          "geo": {
           "bgcolor": "white",
           "lakecolor": "white",
           "landcolor": "white",
           "showlakes": true,
           "showland": true,
           "subunitcolor": "#C8D4E3"
          },
          "hoverlabel": {
           "align": "left"
          },
          "hovermode": "closest",
          "mapbox": {
           "style": "light"
          },
          "paper_bgcolor": "white",
          "plot_bgcolor": "white",
          "polar": {
           "angularaxis": {
            "gridcolor": "#EBF0F8",
            "linecolor": "#EBF0F8",
            "ticks": ""
           },
           "bgcolor": "white",
           "radialaxis": {
            "gridcolor": "#EBF0F8",
            "linecolor": "#EBF0F8",
            "ticks": ""
           }
          },
          "scene": {
           "xaxis": {
            "backgroundcolor": "white",
            "gridcolor": "#DFE8F3",
            "gridwidth": 2,
            "linecolor": "#EBF0F8",
            "showbackground": true,
            "ticks": "",
            "zerolinecolor": "#EBF0F8"
           },
           "yaxis": {
            "backgroundcolor": "white",
            "gridcolor": "#DFE8F3",
            "gridwidth": 2,
            "linecolor": "#EBF0F8",
            "showbackground": true,
            "ticks": "",
            "zerolinecolor": "#EBF0F8"
           },
           "zaxis": {
            "backgroundcolor": "white",
            "gridcolor": "#DFE8F3",
            "gridwidth": 2,
            "linecolor": "#EBF0F8",
            "showbackground": true,
            "ticks": "",
            "zerolinecolor": "#EBF0F8"
           }
          },
          "shapedefaults": {
           "line": {
            "color": "#2a3f5f"
           }
          },
          "ternary": {
           "aaxis": {
            "gridcolor": "#DFE8F3",
            "linecolor": "#A2B1C6",
            "ticks": ""
           },
           "baxis": {
            "gridcolor": "#DFE8F3",
            "linecolor": "#A2B1C6",
            "ticks": ""
           },
           "bgcolor": "white",
           "caxis": {
            "gridcolor": "#DFE8F3",
            "linecolor": "#A2B1C6",
            "ticks": ""
           }
          },
          "title": {
           "x": 0.05
          },
          "xaxis": {
           "automargin": true,
           "gridcolor": "#EBF0F8",
           "linecolor": "#EBF0F8",
           "ticks": "",
           "title": {
            "standoff": 15
           },
           "zerolinecolor": "#EBF0F8",
           "zerolinewidth": 2
          },
          "yaxis": {
           "automargin": true,
           "gridcolor": "#EBF0F8",
           "linecolor": "#EBF0F8",
           "ticks": "",
           "title": {
            "standoff": 15
           },
           "zerolinecolor": "#EBF0F8",
           "zerolinewidth": 2
          }
         }
        },
        "title": {
         "text": "Solar PV Production, Battery Management, and Electricity Demand on 2024-01-29"
        },
        "xaxis": {
         "ticktext": [
          "0:00",
          "1:00",
          "2:00",
          "3:00",
          "4:00",
          "5:00",
          "6:00",
          "7:00",
          "8:00",
          "9:00",
          "10:00",
          "11:00",
          "12:00",
          "13:00",
          "14:00",
          "15:00",
          "16:00",
          "17:00",
          "18:00",
          "19:00",
          "20:00",
          "21:00",
          "22:00",
          "23:00"
         ],
         "tickvals": [
          0,
          1,
          2,
          3,
          4,
          5,
          6,
          7,
          8,
          9,
          10,
          11,
          12,
          13,
          14,
          15,
          16,
          17,
          18,
          19,
          20,
          21,
          22,
          23
         ],
         "title": {
          "text": "Hour of the Day"
         }
        },
        "yaxis": {
         "title": {
          "text": "Energy (kWh)"
         }
        }
       }
      }
     },
     "metadata": {},
     "output_type": "display_data"
    },
    {
     "data": {
      "application/vnd.jupyter.widget-view+json": {
       "model_id": "3d407df6a8ea459797db05a1bb621819",
       "version_major": 2,
       "version_minor": 0
      },
      "text/plain": [
       "Output()"
      ]
     },
     "metadata": {},
     "output_type": "display_data"
    }
   ],
   "source": [
    "# main.ipynb\n",
    "# ============================\n",
    "# Solar + Wind Energy Consumption and Production Analysis for ENSE3 building\n",
    "# ============================\n",
    "#\n",
    "# Author: Arbaz KHALID & Tshephang Komana\n",
    "# Date: 2024-12-28\n",
    "#\n",
    "# Solar Energy Consumption and Production Analysis\n",
    "# Enhanced to allow selecting a specific date within a chosen month.\n",
    "\n",
    "## 1. Importing Modules and Setting Up Environment\n",
    "import os\n",
    "import sys\n",
    "import plotly.graph_objects as go\n",
    "import pandas as pd\n",
    "import numpy as np\n",
    "import ipywidgets as widgets\n",
    "from IPython.display import display, clear_output\n",
    "import solar_analysis_script as sas\n",
    "\n",
    "# Reload the updated solar_analysis_script module in case of changes\n",
    "import importlib\n",
    "importlib.reload(sas)\n",
    "\n",
    "## 2. Define File Paths and Date Ranges\n",
    "# Define file paths\n",
    "consumption_file = 'Ense3buildingconsumption.csv'\n",
    "pv_file = 'Ense3buildingPV.csv'\n",
    "\n",
    "# Define separate date ranges\n",
    "consumption_start_date = '2023-09-25 00:00:00'\n",
    "consumption_end_date = '2024-09-25 00:00:00'\n",
    "\n",
    "# Specify the actual column names in your consumption CSV\n",
    "consumption_time_col = 'Time'\n",
    "consumption_value_col = 'Consumption (kWh)'\n",
    "\n",
    "# Number of solar panels\n",
    "num_panels = 100  # Example value; adjust as needed\n",
    "\n",
    "## 3. Load and Merge Data\n",
    "try:\n",
    "    merged_data = sas.load_data(\n",
    "        consumption_file, \n",
    "        pv_file, \n",
    "        consumption_start_date, \n",
    "        consumption_end_date,\n",
    "        consumption_sep=';', \n",
    "        consumption_time_col=consumption_time_col, \n",
    "        consumption_value_col=consumption_value_col,\n",
    "        pv_sep=','\n",
    "    )\n",
    "    print(\"Data successfully loaded and merged after cleaning.\")\n",
    "except Exception as e:\n",
    "    print(f\"An error occurred while loading data: {e}\")\n",
    "\n",
    "# Ensure index is a DatetimeIndex\n",
    "merged_data.index = pd.to_datetime(merged_data.index)\n",
    "\n",
    "## 4. Define System Parameters\n",
    "panel_capacity = 0.610  # kW per panel (610 W)\n",
    "battery_capacity_per_unit = 57  # Example: 57 kWh per battery\n",
    "converter_efficiency = 0.9    # 90% converter efficiency\n",
    "initial_soc = 50              # 50% initial state of charge on 25 September 2023\n",
    "battery_soc_tracking = {pd.Timestamp('2023-09-25'): initial_soc}  # Track SOC for each day\n",
    "\n",
    "## 5. Create Interactive Widgets\n",
    "\n",
    "# Widgets\n",
    "num_panels_slider = widgets.IntSlider(value=0, min=0, max=1500, step=10, description='Num Panels:', continuous_update=False)\n",
    "num_batteries_slider = widgets.IntSlider(value=0, min=0, max=100, step=1, description='Num Batteries:', continuous_update=False)\n",
    "month_dropdown = widgets.Dropdown(options=[(pd.to_datetime(month, format='%m').strftime('%B'), month) for month in range(1, 13)], value=1, description='Month:')\n",
    "date_dropdown = widgets.Dropdown(options=[], value=None, description='Date:')\n",
    "message_output = widgets.Output()\n",
    "plot_output = widgets.Output()\n",
    "\n",
    "# Arrange widgets in a layout\n",
    "widgets_box = widgets.VBox([widgets.HBox([num_panels_slider, num_batteries_slider]), widgets.HBox([month_dropdown, date_dropdown]), message_output])\n",
    "display(widgets_box, plot_output)\n",
    "\n",
    "## 6. Populate Date Dropdown Based on Selected Month\n",
    "\n",
    "def populate_date_dropdown(change):\n",
    "    selected_month = change['new']\n",
    "    dates_in_month = merged_data[merged_data.index.month == selected_month].index.normalize().unique()\n",
    "    date_options = [date.strftime('%Y-%m-%d') for date in dates_in_month]\n",
    "    \n",
    "    with message_output:\n",
    "        message_output.clear_output()\n",
    "        if date_options:\n",
    "            date_dropdown.options = date_options\n",
    "            date_dropdown.value = date_options[0]\n",
    "            print(f\"Available dates in {pd.to_datetime(selected_month, format='%m').strftime('%B')}:\")\n",
    "            print(date_options)\n",
    "        else:\n",
    "            date_dropdown.options = []\n",
    "            date_dropdown.value = None\n",
    "            print(f\"No data available for {pd.to_datetime(selected_month, format='%m').strftime('%B')}.\")\n",
    "\n",
    "month_dropdown.observe(populate_date_dropdown, names='value')\n",
    "populate_date_dropdown({'new': month_dropdown.value})\n",
    "\n",
    "## 7. Define Function to Update the Graph Based on User Inputs\n",
    "\n",
    "def update_graph(num_panels, num_batteries, selected_date):\n",
    "    with plot_output:\n",
    "        plot_output.clear_output()  # Clear previous plot\n",
    "        \n",
    "        if not selected_date:\n",
    "            with message_output:\n",
    "                message_output.clear_output()\n",
    "                print(\"[Error] No date selected. Please select a valid date.\")\n",
    "            return\n",
    "        \n",
    "        # Convert selected_date to Timestamp\n",
    "        selected_date = pd.Timestamp(selected_date)\n",
    "        \n",
    "        # Filter data for the selected date\n",
    "        try:\n",
    "            daily_data = merged_data.loc[selected_date.strftime('%Y-%m-%d')]\n",
    "        except KeyError:\n",
    "            with message_output:\n",
    "                message_output.clear_output()\n",
    "                print(f\"[Error] No data available for the selected date: {selected_date}\")\n",
    "            return\n",
    "\n",
    "        if daily_data.empty:\n",
    "            with message_output:\n",
    "                message_output.clear_output()\n",
    "                print(f\"[Warning] No data available for the selected date: {selected_date}\")\n",
    "            return\n",
    "\n",
    "        # Ensure daily_data is a DataFrame\n",
    "        if isinstance(daily_data, pd.Series):\n",
    "            daily_data = daily_data.to_frame().T\n",
    "\n",
    "        # Calculate PV production for the selected date and number of panels\n",
    "        daily_pv_production = daily_data['PV_Production_kWh'].values * num_panels * panel_capacity\n",
    "\n",
    "        # Retrieve SOC from the previous day\n",
    "        previous_day = selected_date - pd.Timedelta(days=1)\n",
    "        battery_soc = battery_soc_tracking.get(previous_day, initial_soc if previous_day >= pd.Timestamp('2023-09-25') else 0)\n",
    "\n",
    "        # Initialize battery parameters\n",
    "        battery_capacity = battery_capacity_per_unit * num_batteries\n",
    "        energy_discharged = []\n",
    "        energy_charged = []\n",
    "        unmet_demand = []\n",
    "        excess_energy = []\n",
    "\n",
    "        for hour in range(24):\n",
    "            consumption = daily_data.iloc[hour]['Consumption_kWh'] if hour in daily_data.index.hour else 0\n",
    "            pv_production = daily_pv_production[hour] if hour < len(daily_pv_production) else 0\n",
    "\n",
    "            if pv_production >= consumption:\n",
    "                excess = pv_production - consumption\n",
    "                if num_batteries > 0 and battery_soc < 100:\n",
    "                    charge = min(excess * converter_efficiency, (100 - battery_soc) / 100 * battery_capacity)\n",
    "                    energy_charged.append(charge)\n",
    "                    battery_soc += (charge / battery_capacity) * 100\n",
    "                    excess_energy.append(-(excess - charge))\n",
    "                else:\n",
    "                    energy_charged.append(0)\n",
    "                    excess_energy.append(-excess)\n",
    "\n",
    "                energy_discharged.append(0)\n",
    "                unmet_demand.append(0)\n",
    "            else:\n",
    "                deficit = consumption - pv_production\n",
    "                if num_batteries > 0 and 20 < battery_soc:\n",
    "                    discharge = min(deficit, (battery_soc - 20) / 100 * battery_capacity)\n",
    "                    energy_discharged.append(discharge)\n",
    "                    battery_soc -= (discharge / battery_capacity) * 100\n",
    "                    unmet_demand.append(deficit - discharge)\n",
    "                else:\n",
    "                    energy_discharged.append(0)\n",
    "                    unmet_demand.append(deficit)\n",
    "                energy_charged.append(0)\n",
    "                excess_energy.append(0)\n",
    "\n",
    "        # Update SOC tracking for this date\n",
    "        battery_soc_tracking[selected_date] = battery_soc\n",
    "\n",
    "        # Plot Solar PV Production, Unmet Demand, Energy Charged, Energy Discharged, and Electricity Demand\n",
    "        fig = go.Figure()\n",
    "        fig.add_trace(go.Bar(x=np.arange(24), y=daily_pv_production, name='Solar PV Production (kWh)', marker_color='orange'))\n",
    "        fig.add_trace(go.Bar(x=np.arange(24), y=unmet_demand, name='Unmet Demand (kWh)', marker_color='red'))\n",
    "        if num_batteries > 0:\n",
    "            fig.add_trace(go.Bar(x=np.arange(24), y=[-val for val in energy_charged], name='Energy Charged to Battery (kWh)', marker_color='green'))\n",
    "            fig.add_trace(go.Bar(x=np.arange(24), y=energy_discharged, name='Energy Discharged from Battery (kWh)', marker_color='purple'))\n",
    "        fig.add_trace(go.Bar(x=np.arange(24), y=excess_energy, name='Excess Energy (kWh)', marker_color='cyan'))\n",
    "        fig.add_trace(go.Scatter(x=np.arange(24), y=daily_data['Consumption_kWh'], mode='lines', name='Electricity Demand (kWh)', line=dict(color='blue', dash='dash')))\n",
    "\n",
    "        fig.update_layout(\n",
    "            title=f'Solar PV Production, Battery Management, and Electricity Demand on {selected_date.strftime(\"%Y-%m-%d\")}',\n",
    "            xaxis_title='Hour of the Day',\n",
    "            yaxis_title='Energy (kWh)',\n",
    "            xaxis=dict(tickvals=list(range(0, 24)), ticktext=[f'{h}:00' for h in range(0, 24)]),\n",
    "            template='plotly_white',\n",
    "            barmode='relative',\n",
    "            height=600\n",
    "        )\n",
    "\n",
    "        fig.show()\n",
    "\n",
    "out = widgets.interactive_output(\n",
    "    update_graph,\n",
    "    {'num_panels': num_panels_slider, 'num_batteries': num_batteries_slider, 'selected_date': date_dropdown}\n",
    ")\n",
    "\n",
    "display(out)\n"
   ]
  },
  {
   "cell_type": "code",
   "execution_count": null,
   "metadata": {},
   "outputs": [],
   "source": []
  }
 ],
 "metadata": {
  "kernelspec": {
   "display_name": "base",
   "language": "python",
   "name": "python3"
  },
  "language_info": {
   "codemirror_mode": {
    "name": "ipython",
    "version": 3
   },
   "file_extension": ".py",
   "mimetype": "text/x-python",
   "name": "python",
   "nbconvert_exporter": "python",
   "pygments_lexer": "ipython3",
   "version": "3.11.5"
  }
 },
 "nbformat": 4,
 "nbformat_minor": 2
}
